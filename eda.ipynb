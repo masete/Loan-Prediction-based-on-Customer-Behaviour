{
 "cells": [
  {
   "cell_type": "code",
   "execution_count": 1,
   "id": "8e1f785b-0781-4e8e-b49d-d7e3c716cef0",
   "metadata": {},
   "outputs": [],
   "source": [
    "import os\n",
    "import numpy as np\n",
    "import pandas as pd\n",
    "import matplotlib.pyplot as plt\n",
    "import seaborn as sns\n",
    "import warnings\n",
    "from scipy import stats\n",
    "from IPython.core.interactiveshell import InteractiveShell"
   ]
  },
  {
   "cell_type": "code",
   "execution_count": 3,
   "id": "66ccf321-7f93-45ae-be83-d67db92a6253",
   "metadata": {
    "jupyter": {
     "source_hidden": true
    },
    "tags": []
   },
   "outputs": [],
   "source": [
    "# Libraries Settings\n",
    "warnings.simplefilter(action=\"ignore\", category=FutureWarning)\n",
    "warnings.simplefilter(action=\"ignore\", category=Warning)\n",
    "InteractiveShell.ast_node_interactivity = \"all\"\n",
    "%matplotlib inline\n",
    "np.set_printoptions(suppress=True)\n",
    "\n",
    "def set_seed(seed=42):\n",
    "    np.random.seed(seed)\n",
    "    os.environ[\"PYTHONHASHSEED\"] = str(seed)\n",
    "    \n",
    "pd.set_option(\"display.width\", 100)\n",
    "pd.set_option(\"display.max_columns\", 60)\n",
    "pd.set_option(\"display.max_rows\", 25)\n",
    "pd.set_option(\"display.float_format\", lambda x: \"%.3f\" % x)"
   ]
  },
  {
   "cell_type": "code",
   "execution_count": 4,
   "id": "3ed84e52-aabc-4892-a4e6-9d29c5bed800",
   "metadata": {
    "jupyter": {
     "source_hidden": true
    },
    "tags": []
   },
   "outputs": [],
   "source": [
    "# plot function\n",
    "def numerical_plotting(data, col, title, symb, ylabel, color):\n",
    "    fig, ax = plt.subplots(2, 1, \n",
    "                           sharex=True, \n",
    "                           figsize=(20, 8),\n",
    "                           facecolor=\"#FFFFFF\",\n",
    "                           gridspec_kw={\"height_ratios\": (.2, .8)})\n",
    "    \n",
    "    ax[0].set_facecolor(\"#FFFFFF\")\n",
    "    ax[1].set_facecolor(\"#FFFFFF\")\n",
    "    \n",
    "    ax[0].set_title(title, \n",
    "                    weight=\"bold\", \n",
    "                    fontsize=30, \n",
    "                    pad=30)\n",
    "    \n",
    "    sns.boxplot(x=col, \n",
    "                data=data,\n",
    "                color=color,\n",
    "                ax=ax[0])\n",
    "    \n",
    "    ax[0].set(yticks=[])\n",
    "    \n",
    "    sns.distplot(data[col], kde=True, color=color)\n",
    "    \n",
    "    plt.xticks(weight=\"bold\", fontsize=10)\n",
    "    plt.yticks(weight=\"bold\", fontsize=10)\n",
    "    \n",
    "    ax[0].set_xlabel(col, weight=\"bold\", fontsize=15, labelpad=15)\n",
    "    ax[1].set_xlabel(col, weight=\"bold\", fontsize=15)\n",
    "    ax[1].set_ylabel(ylabel, weight=\"bold\", fontsize=15)\n",
    "    \n",
    "    plt.axvline(data[col].mean(), \n",
    "                color='darkgreen', \n",
    "                linewidth=2.2, \n",
    "                label='mean=' + str(np.round(data[col].mean(),1)) + symb)\n",
    "    plt.axvline(data[col].median(), \n",
    "                color='red', \n",
    "                linewidth=2.2, \n",
    "                label='median='+ str(np.round(data[col].median(),1)) + symb)\n",
    "    plt.axvline(data[col].max(), \n",
    "                color='blue', \n",
    "                linewidth=2.2, \n",
    "                label='max='+ str(np.round(data[col].max(),1)) + symb)\n",
    "    plt.axvline(data[col].min(), \n",
    "                color='orange', \n",
    "                linewidth=2.2, \n",
    "                label='min='+ str(np.round(data[col].min(),1)) + symb)\n",
    "    plt.axvline(data[col].mode()[0], \n",
    "                color='purple', \n",
    "                linewidth=2.2, \n",
    "                label='mode='+ str(data[col].mode()[0]) + symb)\n",
    "    \n",
    "    \n",
    "    plt.legend(bbox_to_anchor=(1, 1), \n",
    "               ncol=1, \n",
    "               fontsize=17, \n",
    "               fancybox=True, \n",
    "               shadow=True, \n",
    "               frameon=False)\n",
    "    \n",
    "    plt.tight_layout()\n",
    "    plt.show()\n",
    "    \n",
    "def count_pie_plot(datapie, datacount, colpiey, colcount, text1, text2, piecomap,\n",
    "                   xlabel, ylabel, xticklabel, yticklabel, ystart, yend, pielabels, yplus, \n",
    "                   piefs=10, countcomap=None, pctdistance=0.65, fontsize=15, xtickrotation=None):\n",
    "\n",
    "    # Subplots\n",
    "    fig, (ax1, ax2) = plt.subplots(ncols=2, \n",
    "                                   nrows=1, \n",
    "                                   facecolor=(\"#FFFFFF\"),\n",
    "                                   figsize=(24, 8))\n",
    "\n",
    "    datapie.plot(kind=\"pie\", \n",
    "                 y=colpiey,\n",
    "                 autopct='%1.1f%%',\n",
    "                 labels=None,\n",
    "                 startangle=90,\n",
    "                 colors=piecomap,\n",
    "                 wedgeprops=dict(width=0.15),\n",
    "                 pctdistance=pctdistance,\n",
    "                 fontsize=piefs,\n",
    "                 ax=ax1,\n",
    "                 textprops=dict(color=\"black\", \n",
    "                                weight=\"bold\"))\n",
    "    \n",
    "    sns.countplot(x=colcount,\n",
    "                  data=datacount,\n",
    "                  palette=countcomap,\n",
    "                  ax=ax2)\n",
    "\n",
    "    #title\n",
    "    x0, x1 = ax1.get_xlim()\n",
    "    y0, y1 = ax1.get_ylim()\n",
    "    \n",
    "    ax1.text(x0, y1 * 1.40, \n",
    "             text1, \n",
    "             fontsize=30, \n",
    "             ha=\"left\", \n",
    "             va=\"center\", \n",
    "             weight=\"bold\")\n",
    "    ax1.text(x0, y1 * 1.25, \n",
    "             text2, \n",
    "             fontsize=18, \n",
    "             ha=\"left\", \n",
    "             va=\"center\")\n",
    "    \n",
    "    ax1.legend(pielabels, \n",
    "               loc=\"upper left\", \n",
    "               bbox_to_anchor=(x0*0.01, y1*0.85), \n",
    "               prop={'size': 10.5}, frameon=False, ncol=len(datapie))\n",
    "    \n",
    "    ax2.set_xlabel(xlabel,\n",
    "                   weight=\"bold\",\n",
    "                   labelpad=15,\n",
    "                   fontsize=15)\n",
    "\n",
    "    ax2.set_ylabel(ylabel,\n",
    "                   weight=\"bold\",\n",
    "                   labelpad=15,\n",
    "                   fontsize=15)\n",
    "\n",
    "    ax2.set_xticklabels(labels=xticklabel,\n",
    "                        weight=\"semibold\",\n",
    "                        fontsize=10,\n",
    "                        rotation=xtickrotation)\n",
    "    ax2.set_yticklabels(labels=yticklabel,\n",
    "                        weight=\"semibold\",\n",
    "                        fontsize=10)\n",
    "\n",
    "    # data label\n",
    "    i=0\n",
    "\n",
    "    for p in ax2.patches:\n",
    "        value = f\"{p.get_height()}\"\n",
    "        if (i < 2):\n",
    "            y1 = -2\n",
    "        else:\n",
    "            y1 = 2\n",
    "        i += 1\n",
    "        x = p.get_x() + p.get_width() / 2 \n",
    "        y = p.get_y() + p.get_height() + yplus\n",
    "        ax2.text(x, y, value, ha=\"center\", va=\"center\", fontsize=15, weight=\"semibold\") \n",
    "\n",
    "    ax2.set_ylim(ystart, yend)\n",
    "    ax2.set_facecolor(\"#FFFFFF\")\n",
    "    ax1.set_ylabel(None)\n",
    "    \n",
    "    plt.tight_layout()\n",
    "    return fig\n",
    "\n",
    "def countplot_y(data, xplus, coly, sizey, text1, text2, \n",
    "                xlabel, ylabel, xstart, xend, ytimes1, ytimes2):\n",
    "\n",
    "    fig, ax = plt.subplots(ncols=1,\n",
    "                           nrows=1,\n",
    "                           facecolor=(\"#FFFFFF\"),\n",
    "                           figsize=(24, sizey))\n",
    "\n",
    "    sns.countplot(y=coly,\n",
    "                  data=data,\n",
    "                  palette=['#E0144C', '#FF5858', '#3AB0FF', '#FFB562', '#6FEDD6', '#6D9885'],\n",
    "                  ax=ax)\n",
    "\n",
    "    x0, x1 = ax.get_xlim()\n",
    "    y0, y1 = ax.get_ylim()\n",
    "\n",
    "    ax.text(x0, y1 * ytimes1, \n",
    "            text1, fontsize=30, \n",
    "            ha=\"left\", va=\"center\", weight=\"bold\")\n",
    "    ax.text(x0, y1 * ytimes2, \n",
    "            text2, fontsize=18, \n",
    "            ha=\"left\", va=\"center\")\n",
    "\n",
    "    plt.xticks(weight=\"bold\",\n",
    "               fontsize=10)\n",
    "    plt.yticks(weight=\"bold\",\n",
    "               fontsize=10)\n",
    "    plt.xlabel(xlabel, weight=\"bold\", \n",
    "               fontsize=25, labelpad=20)\n",
    "    plt.ylabel(ylabel, weight=\"bold\", \n",
    "               fontsize=25, labelpad=20)\n",
    "\n",
    "    # data label\n",
    "    i=0\n",
    "\n",
    "    for p in ax.patches:\n",
    "        value = f'{p.get_width()}'\n",
    "        if i < 7:\n",
    "            x1 = -1.2\n",
    "        else:\n",
    "            x1 = 1.2\n",
    "\n",
    "        i+=1\n",
    "        x = p.get_x() + p.get_width() + xplus\n",
    "        y = p.get_y() + p.get_height() -.4\n",
    "        ax.text(x, y, value, ha='center', va='center', fontsize=15, weight='semibold') \n",
    "\n",
    "    plt.tight_layout()\n",
    "    ax.set_xlim(xstart, xend)\n",
    "    ax.set_facecolor(\"#FFFFFF\")\n",
    "    \n",
    "    return fig\n",
    "\n",
    "def bivariate_numerical_plot(data, x, hue, title, xlabel, ylabel):\n",
    "    fig, ax = plt.subplots(1, 1,\n",
    "                           figsize=(20, 6), \n",
    "                           facecolor=\"#FFFFFF\")\n",
    "    sns.kdeplot(data=data, \n",
    "                x=x, \n",
    "                hue=hue, \n",
    "                fill=True)\n",
    "    \n",
    "    ax.set_facecolor(\"#FFFFFF\")\n",
    "    \n",
    "    plt.title(title, weight=\"bold\", \n",
    "              fontsize=25, pad=30)\n",
    "    plt.xticks(weight=\"bold\", fontsize=10)\n",
    "    plt.yticks(weight=\"bold\", fontsize=10)\n",
    "    plt.xlabel(xlabel, weight=\"bold\", \n",
    "               fontsize=15, labelpad=15)\n",
    "    plt.ylabel(ylabel, weight=\"bold\", \n",
    "               fontsize=15, labelpad=15)\n",
    "    plt.tight_layout()\n",
    "    plt.show()\n",
    "    \n",
    "def mtvboxplot(data, x, y, hue, title, xlabel, ylabel):\n",
    "    fig, ax = plt.subplots(1, 1,\n",
    "                           figsize=(24, 8))\n",
    "    sns.boxplot(x=x, y=y, hue=hue, \n",
    "                data=data, ax=ax)\n",
    "    plt.title(title, weight=\"bold\", \n",
    "              fontsize=25, pad=25)\n",
    "    plt.xticks(weight=\"bold\", fontsize=10)\n",
    "    plt.yticks(weight=\"bold\", fontsize=10)\n",
    "    plt.xlabel(xlabel, weight=\"bold\", \n",
    "               fontsize=15, labelpad=10)\n",
    "    plt.ylabel(ylabel, weight=\"bold\", \n",
    "               fontsize=15, labelpad=10)\n",
    "    plt.tight_layout()\n",
    "    plt.show()"
   ]
  },
  {
   "cell_type": "code",
   "execution_count": 5,
   "id": "104b80f2-a483-4fa6-a81b-1d9925c35390",
   "metadata": {
    "jupyter": {
     "source_hidden": true
    },
    "tags": []
   },
   "outputs": [],
   "source": [
    "# stat function\n",
    "\n",
    "def spearman_correlation(data1, data2, title):\n",
    "    print(\"-\" * 15, title, \"-\" * 15)\n",
    "    print()\n",
    "    # calculate Spearman's Correlation\n",
    "    coef, p = stats.spearmanr(data1, data2)\n",
    "    print(f\"Spearmans correlation coefficient: {coef:.3f}\")\n",
    "    print()\n",
    "    # interpret the significance\n",
    "    alpha = 0.05\n",
    "    if (p > alpha):\n",
    "        print(f\"Samples are uncorrelated (fail to reject H0) p={p:.3f}\")\n",
    "    else:\n",
    "        print(f\"Samples are correlated (reject H0) p={p:.3f}\")\n",
    "    print()\n",
    "    \n",
    "def pearson_correlation(data1, data2, title):\n",
    "    print(\"-\" * 15, title, \"-\" * 15)\n",
    "    print()\n",
    "    # calculate Pearson's Correlation\n",
    "    coef, p = stats.pearsonr(data1, data2)\n",
    "    print(f\"Pearson correlation coefficient: {coef:.3f}\")\n",
    "    print()\n",
    "    # interpret the significance\n",
    "    alpha = 0.05\n",
    "    if (p > alpha):\n",
    "        print(f\"Samples are uncorrelated (fail to reject H0) p={p:.3f}\")\n",
    "    else:\n",
    "        print(f\"Samples are correlated (reject H0) p={p:.3f}\")\n",
    "    print()\n",
    "    \n",
    "def skew_kurtosis(data, title):\n",
    "    skw = stats.skew(data, bias=False)\n",
    "    kurt = stats.kurtosis(data, bias=False)\n",
    "    \n",
    "    print(\"-\" * 20, title, \"-\" * 20)\n",
    "    print(f\"Skewness: {skw}\")\n",
    "    if (skw < -1) and (skw > 1):\n",
    "        print(\"Highly skewed\")\n",
    "    elif (-1 < skw < -0.5) or (1 < skw < 0.5):\n",
    "        print(\"Moderately skewed\")\n",
    "    elif (-0.5 < skw < 0.5):\n",
    "        print(\"Approximately symmetric\")\n",
    "    print(\"-\" * 35)\n",
    "    print(f\"Kurtosis: {kurt}\")\n",
    "    if (kurt > 1):\n",
    "        print(\"The distribution is too peaked\")\n",
    "    elif (kurt < -1):\n",
    "        print(\"The distribution is too flat\")\n",
    "    else:\n",
    "        print(\"The distribution is non-normal\")\n",
    "    print(\"-\" * 35)\n",
    "    \n",
    "def chebychev(data, title, interpret):\n",
    "    mu = round(data.mean(), 1)\n",
    "    s = round(data.std(), 1)\n",
    "    \n",
    "    fc = round(mu - (2 * s), 1)\n",
    "    sc = round(mu + (2 * s), 1)\n",
    "    \n",
    "    print(\"-\" * 20, f\"Interpretation of {title}\", \"-\" * 20)\n",
    "    print(f\"first calc: {fc}\")\n",
    "    print(f\"second calc: {sc}\")\n",
    "    print(interpret)\n",
    "    print(\"-\" * 40)"
   ]
  },
  {
   "cell_type": "code",
   "execution_count": 6,
   "id": "04bf0692-6146-4901-9c7d-e84a7699d6fc",
   "metadata": {},
   "outputs": [],
   "source": [
    "df = pd.read_csv('data/Training Data.csv')"
   ]
  },
  {
   "cell_type": "code",
   "execution_count": 7,
   "id": "73ba65c5-83d2-40ea-9580-36d53dca1e67",
   "metadata": {},
   "outputs": [
    {
     "data": {
      "text/html": [
       "<div>\n",
       "<style scoped>\n",
       "    .dataframe tbody tr th:only-of-type {\n",
       "        vertical-align: middle;\n",
       "    }\n",
       "\n",
       "    .dataframe tbody tr th {\n",
       "        vertical-align: top;\n",
       "    }\n",
       "\n",
       "    .dataframe thead th {\n",
       "        text-align: right;\n",
       "    }\n",
       "</style>\n",
       "<table border=\"1\" class=\"dataframe\">\n",
       "  <thead>\n",
       "    <tr style=\"text-align: right;\">\n",
       "      <th></th>\n",
       "      <th>Id</th>\n",
       "      <th>Income</th>\n",
       "      <th>Age</th>\n",
       "      <th>Experience</th>\n",
       "      <th>Married/Single</th>\n",
       "      <th>House_Ownership</th>\n",
       "      <th>Car_Ownership</th>\n",
       "      <th>Profession</th>\n",
       "      <th>CITY</th>\n",
       "      <th>STATE</th>\n",
       "      <th>CURRENT_JOB_YRS</th>\n",
       "      <th>CURRENT_HOUSE_YRS</th>\n",
       "      <th>Risk_Flag</th>\n",
       "    </tr>\n",
       "  </thead>\n",
       "  <tbody>\n",
       "    <tr>\n",
       "      <th>0</th>\n",
       "      <td>1</td>\n",
       "      <td>1303834</td>\n",
       "      <td>23</td>\n",
       "      <td>3</td>\n",
       "      <td>single</td>\n",
       "      <td>rented</td>\n",
       "      <td>no</td>\n",
       "      <td>Mechanical_engineer</td>\n",
       "      <td>Rewa</td>\n",
       "      <td>Madhya_Pradesh</td>\n",
       "      <td>3</td>\n",
       "      <td>13</td>\n",
       "      <td>0</td>\n",
       "    </tr>\n",
       "    <tr>\n",
       "      <th>1</th>\n",
       "      <td>2</td>\n",
       "      <td>7574516</td>\n",
       "      <td>40</td>\n",
       "      <td>10</td>\n",
       "      <td>single</td>\n",
       "      <td>rented</td>\n",
       "      <td>no</td>\n",
       "      <td>Software_Developer</td>\n",
       "      <td>Parbhani</td>\n",
       "      <td>Maharashtra</td>\n",
       "      <td>9</td>\n",
       "      <td>13</td>\n",
       "      <td>0</td>\n",
       "    </tr>\n",
       "    <tr>\n",
       "      <th>2</th>\n",
       "      <td>3</td>\n",
       "      <td>3991815</td>\n",
       "      <td>66</td>\n",
       "      <td>4</td>\n",
       "      <td>married</td>\n",
       "      <td>rented</td>\n",
       "      <td>no</td>\n",
       "      <td>Technical_writer</td>\n",
       "      <td>Alappuzha</td>\n",
       "      <td>Kerala</td>\n",
       "      <td>4</td>\n",
       "      <td>10</td>\n",
       "      <td>0</td>\n",
       "    </tr>\n",
       "    <tr>\n",
       "      <th>3</th>\n",
       "      <td>4</td>\n",
       "      <td>6256451</td>\n",
       "      <td>41</td>\n",
       "      <td>2</td>\n",
       "      <td>single</td>\n",
       "      <td>rented</td>\n",
       "      <td>yes</td>\n",
       "      <td>Software_Developer</td>\n",
       "      <td>Bhubaneswar</td>\n",
       "      <td>Odisha</td>\n",
       "      <td>2</td>\n",
       "      <td>12</td>\n",
       "      <td>1</td>\n",
       "    </tr>\n",
       "    <tr>\n",
       "      <th>4</th>\n",
       "      <td>5</td>\n",
       "      <td>5768871</td>\n",
       "      <td>47</td>\n",
       "      <td>11</td>\n",
       "      <td>single</td>\n",
       "      <td>rented</td>\n",
       "      <td>no</td>\n",
       "      <td>Civil_servant</td>\n",
       "      <td>Tiruchirappalli[10]</td>\n",
       "      <td>Tamil_Nadu</td>\n",
       "      <td>3</td>\n",
       "      <td>14</td>\n",
       "      <td>1</td>\n",
       "    </tr>\n",
       "  </tbody>\n",
       "</table>\n",
       "</div>"
      ],
      "text/plain": [
       "   Id   Income  Age  Experience Married/Single House_Ownership Car_Ownership           Profession  \\\n",
       "0   1  1303834   23           3         single          rented            no  Mechanical_engineer   \n",
       "1   2  7574516   40          10         single          rented            no   Software_Developer   \n",
       "2   3  3991815   66           4        married          rented            no     Technical_writer   \n",
       "3   4  6256451   41           2         single          rented           yes   Software_Developer   \n",
       "4   5  5768871   47          11         single          rented            no        Civil_servant   \n",
       "\n",
       "                  CITY           STATE  CURRENT_JOB_YRS  CURRENT_HOUSE_YRS  Risk_Flag  \n",
       "0                 Rewa  Madhya_Pradesh                3                 13          0  \n",
       "1             Parbhani     Maharashtra                9                 13          0  \n",
       "2            Alappuzha          Kerala                4                 10          0  \n",
       "3          Bhubaneswar          Odisha                2                 12          1  \n",
       "4  Tiruchirappalli[10]      Tamil_Nadu                3                 14          1  "
      ]
     },
     "execution_count": 7,
     "metadata": {},
     "output_type": "execute_result"
    }
   ],
   "source": [
    "df.head()"
   ]
  },
  {
   "cell_type": "code",
   "execution_count": 9,
   "id": "e079853a-87ed-4de7-a94b-794b2f967d57",
   "metadata": {},
   "outputs": [
    {
     "data": {
      "text/plain": [
       "Id                   0\n",
       "Income               0\n",
       "Age                  0\n",
       "Experience           0\n",
       "Married/Single       0\n",
       "House_Ownership      0\n",
       "Car_Ownership        0\n",
       "Profession           0\n",
       "CITY                 0\n",
       "STATE                0\n",
       "CURRENT_JOB_YRS      0\n",
       "CURRENT_HOUSE_YRS    0\n",
       "Risk_Flag            0\n",
       "dtype: int64"
      ]
     },
     "execution_count": 9,
     "metadata": {},
     "output_type": "execute_result"
    }
   ],
   "source": [
    "df.isna().sum()"
   ]
  },
  {
   "cell_type": "code",
   "execution_count": 10,
   "id": "84b758ca-f903-40bb-afc9-89bbdae07e88",
   "metadata": {},
   "outputs": [
    {
     "data": {
      "text/plain": [
       "<Figure size 1440x360 with 0 Axes>"
      ]
     },
     "execution_count": 10,
     "metadata": {},
     "output_type": "execute_result"
    },
    {
     "data": {
      "text/plain": [
       "<AxesSubplot:>"
      ]
     },
     "execution_count": 10,
     "metadata": {},
     "output_type": "execute_result"
    },
    {
     "data": {
      "text/plain": [
       "<function matplotlib.pyplot.plot(*args, scalex=True, scaley=True, data=None, **kwargs)>"
      ]
     },
     "execution_count": 10,
     "metadata": {},
     "output_type": "execute_result"
    },
    {
     "data": {
      "image/png": "[encoded data removed]",
      "text/plain": [
       "<Figure size 1440x360 with 1 Axes>"
      ]
     },
     "metadata": {
      "needs_background": "light"
     },
     "output_type": "display_data"
    }
   ],
   "source": [
    "# plotting null values\n",
    "plt.figure(figsize=(20,5))\n",
    "sns.heatmap(df.isnull(),yticklabels=False,cbar=False,cmap='viridis')\n",
    "plt.plot"
   ]
  },
  {
   "cell_type": "code",
   "execution_count": 11,
   "id": "2bbc3dd3-caf2-4d0f-8e3e-a4a66212a6da",
   "metadata": {},
   "outputs": [
    {
     "name": "stdout",
     "output_type": "stream",
     "text": [
      "<class 'pandas.core.frame.DataFrame'>\n",
      "RangeIndex: 252000 entries, 0 to 251999\n",
      "Data columns (total 13 columns):\n",
      " #   Column             Non-Null Count   Dtype \n",
      "---  ------             --------------   ----- \n",
      " 0   Id                 252000 non-null  int64 \n",
      " 1   Income             252000 non-null  int64 \n",
      " 2   Age                252000 non-null  int64 \n",
      " 3   Experience         252000 non-null  int64 \n",
      " 4   Married/Single     252000 non-null  object\n",
      " 5   House_Ownership    252000 non-null  object\n",
      " 6   Car_Ownership      252000 non-null  object\n",
      " 7   Profession         252000 non-null  object\n",
      " 8   CITY               252000 non-null  object\n",
      " 9   STATE              252000 non-null  object\n",
      " 10  CURRENT_JOB_YRS    252000 non-null  int64 \n",
      " 11  CURRENT_HOUSE_YRS  252000 non-null  int64 \n",
      " 12  Risk_Flag          252000 non-null  int64 \n",
      "dtypes: int64(7), object(6)\n",
      "memory usage: 25.0+ MB\n"
     ]
    }
   ],
   "source": [
    "df.info()"
   ]
  },
  {
   "cell_type": "markdown",
   "id": "87964bfe-c0bd-4be7-91f8-2736f04bcb50",
   "metadata": {},
   "source": [
    "### Uniqueness Categorical Variables\n",
    "#### Let's have a look at categorical variables. How many unique values of these variables"
   ]
  },
  {
   "cell_type": "code",
   "execution_count": 21,
   "id": "39763833-19a0-41f1-9b55-72bbcb10c8b2",
   "metadata": {},
   "outputs": [],
   "source": [
    "categorical = df.select_dtypes([\"category\", \"object\"]).columns"
   ]
  },
  {
   "cell_type": "code",
   "execution_count": 22,
   "id": "eab23bfc-6d36-4e6a-adfb-f26d63159415",
   "metadata": {},
   "outputs": [
    {
     "data": {
      "text/plain": [
       "Index(['Married/Single', 'House_Ownership', 'Car_Ownership', 'Profession', 'CITY', 'STATE'], dtype='object')"
      ]
     },
     "execution_count": 22,
     "metadata": {},
     "output_type": "execute_result"
    }
   ],
   "source": [
    "categorical"
   ]
  },
  {
   "cell_type": "code",
   "execution_count": 23,
   "id": "31e8fc7f-b7f5-4aea-9ca3-3a42d8281233",
   "metadata": {},
   "outputs": [
    {
     "name": "stdout",
     "output_type": "stream",
     "text": [
      "Married/Single: 2 uniqueness variable\n",
      "House_Ownership: 3 uniqueness variable\n",
      "Car_Ownership: 2 uniqueness variable\n",
      "Profession: 51 uniqueness variable\n",
      "CITY: 317 uniqueness variable\n",
      "STATE: 29 uniqueness variable\n"
     ]
    }
   ],
   "source": [
    "for cat_col in categorical:\n",
    "    print(f\"{cat_col}: {df[cat_col].nunique()} uniqueness variable\")"
   ]
  },
  {
   "cell_type": "markdown",
   "id": "d2b93cc8-f0ae-4813-874d-cd94472b66db",
   "metadata": {},
   "source": [
    "### Discrete and Continuous Variables\n",
    "##### Let's have a look at Discrete and Continuous variables."
   ]
  },
  {
   "cell_type": "code",
   "execution_count": 28,
   "id": "4ad427b9-8739-4ca9-a2e5-4a507634a771",
   "metadata": {},
   "outputs": [],
   "source": [
    "numeric = df.select_dtypes([\"int\", \"float\"]).columns"
   ]
  },
  {
   "cell_type": "code",
   "execution_count": 29,
   "id": "2b817ef8-878e-4122-8cd1-ffbee603d8ba",
   "metadata": {},
   "outputs": [
    {
     "name": "stdout",
     "output_type": "stream",
     "text": [
      "Id: 252000 uniqueness variable\n",
      "Income: 41920 uniqueness variable\n",
      "Age: 59 uniqueness variable\n",
      "Experience: 21 uniqueness variable\n",
      "CURRENT_JOB_YRS: 15 uniqueness variable\n",
      "CURRENT_HOUSE_YRS: 5 uniqueness variable\n",
      "Risk_Flag: 2 uniqueness variable\n"
     ]
    }
   ],
   "source": [
    "for num_col in numeric:\n",
    "    print(f\"{num_col}: {df[num_col].nunique()} uniqueness variable\")"
   ]
  },
  {
   "cell_type": "markdown",
   "id": "d884802c-1e0b-4571-aa26-1785b6c1f555",
   "metadata": {},
   "source": [
    "#### How many missing data points do we have?¶\n",
    "##### Let's see how many missing data we have in each column...."
   ]
  },
  {
   "cell_type": "code",
   "execution_count": 31,
   "id": "6c8bdefb-4ba7-422a-b042-6fd84df14032",
   "metadata": {},
   "outputs": [
    {
     "data": {
      "text/plain": [
       "Id                 0\n",
       "Income             0\n",
       "Age                0\n",
       "Experience         0\n",
       "Married/Single     0\n",
       "House_Ownership    0\n",
       "Car_Ownership      0\n",
       "Profession         0\n",
       "CITY               0\n",
       "STATE              0\n",
       "dtype: int64"
      ]
     },
     "execution_count": 31,
     "metadata": {},
     "output_type": "execute_result"
    }
   ],
   "source": [
    "# Get the number of missing data points per column\n",
    "missing_values_count = df.isnull().sum()\n",
    "# Look at the missing points in the first ten columns\n",
    "missing_values_count[:10]"
   ]
  },
  {
   "cell_type": "markdown",
   "id": "20475383-f214-4b27-9e93-fe5da2455dab",
   "metadata": {},
   "source": [
    "##### Great! there's no missing value! let's see the unique variables on the categorical data!"
   ]
  },
  {
   "cell_type": "code",
   "execution_count": 32,
   "id": "1e418d92-fa0d-4949-beb2-eb0f4f3b5083",
   "metadata": {},
   "outputs": [
    {
     "data": {
      "text/plain": [
       "array(['Mechanical_engineer', 'Software_Developer', 'Technical_writer',\n",
       "       'Civil_servant', 'Librarian', 'Economist', 'Flight_attendant',\n",
       "       'Architect', 'Designer', 'Physician', 'Financial_Analyst',\n",
       "       'Air_traffic_controller', 'Politician', 'Police_officer', 'Artist',\n",
       "       'Surveyor', 'Design_Engineer', 'Chemical_engineer',\n",
       "       'Hotel_Manager', 'Dentist', 'Comedian', 'Biomedical_Engineer',\n",
       "       'Graphic_Designer', 'Computer_hardware_engineer',\n",
       "       'Petroleum_Engineer', 'Secretary', 'Computer_operator',\n",
       "       'Chartered_Accountant', 'Technician', 'Microbiologist',\n",
       "       'Fashion_Designer', 'Aviator', 'Psychologist', 'Magistrate',\n",
       "       'Lawyer', 'Firefighter', 'Engineer', 'Official', 'Analyst',\n",
       "       'Geologist', 'Drafter', 'Statistician', 'Web_designer',\n",
       "       'Consultant', 'Chef', 'Army_officer', 'Surgeon', 'Scientist',\n",
       "       'Civil_engineer', 'Industrial_Engineer', 'Technology_specialist'],\n",
       "      dtype=object)"
      ]
     },
     "execution_count": 32,
     "metadata": {},
     "output_type": "execute_result"
    }
   ],
   "source": [
    "df.Profession.unique()"
   ]
  },
  {
   "cell_type": "code",
   "execution_count": 33,
   "id": "02aa7839-fc61-491a-b83a-13a1edae6747",
   "metadata": {},
   "outputs": [
    {
     "data": {
      "text/plain": [
       "array(['Rewa', 'Parbhani', 'Alappuzha', 'Bhubaneswar',\n",
       "       'Tiruchirappalli[10]', 'Jalgaon', 'Tiruppur', 'Jamnagar',\n",
       "       'Kota[6]', 'Karimnagar', 'Hajipur[31]', 'Adoni', 'Erode[17]',\n",
       "       'Kollam', 'Madurai', 'Anantapuram[24]', 'Kamarhati', 'Bhusawal',\n",
       "       'Sirsa', 'Amaravati', 'Secunderabad', 'Ahmedabad', 'Ajmer',\n",
       "       'Ongole', 'Miryalaguda', 'Ambattur', 'Indore', 'Pondicherry',\n",
       "       'Shimoga', 'Chennai', 'Gulbarga', 'Khammam', 'Saharanpur',\n",
       "       'Gopalpur', 'Amravati', 'Udupi', 'Howrah', 'Aurangabad[39]',\n",
       "       'Hospet', 'Shimla', 'Khandwa', 'Bidhannagar', 'Bellary', 'Danapur',\n",
       "       'Purnia[26]', 'Bijapur', 'Patiala', 'Malda', 'Sagar', 'Durgapur',\n",
       "       'Junagadh', 'Singrauli', 'Agartala', 'Thanjavur', 'Hindupur',\n",
       "       'Naihati', 'North_Dumdum', 'Panchkula', 'Anantapur', 'Serampore',\n",
       "       'Bathinda', 'Nadiad', 'Kanpur', 'Haridwar', 'Berhampur',\n",
       "       'Jamshedpur', 'Hyderabad', 'Bidar', 'Kottayam', 'Solapur',\n",
       "       'Suryapet', 'Aizawl', 'Asansol', 'Deoghar', 'Eluru[25]',\n",
       "       'Ulhasnagar', 'Aligarh', 'South_Dumdum', 'Berhampore',\n",
       "       'Gandhinagar', 'Sonipat', 'Muzaffarpur', 'Raichur',\n",
       "       'Rajpur_Sonarpur', 'Ambarnath', 'Katihar', 'Kozhikode', 'Vellore',\n",
       "       'Malegaon', 'Kochi', 'Nagaon', 'Nagpur', 'Srinagar', 'Davanagere',\n",
       "       'Bhagalpur', 'Siwan[32]', 'Meerut', 'Dindigul', 'Bhatpara',\n",
       "       'Ghaziabad', 'Kulti', 'Chapra', 'Dibrugarh', 'Panihati',\n",
       "       'Bhiwandi', 'Morbi', 'Kalyan-Dombivli', 'Gorakhpur', 'Panvel',\n",
       "       'Siliguri', 'Bongaigaon', 'Patna', 'Ramgarh', 'Ozhukarai',\n",
       "       'Mirzapur', 'Akola', 'Satna', 'Motihari[34]', 'Jalna', 'Jalandhar',\n",
       "       'Unnao', 'Karnal', 'Cuttack', 'Proddatur', 'Ichalkaranji',\n",
       "       'Warangal[11][12]', 'Jhansi', 'Bulandshahr', 'Narasaraopet',\n",
       "       'Chinsurah', 'Jehanabad[38]', 'Dhanbad', 'Gudivada', 'Gandhidham',\n",
       "       'Raiganj', 'Kishanganj[35]', 'Varanasi', 'Belgaum',\n",
       "       'Tirupati[21][22]', 'Tumkur', 'Coimbatore', 'Kurnool[18]',\n",
       "       'Gurgaon', 'Muzaffarnagar', 'Aurangabad', 'Bhavnagar', 'Arrah',\n",
       "       'Munger', 'Tirunelveli', 'Mumbai', 'Mango', 'Nashik', 'Kadapa[23]',\n",
       "       'Amritsar', 'Khora,_Ghaziabad', 'Ambala', 'Agra', 'Ratlam',\n",
       "       'Surendranagar_Dudhrej', 'Delhi_city', 'Bhopal', 'Hapur', 'Rohtak',\n",
       "       'Durg', 'Korba', 'Bangalore', 'Shivpuri', 'Thrissur',\n",
       "       'Vijayanagaram', 'Farrukhabad', 'Nangloi_Jat', 'Madanapalle',\n",
       "       'Thoothukudi', 'Nagercoil', 'Gaya', 'Chandigarh_city', 'Jammu[16]',\n",
       "       'Kakinada', 'Dewas', 'Bhalswa_Jahangir_Pur', 'Baranagar',\n",
       "       'Firozabad', 'Phusro', 'Allahabad', 'Guna', 'Thane', 'Etawah',\n",
       "       'Vasai-Virar', 'Pallavaram', 'Morena', 'Ballia', 'Surat',\n",
       "       'Burhanpur', 'Phagwara', 'Mau', 'Mangalore', 'Alwar',\n",
       "       'Mahbubnagar', 'Maheshtala', 'Hazaribagh', 'Bihar_Sharif',\n",
       "       'Faridabad', 'Lucknow', 'Tenali', 'Barasat', 'Amroha', 'Giridih',\n",
       "       'Begusarai', 'Medininagar', 'Rajahmundry[19][20]', 'Saharsa[29]',\n",
       "       'New_Delhi', 'Bhilai', 'Moradabad', 'Machilipatnam',\n",
       "       'Mira-Bhayandar', 'Pali', 'Navi_Mumbai', 'Mehsana', 'Imphal',\n",
       "       'Kolkata', 'Sambalpur', 'Ujjain', 'Madhyamgram', 'Jabalpur',\n",
       "       'Jamalpur[36]', 'Ludhiana', 'Bareilly', 'Gangtok', 'Anand',\n",
       "       'Dehradun', 'Pune', 'Satara', 'Srikakulam', 'Raipur', 'Jodhpur',\n",
       "       'Darbhanga', 'Nizamabad', 'Nandyal', 'Dehri[30]', 'Jorhat',\n",
       "       'Ranchi', 'Kumbakonam', 'Guntakal', 'Haldia', 'Loni',\n",
       "       'Pimpri-Chinchwad', 'Rajkot', 'Nanded', 'Noida',\n",
       "       'Kirari_Suleman_Nagar', 'Jaunpur', 'Bilaspur', 'Sambhal', 'Dhule',\n",
       "       'Rourkela', 'Thiruvananthapuram', 'Dharmavaram', 'Nellore[14][15]',\n",
       "       'Visakhapatnam[4]', 'Karawal_Nagar', 'Jaipur', 'Avadi',\n",
       "       'Bhimavaram', 'Bardhaman', 'Silchar', 'Buxar[37]', 'Kavali',\n",
       "       'Tezpur', 'Ramagundam[27]', 'Yamunanagar', 'Sri_Ganganagar',\n",
       "       'Sasaram[30]', 'Sikar', 'Bally', 'Bhiwani', 'Rampur', 'Uluberia',\n",
       "       'Sangli-Miraj_&_Kupwad', 'Hosur', 'Bikaner', 'Shahjahanpur',\n",
       "       'Sultan_Pur_Majra', 'Vijayawada', 'Bharatpur', 'Tadepalligudem',\n",
       "       'Tinsukia', 'Salem', 'Mathura', 'Guntur[13]', 'Hubliâ€“Dharwad',\n",
       "       'Guwahati', 'Chittoor[28]', 'Tiruvottiyur', 'Vadodara',\n",
       "       'Ahmednagar', 'Fatehpur', 'Bhilwara', 'Kharagpur', 'Bettiah[33]',\n",
       "       'Bhind', 'Bokaro', 'Karaikudi', 'Raebareli', 'Pudukkottai',\n",
       "       'Udaipur', 'Mysore[7][8][9]', 'Panipat', 'Latur', 'Tadipatri',\n",
       "       'Bahraich', 'Orai', 'Raurkela_Industrial_Township', 'Gwalior',\n",
       "       'Katni', 'Chandrapur', 'Kolhapur'], dtype=object)"
      ]
     },
     "execution_count": 33,
     "metadata": {},
     "output_type": "execute_result"
    }
   ],
   "source": [
    "df.CITY.unique()"
   ]
  },
  {
   "cell_type": "code",
   "execution_count": 34,
   "id": "33bb3075-c495-448a-b41a-233230d24829",
   "metadata": {},
   "outputs": [
    {
     "data": {
      "text/plain": [
       "array(['Madhya_Pradesh', 'Maharashtra', 'Kerala', 'Odisha', 'Tamil_Nadu',\n",
       "       'Gujarat', 'Rajasthan', 'Telangana', 'Bihar', 'Andhra_Pradesh',\n",
       "       'West_Bengal', 'Haryana', 'Puducherry', 'Karnataka',\n",
       "       'Uttar_Pradesh', 'Himachal_Pradesh', 'Punjab', 'Tripura',\n",
       "       'Uttarakhand', 'Jharkhand', 'Mizoram', 'Assam',\n",
       "       'Jammu_and_Kashmir', 'Delhi', 'Chhattisgarh', 'Chandigarh',\n",
       "       'Uttar_Pradesh[5]', 'Manipur', 'Sikkim'], dtype=object)"
      ]
     },
     "execution_count": 34,
     "metadata": {},
     "output_type": "execute_result"
    }
   ],
   "source": [
    "df.STATE.unique()"
   ]
  },
  {
   "cell_type": "markdown",
   "id": "a4d52c15-ee53-43a8-8b31-c97833e3350e",
   "metadata": {},
   "source": [
    "##### Note:\n",
    "###### We can see above that there are many City names and also State that have a parantheses \n",
    "###### bracket characters and numbers that are not clear what they mean, let's clean that up later.\n",
    "\n",
    "###### This dataset column is very inconsistent and neat, this can cause confusion or typing errors\n",
    "###### in the future, let's change it so we can more easily analyze and predict it later."
   ]
  },
  {
   "cell_type": "markdown",
   "id": "dcb095d5-a391-46c0-9e32-a6ff39b0ff22",
   "metadata": {},
   "source": [
    "### Data Cleaning"
   ]
  },
  {
   "cell_type": "code",
   "execution_count": null,
   "id": "bc79f8dc-5962-4bdd-b708-41f719800245",
   "metadata": {},
   "outputs": [],
   "source": []
  }
 ],
 "metadata": {
  "kernelspec": {
   "display_name": "Python 3 (ipykernel)",
   "language": "python",
   "name": "python3"
  },
  "language_info": {
   "codemirror_mode": {
    "name": "ipython",
    "version": 3
   },
   "file_extension": ".py",
   "mimetype": "text/x-python",
   "name": "python",
   "nbconvert_exporter": "python",
   "pygments_lexer": "ipython3",
   "version": "3.10.8"
  }
 },
 "nbformat": 4,
 "nbformat_minor": 5
}
