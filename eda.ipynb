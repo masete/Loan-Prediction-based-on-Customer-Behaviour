{
 "cells": [
  {
   "cell_type": "code",
   "execution_count": 1,
   "id": "8e1f785b-0781-4e8e-b49d-d7e3c716cef0",
   "metadata": {},
   "outputs": [],
   "source": [
    "import os\n",
    "import numpy as np\n",
    "import pandas as pd\n",
    "import matplotlib.pyplot as plt\n",
    "import seaborn as sns\n",
    "import warnings\n",
    "from scipy import stats\n",
    "from IPython.core.interactiveshell import InteractiveShell"
   ]
  },
  {
   "cell_type": "code",
   "execution_count": 2,
   "id": "66ccf321-7f93-45ae-be83-d67db92a6253",
   "metadata": {
    "jupyter": {
     "source_hidden": true
    },
    "tags": []
   },
   "outputs": [],
   "source": [
    "# Libraries Settings\n",
    "warnings.simplefilter(action=\"ignore\", category=FutureWarning)\n",
    "warnings.simplefilter(action=\"ignore\", category=Warning)\n",
    "InteractiveShell.ast_node_interactivity = \"all\"\n",
    "%matplotlib inline\n",
    "np.set_printoptions(suppress=True)\n",
    "\n",
    "def set_seed(seed=42):\n",
    "    np.random.seed(seed)\n",
    "    os.environ[\"PYTHONHASHSEED\"] = str(seed)\n",
    "    \n",
    "pd.set_option(\"display.width\", 100)\n",
    "pd.set_option(\"display.max_columns\", 60)\n",
    "pd.set_option(\"display.max_rows\", 25)\n",
    "pd.set_option(\"display.float_format\", lambda x: \"%.3f\" % x)"
   ]
  },
  {
   "cell_type": "code",
   "execution_count": 3,
   "id": "3ed84e52-aabc-4892-a4e6-9d29c5bed800",
   "metadata": {
    "jupyter": {
     "source_hidden": true
    },
    "tags": []
   },
   "outputs": [],
   "source": [
    "# plot function\n",
    "def numerical_plotting(data, col, title, symb, ylabel, color):\n",
    "    fig, ax = plt.subplots(2, 1, \n",
    "                           sharex=True, \n",
    "                           figsize=(20, 8),\n",
    "                           facecolor=\"#FFFFFF\",\n",
    "                           gridspec_kw={\"height_ratios\": (.2, .8)})\n",
    "    \n",
    "    ax[0].set_facecolor(\"#FFFFFF\")\n",
    "    ax[1].set_facecolor(\"#FFFFFF\")\n",
    "    \n",
    "    ax[0].set_title(title, \n",
    "                    weight=\"bold\", \n",
    "                    fontsize=30, \n",
    "                    pad=30)\n",
    "    \n",
    "    sns.boxplot(x=col, \n",
    "                data=data,\n",
    "                color=color,\n",
    "                ax=ax[0])\n",
    "    \n",
    "    ax[0].set(yticks=[])\n",
    "    \n",
    "    sns.distplot(data[col], kde=True, color=color)\n",
    "    \n",
    "    plt.xticks(weight=\"bold\", fontsize=10)\n",
    "    plt.yticks(weight=\"bold\", fontsize=10)\n",
    "    \n",
    "    ax[0].set_xlabel(col, weight=\"bold\", fontsize=15, labelpad=15)\n",
    "    ax[1].set_xlabel(col, weight=\"bold\", fontsize=15)\n",
    "    ax[1].set_ylabel(ylabel, weight=\"bold\", fontsize=15)\n",
    "    \n",
    "    plt.axvline(data[col].mean(), \n",
    "                color='darkgreen', \n",
    "                linewidth=2.2, \n",
    "                label='mean=' + str(np.round(data[col].mean(),1)) + symb)\n",
    "    plt.axvline(data[col].median(), \n",
    "                color='red', \n",
    "                linewidth=2.2, \n",
    "                label='median='+ str(np.round(data[col].median(),1)) + symb)\n",
    "    plt.axvline(data[col].max(), \n",
    "                color='blue', \n",
    "                linewidth=2.2, \n",
    "                label='max='+ str(np.round(data[col].max(),1)) + symb)\n",
    "    plt.axvline(data[col].min(), \n",
    "                color='orange', \n",
    "                linewidth=2.2, \n",
    "                label='min='+ str(np.round(data[col].min(),1)) + symb)\n",
    "    plt.axvline(data[col].mode()[0], \n",
    "                color='purple', \n",
    "                linewidth=2.2, \n",
    "                label='mode='+ str(data[col].mode()[0]) + symb)\n",
    "    \n",
    "    \n",
    "    plt.legend(bbox_to_anchor=(1, 1), \n",
    "               ncol=1, \n",
    "               fontsize=17, \n",
    "               fancybox=True, \n",
    "               shadow=True, \n",
    "               frameon=False)\n",
    "    \n",
    "    plt.tight_layout()\n",
    "    plt.show()\n",
    "    \n",
    "def count_pie_plot(datapie, datacount, colpiey, colcount, text1, text2, piecomap,\n",
    "                   xlabel, ylabel, xticklabel, yticklabel, ystart, yend, pielabels, yplus, \n",
    "                   piefs=10, countcomap=None, pctdistance=0.65, fontsize=15, xtickrotation=None):\n",
    "\n",
    "    # Subplots\n",
    "    fig, (ax1, ax2) = plt.subplots(ncols=2, \n",
    "                                   nrows=1, \n",
    "                                   facecolor=(\"#FFFFFF\"),\n",
    "                                   figsize=(24, 8))\n",
    "\n",
    "    datapie.plot(kind=\"pie\", \n",
    "                 y=colpiey,\n",
    "                 autopct='%1.1f%%',\n",
    "                 labels=None,\n",
    "                 startangle=90,\n",
    "                 colors=piecomap,\n",
    "                 wedgeprops=dict(width=0.15),\n",
    "                 pctdistance=pctdistance,\n",
    "                 fontsize=piefs,\n",
    "                 ax=ax1,\n",
    "                 textprops=dict(color=\"black\", \n",
    "                                weight=\"bold\"))\n",
    "    \n",
    "    sns.countplot(x=colcount,\n",
    "                  data=datacount,\n",
    "                  palette=countcomap,\n",
    "                  ax=ax2)\n",
    "\n",
    "    #title\n",
    "    x0, x1 = ax1.get_xlim()\n",
    "    y0, y1 = ax1.get_ylim()\n",
    "    \n",
    "    ax1.text(x0, y1 * 1.40, \n",
    "             text1, \n",
    "             fontsize=30, \n",
    "             ha=\"left\", \n",
    "             va=\"center\", \n",
    "             weight=\"bold\")\n",
    "    ax1.text(x0, y1 * 1.25, \n",
    "             text2, \n",
    "             fontsize=18, \n",
    "             ha=\"left\", \n",
    "             va=\"center\")\n",
    "    \n",
    "    ax1.legend(pielabels, \n",
    "               loc=\"upper left\", \n",
    "               bbox_to_anchor=(x0*0.01, y1*0.85), \n",
    "               prop={'size': 10.5}, frameon=False, ncol=len(datapie))\n",
    "    \n",
    "    ax2.set_xlabel(xlabel,\n",
    "                   weight=\"bold\",\n",
    "                   labelpad=15,\n",
    "                   fontsize=15)\n",
    "\n",
    "    ax2.set_ylabel(ylabel,\n",
    "                   weight=\"bold\",\n",
    "                   labelpad=15,\n",
    "                   fontsize=15)\n",
    "\n",
    "    ax2.set_xticklabels(labels=xticklabel,\n",
    "                        weight=\"semibold\",\n",
    "                        fontsize=10,\n",
    "                        rotation=xtickrotation)\n",
    "    ax2.set_yticklabels(labels=yticklabel,\n",
    "                        weight=\"semibold\",\n",
    "                        fontsize=10)\n",
    "\n",
    "    # data label\n",
    "    i=0\n",
    "\n",
    "    for p in ax2.patches:\n",
    "        value = f\"{p.get_height()}\"\n",
    "        if (i < 2):\n",
    "            y1 = -2\n",
    "        else:\n",
    "            y1 = 2\n",
    "        i += 1\n",
    "        x = p.get_x() + p.get_width() / 2 \n",
    "        y = p.get_y() + p.get_height() + yplus\n",
    "        ax2.text(x, y, value, ha=\"center\", va=\"center\", fontsize=15, weight=\"semibold\") \n",
    "\n",
    "    ax2.set_ylim(ystart, yend)\n",
    "    ax2.set_facecolor(\"#FFFFFF\")\n",
    "    ax1.set_ylabel(None)\n",
    "    \n",
    "    plt.tight_layout()\n",
    "    return fig\n",
    "\n",
    "def countplot_y(data, xplus, coly, sizey, text1, text2, \n",
    "                xlabel, ylabel, xstart, xend, ytimes1, ytimes2):\n",
    "\n",
    "    fig, ax = plt.subplots(ncols=1,\n",
    "                           nrows=1,\n",
    "                           facecolor=(\"#FFFFFF\"),\n",
    "                           figsize=(24, sizey))\n",
    "\n",
    "    sns.countplot(y=coly,\n",
    "                  data=data,\n",
    "                  palette=['#E0144C', '#FF5858', '#3AB0FF', '#FFB562', '#6FEDD6', '#6D9885'],\n",
    "                  ax=ax)\n",
    "\n",
    "    x0, x1 = ax.get_xlim()\n",
    "    y0, y1 = ax.get_ylim()\n",
    "\n",
    "    ax.text(x0, y1 * ytimes1, \n",
    "            text1, fontsize=30, \n",
    "            ha=\"left\", va=\"center\", weight=\"bold\")\n",
    "    ax.text(x0, y1 * ytimes2, \n",
    "            text2, fontsize=18, \n",
    "            ha=\"left\", va=\"center\")\n",
    "\n",
    "    plt.xticks(weight=\"bold\",\n",
    "               fontsize=10)\n",
    "    plt.yticks(weight=\"bold\",\n",
    "               fontsize=10)\n",
    "    plt.xlabel(xlabel, weight=\"bold\", \n",
    "               fontsize=25, labelpad=20)\n",
    "    plt.ylabel(ylabel, weight=\"bold\", \n",
    "               fontsize=25, labelpad=20)\n",
    "\n",
    "    # data label\n",
    "    i=0\n",
    "\n",
    "    for p in ax.patches:\n",
    "        value = f'{p.get_width()}'\n",
    "        if i < 7:\n",
    "            x1 = -1.2\n",
    "        else:\n",
    "            x1 = 1.2\n",
    "\n",
    "        i+=1\n",
    "        x = p.get_x() + p.get_width() + xplus\n",
    "        y = p.get_y() + p.get_height() -.4\n",
    "        ax.text(x, y, value, ha='center', va='center', fontsize=15, weight='semibold') \n",
    "\n",
    "    plt.tight_layout()\n",
    "    ax.set_xlim(xstart, xend)\n",
    "    ax.set_facecolor(\"#FFFFFF\")\n",
    "    \n",
    "    return fig\n",
    "\n",
    "def bivariate_numerical_plot(data, x, hue, title, xlabel, ylabel):\n",
    "    fig, ax = plt.subplots(1, 1,\n",
    "                           figsize=(20, 6), \n",
    "                           facecolor=\"#FFFFFF\")\n",
    "    sns.kdeplot(data=data, \n",
    "                x=x, \n",
    "                hue=hue, \n",
    "                fill=True)\n",
    "    \n",
    "    ax.set_facecolor(\"#FFFFFF\")\n",
    "    \n",
    "    plt.title(title, weight=\"bold\", \n",
    "              fontsize=25, pad=30)\n",
    "    plt.xticks(weight=\"bold\", fontsize=10)\n",
    "    plt.yticks(weight=\"bold\", fontsize=10)\n",
    "    plt.xlabel(xlabel, weight=\"bold\", \n",
    "               fontsize=15, labelpad=15)\n",
    "    plt.ylabel(ylabel, weight=\"bold\", \n",
    "               fontsize=15, labelpad=15)\n",
    "    plt.tight_layout()\n",
    "    plt.show()\n",
    "    \n",
    "def mtvboxplot(data, x, y, hue, title, xlabel, ylabel):\n",
    "    fig, ax = plt.subplots(1, 1,\n",
    "                           figsize=(24, 8))\n",
    "    sns.boxplot(x=x, y=y, hue=hue, \n",
    "                data=data, ax=ax)\n",
    "    plt.title(title, weight=\"bold\", \n",
    "              fontsize=25, pad=25)\n",
    "    plt.xticks(weight=\"bold\", fontsize=10)\n",
    "    plt.yticks(weight=\"bold\", fontsize=10)\n",
    "    plt.xlabel(xlabel, weight=\"bold\", \n",
    "               fontsize=15, labelpad=10)\n",
    "    plt.ylabel(ylabel, weight=\"bold\", \n",
    "               fontsize=15, labelpad=10)\n",
    "    plt.tight_layout()\n",
    "    plt.show()"
   ]
  },
  {
   "cell_type": "code",
   "execution_count": 4,
   "id": "104b80f2-a483-4fa6-a81b-1d9925c35390",
   "metadata": {
    "jupyter": {
     "source_hidden": true
    },
    "tags": []
   },
   "outputs": [],
   "source": [
    "# stat function\n",
    "\n",
    "def spearman_correlation(data1, data2, title):\n",
    "    print(\"-\" * 15, title, \"-\" * 15)\n",
    "    print()\n",
    "    # calculate Spearman's Correlation\n",
    "    coef, p = stats.spearmanr(data1, data2)\n",
    "    print(f\"Spearmans correlation coefficient: {coef:.3f}\")\n",
    "    print()\n",
    "    # interpret the significance\n",
    "    alpha = 0.05\n",
    "    if (p > alpha):\n",
    "        print(f\"Samples are uncorrelated (fail to reject H0) p={p:.3f}\")\n",
    "    else:\n",
    "        print(f\"Samples are correlated (reject H0) p={p:.3f}\")\n",
    "    print()\n",
    "    \n",
    "def pearson_correlation(data1, data2, title):\n",
    "    print(\"-\" * 15, title, \"-\" * 15)\n",
    "    print()\n",
    "    # calculate Pearson's Correlation\n",
    "    coef, p = stats.pearsonr(data1, data2)\n",
    "    print(f\"Pearson correlation coefficient: {coef:.3f}\")\n",
    "    print()\n",
    "    # interpret the significance\n",
    "    alpha = 0.05\n",
    "    if (p > alpha):\n",
    "        print(f\"Samples are uncorrelated (fail to reject H0) p={p:.3f}\")\n",
    "    else:\n",
    "        print(f\"Samples are correlated (reject H0) p={p:.3f}\")\n",
    "    print()\n",
    "    \n",
    "def skew_kurtosis(data, title):\n",
    "    skw = stats.skew(data, bias=False)\n",
    "    kurt = stats.kurtosis(data, bias=False)\n",
    "    \n",
    "    print(\"-\" * 20, title, \"-\" * 20)\n",
    "    print(f\"Skewness: {skw}\")\n",
    "    if (skw < -1) and (skw > 1):\n",
    "        print(\"Highly skewed\")\n",
    "    elif (-1 < skw < -0.5) or (1 < skw < 0.5):\n",
    "        print(\"Moderately skewed\")\n",
    "    elif (-0.5 < skw < 0.5):\n",
    "        print(\"Approximately symmetric\")\n",
    "    print(\"-\" * 35)\n",
    "    print(f\"Kurtosis: {kurt}\")\n",
    "    if (kurt > 1):\n",
    "        print(\"The distribution is too peaked\")\n",
    "    elif (kurt < -1):\n",
    "        print(\"The distribution is too flat\")\n",
    "    else:\n",
    "        print(\"The distribution is non-normal\")\n",
    "    print(\"-\" * 35)\n",
    "    \n",
    "def chebychev(data, title, interpret):\n",
    "    mu = round(data.mean(), 1)\n",
    "    s = round(data.std(), 1)\n",
    "    \n",
    "    fc = round(mu - (2 * s), 1)\n",
    "    sc = round(mu + (2 * s), 1)\n",
    "    \n",
    "    print(\"-\" * 20, f\"Interpretation of {title}\", \"-\" * 20)\n",
    "    print(f\"first calc: {fc}\")\n",
    "    print(f\"second calc: {sc}\")\n",
    "    print(interpret)\n",
    "    print(\"-\" * 40)"
   ]
  },
  {
   "cell_type": "markdown",
   "id": "6e406f3a-0de1-4995-82fd-66a5a79e778a",
   "metadata": {},
   "source": [
    "### 1.4 | Dataset Problems"
   ]
  },
  {
   "cell_type": "markdown",
   "id": "5ed4c9eb-6758-478f-b7fd-77dcc44353a2",
   "metadata": {},
   "source": [
    "##### An organization wants to predict who possible defaulters are for the consumer loans product. \n",
    "##### They have data about historic customer behavior based on what they have observed. Hence when \n",
    "##### they acquire new customers they want to predict who is riskier and who is not.\n"
   ]
  },
  {
   "cell_type": "code",
   "execution_count": 5,
   "id": "04bf0692-6146-4901-9c7d-e84a7699d6fc",
   "metadata": {},
   "outputs": [],
   "source": [
    "df = pd.read_csv('data/Training Data.csv')"
   ]
  },
  {
   "cell_type": "code",
   "execution_count": 6,
   "id": "73ba65c5-83d2-40ea-9580-36d53dca1e67",
   "metadata": {},
   "outputs": [
    {
     "data": {
      "text/html": [
       "<div>\n",
       "<style scoped>\n",
       "    .dataframe tbody tr th:only-of-type {\n",
       "        vertical-align: middle;\n",
       "    }\n",
       "\n",
       "    .dataframe tbody tr th {\n",
       "        vertical-align: top;\n",
       "    }\n",
       "\n",
       "    .dataframe thead th {\n",
       "        text-align: right;\n",
       "    }\n",
       "</style>\n",
       "<table border=\"1\" class=\"dataframe\">\n",
       "  <thead>\n",
       "    <tr style=\"text-align: right;\">\n",
       "      <th></th>\n",
       "      <th>Id</th>\n",
       "      <th>Income</th>\n",
       "      <th>Age</th>\n",
       "      <th>Experience</th>\n",
       "      <th>Married/Single</th>\n",
       "      <th>House_Ownership</th>\n",
       "      <th>Car_Ownership</th>\n",
       "      <th>Profession</th>\n",
       "      <th>CITY</th>\n",
       "      <th>STATE</th>\n",
       "      <th>CURRENT_JOB_YRS</th>\n",
       "      <th>CURRENT_HOUSE_YRS</th>\n",
       "      <th>Risk_Flag</th>\n",
       "    </tr>\n",
       "  </thead>\n",
       "  <tbody>\n",
       "    <tr>\n",
       "      <th>0</th>\n",
       "      <td>1</td>\n",
       "      <td>1303834</td>\n",
       "      <td>23</td>\n",
       "      <td>3</td>\n",
       "      <td>single</td>\n",
       "      <td>rented</td>\n",
       "      <td>no</td>\n",
       "      <td>Mechanical_engineer</td>\n",
       "      <td>Rewa</td>\n",
       "      <td>Madhya_Pradesh</td>\n",
       "      <td>3</td>\n",
       "      <td>13</td>\n",
       "      <td>0</td>\n",
       "    </tr>\n",
       "    <tr>\n",
       "      <th>1</th>\n",
       "      <td>2</td>\n",
       "      <td>7574516</td>\n",
       "      <td>40</td>\n",
       "      <td>10</td>\n",
       "      <td>single</td>\n",
       "      <td>rented</td>\n",
       "      <td>no</td>\n",
       "      <td>Software_Developer</td>\n",
       "      <td>Parbhani</td>\n",
       "      <td>Maharashtra</td>\n",
       "      <td>9</td>\n",
       "      <td>13</td>\n",
       "      <td>0</td>\n",
       "    </tr>\n",
       "    <tr>\n",
       "      <th>2</th>\n",
       "      <td>3</td>\n",
       "      <td>3991815</td>\n",
       "      <td>66</td>\n",
       "      <td>4</td>\n",
       "      <td>married</td>\n",
       "      <td>rented</td>\n",
       "      <td>no</td>\n",
       "      <td>Technical_writer</td>\n",
       "      <td>Alappuzha</td>\n",
       "      <td>Kerala</td>\n",
       "      <td>4</td>\n",
       "      <td>10</td>\n",
       "      <td>0</td>\n",
       "    </tr>\n",
       "    <tr>\n",
       "      <th>3</th>\n",
       "      <td>4</td>\n",
       "      <td>6256451</td>\n",
       "      <td>41</td>\n",
       "      <td>2</td>\n",
       "      <td>single</td>\n",
       "      <td>rented</td>\n",
       "      <td>yes</td>\n",
       "      <td>Software_Developer</td>\n",
       "      <td>Bhubaneswar</td>\n",
       "      <td>Odisha</td>\n",
       "      <td>2</td>\n",
       "      <td>12</td>\n",
       "      <td>1</td>\n",
       "    </tr>\n",
       "    <tr>\n",
       "      <th>4</th>\n",
       "      <td>5</td>\n",
       "      <td>5768871</td>\n",
       "      <td>47</td>\n",
       "      <td>11</td>\n",
       "      <td>single</td>\n",
       "      <td>rented</td>\n",
       "      <td>no</td>\n",
       "      <td>Civil_servant</td>\n",
       "      <td>Tiruchirappalli[10]</td>\n",
       "      <td>Tamil_Nadu</td>\n",
       "      <td>3</td>\n",
       "      <td>14</td>\n",
       "      <td>1</td>\n",
       "    </tr>\n",
       "  </tbody>\n",
       "</table>\n",
       "</div>"
      ],
      "text/plain": [
       "   Id   Income  Age  Experience Married/Single House_Ownership Car_Ownership           Profession  \\\n",
       "0   1  1303834   23           3         single          rented            no  Mechanical_engineer   \n",
       "1   2  7574516   40          10         single          rented            no   Software_Developer   \n",
       "2   3  3991815   66           4        married          rented            no     Technical_writer   \n",
       "3   4  6256451   41           2         single          rented           yes   Software_Developer   \n",
       "4   5  5768871   47          11         single          rented            no        Civil_servant   \n",
       "\n",
       "                  CITY           STATE  CURRENT_JOB_YRS  CURRENT_HOUSE_YRS  Risk_Flag  \n",
       "0                 Rewa  Madhya_Pradesh                3                 13          0  \n",
       "1             Parbhani     Maharashtra                9                 13          0  \n",
       "2            Alappuzha          Kerala                4                 10          0  \n",
       "3          Bhubaneswar          Odisha                2                 12          1  \n",
       "4  Tiruchirappalli[10]      Tamil_Nadu                3                 14          1  "
      ]
     },
     "execution_count": 6,
     "metadata": {},
     "output_type": "execute_result"
    }
   ],
   "source": [
    "df.head()"
   ]
  },
  {
   "cell_type": "code",
   "execution_count": 7,
   "id": "e079853a-87ed-4de7-a94b-794b2f967d57",
   "metadata": {},
   "outputs": [
    {
     "data": {
      "text/plain": [
       "Id                   0\n",
       "Income               0\n",
       "Age                  0\n",
       "Experience           0\n",
       "Married/Single       0\n",
       "House_Ownership      0\n",
       "Car_Ownership        0\n",
       "Profession           0\n",
       "CITY                 0\n",
       "STATE                0\n",
       "CURRENT_JOB_YRS      0\n",
       "CURRENT_HOUSE_YRS    0\n",
       "Risk_Flag            0\n",
       "dtype: int64"
      ]
     },
     "execution_count": 7,
     "metadata": {},
     "output_type": "execute_result"
    }
   ],
   "source": [
    "df.isna().sum()"
   ]
  },
  {
   "cell_type": "code",
   "execution_count": 8,
   "id": "84b758ca-f903-40bb-afc9-89bbdae07e88",
   "metadata": {},
   "outputs": [
    {
     "data": {
      "text/plain": [
       "<Figure size 1440x360 with 0 Axes>"
      ]
     },
     "execution_count": 8,
     "metadata": {},
     "output_type": "execute_result"
    },
    {
     "data": {
      "text/plain": [
       "<AxesSubplot:>"
      ]
     },
     "execution_count": 8,
     "metadata": {},
     "output_type": "execute_result"
    },
    {
     "data": {
      "text/plain": [
       "<function matplotlib.pyplot.plot(*args, scalex=True, scaley=True, data=None, **kwargs)>"
      ]
     },
     "execution_count": 8,
     "metadata": {},
     "output_type": "execute_result"
    },
    {
     "data": {
      "image/png": "[encoded data removed]",
      "text/plain": [
       "<Figure size 1440x360 with 1 Axes>"
      ]
     },
     "metadata": {
      "needs_background": "light"
     },
     "output_type": "display_data"
    }
   ],
   "source": [
    "# plotting null values\n",
    "plt.figure(figsize=(20,5))\n",
    "sns.heatmap(df.isnull(),yticklabels=False,cbar=False,cmap='viridis')\n",
    "plt.plot"
   ]
  },
  {
   "cell_type": "code",
   "execution_count": 9,
   "id": "2bbc3dd3-caf2-4d0f-8e3e-a4a66212a6da",
   "metadata": {},
   "outputs": [
    {
     "name": "stdout",
     "output_type": "stream",
     "text": [
      "<class 'pandas.core.frame.DataFrame'>\n",
      "RangeIndex: 252000 entries, 0 to 251999\n",
      "Data columns (total 13 columns):\n",
      " #   Column             Non-Null Count   Dtype \n",
      "---  ------             --------------   ----- \n",
      " 0   Id                 252000 non-null  int64 \n",
      " 1   Income             252000 non-null  int64 \n",
      " 2   Age                252000 non-null  int64 \n",
      " 3   Experience         252000 non-null  int64 \n",
      " 4   Married/Single     252000 non-null  object\n",
      " 5   House_Ownership    252000 non-null  object\n",
      " 6   Car_Ownership      252000 non-null  object\n",
      " 7   Profession         252000 non-null  object\n",
      " 8   CITY               252000 non-null  object\n",
      " 9   STATE              252000 non-null  object\n",
      " 10  CURRENT_JOB_YRS    252000 non-null  int64 \n",
      " 11  CURRENT_HOUSE_YRS  252000 non-null  int64 \n",
      " 12  Risk_Flag          252000 non-null  int64 \n",
      "dtypes: int64(7), object(6)\n",
      "memory usage: 25.0+ MB\n"
     ]
    }
   ],
   "source": [
    "df.info()"
   ]
  },
  {
   "cell_type": "markdown",
   "id": "87964bfe-c0bd-4be7-91f8-2736f04bcb50",
   "metadata": {},
   "source": [
    "### Uniqueness Categorical Variables\n",
    "#### Let's have a look at categorical variables. How many unique values of these variables"
   ]
  },
  {
   "cell_type": "code",
   "execution_count": 10,
   "id": "39763833-19a0-41f1-9b55-72bbcb10c8b2",
   "metadata": {},
   "outputs": [],
   "source": [
    "categorical = df.select_dtypes([\"category\", \"object\"]).columns"
   ]
  },
  {
   "cell_type": "code",
   "execution_count": 11,
   "id": "eab23bfc-6d36-4e6a-adfb-f26d63159415",
   "metadata": {},
   "outputs": [
    {
     "data": {
      "text/plain": [
       "Index(['Married/Single', 'House_Ownership', 'Car_Ownership', 'Profession', 'CITY', 'STATE'], dtype='object')"
      ]
     },
     "execution_count": 11,
     "metadata": {},
     "output_type": "execute_result"
    }
   ],
   "source": [
    "categorical"
   ]
  },
  {
   "cell_type": "code",
   "execution_count": 12,
   "id": "31e8fc7f-b7f5-4aea-9ca3-3a42d8281233",
   "metadata": {},
   "outputs": [
    {
     "name": "stdout",
     "output_type": "stream",
     "text": [
      "Married/Single: 2 uniqueness variable\n",
      "House_Ownership: 3 uniqueness variable\n",
      "Car_Ownership: 2 uniqueness variable\n",
      "Profession: 51 uniqueness variable\n",
      "CITY: 317 uniqueness variable\n",
      "STATE: 29 uniqueness variable\n"
     ]
    }
   ],
   "source": [
    "for cat_col in categorical:\n",
    "    print(f\"{cat_col}: {df[cat_col].nunique()} uniqueness variable\")"
   ]
  },
  {
   "cell_type": "markdown",
   "id": "d2b93cc8-f0ae-4813-874d-cd94472b66db",
   "metadata": {},
   "source": [
    "### Discrete and Continuous Variables\n",
    "##### Let's have a look at Discrete and Continuous variables."
   ]
  },
  {
   "cell_type": "code",
   "execution_count": 13,
   "id": "4ad427b9-8739-4ca9-a2e5-4a507634a771",
   "metadata": {},
   "outputs": [],
   "source": [
    "numeric = df.select_dtypes([\"int\", \"float\"]).columns"
   ]
  },
  {
   "cell_type": "code",
   "execution_count": 14,
   "id": "2b817ef8-878e-4122-8cd1-ffbee603d8ba",
   "metadata": {},
   "outputs": [
    {
     "name": "stdout",
     "output_type": "stream",
     "text": [
      "Id: 252000 uniqueness variable\n",
      "Income: 41920 uniqueness variable\n",
      "Age: 59 uniqueness variable\n",
      "Experience: 21 uniqueness variable\n",
      "CURRENT_JOB_YRS: 15 uniqueness variable\n",
      "CURRENT_HOUSE_YRS: 5 uniqueness variable\n",
      "Risk_Flag: 2 uniqueness variable\n"
     ]
    }
   ],
   "source": [
    "for num_col in numeric:\n",
    "    print(f\"{num_col}: {df[num_col].nunique()} uniqueness variable\")"
   ]
  },
  {
   "cell_type": "markdown",
   "id": "d884802c-1e0b-4571-aa26-1785b6c1f555",
   "metadata": {},
   "source": [
    "#### How many missing data points do we have?¶\n",
    "##### Let's see how many missing data we have in each column...."
   ]
  },
  {
   "cell_type": "code",
   "execution_count": 15,
   "id": "6c8bdefb-4ba7-422a-b042-6fd84df14032",
   "metadata": {},
   "outputs": [
    {
     "data": {
      "text/plain": [
       "Id                 0\n",
       "Income             0\n",
       "Age                0\n",
       "Experience         0\n",
       "Married/Single     0\n",
       "House_Ownership    0\n",
       "Car_Ownership      0\n",
       "Profession         0\n",
       "CITY               0\n",
       "STATE              0\n",
       "dtype: int64"
      ]
     },
     "execution_count": 15,
     "metadata": {},
     "output_type": "execute_result"
    }
   ],
   "source": [
    "# Get the number of missing data points per column\n",
    "missing_values_count = df.isnull().sum()\n",
    "# Look at the missing points in the first ten columns\n",
    "missing_values_count[:10]"
   ]
  },
  {
   "cell_type": "markdown",
   "id": "20475383-f214-4b27-9e93-fe5da2455dab",
   "metadata": {},
   "source": [
    "##### Great! there's no missing value! let's see the unique variables on the categorical data!"
   ]
  },
  {
   "cell_type": "code",
   "execution_count": 16,
   "id": "1e418d92-fa0d-4949-beb2-eb0f4f3b5083",
   "metadata": {},
   "outputs": [
    {
     "data": {
      "text/plain": [
       "array(['Mechanical_engineer', 'Software_Developer', 'Technical_writer',\n",
       "       'Civil_servant', 'Librarian', 'Economist', 'Flight_attendant',\n",
       "       'Architect', 'Designer', 'Physician', 'Financial_Analyst',\n",
       "       'Air_traffic_controller', 'Politician', 'Police_officer', 'Artist',\n",
       "       'Surveyor', 'Design_Engineer', 'Chemical_engineer',\n",
       "       'Hotel_Manager', 'Dentist', 'Comedian', 'Biomedical_Engineer',\n",
       "       'Graphic_Designer', 'Computer_hardware_engineer',\n",
       "       'Petroleum_Engineer', 'Secretary', 'Computer_operator',\n",
       "       'Chartered_Accountant', 'Technician', 'Microbiologist',\n",
       "       'Fashion_Designer', 'Aviator', 'Psychologist', 'Magistrate',\n",
       "       'Lawyer', 'Firefighter', 'Engineer', 'Official', 'Analyst',\n",
       "       'Geologist', 'Drafter', 'Statistician', 'Web_designer',\n",
       "       'Consultant', 'Chef', 'Army_officer', 'Surgeon', 'Scientist',\n",
       "       'Civil_engineer', 'Industrial_Engineer', 'Technology_specialist'],\n",
       "      dtype=object)"
      ]
     },
     "execution_count": 16,
     "metadata": {},
     "output_type": "execute_result"
    }
   ],
   "source": [
    "df.Profession.unique()"
   ]
  },
  {
   "cell_type": "code",
   "execution_count": 17,
   "id": "02aa7839-fc61-491a-b83a-13a1edae6747",
   "metadata": {},
   "outputs": [
    {
     "data": {
      "text/plain": [
       "array(['Rewa', 'Parbhani', 'Alappuzha', 'Bhubaneswar',\n",
       "       'Tiruchirappalli[10]', 'Jalgaon', 'Tiruppur', 'Jamnagar',\n",
       "       'Kota[6]', 'Karimnagar', 'Hajipur[31]', 'Adoni', 'Erode[17]',\n",
       "       'Kollam', 'Madurai', 'Anantapuram[24]', 'Kamarhati', 'Bhusawal',\n",
       "       'Sirsa', 'Amaravati', 'Secunderabad', 'Ahmedabad', 'Ajmer',\n",
       "       'Ongole', 'Miryalaguda', 'Ambattur', 'Indore', 'Pondicherry',\n",
       "       'Shimoga', 'Chennai', 'Gulbarga', 'Khammam', 'Saharanpur',\n",
       "       'Gopalpur', 'Amravati', 'Udupi', 'Howrah', 'Aurangabad[39]',\n",
       "       'Hospet', 'Shimla', 'Khandwa', 'Bidhannagar', 'Bellary', 'Danapur',\n",
       "       'Purnia[26]', 'Bijapur', 'Patiala', 'Malda', 'Sagar', 'Durgapur',\n",
       "       'Junagadh', 'Singrauli', 'Agartala', 'Thanjavur', 'Hindupur',\n",
       "       'Naihati', 'North_Dumdum', 'Panchkula', 'Anantapur', 'Serampore',\n",
       "       'Bathinda', 'Nadiad', 'Kanpur', 'Haridwar', 'Berhampur',\n",
       "       'Jamshedpur', 'Hyderabad', 'Bidar', 'Kottayam', 'Solapur',\n",
       "       'Suryapet', 'Aizawl', 'Asansol', 'Deoghar', 'Eluru[25]',\n",
       "       'Ulhasnagar', 'Aligarh', 'South_Dumdum', 'Berhampore',\n",
       "       'Gandhinagar', 'Sonipat', 'Muzaffarpur', 'Raichur',\n",
       "       'Rajpur_Sonarpur', 'Ambarnath', 'Katihar', 'Kozhikode', 'Vellore',\n",
       "       'Malegaon', 'Kochi', 'Nagaon', 'Nagpur', 'Srinagar', 'Davanagere',\n",
       "       'Bhagalpur', 'Siwan[32]', 'Meerut', 'Dindigul', 'Bhatpara',\n",
       "       'Ghaziabad', 'Kulti', 'Chapra', 'Dibrugarh', 'Panihati',\n",
       "       'Bhiwandi', 'Morbi', 'Kalyan-Dombivli', 'Gorakhpur', 'Panvel',\n",
       "       'Siliguri', 'Bongaigaon', 'Patna', 'Ramgarh', 'Ozhukarai',\n",
       "       'Mirzapur', 'Akola', 'Satna', 'Motihari[34]', 'Jalna', 'Jalandhar',\n",
       "       'Unnao', 'Karnal', 'Cuttack', 'Proddatur', 'Ichalkaranji',\n",
       "       'Warangal[11][12]', 'Jhansi', 'Bulandshahr', 'Narasaraopet',\n",
       "       'Chinsurah', 'Jehanabad[38]', 'Dhanbad', 'Gudivada', 'Gandhidham',\n",
       "       'Raiganj', 'Kishanganj[35]', 'Varanasi', 'Belgaum',\n",
       "       'Tirupati[21][22]', 'Tumkur', 'Coimbatore', 'Kurnool[18]',\n",
       "       'Gurgaon', 'Muzaffarnagar', 'Aurangabad', 'Bhavnagar', 'Arrah',\n",
       "       'Munger', 'Tirunelveli', 'Mumbai', 'Mango', 'Nashik', 'Kadapa[23]',\n",
       "       'Amritsar', 'Khora,_Ghaziabad', 'Ambala', 'Agra', 'Ratlam',\n",
       "       'Surendranagar_Dudhrej', 'Delhi_city', 'Bhopal', 'Hapur', 'Rohtak',\n",
       "       'Durg', 'Korba', 'Bangalore', 'Shivpuri', 'Thrissur',\n",
       "       'Vijayanagaram', 'Farrukhabad', 'Nangloi_Jat', 'Madanapalle',\n",
       "       'Thoothukudi', 'Nagercoil', 'Gaya', 'Chandigarh_city', 'Jammu[16]',\n",
       "       'Kakinada', 'Dewas', 'Bhalswa_Jahangir_Pur', 'Baranagar',\n",
       "       'Firozabad', 'Phusro', 'Allahabad', 'Guna', 'Thane', 'Etawah',\n",
       "       'Vasai-Virar', 'Pallavaram', 'Morena', 'Ballia', 'Surat',\n",
       "       'Burhanpur', 'Phagwara', 'Mau', 'Mangalore', 'Alwar',\n",
       "       'Mahbubnagar', 'Maheshtala', 'Hazaribagh', 'Bihar_Sharif',\n",
       "       'Faridabad', 'Lucknow', 'Tenali', 'Barasat', 'Amroha', 'Giridih',\n",
       "       'Begusarai', 'Medininagar', 'Rajahmundry[19][20]', 'Saharsa[29]',\n",
       "       'New_Delhi', 'Bhilai', 'Moradabad', 'Machilipatnam',\n",
       "       'Mira-Bhayandar', 'Pali', 'Navi_Mumbai', 'Mehsana', 'Imphal',\n",
       "       'Kolkata', 'Sambalpur', 'Ujjain', 'Madhyamgram', 'Jabalpur',\n",
       "       'Jamalpur[36]', 'Ludhiana', 'Bareilly', 'Gangtok', 'Anand',\n",
       "       'Dehradun', 'Pune', 'Satara', 'Srikakulam', 'Raipur', 'Jodhpur',\n",
       "       'Darbhanga', 'Nizamabad', 'Nandyal', 'Dehri[30]', 'Jorhat',\n",
       "       'Ranchi', 'Kumbakonam', 'Guntakal', 'Haldia', 'Loni',\n",
       "       'Pimpri-Chinchwad', 'Rajkot', 'Nanded', 'Noida',\n",
       "       'Kirari_Suleman_Nagar', 'Jaunpur', 'Bilaspur', 'Sambhal', 'Dhule',\n",
       "       'Rourkela', 'Thiruvananthapuram', 'Dharmavaram', 'Nellore[14][15]',\n",
       "       'Visakhapatnam[4]', 'Karawal_Nagar', 'Jaipur', 'Avadi',\n",
       "       'Bhimavaram', 'Bardhaman', 'Silchar', 'Buxar[37]', 'Kavali',\n",
       "       'Tezpur', 'Ramagundam[27]', 'Yamunanagar', 'Sri_Ganganagar',\n",
       "       'Sasaram[30]', 'Sikar', 'Bally', 'Bhiwani', 'Rampur', 'Uluberia',\n",
       "       'Sangli-Miraj_&_Kupwad', 'Hosur', 'Bikaner', 'Shahjahanpur',\n",
       "       'Sultan_Pur_Majra', 'Vijayawada', 'Bharatpur', 'Tadepalligudem',\n",
       "       'Tinsukia', 'Salem', 'Mathura', 'Guntur[13]', 'Hubliâ€“Dharwad',\n",
       "       'Guwahati', 'Chittoor[28]', 'Tiruvottiyur', 'Vadodara',\n",
       "       'Ahmednagar', 'Fatehpur', 'Bhilwara', 'Kharagpur', 'Bettiah[33]',\n",
       "       'Bhind', 'Bokaro', 'Karaikudi', 'Raebareli', 'Pudukkottai',\n",
       "       'Udaipur', 'Mysore[7][8][9]', 'Panipat', 'Latur', 'Tadipatri',\n",
       "       'Bahraich', 'Orai', 'Raurkela_Industrial_Township', 'Gwalior',\n",
       "       'Katni', 'Chandrapur', 'Kolhapur'], dtype=object)"
      ]
     },
     "execution_count": 17,
     "metadata": {},
     "output_type": "execute_result"
    }
   ],
   "source": [
    "df.CITY.unique()"
   ]
  },
  {
   "cell_type": "code",
   "execution_count": 18,
   "id": "33bb3075-c495-448a-b41a-233230d24829",
   "metadata": {},
   "outputs": [
    {
     "data": {
      "text/plain": [
       "array(['Madhya_Pradesh', 'Maharashtra', 'Kerala', 'Odisha', 'Tamil_Nadu',\n",
       "       'Gujarat', 'Rajasthan', 'Telangana', 'Bihar', 'Andhra_Pradesh',\n",
       "       'West_Bengal', 'Haryana', 'Puducherry', 'Karnataka',\n",
       "       'Uttar_Pradesh', 'Himachal_Pradesh', 'Punjab', 'Tripura',\n",
       "       'Uttarakhand', 'Jharkhand', 'Mizoram', 'Assam',\n",
       "       'Jammu_and_Kashmir', 'Delhi', 'Chhattisgarh', 'Chandigarh',\n",
       "       'Uttar_Pradesh[5]', 'Manipur', 'Sikkim'], dtype=object)"
      ]
     },
     "execution_count": 18,
     "metadata": {},
     "output_type": "execute_result"
    }
   ],
   "source": [
    "df.STATE.unique()"
   ]
  },
  {
   "cell_type": "markdown",
   "id": "a4d52c15-ee53-43a8-8b31-c97833e3350e",
   "metadata": {},
   "source": [
    "##### Note:\n",
    "###### We can see above that there are many City names and also State that have a parantheses \n",
    "###### bracket characters and numbers that are not clear what they mean, let's clean that up later.\n",
    "\n",
    "###### This dataset column is very inconsistent and neat, this can cause confusion or typing errors\n",
    "###### in the future, let's change it so we can more easily analyze and predict it later."
   ]
  },
  {
   "cell_type": "markdown",
   "id": "dcb095d5-a391-46c0-9e32-a6ff39b0ff22",
   "metadata": {},
   "source": [
    "## Data Cleaning\n",
    "### 4.1 Checking and cleaning"
   ]
  },
  {
   "cell_type": "code",
   "execution_count": 19,
   "id": "bc79f8dc-5962-4bdd-b708-41f719800245",
   "metadata": {},
   "outputs": [
    {
     "data": {
      "text/plain": [
       "Index(['Id', 'Income', 'Age', 'Experience', 'Married/Single', 'House_Ownership', 'Car_Ownership',\n",
       "       'Profession', 'CITY', 'STATE', 'CURRENT_JOB_YRS', 'CURRENT_HOUSE_YRS', 'Risk_Flag'],\n",
       "      dtype='object')"
      ]
     },
     "execution_count": 19,
     "metadata": {},
     "output_type": "execute_result"
    }
   ],
   "source": [
    "df.columns"
   ]
  },
  {
   "cell_type": "code",
   "execution_count": 20,
   "id": "d5e8f2e0-4e87-4dc7-9058-72e45b95cd24",
   "metadata": {},
   "outputs": [
    {
     "data": {
      "text/plain": [
       "Index(['id', 'income', 'age', 'experience', 'married/single', 'house_ownership', 'car_ownership',\n",
       "       'profession', 'city', 'state', 'current_job_yrs', 'current_house_yrs', 'risk_flag'],\n",
       "      dtype='object')"
      ]
     },
     "execution_count": 20,
     "metadata": {},
     "output_type": "execute_result"
    }
   ],
   "source": [
    "df.columns = df.columns.str.lower()\n",
    "df.columns"
   ]
  },
  {
   "cell_type": "code",
   "execution_count": 21,
   "id": "dd76eba4-c090-4db0-b3c2-1a589cb0e55a",
   "metadata": {},
   "outputs": [
    {
     "data": {
      "text/plain": [
       "Index(['id', 'income', 'age', 'experience', 'married_single', 'house_ownership', 'car_ownership',\n",
       "       'profession', 'city', 'state', 'current_job_yrs', 'current_house_yrs', 'risk_flag'],\n",
       "      dtype='object')"
      ]
     },
     "execution_count": 21,
     "metadata": {},
     "output_type": "execute_result"
    }
   ],
   "source": [
    "df.rename(columns={\"married/single\": \"married_single\"}, inplace=True)\n",
    "df.columns"
   ]
  },
  {
   "cell_type": "markdown",
   "id": "6367cd68-b777-4267-8ed9-98059ef8913c",
   "metadata": {},
   "source": [
    "##### Great! now into the city and state variables, let's clean the characters!"
   ]
  },
  {
   "cell_type": "code",
   "execution_count": 22,
   "id": "96431f90-7fbf-4db6-9792-704364e3ee59",
   "metadata": {},
   "outputs": [
    {
     "data": {
      "text/plain": [
       "array(['Rewa', 'Parbhani', 'Alappuzha', 'Bhubaneswar', 'Tiruchirappalli',\n",
       "       'Jalgaon', 'Tiruppur', 'Jamnagar', 'Kota', 'Karimnagar', 'Hajipur',\n",
       "       'Adoni', 'Erode', 'Kollam', 'Madurai', 'Anantapuram', 'Kamarhati',\n",
       "       'Bhusawal', 'Sirsa', 'Amaravati', 'Secunderabad', 'Ahmedabad',\n",
       "       'Ajmer', 'Ongole', 'Miryalaguda', 'Ambattur', 'Indore',\n",
       "       'Pondicherry', 'Shimoga', 'Chennai', 'Gulbarga', 'Khammam',\n",
       "       'Saharanpur', 'Gopalpur', 'Amravati', 'Udupi', 'Howrah',\n",
       "       'Aurangabad', 'Hospet', 'Shimla', 'Khandwa', 'Bidhannagar',\n",
       "       'Bellary', 'Danapur', 'Purnia', 'Bijapur', 'Patiala', 'Malda',\n",
       "       'Sagar', 'Durgapur', 'Junagadh', 'Singrauli', 'Agartala',\n",
       "       'Thanjavur', 'Hindupur', 'Naihati', 'North', 'Panchkula',\n",
       "       'Anantapur', 'Serampore', 'Bathinda', 'Nadiad', 'Kanpur',\n",
       "       'Haridwar', 'Berhampur', 'Jamshedpur', 'Hyderabad', 'Bidar',\n",
       "       'Kottayam', 'Solapur', 'Suryapet', 'Aizawl', 'Asansol', 'Deoghar',\n",
       "       'Eluru', 'Ulhasnagar', 'Aligarh', 'South', 'Berhampore',\n",
       "       'Gandhinagar', 'Sonipat', 'Muzaffarpur', 'Raichur', 'Rajpur',\n",
       "       'Ambarnath', 'Katihar', 'Kozhikode', 'Vellore', 'Malegaon',\n",
       "       'Kochi', 'Nagaon', 'Nagpur', 'Srinagar', 'Davanagere', 'Bhagalpur',\n",
       "       'Siwan', 'Meerut', 'Dindigul', 'Bhatpara', 'Ghaziabad', 'Kulti',\n",
       "       'Chapra', 'Dibrugarh', 'Panihati', 'Bhiwandi', 'Morbi', 'Kalyan',\n",
       "       'Gorakhpur', 'Panvel', 'Siliguri', 'Bongaigaon', 'Patna',\n",
       "       'Ramgarh', 'Ozhukarai', 'Mirzapur', 'Akola', 'Satna', 'Motihari',\n",
       "       'Jalna', 'Jalandhar', 'Unnao', 'Karnal', 'Cuttack', 'Proddatur',\n",
       "       'Ichalkaranji', 'Warangal', 'Jhansi', 'Bulandshahr',\n",
       "       'Narasaraopet', 'Chinsurah', 'Jehanabad', 'Dhanbad', 'Gudivada',\n",
       "       'Gandhidham', 'Raiganj', 'Kishanganj', 'Varanasi', 'Belgaum',\n",
       "       'Tirupati', 'Tumkur', 'Coimbatore', 'Kurnool', 'Gurgaon',\n",
       "       'Muzaffarnagar', 'Bhavnagar', 'Arrah', 'Munger', 'Tirunelveli',\n",
       "       'Mumbai', 'Mango', 'Nashik', 'Kadapa', 'Amritsar', 'Khora',\n",
       "       'Ambala', 'Agra', 'Ratlam', 'Surendranagar', 'Delhi', 'Bhopal',\n",
       "       'Hapur', 'Rohtak', 'Durg', 'Korba', 'Bangalore', 'Shivpuri',\n",
       "       'Thrissur', 'Vijayanagaram', 'Farrukhabad', 'Nangloi',\n",
       "       'Madanapalle', 'Thoothukudi', 'Nagercoil', 'Gaya', 'Chandigarh',\n",
       "       'Jammu', 'Kakinada', 'Dewas', 'Bhalswa', 'Baranagar', 'Firozabad',\n",
       "       'Phusro', 'Allahabad', 'Guna', 'Thane', 'Etawah', 'Vasai',\n",
       "       'Pallavaram', 'Morena', 'Ballia', 'Surat', 'Burhanpur', 'Phagwara',\n",
       "       'Mau', 'Mangalore', 'Alwar', 'Mahbubnagar', 'Maheshtala',\n",
       "       'Hazaribagh', 'Bihar', 'Faridabad', 'Lucknow', 'Tenali', 'Barasat',\n",
       "       'Amroha', 'Giridih', 'Begusarai', 'Medininagar', 'Rajahmundry',\n",
       "       'Saharsa', 'New', 'Bhilai', 'Moradabad', 'Machilipatnam', 'Mira',\n",
       "       'Pali', 'Navi', 'Mehsana', 'Imphal', 'Kolkata', 'Sambalpur',\n",
       "       'Ujjain', 'Madhyamgram', 'Jabalpur', 'Jamalpur', 'Ludhiana',\n",
       "       'Bareilly', 'Gangtok', 'Anand', 'Dehradun', 'Pune', 'Satara',\n",
       "       'Srikakulam', 'Raipur', 'Jodhpur', 'Darbhanga', 'Nizamabad',\n",
       "       'Nandyal', 'Dehri', 'Jorhat', 'Ranchi', 'Kumbakonam', 'Guntakal',\n",
       "       'Haldia', 'Loni', 'Pimpri', 'Rajkot', 'Nanded', 'Noida', 'Kirari',\n",
       "       'Jaunpur', 'Bilaspur', 'Sambhal', 'Dhule', 'Rourkela',\n",
       "       'Thiruvananthapuram', 'Dharmavaram', 'Nellore', 'Visakhapatnam',\n",
       "       'Karawal', 'Jaipur', 'Avadi', 'Bhimavaram', 'Bardhaman', 'Silchar',\n",
       "       'Buxar', 'Kavali', 'Tezpur', 'Ramagundam', 'Yamunanagar', 'Sri',\n",
       "       'Sasaram', 'Sikar', 'Bally', 'Bhiwani', 'Rampur', 'Uluberia',\n",
       "       'Sangli', 'Hosur', 'Bikaner', 'Shahjahanpur', 'Sultan',\n",
       "       'Vijayawada', 'Bharatpur', 'Tadepalligudem', 'Tinsukia', 'Salem',\n",
       "       'Mathura', 'Guntur', 'Hubli', 'Guwahati', 'Chittoor',\n",
       "       'Tiruvottiyur', 'Vadodara', 'Ahmednagar', 'Fatehpur', 'Bhilwara',\n",
       "       'Kharagpur', 'Bettiah', 'Bhind', 'Bokaro', 'Karaikudi',\n",
       "       'Raebareli', 'Pudukkottai', 'Udaipur', 'Mysore', 'Panipat',\n",
       "       'Latur', 'Tadipatri', 'Bahraich', 'Orai', 'Raurkela', 'Gwalior',\n",
       "       'Katni', 'Chandrapur', 'Kolhapur'], dtype=object)"
      ]
     },
     "execution_count": 22,
     "metadata": {},
     "output_type": "execute_result"
    }
   ],
   "source": [
    "df.city = df.city.str.extract(\"([A-Za-z]+)\")\n",
    "df.city.unique()"
   ]
  },
  {
   "cell_type": "markdown",
   "id": "272640e5-3c77-4af2-9957-ab35cacb220e",
   "metadata": {},
   "source": [
    "##### Great! now state variable"
   ]
  },
  {
   "cell_type": "code",
   "execution_count": 23,
   "id": "4c863e85-82c6-4fff-9f1e-f4704bc81b17",
   "metadata": {},
   "outputs": [
    {
     "data": {
      "text/plain": [
       "array(['Madhya', 'Maharashtra', 'Kerala', 'Odisha', 'Tamil', 'Gujarat',\n",
       "       'Rajasthan', 'Telangana', 'Bihar', 'Andhra', 'West', 'Haryana',\n",
       "       'Puducherry', 'Karnataka', 'Uttar', 'Himachal', 'Punjab',\n",
       "       'Tripura', 'Uttarakhand', 'Jharkhand', 'Mizoram', 'Assam', 'Jammu',\n",
       "       'Delhi', 'Chhattisgarh', 'Chandigarh', 'Manipur', 'Sikkim'],\n",
       "      dtype=object)"
      ]
     },
     "execution_count": 23,
     "metadata": {},
     "output_type": "execute_result"
    }
   ],
   "source": [
    "df.state = df.state.str.extract(\"([A-Za-z]+)\")\n",
    "df.state.unique()"
   ]
  },
  {
   "cell_type": "markdown",
   "id": "1a0c3c30-28c6-40ec-90ac-54a038071909",
   "metadata": {},
   "source": [
    "#### 4.2 Random Under-Sampling"
   ]
  },
  {
   "cell_type": "code",
   "execution_count": 24,
   "id": "f7847297-1267-4aed-892f-67198f8950d5",
   "metadata": {},
   "outputs": [],
   "source": [
    "# Since our classes are highly skewed we should make them equivalent in order to have a normal distribution of the classes.\n",
    "# Lets shuffle the data before creating the subsamples\n",
    "df = df.sample(frac=1)"
   ]
  },
  {
   "cell_type": "code",
   "execution_count": 25,
   "id": "7d16a8a5-0254-494c-9793-1d474635180d",
   "metadata": {},
   "outputs": [],
   "source": [
    "# amount of fraud classes 492 rows.\n",
    "risk_data = df.loc[df[\"risk_flag\"] == 1]\n",
    "not_risk_data = df.loc[df[\"risk_flag\"] == 0][:30996]\n",
    "\n",
    "normal_distributed_data = pd.concat([risk_data, not_risk_data])"
   ]
  },
  {
   "cell_type": "code",
   "execution_count": 26,
   "id": "396b6ad5-138e-4056-90bf-a5690602483f",
   "metadata": {},
   "outputs": [
    {
     "data": {
      "text/html": [
       "<div>\n",
       "<style scoped>\n",
       "    .dataframe tbody tr th:only-of-type {\n",
       "        vertical-align: middle;\n",
       "    }\n",
       "\n",
       "    .dataframe tbody tr th {\n",
       "        vertical-align: top;\n",
       "    }\n",
       "\n",
       "    .dataframe thead th {\n",
       "        text-align: right;\n",
       "    }\n",
       "</style>\n",
       "<table border=\"1\" class=\"dataframe\">\n",
       "  <thead>\n",
       "    <tr style=\"text-align: right;\">\n",
       "      <th></th>\n",
       "      <th>id</th>\n",
       "      <th>income</th>\n",
       "      <th>age</th>\n",
       "      <th>experience</th>\n",
       "      <th>married_single</th>\n",
       "      <th>house_ownership</th>\n",
       "      <th>car_ownership</th>\n",
       "      <th>profession</th>\n",
       "      <th>city</th>\n",
       "      <th>state</th>\n",
       "      <th>current_job_yrs</th>\n",
       "      <th>current_house_yrs</th>\n",
       "      <th>risk_flag</th>\n",
       "    </tr>\n",
       "  </thead>\n",
       "  <tbody>\n",
       "    <tr>\n",
       "      <th>157306</th>\n",
       "      <td>157307</td>\n",
       "      <td>214045</td>\n",
       "      <td>54</td>\n",
       "      <td>14</td>\n",
       "      <td>single</td>\n",
       "      <td>rented</td>\n",
       "      <td>no</td>\n",
       "      <td>Air_traffic_controller</td>\n",
       "      <td>Mathura</td>\n",
       "      <td>Uttar</td>\n",
       "      <td>3</td>\n",
       "      <td>10</td>\n",
       "      <td>0</td>\n",
       "    </tr>\n",
       "    <tr>\n",
       "      <th>188081</th>\n",
       "      <td>188082</td>\n",
       "      <td>6860791</td>\n",
       "      <td>47</td>\n",
       "      <td>2</td>\n",
       "      <td>single</td>\n",
       "      <td>rented</td>\n",
       "      <td>yes</td>\n",
       "      <td>Geologist</td>\n",
       "      <td>Tadepalligudem</td>\n",
       "      <td>Andhra</td>\n",
       "      <td>2</td>\n",
       "      <td>10</td>\n",
       "      <td>0</td>\n",
       "    </tr>\n",
       "    <tr>\n",
       "      <th>175013</th>\n",
       "      <td>175014</td>\n",
       "      <td>9804758</td>\n",
       "      <td>66</td>\n",
       "      <td>4</td>\n",
       "      <td>single</td>\n",
       "      <td>rented</td>\n",
       "      <td>no</td>\n",
       "      <td>Magistrate</td>\n",
       "      <td>Arrah</td>\n",
       "      <td>Bihar</td>\n",
       "      <td>4</td>\n",
       "      <td>12</td>\n",
       "      <td>0</td>\n",
       "    </tr>\n",
       "    <tr>\n",
       "      <th>26520</th>\n",
       "      <td>26521</td>\n",
       "      <td>7334800</td>\n",
       "      <td>75</td>\n",
       "      <td>3</td>\n",
       "      <td>single</td>\n",
       "      <td>rented</td>\n",
       "      <td>no</td>\n",
       "      <td>Chartered_Accountant</td>\n",
       "      <td>Kota</td>\n",
       "      <td>Rajasthan</td>\n",
       "      <td>3</td>\n",
       "      <td>12</td>\n",
       "      <td>1</td>\n",
       "    </tr>\n",
       "    <tr>\n",
       "      <th>85759</th>\n",
       "      <td>85760</td>\n",
       "      <td>3632655</td>\n",
       "      <td>76</td>\n",
       "      <td>18</td>\n",
       "      <td>single</td>\n",
       "      <td>rented</td>\n",
       "      <td>no</td>\n",
       "      <td>Geologist</td>\n",
       "      <td>Ulhasnagar</td>\n",
       "      <td>Maharashtra</td>\n",
       "      <td>12</td>\n",
       "      <td>10</td>\n",
       "      <td>1</td>\n",
       "    </tr>\n",
       "  </tbody>\n",
       "</table>\n",
       "</div>"
      ],
      "text/plain": [
       "            id   income  age  experience married_single house_ownership car_ownership  \\\n",
       "157306  157307   214045   54          14         single          rented            no   \n",
       "188081  188082  6860791   47           2         single          rented           yes   \n",
       "175013  175014  9804758   66           4         single          rented            no   \n",
       "26520    26521  7334800   75           3         single          rented            no   \n",
       "85759    85760  3632655   76          18         single          rented            no   \n",
       "\n",
       "                    profession            city        state  current_job_yrs  current_house_yrs  \\\n",
       "157306  Air_traffic_controller         Mathura        Uttar                3                 10   \n",
       "188081               Geologist  Tadepalligudem       Andhra                2                 10   \n",
       "175013              Magistrate           Arrah        Bihar                4                 12   \n",
       "26520     Chartered_Accountant            Kota    Rajasthan                3                 12   \n",
       "85759                Geologist      Ulhasnagar  Maharashtra               12                 10   \n",
       "\n",
       "        risk_flag  \n",
       "157306          0  \n",
       "188081          0  \n",
       "175013          0  \n",
       "26520           1  \n",
       "85759           1  "
      ]
     },
     "execution_count": 26,
     "metadata": {},
     "output_type": "execute_result"
    }
   ],
   "source": [
    "# Shuffle dataframe rows\n",
    "loan = normal_distributed_data.sample(frac=1, random_state=42)\n",
    "\n",
    "loan.head()"
   ]
  },
  {
   "cell_type": "markdown",
   "id": "97af5452-5a1d-48dd-b285-c46dd33acf43",
   "metadata": {},
   "source": [
    "#### 4.3 | Equally Distributing and Correlating"
   ]
  },
  {
   "cell_type": "code",
   "execution_count": 27,
   "id": "139d26e4-b8aa-4e4a-b01f-f9c6d4509c48",
   "metadata": {},
   "outputs": [
    {
     "name": "stdout",
     "output_type": "stream",
     "text": [
      "Distribution of the risk_flag in the subsample dataset\n",
      "0   0.500\n",
      "1   0.500\n",
      "Name: risk_flag, dtype: float64\n"
     ]
    },
    {
     "data": {
      "text/plain": [
       "<AxesSubplot:xlabel='risk_flag', ylabel='count'>"
      ]
     },
     "execution_count": 27,
     "metadata": {},
     "output_type": "execute_result"
    },
    {
     "data": {
      "image/png": "[encoded data removed]",
      "text/plain": [
       "<Figure size 432x288 with 1 Axes>"
      ]
     },
     "metadata": {
      "needs_background": "light"
     },
     "output_type": "display_data"
    }
   ],
   "source": [
    "print(\"Distribution of the risk_flag in the subsample dataset\")\n",
    "print(loan[\"risk_flag\"].value_counts() / len(loan))\n",
    "\n",
    "# sns.countplot(\"risk_flag\", data=loan)\n",
    "# plt.title('Equally Distributed Risk Flag', fontsize=14);\n",
    "\n",
    "sns.countplot(x=loan[\"risk_flag\"])\n",
    "plt.show()"
   ]
  },
  {
   "cell_type": "markdown",
   "id": "4ebd3172-a473-4f30-bdf1-605b2cb332f5",
   "metadata": {},
   "source": [
    "##### Now that we have our dataframe correctly balanced, we can go further with our analysis and data preprocessing."
   ]
  },
  {
   "cell_type": "markdown",
   "id": "82579796-e006-4ca0-8823-e5a1ec3afaca",
   "metadata": {},
   "source": [
    "### 5. | Data Analysis"
   ]
  },
  {
   "cell_type": "markdown",
   "id": "806d0752-e955-4002-9a40-c8b616bd1916",
   "metadata": {},
   "source": [
    "##### 5.1 | Descriptive Statistics"
   ]
  },
  {
   "cell_type": "code",
   "execution_count": 28,
   "id": "f6c3bf4e-9cbe-4995-bb4c-24457ebea36a",
   "metadata": {},
   "outputs": [
    {
     "data": {
      "text/html": [
       "<div>\n",
       "<style scoped>\n",
       "    .dataframe tbody tr th:only-of-type {\n",
       "        vertical-align: middle;\n",
       "    }\n",
       "\n",
       "    .dataframe tbody tr th {\n",
       "        vertical-align: top;\n",
       "    }\n",
       "\n",
       "    .dataframe thead th {\n",
       "        text-align: right;\n",
       "    }\n",
       "</style>\n",
       "<table border=\"1\" class=\"dataframe\">\n",
       "  <thead>\n",
       "    <tr style=\"text-align: right;\">\n",
       "      <th></th>\n",
       "      <th>married_single</th>\n",
       "      <th>house_ownership</th>\n",
       "      <th>car_ownership</th>\n",
       "      <th>profession</th>\n",
       "      <th>city</th>\n",
       "      <th>state</th>\n",
       "    </tr>\n",
       "  </thead>\n",
       "  <tbody>\n",
       "    <tr>\n",
       "      <th>count</th>\n",
       "      <td>61992</td>\n",
       "      <td>61992</td>\n",
       "      <td>61992</td>\n",
       "      <td>61992</td>\n",
       "      <td>61992</td>\n",
       "      <td>61992</td>\n",
       "    </tr>\n",
       "    <tr>\n",
       "      <th>unique</th>\n",
       "      <td>2</td>\n",
       "      <td>3</td>\n",
       "      <td>2</td>\n",
       "      <td>51</td>\n",
       "      <td>316</td>\n",
       "      <td>28</td>\n",
       "    </tr>\n",
       "    <tr>\n",
       "      <th>top</th>\n",
       "      <td>single</td>\n",
       "      <td>rented</td>\n",
       "      <td>no</td>\n",
       "      <td>Police_officer</td>\n",
       "      <td>Indore</td>\n",
       "      <td>Uttar</td>\n",
       "    </tr>\n",
       "    <tr>\n",
       "      <th>freq</th>\n",
       "      <td>56046</td>\n",
       "      <td>57531</td>\n",
       "      <td>44020</td>\n",
       "      <td>1407</td>\n",
       "      <td>345</td>\n",
       "      <td>7025</td>\n",
       "    </tr>\n",
       "  </tbody>\n",
       "</table>\n",
       "</div>"
      ],
      "text/plain": [
       "       married_single house_ownership car_ownership      profession    city  state\n",
       "count           61992           61992         61992           61992   61992  61992\n",
       "unique              2               3             2              51     316     28\n",
       "top            single          rented            no  Police_officer  Indore  Uttar\n",
       "freq            56046           57531         44020            1407     345   7025"
      ]
     },
     "execution_count": 28,
     "metadata": {},
     "output_type": "execute_result"
    }
   ],
   "source": [
    "loan.describe(exclude=[np.number])"
   ]
  },
  {
   "cell_type": "code",
   "execution_count": 29,
   "id": "df8ba9bb-a740-4d7b-afa9-f9dbe316fe71",
   "metadata": {},
   "outputs": [
    {
     "data": {
      "text/html": [
       "<div>\n",
       "<style scoped>\n",
       "    .dataframe tbody tr th:only-of-type {\n",
       "        vertical-align: middle;\n",
       "    }\n",
       "\n",
       "    .dataframe tbody tr th {\n",
       "        vertical-align: top;\n",
       "    }\n",
       "\n",
       "    .dataframe thead th {\n",
       "        text-align: right;\n",
       "    }\n",
       "</style>\n",
       "<table border=\"1\" class=\"dataframe\">\n",
       "  <thead>\n",
       "    <tr style=\"text-align: right;\">\n",
       "      <th></th>\n",
       "      <th>id</th>\n",
       "      <th>income</th>\n",
       "      <th>age</th>\n",
       "      <th>experience</th>\n",
       "      <th>current_job_yrs</th>\n",
       "      <th>current_house_yrs</th>\n",
       "      <th>risk_flag</th>\n",
       "    </tr>\n",
       "  </thead>\n",
       "  <tbody>\n",
       "    <tr>\n",
       "      <th>count</th>\n",
       "      <td>61992.000</td>\n",
       "      <td>61992.000</td>\n",
       "      <td>61992.000</td>\n",
       "      <td>61992.000</td>\n",
       "      <td>61992.000</td>\n",
       "      <td>61992.000</td>\n",
       "      <td>61992.000</td>\n",
       "    </tr>\n",
       "    <tr>\n",
       "      <th>mean</th>\n",
       "      <td>128595.158</td>\n",
       "      <td>4984967.606</td>\n",
       "      <td>49.523</td>\n",
       "      <td>9.848</td>\n",
       "      <td>6.269</td>\n",
       "      <td>11.987</td>\n",
       "      <td>0.500</td>\n",
       "    </tr>\n",
       "    <tr>\n",
       "      <th>std</th>\n",
       "      <td>76407.177</td>\n",
       "      <td>2898148.587</td>\n",
       "      <td>17.203</td>\n",
       "      <td>6.035</td>\n",
       "      <td>3.697</td>\n",
       "      <td>1.397</td>\n",
       "      <td>0.500</td>\n",
       "    </tr>\n",
       "    <tr>\n",
       "      <th>min</th>\n",
       "      <td>4.000</td>\n",
       "      <td>10310.000</td>\n",
       "      <td>21.000</td>\n",
       "      <td>0.000</td>\n",
       "      <td>0.000</td>\n",
       "      <td>10.000</td>\n",
       "      <td>0.000</td>\n",
       "    </tr>\n",
       "    <tr>\n",
       "      <th>25%</th>\n",
       "      <td>61196.000</td>\n",
       "      <td>2460413.000</td>\n",
       "      <td>34.000</td>\n",
       "      <td>5.000</td>\n",
       "      <td>3.000</td>\n",
       "      <td>11.000</td>\n",
       "      <td>0.000</td>\n",
       "    </tr>\n",
       "    <tr>\n",
       "      <th>50%</th>\n",
       "      <td>128631.000</td>\n",
       "      <td>4991059.000</td>\n",
       "      <td>49.000</td>\n",
       "      <td>10.000</td>\n",
       "      <td>6.000</td>\n",
       "      <td>12.000</td>\n",
       "      <td>0.500</td>\n",
       "    </tr>\n",
       "    <tr>\n",
       "      <th>75%</th>\n",
       "      <td>199281.500</td>\n",
       "      <td>7514431.000</td>\n",
       "      <td>64.000</td>\n",
       "      <td>15.000</td>\n",
       "      <td>9.000</td>\n",
       "      <td>13.000</td>\n",
       "      <td>1.000</td>\n",
       "    </tr>\n",
       "    <tr>\n",
       "      <th>max</th>\n",
       "      <td>252000.000</td>\n",
       "      <td>9999180.000</td>\n",
       "      <td>79.000</td>\n",
       "      <td>20.000</td>\n",
       "      <td>14.000</td>\n",
       "      <td>14.000</td>\n",
       "      <td>1.000</td>\n",
       "    </tr>\n",
       "  </tbody>\n",
       "</table>\n",
       "</div>"
      ],
      "text/plain": [
       "              id      income       age  experience  current_job_yrs  current_house_yrs  risk_flag\n",
       "count  61992.000   61992.000 61992.000   61992.000        61992.000          61992.000  61992.000\n",
       "mean  128595.158 4984967.606    49.523       9.848            6.269             11.987      0.500\n",
       "std    76407.177 2898148.587    17.203       6.035            3.697              1.397      0.500\n",
       "min        4.000   10310.000    21.000       0.000            0.000             10.000      0.000\n",
       "25%    61196.000 2460413.000    34.000       5.000            3.000             11.000      0.000\n",
       "50%   128631.000 4991059.000    49.000      10.000            6.000             12.000      0.500\n",
       "75%   199281.500 7514431.000    64.000      15.000            9.000             13.000      1.000\n",
       "max   252000.000 9999180.000    79.000      20.000           14.000             14.000      1.000"
      ]
     },
     "execution_count": 29,
     "metadata": {},
     "output_type": "execute_result"
    }
   ],
   "source": [
    "loan.describe(include=[np.number])"
   ]
  },
  {
   "cell_type": "code",
   "execution_count": 30,
   "id": "91db4579-9a70-4521-945a-dddda6a75a3f",
   "metadata": {},
   "outputs": [
    {
     "data": {
      "text/html": [
       "<div>\n",
       "<style scoped>\n",
       "    .dataframe tbody tr th:only-of-type {\n",
       "        vertical-align: middle;\n",
       "    }\n",
       "\n",
       "    .dataframe tbody tr th {\n",
       "        vertical-align: top;\n",
       "    }\n",
       "\n",
       "    .dataframe thead th {\n",
       "        text-align: right;\n",
       "    }\n",
       "</style>\n",
       "<table border=\"1\" class=\"dataframe\">\n",
       "  <thead>\n",
       "    <tr style=\"text-align: right;\">\n",
       "      <th>profession</th>\n",
       "      <th>Drafter</th>\n",
       "      <th>Secretary</th>\n",
       "      <th>Computer_hardware_engineer</th>\n",
       "      <th>Surgeon</th>\n",
       "      <th>Surveyor</th>\n",
       "      <th>Designer</th>\n",
       "      <th>Chartered_Accountant</th>\n",
       "      <th>Analyst</th>\n",
       "      <th>Official</th>\n",
       "      <th>Fashion_Designer</th>\n",
       "      <th>Police_officer</th>\n",
       "      <th>Biomedical_Engineer</th>\n",
       "      <th>Physician</th>\n",
       "      <th>Industrial_Engineer</th>\n",
       "      <th>Psychologist</th>\n",
       "      <th>Comedian</th>\n",
       "      <th>Technology_specialist</th>\n",
       "      <th>Engineer</th>\n",
       "      <th>Hotel_Manager</th>\n",
       "      <th>Technician</th>\n",
       "      <th>Magistrate</th>\n",
       "      <th>Technical_writer</th>\n",
       "      <th>Web_designer</th>\n",
       "      <th>Civil_engineer</th>\n",
       "      <th>Statistician</th>\n",
       "      <th>Artist</th>\n",
       "      <th>Lawyer</th>\n",
       "      <th>Air_traffic_controller</th>\n",
       "      <th>Scientist</th>\n",
       "      <th>Architect</th>\n",
       "      <th>Firefighter</th>\n",
       "      <th>Financial_Analyst</th>\n",
       "      <th>Mechanical_engineer</th>\n",
       "      <th>Geologist</th>\n",
       "      <th>Consultant</th>\n",
       "      <th>Army_officer</th>\n",
       "      <th>Design_Engineer</th>\n",
       "      <th>Microbiologist</th>\n",
       "      <th>Software_Developer</th>\n",
       "      <th>Dentist</th>\n",
       "      <th>Aviator</th>\n",
       "      <th>Computer_operator</th>\n",
       "      <th>Politician</th>\n",
       "      <th>Flight_attendant</th>\n",
       "      <th>Civil_servant</th>\n",
       "      <th>Chef</th>\n",
       "      <th>Chemical_engineer</th>\n",
       "      <th>Economist</th>\n",
       "      <th>Librarian</th>\n",
       "      <th>Petroleum_Engineer</th>\n",
       "      <th>Graphic_Designer</th>\n",
       "    </tr>\n",
       "  </thead>\n",
       "  <tbody>\n",
       "    <tr>\n",
       "      <th>min</th>\n",
       "      <td>64805.000</td>\n",
       "      <td>72334.000</td>\n",
       "      <td>87298.000</td>\n",
       "      <td>18215.000</td>\n",
       "      <td>11114.000</td>\n",
       "      <td>14590.000</td>\n",
       "      <td>23621.000</td>\n",
       "      <td>91459.000</td>\n",
       "      <td>13629.000</td>\n",
       "      <td>12766.000</td>\n",
       "      <td>23988.000</td>\n",
       "      <td>51974.000</td>\n",
       "      <td>12608.000</td>\n",
       "      <td>19236.000</td>\n",
       "      <td>70387.000</td>\n",
       "      <td>13429.000</td>\n",
       "      <td>17496.000</td>\n",
       "      <td>10310.000</td>\n",
       "      <td>17801.000</td>\n",
       "      <td>16045.000</td>\n",
       "      <td>62012.000</td>\n",
       "      <td>44078.000</td>\n",
       "      <td>57735.000</td>\n",
       "      <td>48245.000</td>\n",
       "      <td>46244.000</td>\n",
       "      <td>31297.000</td>\n",
       "      <td>64122.000</td>\n",
       "      <td>33649.000</td>\n",
       "      <td>28561.000</td>\n",
       "      <td>25096.000</td>\n",
       "      <td>29380.000</td>\n",
       "      <td>80183.000</td>\n",
       "      <td>56449.000</td>\n",
       "      <td>62100.000</td>\n",
       "      <td>28519.000</td>\n",
       "      <td>12902.000</td>\n",
       "      <td>44761.000</td>\n",
       "      <td>42440.000</td>\n",
       "      <td>66912.000</td>\n",
       "      <td>26499.000</td>\n",
       "      <td>161305.000</td>\n",
       "      <td>41719.000</td>\n",
       "      <td>98356.000</td>\n",
       "      <td>11695.000</td>\n",
       "      <td>11430.000</td>\n",
       "      <td>15016.000</td>\n",
       "      <td>26926.000</td>\n",
       "      <td>16890.000</td>\n",
       "      <td>42920.000</td>\n",
       "      <td>80603.000</td>\n",
       "      <td>10675.000</td>\n",
       "    </tr>\n",
       "    <tr>\n",
       "      <th>max</th>\n",
       "      <td>9999180.000</td>\n",
       "      <td>9998070.000</td>\n",
       "      <td>9996192.000</td>\n",
       "      <td>9995445.000</td>\n",
       "      <td>9994518.000</td>\n",
       "      <td>9993836.000</td>\n",
       "      <td>9993403.000</td>\n",
       "      <td>9992133.000</td>\n",
       "      <td>9991569.000</td>\n",
       "      <td>9990182.000</td>\n",
       "      <td>9987955.000</td>\n",
       "      <td>9987812.000</td>\n",
       "      <td>9987805.000</td>\n",
       "      <td>9986330.000</td>\n",
       "      <td>9985964.000</td>\n",
       "      <td>9984878.000</td>\n",
       "      <td>9984686.000</td>\n",
       "      <td>9983889.000</td>\n",
       "      <td>9983764.000</td>\n",
       "      <td>9982680.000</td>\n",
       "      <td>9982430.000</td>\n",
       "      <td>9980565.000</td>\n",
       "      <td>9980350.000</td>\n",
       "      <td>9979065.000</td>\n",
       "      <td>9978516.000</td>\n",
       "      <td>9976619.000</td>\n",
       "      <td>9976302.000</td>\n",
       "      <td>9975789.000</td>\n",
       "      <td>9974670.000</td>\n",
       "      <td>9974540.000</td>\n",
       "      <td>9974101.000</td>\n",
       "      <td>9972303.000</td>\n",
       "      <td>9971347.000</td>\n",
       "      <td>9969924.000</td>\n",
       "      <td>9967854.000</td>\n",
       "      <td>9967074.000</td>\n",
       "      <td>9962923.000</td>\n",
       "      <td>9962662.000</td>\n",
       "      <td>9962479.000</td>\n",
       "      <td>9959440.000</td>\n",
       "      <td>9950897.000</td>\n",
       "      <td>9946468.000</td>\n",
       "      <td>9945612.000</td>\n",
       "      <td>9939884.000</td>\n",
       "      <td>9938741.000</td>\n",
       "      <td>9935369.000</td>\n",
       "      <td>9934120.000</td>\n",
       "      <td>9932245.000</td>\n",
       "      <td>9908353.000</td>\n",
       "      <td>9904501.000</td>\n",
       "      <td>9737452.000</td>\n",
       "    </tr>\n",
       "    <tr>\n",
       "      <th>mean</th>\n",
       "      <td>4228292.944</td>\n",
       "      <td>5495529.201</td>\n",
       "      <td>5305430.464</td>\n",
       "      <td>5202304.958</td>\n",
       "      <td>5339343.754</td>\n",
       "      <td>5295518.084</td>\n",
       "      <td>5168529.098</td>\n",
       "      <td>5029775.550</td>\n",
       "      <td>4685826.453</td>\n",
       "      <td>5016146.580</td>\n",
       "      <td>4407543.041</td>\n",
       "      <td>5083892.801</td>\n",
       "      <td>4689436.611</td>\n",
       "      <td>5000613.833</td>\n",
       "      <td>5379728.641</td>\n",
       "      <td>5032596.806</td>\n",
       "      <td>4947656.932</td>\n",
       "      <td>4710376.905</td>\n",
       "      <td>4733140.877</td>\n",
       "      <td>5141369.993</td>\n",
       "      <td>4723832.432</td>\n",
       "      <td>5150518.463</td>\n",
       "      <td>5095925.341</td>\n",
       "      <td>5027033.614</td>\n",
       "      <td>4879046.763</td>\n",
       "      <td>5002982.611</td>\n",
       "      <td>5095889.730</td>\n",
       "      <td>4779302.629</td>\n",
       "      <td>5707269.083</td>\n",
       "      <td>5141006.497</td>\n",
       "      <td>5080917.588</td>\n",
       "      <td>4942006.433</td>\n",
       "      <td>5042447.063</td>\n",
       "      <td>4706134.573</td>\n",
       "      <td>4642481.299</td>\n",
       "      <td>5580892.671</td>\n",
       "      <td>4716722.639</td>\n",
       "      <td>4952039.156</td>\n",
       "      <td>4632512.526</td>\n",
       "      <td>4866698.180</td>\n",
       "      <td>5048911.851</td>\n",
       "      <td>5034065.927</td>\n",
       "      <td>4757009.396</td>\n",
       "      <td>4577579.076</td>\n",
       "      <td>4753354.859</td>\n",
       "      <td>5047573.582</td>\n",
       "      <td>5745984.059</td>\n",
       "      <td>4900772.684</td>\n",
       "      <td>4841196.118</td>\n",
       "      <td>5263321.422</td>\n",
       "      <td>4634243.785</td>\n",
       "    </tr>\n",
       "  </tbody>\n",
       "</table>\n",
       "</div>"
      ],
      "text/plain": [
       "profession     Drafter   Secretary  Computer_hardware_engineer     Surgeon    Surveyor  \\\n",
       "min          64805.000   72334.000                   87298.000   18215.000   11114.000   \n",
       "max        9999180.000 9998070.000                 9996192.000 9995445.000 9994518.000   \n",
       "mean       4228292.944 5495529.201                 5305430.464 5202304.958 5339343.754   \n",
       "\n",
       "profession    Designer  Chartered_Accountant     Analyst    Official  Fashion_Designer  \\\n",
       "min          14590.000             23621.000   91459.000   13629.000         12766.000   \n",
       "max        9993836.000           9993403.000 9992133.000 9991569.000       9990182.000   \n",
       "mean       5295518.084           5168529.098 5029775.550 4685826.453       5016146.580   \n",
       "\n",
       "profession  Police_officer  Biomedical_Engineer   Physician  Industrial_Engineer  Psychologist  \\\n",
       "min              23988.000            51974.000   12608.000            19236.000     70387.000   \n",
       "max            9987955.000          9987812.000 9987805.000          9986330.000   9985964.000   \n",
       "mean           4407543.041          5083892.801 4689436.611          5000613.833   5379728.641   \n",
       "\n",
       "profession    Comedian  Technology_specialist    Engineer  Hotel_Manager  Technician  Magistrate  \\\n",
       "min          13429.000              17496.000   10310.000      17801.000   16045.000   62012.000   \n",
       "max        9984878.000            9984686.000 9983889.000    9983764.000 9982680.000 9982430.000   \n",
       "mean       5032596.806            4947656.932 4710376.905    4733140.877 5141369.993 4723832.432   \n",
       "\n",
       "profession  Technical_writer  Web_designer  Civil_engineer  Statistician      Artist      Lawyer  \\\n",
       "min                44078.000     57735.000       48245.000     46244.000   31297.000   64122.000   \n",
       "max              9980565.000   9980350.000     9979065.000   9978516.000 9976619.000 9976302.000   \n",
       "mean             5150518.463   5095925.341     5027033.614   4879046.763 5002982.611 5095889.730   \n",
       "\n",
       "profession  Air_traffic_controller   Scientist   Architect  Firefighter  Financial_Analyst  \\\n",
       "min                      33649.000   28561.000   25096.000    29380.000          80183.000   \n",
       "max                    9975789.000 9974670.000 9974540.000  9974101.000        9972303.000   \n",
       "mean                   4779302.629 5707269.083 5141006.497  5080917.588        4942006.433   \n",
       "\n",
       "profession  Mechanical_engineer   Geologist  Consultant  Army_officer  Design_Engineer  \\\n",
       "min                   56449.000   62100.000   28519.000     12902.000        44761.000   \n",
       "max                 9971347.000 9969924.000 9967854.000   9967074.000      9962923.000   \n",
       "mean                5042447.063 4706134.573 4642481.299   5580892.671      4716722.639   \n",
       "\n",
       "profession  Microbiologist  Software_Developer     Dentist     Aviator  Computer_operator  \\\n",
       "min              42440.000           66912.000   26499.000  161305.000          41719.000   \n",
       "max            9962662.000         9962479.000 9959440.000 9950897.000        9946468.000   \n",
       "mean           4952039.156         4632512.526 4866698.180 5048911.851        5034065.927   \n",
       "\n",
       "profession  Politician  Flight_attendant  Civil_servant        Chef  Chemical_engineer  \\\n",
       "min          98356.000         11695.000      11430.000   15016.000          26926.000   \n",
       "max        9945612.000       9939884.000    9938741.000 9935369.000        9934120.000   \n",
       "mean       4757009.396       4577579.076    4753354.859 5047573.582        5745984.059   \n",
       "\n",
       "profession   Economist   Librarian  Petroleum_Engineer  Graphic_Designer  \n",
       "min          16890.000   42920.000           80603.000         10675.000  \n",
       "max        9932245.000 9908353.000         9904501.000       9737452.000  \n",
       "mean       4900772.684 4841196.118         5263321.422       4634243.785  "
      ]
     },
     "execution_count": 30,
     "metadata": {},
     "output_type": "execute_result"
    }
   ],
   "source": [
    "# Grouping profession by its income in min, max, and mean\n",
    "loan.groupby(\"profession\")[\"income\"].agg([\"min\", \"max\", \"mean\"]).sort_values(by=\"max\", ascending=False).T"
   ]
  },
  {
   "cell_type": "code",
   "execution_count": 31,
   "id": "832f82d3-329e-4fcf-acee-facb622ff785",
   "metadata": {},
   "outputs": [
    {
     "data": {
      "text/html": [
       "<div>\n",
       "<style scoped>\n",
       "    .dataframe tbody tr th:only-of-type {\n",
       "        vertical-align: middle;\n",
       "    }\n",
       "\n",
       "    .dataframe tbody tr th {\n",
       "        vertical-align: top;\n",
       "    }\n",
       "\n",
       "    .dataframe thead th {\n",
       "        text-align: right;\n",
       "    }\n",
       "</style>\n",
       "<table border=\"1\" class=\"dataframe\">\n",
       "  <thead>\n",
       "    <tr style=\"text-align: right;\">\n",
       "      <th>city</th>\n",
       "      <th>Bhubaneswar</th>\n",
       "      <th>Bettiah</th>\n",
       "      <th>Sikar</th>\n",
       "      <th>Gwalior</th>\n",
       "      <th>Kochi</th>\n",
       "      <th>Barasat</th>\n",
       "      <th>Satna</th>\n",
       "      <th>Kavali</th>\n",
       "      <th>Ramagundam</th>\n",
       "      <th>Udaipur</th>\n",
       "      <th>Mysore</th>\n",
       "      <th>Ghaziabad</th>\n",
       "      <th>Buxar</th>\n",
       "      <th>Purnia</th>\n",
       "      <th>Ahmedabad</th>\n",
       "      <th>Raiganj</th>\n",
       "      <th>Imphal</th>\n",
       "      <th>Shahjahanpur</th>\n",
       "      <th>Kottayam</th>\n",
       "      <th>Tinsukia</th>\n",
       "      <th>Bardhaman</th>\n",
       "      <th>Thiruvananthapuram</th>\n",
       "      <th>Moradabad</th>\n",
       "      <th>Agartala</th>\n",
       "      <th>Gandhidham</th>\n",
       "      <th>Sambhal</th>\n",
       "      <th>Hazaribagh</th>\n",
       "      <th>Srinagar</th>\n",
       "      <th>North</th>\n",
       "      <th>Munger</th>\n",
       "      <th>...</th>\n",
       "      <th>Orai</th>\n",
       "      <th>Tirunelveli</th>\n",
       "      <th>Malegaon</th>\n",
       "      <th>New</th>\n",
       "      <th>Kumbakonam</th>\n",
       "      <th>Farrukhabad</th>\n",
       "      <th>Eluru</th>\n",
       "      <th>Tiruvottiyur</th>\n",
       "      <th>Noida</th>\n",
       "      <th>South</th>\n",
       "      <th>Bhagalpur</th>\n",
       "      <th>Amaravati</th>\n",
       "      <th>Raichur</th>\n",
       "      <th>Warangal</th>\n",
       "      <th>Katni</th>\n",
       "      <th>Hosur</th>\n",
       "      <th>Panihati</th>\n",
       "      <th>Gangtok</th>\n",
       "      <th>Mira</th>\n",
       "      <th>Rajpur</th>\n",
       "      <th>Berhampur</th>\n",
       "      <th>Mehsana</th>\n",
       "      <th>Bareilly</th>\n",
       "      <th>Belgaum</th>\n",
       "      <th>Bijapur</th>\n",
       "      <th>Latur</th>\n",
       "      <th>Bangalore</th>\n",
       "      <th>Sultan</th>\n",
       "      <th>Gandhinagar</th>\n",
       "      <th>Dehradun</th>\n",
       "    </tr>\n",
       "  </thead>\n",
       "  <tbody>\n",
       "    <tr>\n",
       "      <th>risk_flag</th>\n",
       "      <td>80.162</td>\n",
       "      <td>73.054</td>\n",
       "      <td>72.348</td>\n",
       "      <td>70.886</td>\n",
       "      <td>70.845</td>\n",
       "      <td>70.548</td>\n",
       "      <td>70.091</td>\n",
       "      <td>69.549</td>\n",
       "      <td>69.231</td>\n",
       "      <td>68.824</td>\n",
       "      <td>68.487</td>\n",
       "      <td>68.293</td>\n",
       "      <td>68.263</td>\n",
       "      <td>68.208</td>\n",
       "      <td>68.205</td>\n",
       "      <td>67.451</td>\n",
       "      <td>67.279</td>\n",
       "      <td>66.860</td>\n",
       "      <td>66.545</td>\n",
       "      <td>65.984</td>\n",
       "      <td>65.939</td>\n",
       "      <td>65.827</td>\n",
       "      <td>65.761</td>\n",
       "      <td>65.700</td>\n",
       "      <td>64.427</td>\n",
       "      <td>64.286</td>\n",
       "      <td>64.207</td>\n",
       "      <td>64.095</td>\n",
       "      <td>63.801</td>\n",
       "      <td>63.768</td>\n",
       "      <td>...</td>\n",
       "      <td>31.548</td>\n",
       "      <td>31.515</td>\n",
       "      <td>31.250</td>\n",
       "      <td>31.224</td>\n",
       "      <td>31.169</td>\n",
       "      <td>30.693</td>\n",
       "      <td>30.303</td>\n",
       "      <td>29.747</td>\n",
       "      <td>29.323</td>\n",
       "      <td>28.804</td>\n",
       "      <td>28.662</td>\n",
       "      <td>28.125</td>\n",
       "      <td>28.000</td>\n",
       "      <td>27.473</td>\n",
       "      <td>27.273</td>\n",
       "      <td>26.230</td>\n",
       "      <td>25.625</td>\n",
       "      <td>25.225</td>\n",
       "      <td>24.545</td>\n",
       "      <td>24.194</td>\n",
       "      <td>24.074</td>\n",
       "      <td>23.129</td>\n",
       "      <td>22.917</td>\n",
       "      <td>22.603</td>\n",
       "      <td>21.277</td>\n",
       "      <td>20.536</td>\n",
       "      <td>19.565</td>\n",
       "      <td>18.367</td>\n",
       "      <td>17.172</td>\n",
       "      <td>15.541</td>\n",
       "    </tr>\n",
       "  </tbody>\n",
       "</table>\n",
       "<p>1 rows × 316 columns</p>\n",
       "</div>"
      ],
      "text/plain": [
       "city       Bhubaneswar  Bettiah  Sikar  Gwalior  Kochi  Barasat  Satna  Kavali  Ramagundam  \\\n",
       "risk_flag       80.162   73.054 72.348   70.886 70.845   70.548 70.091  69.549      69.231   \n",
       "\n",
       "city       Udaipur  Mysore  Ghaziabad  Buxar  Purnia  Ahmedabad  Raiganj  Imphal  Shahjahanpur  \\\n",
       "risk_flag   68.824  68.487     68.293 68.263  68.208     68.205   67.451  67.279        66.860   \n",
       "\n",
       "city       Kottayam  Tinsukia  Bardhaman  Thiruvananthapuram  Moradabad  Agartala  Gandhidham  \\\n",
       "risk_flag    66.545    65.984     65.939              65.827     65.761    65.700      64.427   \n",
       "\n",
       "city       Sambhal  Hazaribagh  Srinagar  North  Munger  ...   Orai  Tirunelveli  Malegaon    New  \\\n",
       "risk_flag   64.286      64.207    64.095 63.801  63.768  ... 31.548       31.515    31.250 31.224   \n",
       "\n",
       "city       Kumbakonam  Farrukhabad  Eluru  Tiruvottiyur  Noida  South  Bhagalpur  Amaravati  \\\n",
       "risk_flag      31.169       30.693 30.303        29.747 29.323 28.804     28.662     28.125   \n",
       "\n",
       "city       Raichur  Warangal  Katni  Hosur  Panihati  Gangtok   Mira  Rajpur  Berhampur  Mehsana  \\\n",
       "risk_flag   28.000    27.473 27.273 26.230    25.625   25.225 24.545  24.194     24.074   23.129   \n",
       "\n",
       "city       Bareilly  Belgaum  Bijapur  Latur  Bangalore  Sultan  Gandhinagar  Dehradun  \n",
       "risk_flag    22.917   22.603   21.277 20.536     19.565  18.367       17.172    15.541  \n",
       "\n",
       "[1 rows x 316 columns]"
      ]
     },
     "execution_count": 31,
     "metadata": {},
     "output_type": "execute_result"
    }
   ],
   "source": [
    "# The average risk percentage of each city\n",
    "loan.groupby([\"city\"]).risk_flag.apply(lambda x: (x.sum() / x.size) * 100).sort_values(ascending=False).to_frame().T"
   ]
  },
  {
   "cell_type": "code",
   "execution_count": 32,
   "id": "b27a3a57-19f8-4530-9c62-3493b99de4bd",
   "metadata": {},
   "outputs": [
    {
     "data": {
      "text/html": [
       "<div>\n",
       "<style scoped>\n",
       "    .dataframe tbody tr th:only-of-type {\n",
       "        vertical-align: middle;\n",
       "    }\n",
       "\n",
       "    .dataframe tbody tr th {\n",
       "        vertical-align: top;\n",
       "    }\n",
       "\n",
       "    .dataframe thead th {\n",
       "        text-align: right;\n",
       "    }\n",
       "</style>\n",
       "<table border=\"1\" class=\"dataframe\">\n",
       "  <thead>\n",
       "    <tr style=\"text-align: right;\">\n",
       "      <th>state</th>\n",
       "      <th>Manipur</th>\n",
       "      <th>Tripura</th>\n",
       "      <th>Kerala</th>\n",
       "      <th>Jammu</th>\n",
       "      <th>Madhya</th>\n",
       "      <th>Odisha</th>\n",
       "      <th>Himachal</th>\n",
       "      <th>Rajasthan</th>\n",
       "      <th>Chhattisgarh</th>\n",
       "      <th>Assam</th>\n",
       "      <th>Jharkhand</th>\n",
       "      <th>Telangana</th>\n",
       "      <th>Bihar</th>\n",
       "      <th>West</th>\n",
       "      <th>Haryana</th>\n",
       "      <th>Uttar</th>\n",
       "      <th>Andhra</th>\n",
       "      <th>Gujarat</th>\n",
       "      <th>Puducherry</th>\n",
       "      <th>Maharashtra</th>\n",
       "      <th>Tamil</th>\n",
       "      <th>Karnataka</th>\n",
       "      <th>Mizoram</th>\n",
       "      <th>Delhi</th>\n",
       "      <th>Chandigarh</th>\n",
       "      <th>Punjab</th>\n",
       "      <th>Uttarakhand</th>\n",
       "      <th>Sikkim</th>\n",
       "    </tr>\n",
       "  </thead>\n",
       "  <tbody>\n",
       "    <tr>\n",
       "      <th>risk_flag</th>\n",
       "      <td>67.279</td>\n",
       "      <td>65.700</td>\n",
       "      <td>60.062</td>\n",
       "      <td>59.454</td>\n",
       "      <td>57.008</td>\n",
       "      <td>56.128</td>\n",
       "      <td>55.500</td>\n",
       "      <td>54.195</td>\n",
       "      <td>53.063</td>\n",
       "      <td>52.841</td>\n",
       "      <td>52.458</td>\n",
       "      <td>51.553</td>\n",
       "      <td>51.301</td>\n",
       "      <td>50.436</td>\n",
       "      <td>50.179</td>\n",
       "      <td>48.968</td>\n",
       "      <td>48.528</td>\n",
       "      <td>48.067</td>\n",
       "      <td>47.989</td>\n",
       "      <td>47.764</td>\n",
       "      <td>44.648</td>\n",
       "      <td>44.349</td>\n",
       "      <td>44.131</td>\n",
       "      <td>43.485</td>\n",
       "      <td>42.657</td>\n",
       "      <td>41.463</td>\n",
       "      <td>34.367</td>\n",
       "      <td>25.225</td>\n",
       "    </tr>\n",
       "  </tbody>\n",
       "</table>\n",
       "</div>"
      ],
      "text/plain": [
       "state      Manipur  Tripura  Kerala  Jammu  Madhya  Odisha  Himachal  Rajasthan  Chhattisgarh  \\\n",
       "risk_flag   67.279   65.700  60.062 59.454  57.008  56.128    55.500     54.195        53.063   \n",
       "\n",
       "state      Assam  Jharkhand  Telangana  Bihar   West  Haryana  Uttar  Andhra  Gujarat  Puducherry  \\\n",
       "risk_flag 52.841     52.458     51.553 51.301 50.436   50.179 48.968  48.528   48.067      47.989   \n",
       "\n",
       "state      Maharashtra  Tamil  Karnataka  Mizoram  Delhi  Chandigarh  Punjab  Uttarakhand  Sikkim  \n",
       "risk_flag       47.764 44.648     44.349   44.131 43.485      42.657  41.463       34.367  25.225  "
      ]
     },
     "execution_count": 32,
     "metadata": {},
     "output_type": "execute_result"
    }
   ],
   "source": [
    "# The average risk percentage of each state\n",
    "loan.groupby(\"state\").risk_flag.apply(lambda x: (x.sum() / x.size) * 100).sort_values(ascending=False).to_frame().T"
   ]
  },
  {
   "cell_type": "code",
   "execution_count": 33,
   "id": "35a37c80-ebfb-4d85-b923-b736a801c649",
   "metadata": {},
   "outputs": [
    {
     "data": {
      "text/html": [
       "<div>\n",
       "<style scoped>\n",
       "    .dataframe tbody tr th:only-of-type {\n",
       "        vertical-align: middle;\n",
       "    }\n",
       "\n",
       "    .dataframe tbody tr th {\n",
       "        vertical-align: top;\n",
       "    }\n",
       "\n",
       "    .dataframe thead th {\n",
       "        text-align: right;\n",
       "    }\n",
       "</style>\n",
       "<table border=\"1\" class=\"dataframe\">\n",
       "  <thead>\n",
       "    <tr style=\"text-align: right;\">\n",
       "      <th>profession</th>\n",
       "      <th>Police_officer</th>\n",
       "      <th>Surveyor</th>\n",
       "      <th>Army_officer</th>\n",
       "      <th>Chartered_Accountant</th>\n",
       "      <th>Software_Developer</th>\n",
       "      <th>Geologist</th>\n",
       "      <th>Scientist</th>\n",
       "      <th>Firefighter</th>\n",
       "      <th>Civil_engineer</th>\n",
       "      <th>Hotel_Manager</th>\n",
       "      <th>Computer_hardware_engineer</th>\n",
       "      <th>Air_traffic_controller</th>\n",
       "      <th>Technician</th>\n",
       "      <th>Secretary</th>\n",
       "      <th>Official</th>\n",
       "      <th>Technical_writer</th>\n",
       "      <th>Architect</th>\n",
       "      <th>Chef</th>\n",
       "      <th>Physician</th>\n",
       "      <th>Biomedical_Engineer</th>\n",
       "      <th>Aviator</th>\n",
       "      <th>Lawyer</th>\n",
       "      <th>Magistrate</th>\n",
       "      <th>Flight_attendant</th>\n",
       "      <th>Microbiologist</th>\n",
       "      <th>Psychologist</th>\n",
       "      <th>Computer_operator</th>\n",
       "      <th>Consultant</th>\n",
       "      <th>Artist</th>\n",
       "      <th>Chemical_engineer</th>\n",
       "      <th>Analyst</th>\n",
       "      <th>Surgeon</th>\n",
       "      <th>Librarian</th>\n",
       "      <th>Statistician</th>\n",
       "      <th>Comedian</th>\n",
       "      <th>Fashion_Designer</th>\n",
       "      <th>Design_Engineer</th>\n",
       "      <th>Engineer</th>\n",
       "      <th>Graphic_Designer</th>\n",
       "      <th>Civil_servant</th>\n",
       "      <th>Drafter</th>\n",
       "      <th>Dentist</th>\n",
       "      <th>Politician</th>\n",
       "      <th>Mechanical_engineer</th>\n",
       "      <th>Designer</th>\n",
       "      <th>Web_designer</th>\n",
       "      <th>Financial_Analyst</th>\n",
       "      <th>Economist</th>\n",
       "      <th>Industrial_Engineer</th>\n",
       "      <th>Petroleum_Engineer</th>\n",
       "      <th>Technology_specialist</th>\n",
       "    </tr>\n",
       "  </thead>\n",
       "  <tbody>\n",
       "    <tr>\n",
       "      <th>risk_flag</th>\n",
       "      <td>58.706</td>\n",
       "      <td>56.712</td>\n",
       "      <td>56.136</td>\n",
       "      <td>56.098</td>\n",
       "      <td>55.804</td>\n",
       "      <td>54.663</td>\n",
       "      <td>53.655</td>\n",
       "      <td>53.171</td>\n",
       "      <td>52.601</td>\n",
       "      <td>52.080</td>\n",
       "      <td>52.036</td>\n",
       "      <td>51.849</td>\n",
       "      <td>51.741</td>\n",
       "      <td>51.402</td>\n",
       "      <td>51.199</td>\n",
       "      <td>51.175</td>\n",
       "      <td>51.173</td>\n",
       "      <td>51.043</td>\n",
       "      <td>51.006</td>\n",
       "      <td>50.855</td>\n",
       "      <td>50.791</td>\n",
       "      <td>50.732</td>\n",
       "      <td>50.710</td>\n",
       "      <td>50.397</td>\n",
       "      <td>50.332</td>\n",
       "      <td>50.229</td>\n",
       "      <td>50.040</td>\n",
       "      <td>49.629</td>\n",
       "      <td>49.175</td>\n",
       "      <td>48.947</td>\n",
       "      <td>48.921</td>\n",
       "      <td>48.761</td>\n",
       "      <td>48.601</td>\n",
       "      <td>48.553</td>\n",
       "      <td>48.347</td>\n",
       "      <td>48.151</td>\n",
       "      <td>47.917</td>\n",
       "      <td>47.896</td>\n",
       "      <td>47.680</td>\n",
       "      <td>47.535</td>\n",
       "      <td>47.414</td>\n",
       "      <td>47.292</td>\n",
       "      <td>46.678</td>\n",
       "      <td>46.449</td>\n",
       "      <td>46.396</td>\n",
       "      <td>45.980</td>\n",
       "      <td>45.517</td>\n",
       "      <td>45.309</td>\n",
       "      <td>43.566</td>\n",
       "      <td>40.818</td>\n",
       "      <td>39.148</td>\n",
       "    </tr>\n",
       "  </tbody>\n",
       "</table>\n",
       "</div>"
      ],
      "text/plain": [
       "profession  Police_officer  Surveyor  Army_officer  Chartered_Accountant  Software_Developer  \\\n",
       "risk_flag           58.706    56.712        56.136                56.098              55.804   \n",
       "\n",
       "profession  Geologist  Scientist  Firefighter  Civil_engineer  Hotel_Manager  \\\n",
       "risk_flag      54.663     53.655       53.171          52.601         52.080   \n",
       "\n",
       "profession  Computer_hardware_engineer  Air_traffic_controller  Technician  Secretary  Official  \\\n",
       "risk_flag                       52.036                  51.849      51.741     51.402    51.199   \n",
       "\n",
       "profession  Technical_writer  Architect   Chef  Physician  Biomedical_Engineer  Aviator  Lawyer  \\\n",
       "risk_flag             51.175     51.173 51.043     51.006               50.855   50.791  50.732   \n",
       "\n",
       "profession  Magistrate  Flight_attendant  Microbiologist  Psychologist  Computer_operator  \\\n",
       "risk_flag       50.710            50.397          50.332        50.229             50.040   \n",
       "\n",
       "profession  Consultant  Artist  Chemical_engineer  Analyst  Surgeon  Librarian  Statistician  \\\n",
       "risk_flag       49.629  49.175             48.947   48.921   48.761     48.601        48.553   \n",
       "\n",
       "profession  Comedian  Fashion_Designer  Design_Engineer  Engineer  Graphic_Designer  \\\n",
       "risk_flag     48.347            48.151           47.917    47.896            47.680   \n",
       "\n",
       "profession  Civil_servant  Drafter  Dentist  Politician  Mechanical_engineer  Designer  \\\n",
       "risk_flag          47.535   47.414   47.292      46.678               46.449    46.396   \n",
       "\n",
       "profession  Web_designer  Financial_Analyst  Economist  Industrial_Engineer  Petroleum_Engineer  \\\n",
       "risk_flag         45.980             45.517     45.309               43.566              40.818   \n",
       "\n",
       "profession  Technology_specialist  \n",
       "risk_flag                  39.148  "
      ]
     },
     "execution_count": 33,
     "metadata": {},
     "output_type": "execute_result"
    }
   ],
   "source": [
    "# The average risk percentage of each profession\n",
    "loan.groupby(\"profession\").risk_flag.apply(lambda x: (x.sum() / x.size) * 100).sort_values(ascending=False).to_frame().T"
   ]
  },
  {
   "cell_type": "code",
   "execution_count": 34,
   "id": "a56a498c-13d0-4cc3-8d0b-58e9eeca2f9f",
   "metadata": {},
   "outputs": [
    {
     "data": {
      "text/html": [
       "<div>\n",
       "<style scoped>\n",
       "    .dataframe tbody tr th:only-of-type {\n",
       "        vertical-align: middle;\n",
       "    }\n",
       "\n",
       "    .dataframe tbody tr th {\n",
       "        vertical-align: top;\n",
       "    }\n",
       "\n",
       "    .dataframe thead th {\n",
       "        text-align: right;\n",
       "    }\n",
       "</style>\n",
       "<table border=\"1\" class=\"dataframe\">\n",
       "  <thead>\n",
       "    <tr style=\"text-align: right;\">\n",
       "      <th>married_single</th>\n",
       "      <th>single</th>\n",
       "      <th>married</th>\n",
       "    </tr>\n",
       "  </thead>\n",
       "  <tbody>\n",
       "    <tr>\n",
       "      <th>risk_flag</th>\n",
       "      <td>50.601</td>\n",
       "      <td>44.332</td>\n",
       "    </tr>\n",
       "  </tbody>\n",
       "</table>\n",
       "</div>"
      ],
      "text/plain": [
       "married_single  single  married\n",
       "risk_flag       50.601   44.332"
      ]
     },
     "execution_count": 34,
     "metadata": {},
     "output_type": "execute_result"
    }
   ],
   "source": [
    "# The average risk percentage whether the customer married or single\n",
    "loan.groupby(\"married_single\").risk_flag.apply(lambda x: (x.sum() / x.size) * 100).sort_values(ascending=False).to_frame().T"
   ]
  },
  {
   "cell_type": "code",
   "execution_count": 35,
   "id": "ee8ea69a-3b2d-4277-bece-8554c1a2c204",
   "metadata": {},
   "outputs": [
    {
     "data": {
      "text/html": [
       "<div>\n",
       "<style scoped>\n",
       "    .dataframe tbody tr th:only-of-type {\n",
       "        vertical-align: middle;\n",
       "    }\n",
       "\n",
       "    .dataframe tbody tr th {\n",
       "        vertical-align: top;\n",
       "    }\n",
       "\n",
       "    .dataframe thead th {\n",
       "        text-align: right;\n",
       "    }\n",
       "</style>\n",
       "<table border=\"1\" class=\"dataframe\">\n",
       "  <thead>\n",
       "    <tr style=\"text-align: right;\">\n",
       "      <th>car_ownership</th>\n",
       "      <th>no</th>\n",
       "      <th>yes</th>\n",
       "    </tr>\n",
       "  </thead>\n",
       "  <tbody>\n",
       "    <tr>\n",
       "      <th>risk_flag</th>\n",
       "      <td>51.252</td>\n",
       "      <td>46.934</td>\n",
       "    </tr>\n",
       "  </tbody>\n",
       "</table>\n",
       "</div>"
      ],
      "text/plain": [
       "car_ownership     no    yes\n",
       "risk_flag     51.252 46.934"
      ]
     },
     "execution_count": 35,
     "metadata": {},
     "output_type": "execute_result"
    }
   ],
   "source": [
    "# The average risk percentage whether the customer owned car or not\n",
    "loan.groupby(\"car_ownership\").risk_flag.apply(lambda x: (x.sum() / x.size) * 100).sort_values(ascending=False).to_frame().T"
   ]
  },
  {
   "cell_type": "markdown",
   "id": "bb8aee0b-ce2f-44a0-ac1c-5ea5d88ff955",
   "metadata": {},
   "source": [
    "### 5.1.1 | Conclusion"
   ]
  },
  {
   "cell_type": "markdown",
   "id": "a6bff9e8-1761-4911-aca3-1a6058b471dc",
   "metadata": {},
   "source": [
    "##### Top 5 professions by its mean income"
   ]
  },
  {
   "cell_type": "code",
   "execution_count": 36,
   "id": "51951c24-95f5-418f-80c8-e33d3a0162f2",
   "metadata": {},
   "outputs": [
    {
     "data": {
      "text/html": [
       "<div>\n",
       "<style scoped>\n",
       "    .dataframe tbody tr th:only-of-type {\n",
       "        vertical-align: middle;\n",
       "    }\n",
       "\n",
       "    .dataframe tbody tr th {\n",
       "        vertical-align: top;\n",
       "    }\n",
       "\n",
       "    .dataframe thead th {\n",
       "        text-align: right;\n",
       "    }\n",
       "</style>\n",
       "<table border=\"1\" class=\"dataframe\">\n",
       "  <thead>\n",
       "    <tr style=\"text-align: right;\">\n",
       "      <th></th>\n",
       "      <th>min</th>\n",
       "      <th>max</th>\n",
       "      <th>mean</th>\n",
       "    </tr>\n",
       "    <tr>\n",
       "      <th>profession</th>\n",
       "      <th></th>\n",
       "      <th></th>\n",
       "      <th></th>\n",
       "    </tr>\n",
       "  </thead>\n",
       "  <tbody>\n",
       "    <tr>\n",
       "      <th>Chemical_engineer</th>\n",
       "      <td>26926</td>\n",
       "      <td>9934120</td>\n",
       "      <td>5745984.059</td>\n",
       "    </tr>\n",
       "    <tr>\n",
       "      <th>Scientist</th>\n",
       "      <td>28561</td>\n",
       "      <td>9974670</td>\n",
       "      <td>5707269.083</td>\n",
       "    </tr>\n",
       "    <tr>\n",
       "      <th>Army_officer</th>\n",
       "      <td>12902</td>\n",
       "      <td>9967074</td>\n",
       "      <td>5580892.671</td>\n",
       "    </tr>\n",
       "    <tr>\n",
       "      <th>Secretary</th>\n",
       "      <td>72334</td>\n",
       "      <td>9998070</td>\n",
       "      <td>5495529.201</td>\n",
       "    </tr>\n",
       "    <tr>\n",
       "      <th>Psychologist</th>\n",
       "      <td>70387</td>\n",
       "      <td>9985964</td>\n",
       "      <td>5379728.641</td>\n",
       "    </tr>\n",
       "  </tbody>\n",
       "</table>\n",
       "</div>"
      ],
      "text/plain": [
       "                     min      max        mean\n",
       "profession                                   \n",
       "Chemical_engineer  26926  9934120 5745984.059\n",
       "Scientist          28561  9974670 5707269.083\n",
       "Army_officer       12902  9967074 5580892.671\n",
       "Secretary          72334  9998070 5495529.201\n",
       "Psychologist       70387  9985964 5379728.641"
      ]
     },
     "execution_count": 36,
     "metadata": {},
     "output_type": "execute_result"
    }
   ],
   "source": [
    "loan.groupby(\"profession\")[\"income\"].agg([\"min\", \"max\", \"mean\"]).sort_values(by=\"mean\", ascending=False).head()"
   ]
  },
  {
   "cell_type": "markdown",
   "id": "ce9c6935-7c50-4420-bbc7-4ad098cbc47b",
   "metadata": {},
   "source": [
    "##### Top 5 risk flag average Percentage of City:"
   ]
  },
  {
   "cell_type": "code",
   "execution_count": 37,
   "id": "01340c75-0350-4cf3-aeb7-748563a8f1be",
   "metadata": {},
   "outputs": [
    {
     "data": {
      "text/html": [
       "<div>\n",
       "<style scoped>\n",
       "    .dataframe tbody tr th:only-of-type {\n",
       "        vertical-align: middle;\n",
       "    }\n",
       "\n",
       "    .dataframe tbody tr th {\n",
       "        vertical-align: top;\n",
       "    }\n",
       "\n",
       "    .dataframe thead th {\n",
       "        text-align: right;\n",
       "    }\n",
       "</style>\n",
       "<table border=\"1\" class=\"dataframe\">\n",
       "  <thead>\n",
       "    <tr style=\"text-align: right;\">\n",
       "      <th></th>\n",
       "      <th>risk_flag</th>\n",
       "    </tr>\n",
       "    <tr>\n",
       "      <th>city</th>\n",
       "      <th></th>\n",
       "    </tr>\n",
       "  </thead>\n",
       "  <tbody>\n",
       "    <tr>\n",
       "      <th>Bhubaneswar</th>\n",
       "      <td>80.162</td>\n",
       "    </tr>\n",
       "    <tr>\n",
       "      <th>Bettiah</th>\n",
       "      <td>73.054</td>\n",
       "    </tr>\n",
       "    <tr>\n",
       "      <th>Sikar</th>\n",
       "      <td>72.348</td>\n",
       "    </tr>\n",
       "    <tr>\n",
       "      <th>Gwalior</th>\n",
       "      <td>70.886</td>\n",
       "    </tr>\n",
       "    <tr>\n",
       "      <th>Kochi</th>\n",
       "      <td>70.845</td>\n",
       "    </tr>\n",
       "  </tbody>\n",
       "</table>\n",
       "</div>"
      ],
      "text/plain": [
       "             risk_flag\n",
       "city                  \n",
       "Bhubaneswar     80.162\n",
       "Bettiah         73.054\n",
       "Sikar           72.348\n",
       "Gwalior         70.886\n",
       "Kochi           70.845"
      ]
     },
     "execution_count": 37,
     "metadata": {},
     "output_type": "execute_result"
    }
   ],
   "source": [
    "loan.groupby([\"city\"]).risk_flag.apply(lambda x: (x.sum() / x.size) * 100).sort_values(ascending=False).to_frame().head()"
   ]
  },
  {
   "cell_type": "markdown",
   "id": "3941da5b-f9bf-4a78-ac97-6aba3f5dda89",
   "metadata": {},
   "source": [
    "##### Top 5 risk flag average Percentage of State:"
   ]
  },
  {
   "cell_type": "code",
   "execution_count": 38,
   "id": "8d0c5818-4b3e-4a0b-887b-09037b2fb1af",
   "metadata": {},
   "outputs": [
    {
     "data": {
      "text/html": [
       "<div>\n",
       "<style scoped>\n",
       "    .dataframe tbody tr th:only-of-type {\n",
       "        vertical-align: middle;\n",
       "    }\n",
       "\n",
       "    .dataframe tbody tr th {\n",
       "        vertical-align: top;\n",
       "    }\n",
       "\n",
       "    .dataframe thead th {\n",
       "        text-align: right;\n",
       "    }\n",
       "</style>\n",
       "<table border=\"1\" class=\"dataframe\">\n",
       "  <thead>\n",
       "    <tr style=\"text-align: right;\">\n",
       "      <th></th>\n",
       "      <th>risk_flag</th>\n",
       "    </tr>\n",
       "    <tr>\n",
       "      <th>state</th>\n",
       "      <th></th>\n",
       "    </tr>\n",
       "  </thead>\n",
       "  <tbody>\n",
       "    <tr>\n",
       "      <th>Manipur</th>\n",
       "      <td>67.279</td>\n",
       "    </tr>\n",
       "    <tr>\n",
       "      <th>Tripura</th>\n",
       "      <td>65.700</td>\n",
       "    </tr>\n",
       "    <tr>\n",
       "      <th>Kerala</th>\n",
       "      <td>60.062</td>\n",
       "    </tr>\n",
       "    <tr>\n",
       "      <th>Jammu</th>\n",
       "      <td>59.454</td>\n",
       "    </tr>\n",
       "    <tr>\n",
       "      <th>Madhya</th>\n",
       "      <td>57.008</td>\n",
       "    </tr>\n",
       "  </tbody>\n",
       "</table>\n",
       "</div>"
      ],
      "text/plain": [
       "         risk_flag\n",
       "state             \n",
       "Manipur     67.279\n",
       "Tripura     65.700\n",
       "Kerala      60.062\n",
       "Jammu       59.454\n",
       "Madhya      57.008"
      ]
     },
     "execution_count": 38,
     "metadata": {},
     "output_type": "execute_result"
    }
   ],
   "source": [
    "loan.groupby(\"state\").risk_flag.apply(lambda x: (x.sum() / x.size) * 100).sort_values(ascending=False).to_frame().head()"
   ]
  },
  {
   "cell_type": "markdown",
   "id": "aeb61dda-5027-4e62-8179-b5d68fd5e3e5",
   "metadata": {},
   "source": [
    "##### Top 5 risk flag average Percentage of Profession:"
   ]
  },
  {
   "cell_type": "code",
   "execution_count": 39,
   "id": "9532972c-2eac-4efa-a50b-17d099703efe",
   "metadata": {},
   "outputs": [
    {
     "data": {
      "text/html": [
       "<div>\n",
       "<style scoped>\n",
       "    .dataframe tbody tr th:only-of-type {\n",
       "        vertical-align: middle;\n",
       "    }\n",
       "\n",
       "    .dataframe tbody tr th {\n",
       "        vertical-align: top;\n",
       "    }\n",
       "\n",
       "    .dataframe thead th {\n",
       "        text-align: right;\n",
       "    }\n",
       "</style>\n",
       "<table border=\"1\" class=\"dataframe\">\n",
       "  <thead>\n",
       "    <tr style=\"text-align: right;\">\n",
       "      <th></th>\n",
       "      <th>risk_flag</th>\n",
       "    </tr>\n",
       "    <tr>\n",
       "      <th>profession</th>\n",
       "      <th></th>\n",
       "    </tr>\n",
       "  </thead>\n",
       "  <tbody>\n",
       "    <tr>\n",
       "      <th>Police_officer</th>\n",
       "      <td>58.706</td>\n",
       "    </tr>\n",
       "    <tr>\n",
       "      <th>Surveyor</th>\n",
       "      <td>56.712</td>\n",
       "    </tr>\n",
       "    <tr>\n",
       "      <th>Army_officer</th>\n",
       "      <td>56.136</td>\n",
       "    </tr>\n",
       "    <tr>\n",
       "      <th>Chartered_Accountant</th>\n",
       "      <td>56.098</td>\n",
       "    </tr>\n",
       "    <tr>\n",
       "      <th>Software_Developer</th>\n",
       "      <td>55.804</td>\n",
       "    </tr>\n",
       "  </tbody>\n",
       "</table>\n",
       "</div>"
      ],
      "text/plain": [
       "                      risk_flag\n",
       "profession                     \n",
       "Police_officer           58.706\n",
       "Surveyor                 56.712\n",
       "Army_officer             56.136\n",
       "Chartered_Accountant     56.098\n",
       "Software_Developer       55.804"
      ]
     },
     "execution_count": 39,
     "metadata": {},
     "output_type": "execute_result"
    }
   ],
   "source": [
    "loan.groupby(\"profession\").risk_flag.apply(lambda x: (x.sum() / x.size) * 100).sort_values(ascending=False).to_frame().head()"
   ]
  },
  {
   "cell_type": "markdown",
   "id": "1292947e-8851-413f-a455-65e63fc1d8c5",
   "metadata": {},
   "source": [
    "##### The average risk percentage whether the customer Married or Single:"
   ]
  },
  {
   "cell_type": "code",
   "execution_count": 40,
   "id": "94213c55-c265-4f5f-b29a-ea5d33116489",
   "metadata": {},
   "outputs": [
    {
     "data": {
      "text/html": [
       "<div>\n",
       "<style scoped>\n",
       "    .dataframe tbody tr th:only-of-type {\n",
       "        vertical-align: middle;\n",
       "    }\n",
       "\n",
       "    .dataframe tbody tr th {\n",
       "        vertical-align: top;\n",
       "    }\n",
       "\n",
       "    .dataframe thead th {\n",
       "        text-align: right;\n",
       "    }\n",
       "</style>\n",
       "<table border=\"1\" class=\"dataframe\">\n",
       "  <thead>\n",
       "    <tr style=\"text-align: right;\">\n",
       "      <th></th>\n",
       "      <th>risk_flag</th>\n",
       "    </tr>\n",
       "    <tr>\n",
       "      <th>married_single</th>\n",
       "      <th></th>\n",
       "    </tr>\n",
       "  </thead>\n",
       "  <tbody>\n",
       "    <tr>\n",
       "      <th>single</th>\n",
       "      <td>50.601</td>\n",
       "    </tr>\n",
       "    <tr>\n",
       "      <th>married</th>\n",
       "      <td>44.332</td>\n",
       "    </tr>\n",
       "  </tbody>\n",
       "</table>\n",
       "</div>"
      ],
      "text/plain": [
       "                risk_flag\n",
       "married_single           \n",
       "single             50.601\n",
       "married            44.332"
      ]
     },
     "execution_count": 40,
     "metadata": {},
     "output_type": "execute_result"
    }
   ],
   "source": [
    "loan.groupby(\"married_single\").risk_flag.apply(lambda x: (x.sum() / x.size) * 100).sort_values(ascending=False).to_frame()"
   ]
  },
  {
   "cell_type": "markdown",
   "id": "bf42e7f2-9c5f-4fba-bb78-297e43d47a3e",
   "metadata": {},
   "source": [
    "##### The average risk percentage whether the customer owned car or not:"
   ]
  },
  {
   "cell_type": "code",
   "execution_count": 41,
   "id": "4bdbce0d-88d1-4b46-9950-1802e9abd189",
   "metadata": {},
   "outputs": [
    {
     "data": {
      "text/html": [
       "<div>\n",
       "<style scoped>\n",
       "    .dataframe tbody tr th:only-of-type {\n",
       "        vertical-align: middle;\n",
       "    }\n",
       "\n",
       "    .dataframe tbody tr th {\n",
       "        vertical-align: top;\n",
       "    }\n",
       "\n",
       "    .dataframe thead th {\n",
       "        text-align: right;\n",
       "    }\n",
       "</style>\n",
       "<table border=\"1\" class=\"dataframe\">\n",
       "  <thead>\n",
       "    <tr style=\"text-align: right;\">\n",
       "      <th></th>\n",
       "      <th>risk_flag</th>\n",
       "    </tr>\n",
       "    <tr>\n",
       "      <th>car_ownership</th>\n",
       "      <th></th>\n",
       "    </tr>\n",
       "  </thead>\n",
       "  <tbody>\n",
       "    <tr>\n",
       "      <th>no</th>\n",
       "      <td>51.252</td>\n",
       "    </tr>\n",
       "    <tr>\n",
       "      <th>yes</th>\n",
       "      <td>46.934</td>\n",
       "    </tr>\n",
       "  </tbody>\n",
       "</table>\n",
       "</div>"
      ],
      "text/plain": [
       "               risk_flag\n",
       "car_ownership           \n",
       "no                51.252\n",
       "yes               46.934"
      ]
     },
     "execution_count": 41,
     "metadata": {},
     "output_type": "execute_result"
    }
   ],
   "source": [
    "loan.groupby(\"car_ownership\").risk_flag.apply(lambda x: (x.sum() / x.size) * 100).sort_values(ascending=False).to_frame()"
   ]
  },
  {
   "cell_type": "markdown",
   "id": "f132c128-af9b-440e-a37d-a57b654fb30d",
   "metadata": {},
   "source": [
    "### 5.2 | Univariate Analysis"
   ]
  },
  {
   "cell_type": "markdown",
   "id": "5d76e60a-870c-443d-a806-5342047246c9",
   "metadata": {},
   "source": [
    "##### Chebychev's Theorem"
   ]
  },
  {
   "cell_type": "markdown",
   "id": "bc2ccf85-7fb4-483a-985e-46796f6f9f7b",
   "metadata": {},
   "source": [
    "##### Chebyshev's Theorem estimates the minimum proportion of observations \n",
    "##### that fall within a specified number of standard deviations from the mean. \n",
    "##### This theorem applies to a broad range of probability distributions.\n",
    "##### Chebyshev's Theorem is also known as Chebyshev's Inequality\n"
   ]
  },
  {
   "cell_type": "markdown",
   "id": "86dbc5fb-c91d-4ea6-8539-552059085a4b",
   "metadata": {},
   "source": [
    "#### About skewness:\n",
    "\n",
    "##### As a general rule of thumb: If skewness is less than  −1  or greater than  1 , the distribution is highly skewed. \n",
    "##### If skewness is between  −1  and  −0.5  or between  0.5  and  1 , the distribution is moderately skewed.\n",
    "##### If skewness is between  −0.5  and  0.5 , the distribution is approximately symmetric."
   ]
  },
  {
   "cell_type": "markdown",
   "id": "bf627f34-3f06-413f-af8e-650385b8fa49",
   "metadata": {},
   "source": [
    "#### About kurtosis:\n",
    "\n",
    "##### For kurtosis, the general guideline is that if the number is greater than  +1 , the distribution is too peaked.\n",
    "##### Likewise, a kurtosis of less than  −1  indicates a distribution that is too flat.\n",
    "##### Distributions exhibiting skewness and/or kurtosis that exceed these guidelines are considered non-normal."
   ]
  },
  {
   "cell_type": "markdown",
   "id": "1a90c282-da5f-4fdb-80c1-3198c70634e0",
   "metadata": {},
   "source": [
    "#### 5.2.1 | Numerical Column"
   ]
  },
  {
   "cell_type": "code",
   "execution_count": 42,
   "id": "9fabd46a-37d8-443e-94c9-6d1d1588ff05",
   "metadata": {},
   "outputs": [
    {
     "data": {
      "image/png": "[encoded data removed]",
      "text/plain": [
       "<Figure size 1440x576 with 2 Axes>"
      ]
     },
     "metadata": {},
     "output_type": "display_data"
    }
   ],
   "source": [
    "numerical_plotting(data=loan, col=\"income\", \n",
    "                   title=\"Customer Income Distribution\", \n",
    "                   symb=\" \", ylabel=\"Density\", color=\"red\");"
   ]
  },
  {
   "cell_type": "markdown",
   "id": "295cbe35-9507-4969-8c2d-45a90416af0a",
   "metadata": {},
   "source": [
    "##### 5.2.1.1 | Notes:"
   ]
  },
  {
   "cell_type": "code",
   "execution_count": 43,
   "id": "cb0e1e60-90f7-4989-878b-a3c7e704f331",
   "metadata": {},
   "outputs": [
    {
     "name": "stdout",
     "output_type": "stream",
     "text": [
      "-------------------- Interpretation of Income --------------------\n",
      "first calc: -811329.6\n",
      "second calc: 10781264.8\n",
      "at least 75% customer income is lies between 0 and 10.785.254 Rupee\n",
      "----------------------------------------\n"
     ]
    }
   ],
   "source": [
    "chebychev(loan.income, title=\"Income\", \n",
    "          interpret=f\"at least 75% customer income is lies between 0 and 10.785.254 Rupee\")"
   ]
  },
  {
   "cell_type": "code",
   "execution_count": 44,
   "id": "a20357fb-2f25-46ce-9606-141a549c0f96",
   "metadata": {},
   "outputs": [
    {
     "name": "stdout",
     "output_type": "stream",
     "text": [
      "-------------------- Skew & Kurtosis Income --------------------\n",
      "Skewness: -0.0009827055824769774\n",
      "Approximately symmetric\n",
      "-----------------------------------\n",
      "Kurtosis: -1.2106661137507038\n",
      "The distribution is too flat\n",
      "-----------------------------------\n"
     ]
    }
   ],
   "source": [
    "skew_kurtosis(loan.income, \"Skew & Kurtosis Income\")"
   ]
  },
  {
   "cell_type": "code",
   "execution_count": 45,
   "id": "c1d0ba3e-480a-483c-921c-d9788dfaaa18",
   "metadata": {},
   "outputs": [
    {
     "data": {
      "image/png": "[encoded data removed]",
      "text/plain": [
       "<Figure size 1440x576 with 2 Axes>"
      ]
     },
     "metadata": {},
     "output_type": "display_data"
    }
   ],
   "source": [
    "numerical_plotting(data=loan, col=\"age\", \n",
    "                   title=\"Customer Age Distribution\", \n",
    "                   symb=\" \", ylabel=\"Density\", color=\"salmon\");"
   ]
  },
  {
   "cell_type": "markdown",
   "id": "479bb480-393a-4369-959a-3337f85d4d9e",
   "metadata": {},
   "source": [
    "##### 5.2.1.2 | Notes"
   ]
  },
  {
   "cell_type": "code",
   "execution_count": 46,
   "id": "ba700840-89b8-4677-b244-1c170d4bf9fc",
   "metadata": {},
   "outputs": [
    {
     "name": "stdout",
     "output_type": "stream",
     "text": [
      "-------------------- Interpretation of Age --------------------\n",
      "first calc: 15.1\n",
      "second calc: 83.9\n",
      "at least 75% customer age is lies between 0 and 84\n",
      "----------------------------------------\n"
     ]
    }
   ],
   "source": [
    "chebychev(loan.age, title=\"Age\", \n",
    "          interpret=f\"at least 75% customer age is lies between 0 and 84\")"
   ]
  },
  {
   "cell_type": "code",
   "execution_count": 47,
   "id": "6935b382-3d9d-444d-9205-e77f9ca31728",
   "metadata": {},
   "outputs": [
    {
     "name": "stdout",
     "output_type": "stream",
     "text": [
      "-------------------- Skew & Kurtosis Age --------------------\n",
      "Skewness: 0.019871332655514468\n",
      "Approximately symmetric\n",
      "-----------------------------------\n",
      "Kurtosis: -1.2160245318945242\n",
      "The distribution is too flat\n",
      "-----------------------------------\n"
     ]
    }
   ],
   "source": [
    "skew_kurtosis(loan.age, \"Skew & Kurtosis Age\")"
   ]
  },
  {
   "cell_type": "code",
   "execution_count": 48,
   "id": "0136bb7f-2a6e-4d37-a7a9-b494f4775ce1",
   "metadata": {},
   "outputs": [
    {
     "data": {
      "image/png": "[encoded data removed]",
      "text/plain": [
       "<Figure size 1440x576 with 2 Axes>"
      ]
     },
     "metadata": {},
     "output_type": "display_data"
    }
   ],
   "source": [
    "numerical_plotting(data=loan, col=\"experience\", \n",
    "                   title=\"Customer Experience Distribution\", \n",
    "                   symb=\" \", ylabel=\"Density\", color=\"gray\");"
   ]
  },
  {
   "cell_type": "markdown",
   "id": "055b1069-cc99-4ef4-bfea-b255c529560d",
   "metadata": {},
   "source": [
    "##### 5.2.1.3 | Notes:"
   ]
  },
  {
   "cell_type": "code",
   "execution_count": 49,
   "id": "78fb087b-5eec-4b6d-8a58-c241fd85fb16",
   "metadata": {},
   "outputs": [
    {
     "name": "stdout",
     "output_type": "stream",
     "text": [
      "-------------------- Interpretation of Experience --------------------\n",
      "first calc: -2.2\n",
      "second calc: 21.8\n",
      "at least 75% customer have 0 to 22 years professional experience of working\n",
      "----------------------------------------\n"
     ]
    }
   ],
   "source": [
    "chebychev(loan.experience, title=\"Experience\", \n",
    "          interpret=f\"at least 75% customer have 0 to 22 years professional experience of working\")"
   ]
  },
  {
   "cell_type": "code",
   "execution_count": 50,
   "id": "007bd377-feaa-4a63-87f4-49b8a02e2ebf",
   "metadata": {},
   "outputs": [
    {
     "name": "stdout",
     "output_type": "stream",
     "text": [
      "-------------------- Skew & Kurtosis Experience --------------------\n",
      "Skewness: 0.02037071158824899\n",
      "Approximately symmetric\n",
      "-----------------------------------\n",
      "Kurtosis: -1.2131810445461884\n",
      "The distribution is too flat\n",
      "-----------------------------------\n"
     ]
    }
   ],
   "source": [
    "skew_kurtosis(loan.experience, \"Skew & Kurtosis Experience\")"
   ]
  },
  {
   "cell_type": "code",
   "execution_count": 51,
   "id": "8b28c0a7-2929-4f33-ada8-fc6e48b879ae",
   "metadata": {},
   "outputs": [
    {
     "data": {
      "image/png": "[encoded data removed]",
      "text/plain": [
       "<Figure size 1440x576 with 2 Axes>"
      ]
     },
     "metadata": {},
     "output_type": "display_data"
    }
   ],
   "source": [
    "numerical_plotting(data=loan, col=\"current_job_yrs\", \n",
    "                   title=\"Customer Current Job Years Distribution\", \n",
    "                   symb=\" \", ylabel=\"Density\", color=\"gold\");"
   ]
  },
  {
   "cell_type": "markdown",
   "id": "d5532bc1-71f7-477a-9981-602276fbd998",
   "metadata": {},
   "source": [
    "#### 5.2.1.4 | Notes:"
   ]
  },
  {
   "cell_type": "code",
   "execution_count": 52,
   "id": "9026feaa-8ccb-408d-ae67-f4e88b1cd391",
   "metadata": {},
   "outputs": [
    {
     "name": "stdout",
     "output_type": "stream",
     "text": [
      "-------------------- Interpretation of Current Job Years --------------------\n",
      "first calc: -1.1\n",
      "second calc: 13.7\n",
      "at least 75% customer have 0 to 13 years of work experience in current job\n",
      "----------------------------------------\n"
     ]
    }
   ],
   "source": [
    "chebychev(loan.current_job_yrs, title=\"Current Job Years\", \n",
    "          interpret=f\"at least 75% customer have 0 to 13 years of work experience in current job\")"
   ]
  },
  {
   "cell_type": "code",
   "execution_count": 53,
   "id": "3ad5868e-ddd7-4431-a5ba-e62002990509",
   "metadata": {},
   "outputs": [
    {
     "name": "stdout",
     "output_type": "stream",
     "text": [
      "-------------------- Skew & Kurtosis Current Job Years --------------------\n",
      "Skewness: 0.2800854993080601\n",
      "Approximately symmetric\n",
      "-----------------------------------\n",
      "Kurtosis: -0.8190881360656554\n",
      "The distribution is non-normal\n",
      "-----------------------------------\n"
     ]
    }
   ],
   "source": [
    "skew_kurtosis(loan.current_job_yrs, \"Skew & Kurtosis Current Job Years\")"
   ]
  },
  {
   "cell_type": "code",
   "execution_count": 54,
   "id": "0852a487-a6b6-462b-9cde-ebb6f728f582",
   "metadata": {},
   "outputs": [
    {
     "data": {
      "image/png": "[encoded data removed]",
      "text/plain": [
       "<Figure size 1440x576 with 2 Axes>"
      ]
     },
     "metadata": {},
     "output_type": "display_data"
    }
   ],
   "source": [
    "numerical_plotting(data=loan, col=\"current_house_yrs\", \n",
    "                   title=\"Customer Current House Years Distribution\", \n",
    "                   symb=\" \", ylabel=\"Density\", color=\"blue\");"
   ]
  },
  {
   "cell_type": "markdown",
   "id": "a750f0ee-8e0f-46bc-8a80-31908e515c20",
   "metadata": {},
   "source": [
    "#### 5.2.1.5 | Notes:"
   ]
  },
  {
   "cell_type": "code",
   "execution_count": 55,
   "id": "4fcfd217-434a-425a-8835-67da41ca811a",
   "metadata": {},
   "outputs": [
    {
     "name": "stdout",
     "output_type": "stream",
     "text": [
      "-------------------- Interpretation of Current House Years --------------------\n",
      "first calc: 9.2\n",
      "second calc: 14.8\n",
      "at least 75% customer have lived 9 to 15 years in the current residence\n",
      "----------------------------------------\n"
     ]
    }
   ],
   "source": [
    "chebychev(loan.current_house_yrs, title=\"Current House Years\", \n",
    "          interpret=f\"at least 75% customer have lived 9 to 15 years in the current residence\")"
   ]
  },
  {
   "cell_type": "code",
   "execution_count": 56,
   "id": "2dd123e0-317a-4d8f-99a8-a9b03155505d",
   "metadata": {},
   "outputs": [
    {
     "name": "stdout",
     "output_type": "stream",
     "text": [
      "-------------------- Skew & Kurtosis Current House Years --------------------\n",
      "Skewness: 0.016237795608304573\n",
      "Approximately symmetric\n",
      "-----------------------------------\n",
      "Kurtosis: -1.2727490202181981\n",
      "The distribution is too flat\n",
      "-----------------------------------\n"
     ]
    }
   ],
   "source": [
    "skew_kurtosis(loan.current_house_yrs, \"Skew & Kurtosis Current House Years\")"
   ]
  },
  {
   "cell_type": "markdown",
   "id": "3fa54ab6-3a2a-4a1c-a441-ea9d6a45532e",
   "metadata": {},
   "source": [
    "#### 5.2.2 | Categorical Column"
   ]
  },
  {
   "cell_type": "code",
   "execution_count": 57,
   "id": "39701afa-2fbf-493b-9628-859ddd801cf5",
   "metadata": {},
   "outputs": [
    {
     "data": {
      "image/png": "[encoded data removed]",
      "text/plain": [
       "<Figure size 1728x576 with 2 Axes>"
      ]
     },
     "metadata": {},
     "output_type": "display_data"
    }
   ],
   "source": [
    "loan_married_single = loan[\"married_single\"].value_counts()\n",
    "\n",
    "count_pie_plot(datapie=loan_married_single,\n",
    "               datacount=loan,\n",
    "               colcount=\"married_single\",\n",
    "               colpiey=loan_married_single.values,\n",
    "               text1=\"Married or Single\",\n",
    "               pielabels=[\"Single\", \"Married\"],\n",
    "               text2=\"Are you Married or Single?\",\n",
    "               piecomap=[\"#001253\", \"#FF5858\"],\n",
    "               countcomap=[\"#001253\", \"#FF5858\"],\n",
    "               xlabel=\"Married Single\",\n",
    "               piefs=15,\n",
    "               yplus=5000,\n",
    "               ylabel=\"Count of Observations\",\n",
    "               xticklabel=[\"Single\", \"Married\"],\n",
    "               yticklabel=list(np.arange(0, 260000, 50000)),\n",
    "               ystart=0,\n",
    "               yend=250000);"
   ]
  },
  {
   "cell_type": "code",
   "execution_count": 58,
   "id": "ce2e0f88-b14a-40e3-98b8-980272bfa53d",
   "metadata": {},
   "outputs": [
    {
     "data": {
      "image/png": "[encoded data removed]",
      "text/plain": [
       "<Figure size 1728x576 with 2 Axes>"
      ]
     },
     "metadata": {},
     "output_type": "display_data"
    }
   ],
   "source": [
    "loan_house_ownership = loan[\"house_ownership\"].value_counts()\n",
    "\n",
    "count_pie_plot(datapie=loan_house_ownership,\n",
    "               datacount=loan,\n",
    "               colcount=\"house_ownership\",\n",
    "               colpiey=loan_house_ownership.values,\n",
    "               text1=\"House Ownership\",\n",
    "               pielabels=[\"Rented\", \"Owned\", \"No rent No own\"],\n",
    "               text2=\"What customer house status?\",\n",
    "               piecomap=[\"#E0144C\", \"#3AB0FF\", \"#FF5858\"],\n",
    "               countcomap=[\"#E0144C\", \"#FF5858\", \"#3AB0FF\"],\n",
    "               xlabel=\"Married Single\",\n",
    "               piefs=10,\n",
    "               yplus=5000,\n",
    "               pctdistance=0.7,\n",
    "               ylabel=\"Count of Observations\",\n",
    "               xticklabel=[\"Rented\", \"No rent No own\", \"Owned\"],\n",
    "               yticklabel=list(np.arange(0, 260000, 50000)),\n",
    "               ystart=0,\n",
    "               yend=250000);"
   ]
  },
  {
   "cell_type": "code",
   "execution_count": null,
   "id": "266b296b-128c-40c8-a845-baf7cf320eba",
   "metadata": {},
   "outputs": [],
   "source": []
  }
 ],
 "metadata": {
  "kernelspec": {
   "display_name": "Python 3 (ipykernel)",
   "language": "python",
   "name": "python3"
  },
  "language_info": {
   "codemirror_mode": {
    "name": "ipython",
    "version": 3
   },
   "file_extension": ".py",
   "mimetype": "text/x-python",
   "name": "python",
   "nbconvert_exporter": "python",
   "pygments_lexer": "ipython3",
   "version": "3.10.8"
  }
 },
 "nbformat": 4,
 "nbformat_minor": 5
}
