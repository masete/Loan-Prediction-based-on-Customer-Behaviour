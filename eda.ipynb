{
 "cells": [
  {
   "cell_type": "code",
   "execution_count": 1,
   "id": "8e1f785b-0781-4e8e-b49d-d7e3c716cef0",
   "metadata": {},
   "outputs": [],
   "source": [
    "import os\n",
    "import numpy as np\n",
    "import pandas as pd\n",
    "import matplotlib.pyplot as plt\n",
    "import seaborn as sns\n",
    "import warnings\n",
    "from scipy import stats\n",
    "from IPython.core.interactiveshell import InteractiveShell"
   ]
  },
  {
   "cell_type": "code",
   "execution_count": 2,
   "id": "66ccf321-7f93-45ae-be83-d67db92a6253",
   "metadata": {
    "jupyter": {
     "source_hidden": true
    },
    "tags": []
   },
   "outputs": [],
   "source": [
    "# Libraries Settings\n",
    "warnings.simplefilter(action=\"ignore\", category=FutureWarning)\n",
    "warnings.simplefilter(action=\"ignore\", category=Warning)\n",
    "InteractiveShell.ast_node_interactivity = \"all\"\n",
    "%matplotlib inline\n",
    "np.set_printoptions(suppress=True)\n",
    "\n",
    "def set_seed(seed=42):\n",
    "    np.random.seed(seed)\n",
    "    os.environ[\"PYTHONHASHSEED\"] = str(seed)\n",
    "    \n",
    "pd.set_option(\"display.width\", 100)\n",
    "pd.set_option(\"display.max_columns\", 60)\n",
    "pd.set_option(\"display.max_rows\", 25)\n",
    "pd.set_option(\"display.float_format\", lambda x: \"%.3f\" % x)"
   ]
  },
  {
   "cell_type": "code",
   "execution_count": 3,
   "id": "3ed84e52-aabc-4892-a4e6-9d29c5bed800",
   "metadata": {
    "jupyter": {
     "source_hidden": true
    },
    "tags": []
   },
   "outputs": [],
   "source": [
    "# plot function\n",
    "def numerical_plotting(data, col, title, symb, ylabel, color):\n",
    "    fig, ax = plt.subplots(2, 1, \n",
    "                           sharex=True, \n",
    "                           figsize=(20, 8),\n",
    "                           facecolor=\"#FFFFFF\",\n",
    "                           gridspec_kw={\"height_ratios\": (.2, .8)})\n",
    "    \n",
    "    ax[0].set_facecolor(\"#FFFFFF\")\n",
    "    ax[1].set_facecolor(\"#FFFFFF\")\n",
    "    \n",
    "    ax[0].set_title(title, \n",
    "                    weight=\"bold\", \n",
    "                    fontsize=30, \n",
    "                    pad=30)\n",
    "    \n",
    "    sns.boxplot(x=col, \n",
    "                data=data,\n",
    "                color=color,\n",
    "                ax=ax[0])\n",
    "    \n",
    "    ax[0].set(yticks=[])\n",
    "    \n",
    "    sns.distplot(data[col], kde=True, color=color)\n",
    "    \n",
    "    plt.xticks(weight=\"bold\", fontsize=10)\n",
    "    plt.yticks(weight=\"bold\", fontsize=10)\n",
    "    \n",
    "    ax[0].set_xlabel(col, weight=\"bold\", fontsize=15, labelpad=15)\n",
    "    ax[1].set_xlabel(col, weight=\"bold\", fontsize=15)\n",
    "    ax[1].set_ylabel(ylabel, weight=\"bold\", fontsize=15)\n",
    "    \n",
    "    plt.axvline(data[col].mean(), \n",
    "                color='darkgreen', \n",
    "                linewidth=2.2, \n",
    "                label='mean=' + str(np.round(data[col].mean(),1)) + symb)\n",
    "    plt.axvline(data[col].median(), \n",
    "                color='red', \n",
    "                linewidth=2.2, \n",
    "                label='median='+ str(np.round(data[col].median(),1)) + symb)\n",
    "    plt.axvline(data[col].max(), \n",
    "                color='blue', \n",
    "                linewidth=2.2, \n",
    "                label='max='+ str(np.round(data[col].max(),1)) + symb)\n",
    "    plt.axvline(data[col].min(), \n",
    "                color='orange', \n",
    "                linewidth=2.2, \n",
    "                label='min='+ str(np.round(data[col].min(),1)) + symb)\n",
    "    plt.axvline(data[col].mode()[0], \n",
    "                color='purple', \n",
    "                linewidth=2.2, \n",
    "                label='mode='+ str(data[col].mode()[0]) + symb)\n",
    "    \n",
    "    \n",
    "    plt.legend(bbox_to_anchor=(1, 1), \n",
    "               ncol=1, \n",
    "               fontsize=17, \n",
    "               fancybox=True, \n",
    "               shadow=True, \n",
    "               frameon=False)\n",
    "    \n",
    "    plt.tight_layout()\n",
    "    plt.show()\n",
    "    \n",
    "def count_pie_plot(datapie, datacount, colpiey, colcount, text1, text2, piecomap,\n",
    "                   xlabel, ylabel, xticklabel, yticklabel, ystart, yend, pielabels, yplus, \n",
    "                   piefs=10, countcomap=None, pctdistance=0.65, fontsize=15, xtickrotation=None):\n",
    "\n",
    "    # Subplots\n",
    "    fig, (ax1, ax2) = plt.subplots(ncols=2, \n",
    "                                   nrows=1, \n",
    "                                   facecolor=(\"#FFFFFF\"),\n",
    "                                   figsize=(24, 8))\n",
    "\n",
    "    datapie.plot(kind=\"pie\", \n",
    "                 y=colpiey,\n",
    "                 autopct='%1.1f%%',\n",
    "                 labels=None,\n",
    "                 startangle=90,\n",
    "                 colors=piecomap,\n",
    "                 wedgeprops=dict(width=0.15),\n",
    "                 pctdistance=pctdistance,\n",
    "                 fontsize=piefs,\n",
    "                 ax=ax1,\n",
    "                 textprops=dict(color=\"black\", \n",
    "                                weight=\"bold\"))\n",
    "    \n",
    "    sns.countplot(x=colcount,\n",
    "                  data=datacount,\n",
    "                  palette=countcomap,\n",
    "                  ax=ax2)\n",
    "\n",
    "    #title\n",
    "    x0, x1 = ax1.get_xlim()\n",
    "    y0, y1 = ax1.get_ylim()\n",
    "    \n",
    "    ax1.text(x0, y1 * 1.40, \n",
    "             text1, \n",
    "             fontsize=30, \n",
    "             ha=\"left\", \n",
    "             va=\"center\", \n",
    "             weight=\"bold\")\n",
    "    ax1.text(x0, y1 * 1.25, \n",
    "             text2, \n",
    "             fontsize=18, \n",
    "             ha=\"left\", \n",
    "             va=\"center\")\n",
    "    \n",
    "    ax1.legend(pielabels, \n",
    "               loc=\"upper left\", \n",
    "               bbox_to_anchor=(x0*0.01, y1*0.85), \n",
    "               prop={'size': 10.5}, frameon=False, ncol=len(datapie))\n",
    "    \n",
    "    ax2.set_xlabel(xlabel,\n",
    "                   weight=\"bold\",\n",
    "                   labelpad=15,\n",
    "                   fontsize=15)\n",
    "\n",
    "    ax2.set_ylabel(ylabel,\n",
    "                   weight=\"bold\",\n",
    "                   labelpad=15,\n",
    "                   fontsize=15)\n",
    "\n",
    "    ax2.set_xticklabels(labels=xticklabel,\n",
    "                        weight=\"semibold\",\n",
    "                        fontsize=10,\n",
    "                        rotation=xtickrotation)\n",
    "    ax2.set_yticklabels(labels=yticklabel,\n",
    "                        weight=\"semibold\",\n",
    "                        fontsize=10)\n",
    "\n",
    "    # data label\n",
    "    i=0\n",
    "\n",
    "    for p in ax2.patches:\n",
    "        value = f\"{p.get_height()}\"\n",
    "        if (i < 2):\n",
    "            y1 = -2\n",
    "        else:\n",
    "            y1 = 2\n",
    "        i += 1\n",
    "        x = p.get_x() + p.get_width() / 2 \n",
    "        y = p.get_y() + p.get_height() + yplus\n",
    "        ax2.text(x, y, value, ha=\"center\", va=\"center\", fontsize=15, weight=\"semibold\") \n",
    "\n",
    "    ax2.set_ylim(ystart, yend)\n",
    "    ax2.set_facecolor(\"#FFFFFF\")\n",
    "    ax1.set_ylabel(None)\n",
    "    \n",
    "    plt.tight_layout()\n",
    "    return fig\n",
    "\n",
    "def countplot_y(data, xplus, coly, sizey, text1, text2, \n",
    "                xlabel, ylabel, xstart, xend, ytimes1, ytimes2):\n",
    "\n",
    "    fig, ax = plt.subplots(ncols=1,\n",
    "                           nrows=1,\n",
    "                           facecolor=(\"#FFFFFF\"),\n",
    "                           figsize=(24, sizey))\n",
    "\n",
    "    sns.countplot(y=coly,\n",
    "                  data=data,\n",
    "                  palette=['#E0144C', '#FF5858', '#3AB0FF', '#FFB562', '#6FEDD6', '#6D9885'],\n",
    "                  ax=ax)\n",
    "\n",
    "    x0, x1 = ax.get_xlim()\n",
    "    y0, y1 = ax.get_ylim()\n",
    "\n",
    "    ax.text(x0, y1 * ytimes1, \n",
    "            text1, fontsize=30, \n",
    "            ha=\"left\", va=\"center\", weight=\"bold\")\n",
    "    ax.text(x0, y1 * ytimes2, \n",
    "            text2, fontsize=18, \n",
    "            ha=\"left\", va=\"center\")\n",
    "\n",
    "    plt.xticks(weight=\"bold\",\n",
    "               fontsize=10)\n",
    "    plt.yticks(weight=\"bold\",\n",
    "               fontsize=10)\n",
    "    plt.xlabel(xlabel, weight=\"bold\", \n",
    "               fontsize=25, labelpad=20)\n",
    "    plt.ylabel(ylabel, weight=\"bold\", \n",
    "               fontsize=25, labelpad=20)\n",
    "\n",
    "    # data label\n",
    "    i=0\n",
    "\n",
    "    for p in ax.patches:\n",
    "        value = f'{p.get_width()}'\n",
    "        if i < 7:\n",
    "            x1 = -1.2\n",
    "        else:\n",
    "            x1 = 1.2\n",
    "\n",
    "        i+=1\n",
    "        x = p.get_x() + p.get_width() + xplus\n",
    "        y = p.get_y() + p.get_height() -.4\n",
    "        ax.text(x, y, value, ha='center', va='center', fontsize=15, weight='semibold') \n",
    "\n",
    "    plt.tight_layout()\n",
    "    ax.set_xlim(xstart, xend)\n",
    "    ax.set_facecolor(\"#FFFFFF\")\n",
    "    \n",
    "    return fig\n",
    "\n",
    "def bivariate_numerical_plot(data, x, hue, title, xlabel, ylabel):\n",
    "    fig, ax = plt.subplots(1, 1,\n",
    "                           figsize=(20, 6), \n",
    "                           facecolor=\"#FFFFFF\")\n",
    "    sns.kdeplot(data=data, \n",
    "                x=x, \n",
    "                hue=hue, \n",
    "                fill=True)\n",
    "    \n",
    "    ax.set_facecolor(\"#FFFFFF\")\n",
    "    \n",
    "    plt.title(title, weight=\"bold\", \n",
    "              fontsize=25, pad=30)\n",
    "    plt.xticks(weight=\"bold\", fontsize=10)\n",
    "    plt.yticks(weight=\"bold\", fontsize=10)\n",
    "    plt.xlabel(xlabel, weight=\"bold\", \n",
    "               fontsize=15, labelpad=15)\n",
    "    plt.ylabel(ylabel, weight=\"bold\", \n",
    "               fontsize=15, labelpad=15)\n",
    "    plt.tight_layout()\n",
    "    plt.show()\n",
    "    \n",
    "def mtvboxplot(data, x, y, hue, title, xlabel, ylabel):\n",
    "    fig, ax = plt.subplots(1, 1,\n",
    "                           figsize=(24, 8))\n",
    "    sns.boxplot(x=x, y=y, hue=hue, \n",
    "                data=data, ax=ax)\n",
    "    plt.title(title, weight=\"bold\", \n",
    "              fontsize=25, pad=25)\n",
    "    plt.xticks(weight=\"bold\", fontsize=10)\n",
    "    plt.yticks(weight=\"bold\", fontsize=10)\n",
    "    plt.xlabel(xlabel, weight=\"bold\", \n",
    "               fontsize=15, labelpad=10)\n",
    "    plt.ylabel(ylabel, weight=\"bold\", \n",
    "               fontsize=15, labelpad=10)\n",
    "    plt.tight_layout()\n",
    "    plt.show()"
   ]
  },
  {
   "cell_type": "code",
   "execution_count": 4,
   "id": "104b80f2-a483-4fa6-a81b-1d9925c35390",
   "metadata": {
    "jupyter": {
     "source_hidden": true
    },
    "tags": []
   },
   "outputs": [],
   "source": [
    "# stat function\n",
    "\n",
    "def spearman_correlation(data1, data2, title):\n",
    "    print(\"-\" * 15, title, \"-\" * 15)\n",
    "    print()\n",
    "    # calculate Spearman's Correlation\n",
    "    coef, p = stats.spearmanr(data1, data2)\n",
    "    print(f\"Spearmans correlation coefficient: {coef:.3f}\")\n",
    "    print()\n",
    "    # interpret the significance\n",
    "    alpha = 0.05\n",
    "    if (p > alpha):\n",
    "        print(f\"Samples are uncorrelated (fail to reject H0) p={p:.3f}\")\n",
    "    else:\n",
    "        print(f\"Samples are correlated (reject H0) p={p:.3f}\")\n",
    "    print()\n",
    "    \n",
    "def pearson_correlation(data1, data2, title):\n",
    "    print(\"-\" * 15, title, \"-\" * 15)\n",
    "    print()\n",
    "    # calculate Pearson's Correlation\n",
    "    coef, p = stats.pearsonr(data1, data2)\n",
    "    print(f\"Pearson correlation coefficient: {coef:.3f}\")\n",
    "    print()\n",
    "    # interpret the significance\n",
    "    alpha = 0.05\n",
    "    if (p > alpha):\n",
    "        print(f\"Samples are uncorrelated (fail to reject H0) p={p:.3f}\")\n",
    "    else:\n",
    "        print(f\"Samples are correlated (reject H0) p={p:.3f}\")\n",
    "    print()\n",
    "    \n",
    "def skew_kurtosis(data, title):\n",
    "    skw = stats.skew(data, bias=False)\n",
    "    kurt = stats.kurtosis(data, bias=False)\n",
    "    \n",
    "    print(\"-\" * 20, title, \"-\" * 20)\n",
    "    print(f\"Skewness: {skw}\")\n",
    "    if (skw < -1) and (skw > 1):\n",
    "        print(\"Highly skewed\")\n",
    "    elif (-1 < skw < -0.5) or (1 < skw < 0.5):\n",
    "        print(\"Moderately skewed\")\n",
    "    elif (-0.5 < skw < 0.5):\n",
    "        print(\"Approximately symmetric\")\n",
    "    print(\"-\" * 35)\n",
    "    print(f\"Kurtosis: {kurt}\")\n",
    "    if (kurt > 1):\n",
    "        print(\"The distribution is too peaked\")\n",
    "    elif (kurt < -1):\n",
    "        print(\"The distribution is too flat\")\n",
    "    else:\n",
    "        print(\"The distribution is non-normal\")\n",
    "    print(\"-\" * 35)\n",
    "    \n",
    "def chebychev(data, title, interpret):\n",
    "    mu = round(data.mean(), 1)\n",
    "    s = round(data.std(), 1)\n",
    "    \n",
    "    fc = round(mu - (2 * s), 1)\n",
    "    sc = round(mu + (2 * s), 1)\n",
    "    \n",
    "    print(\"-\" * 20, f\"Interpretation of {title}\", \"-\" * 20)\n",
    "    print(f\"first calc: {fc}\")\n",
    "    print(f\"second calc: {sc}\")\n",
    "    print(interpret)\n",
    "    print(\"-\" * 40)"
   ]
  },
  {
   "cell_type": "markdown",
   "id": "6e406f3a-0de1-4995-82fd-66a5a79e778a",
   "metadata": {},
   "source": [
    "### 1.4 | Dataset Problems"
   ]
  },
  {
   "cell_type": "markdown",
   "id": "5ed4c9eb-6758-478f-b7fd-77dcc44353a2",
   "metadata": {},
   "source": [
    "##### An organization wants to predict who possible defaulters are for the consumer loans product. \n",
    "##### They have data about historic customer behavior based on what they have observed. Hence when \n",
    "##### they acquire new customers they want to predict who is riskier and who is not.\n"
   ]
  },
  {
   "cell_type": "code",
   "execution_count": 5,
   "id": "04bf0692-6146-4901-9c7d-e84a7699d6fc",
   "metadata": {},
   "outputs": [],
   "source": [
    "df = pd.read_csv('data/Training Data.csv')"
   ]
  },
  {
   "cell_type": "code",
   "execution_count": 6,
   "id": "73ba65c5-83d2-40ea-9580-36d53dca1e67",
   "metadata": {},
   "outputs": [
    {
     "data": {
      "text/html": [
       "<div>\n",
       "<style scoped>\n",
       "    .dataframe tbody tr th:only-of-type {\n",
       "        vertical-align: middle;\n",
       "    }\n",
       "\n",
       "    .dataframe tbody tr th {\n",
       "        vertical-align: top;\n",
       "    }\n",
       "\n",
       "    .dataframe thead th {\n",
       "        text-align: right;\n",
       "    }\n",
       "</style>\n",
       "<table border=\"1\" class=\"dataframe\">\n",
       "  <thead>\n",
       "    <tr style=\"text-align: right;\">\n",
       "      <th></th>\n",
       "      <th>Id</th>\n",
       "      <th>Income</th>\n",
       "      <th>Age</th>\n",
       "      <th>Experience</th>\n",
       "      <th>Married/Single</th>\n",
       "      <th>House_Ownership</th>\n",
       "      <th>Car_Ownership</th>\n",
       "      <th>Profession</th>\n",
       "      <th>CITY</th>\n",
       "      <th>STATE</th>\n",
       "      <th>CURRENT_JOB_YRS</th>\n",
       "      <th>CURRENT_HOUSE_YRS</th>\n",
       "      <th>Risk_Flag</th>\n",
       "    </tr>\n",
       "  </thead>\n",
       "  <tbody>\n",
       "    <tr>\n",
       "      <th>0</th>\n",
       "      <td>1</td>\n",
       "      <td>1303834</td>\n",
       "      <td>23</td>\n",
       "      <td>3</td>\n",
       "      <td>single</td>\n",
       "      <td>rented</td>\n",
       "      <td>no</td>\n",
       "      <td>Mechanical_engineer</td>\n",
       "      <td>Rewa</td>\n",
       "      <td>Madhya_Pradesh</td>\n",
       "      <td>3</td>\n",
       "      <td>13</td>\n",
       "      <td>0</td>\n",
       "    </tr>\n",
       "    <tr>\n",
       "      <th>1</th>\n",
       "      <td>2</td>\n",
       "      <td>7574516</td>\n",
       "      <td>40</td>\n",
       "      <td>10</td>\n",
       "      <td>single</td>\n",
       "      <td>rented</td>\n",
       "      <td>no</td>\n",
       "      <td>Software_Developer</td>\n",
       "      <td>Parbhani</td>\n",
       "      <td>Maharashtra</td>\n",
       "      <td>9</td>\n",
       "      <td>13</td>\n",
       "      <td>0</td>\n",
       "    </tr>\n",
       "    <tr>\n",
       "      <th>2</th>\n",
       "      <td>3</td>\n",
       "      <td>3991815</td>\n",
       "      <td>66</td>\n",
       "      <td>4</td>\n",
       "      <td>married</td>\n",
       "      <td>rented</td>\n",
       "      <td>no</td>\n",
       "      <td>Technical_writer</td>\n",
       "      <td>Alappuzha</td>\n",
       "      <td>Kerala</td>\n",
       "      <td>4</td>\n",
       "      <td>10</td>\n",
       "      <td>0</td>\n",
       "    </tr>\n",
       "    <tr>\n",
       "      <th>3</th>\n",
       "      <td>4</td>\n",
       "      <td>6256451</td>\n",
       "      <td>41</td>\n",
       "      <td>2</td>\n",
       "      <td>single</td>\n",
       "      <td>rented</td>\n",
       "      <td>yes</td>\n",
       "      <td>Software_Developer</td>\n",
       "      <td>Bhubaneswar</td>\n",
       "      <td>Odisha</td>\n",
       "      <td>2</td>\n",
       "      <td>12</td>\n",
       "      <td>1</td>\n",
       "    </tr>\n",
       "    <tr>\n",
       "      <th>4</th>\n",
       "      <td>5</td>\n",
       "      <td>5768871</td>\n",
       "      <td>47</td>\n",
       "      <td>11</td>\n",
       "      <td>single</td>\n",
       "      <td>rented</td>\n",
       "      <td>no</td>\n",
       "      <td>Civil_servant</td>\n",
       "      <td>Tiruchirappalli[10]</td>\n",
       "      <td>Tamil_Nadu</td>\n",
       "      <td>3</td>\n",
       "      <td>14</td>\n",
       "      <td>1</td>\n",
       "    </tr>\n",
       "  </tbody>\n",
       "</table>\n",
       "</div>"
      ],
      "text/plain": [
       "   Id   Income  Age  Experience Married/Single House_Ownership Car_Ownership           Profession  \\\n",
       "0   1  1303834   23           3         single          rented            no  Mechanical_engineer   \n",
       "1   2  7574516   40          10         single          rented            no   Software_Developer   \n",
       "2   3  3991815   66           4        married          rented            no     Technical_writer   \n",
       "3   4  6256451   41           2         single          rented           yes   Software_Developer   \n",
       "4   5  5768871   47          11         single          rented            no        Civil_servant   \n",
       "\n",
       "                  CITY           STATE  CURRENT_JOB_YRS  CURRENT_HOUSE_YRS  Risk_Flag  \n",
       "0                 Rewa  Madhya_Pradesh                3                 13          0  \n",
       "1             Parbhani     Maharashtra                9                 13          0  \n",
       "2            Alappuzha          Kerala                4                 10          0  \n",
       "3          Bhubaneswar          Odisha                2                 12          1  \n",
       "4  Tiruchirappalli[10]      Tamil_Nadu                3                 14          1  "
      ]
     },
     "execution_count": 6,
     "metadata": {},
     "output_type": "execute_result"
    }
   ],
   "source": [
    "df.head()"
   ]
  },
  {
   "cell_type": "code",
   "execution_count": 7,
   "id": "e079853a-87ed-4de7-a94b-794b2f967d57",
   "metadata": {},
   "outputs": [
    {
     "data": {
      "text/plain": [
       "Id                   0\n",
       "Income               0\n",
       "Age                  0\n",
       "Experience           0\n",
       "Married/Single       0\n",
       "House_Ownership      0\n",
       "Car_Ownership        0\n",
       "Profession           0\n",
       "CITY                 0\n",
       "STATE                0\n",
       "CURRENT_JOB_YRS      0\n",
       "CURRENT_HOUSE_YRS    0\n",
       "Risk_Flag            0\n",
       "dtype: int64"
      ]
     },
     "execution_count": 7,
     "metadata": {},
     "output_type": "execute_result"
    }
   ],
   "source": [
    "df.isna().sum()"
   ]
  },
  {
   "cell_type": "code",
   "execution_count": 8,
   "id": "84b758ca-f903-40bb-afc9-89bbdae07e88",
   "metadata": {},
   "outputs": [
    {
     "data": {
      "text/plain": [
       "<Figure size 1440x360 with 0 Axes>"
      ]
     },
     "execution_count": 8,
     "metadata": {},
     "output_type": "execute_result"
    },
    {
     "data": {
      "text/plain": [
       "<AxesSubplot:>"
      ]
     },
     "execution_count": 8,
     "metadata": {},
     "output_type": "execute_result"
    },
    {
     "data": {
      "text/plain": [
       "<function matplotlib.pyplot.plot(*args, scalex=True, scaley=True, data=None, **kwargs)>"
      ]
     },
     "execution_count": 8,
     "metadata": {},
     "output_type": "execute_result"
    },
    {
     "data": {
      "image/png": "[encoded data removed]",
      "text/plain": [
       "<Figure size 1440x360 with 1 Axes>"
      ]
     },
     "metadata": {
      "needs_background": "light"
     },
     "output_type": "display_data"
    }
   ],
   "source": [
    "# plotting null values\n",
    "plt.figure(figsize=(20,5))\n",
    "sns.heatmap(df.isnull(),yticklabels=False,cbar=False,cmap='viridis')\n",
    "plt.plot"
   ]
  },
  {
   "cell_type": "code",
   "execution_count": 9,
   "id": "2bbc3dd3-caf2-4d0f-8e3e-a4a66212a6da",
   "metadata": {},
   "outputs": [
    {
     "name": "stdout",
     "output_type": "stream",
     "text": [
      "<class 'pandas.core.frame.DataFrame'>\n",
      "RangeIndex: 252000 entries, 0 to 251999\n",
      "Data columns (total 13 columns):\n",
      " #   Column             Non-Null Count   Dtype \n",
      "---  ------             --------------   ----- \n",
      " 0   Id                 252000 non-null  int64 \n",
      " 1   Income             252000 non-null  int64 \n",
      " 2   Age                252000 non-null  int64 \n",
      " 3   Experience         252000 non-null  int64 \n",
      " 4   Married/Single     252000 non-null  object\n",
      " 5   House_Ownership    252000 non-null  object\n",
      " 6   Car_Ownership      252000 non-null  object\n",
      " 7   Profession         252000 non-null  object\n",
      " 8   CITY               252000 non-null  object\n",
      " 9   STATE              252000 non-null  object\n",
      " 10  CURRENT_JOB_YRS    252000 non-null  int64 \n",
      " 11  CURRENT_HOUSE_YRS  252000 non-null  int64 \n",
      " 12  Risk_Flag          252000 non-null  int64 \n",
      "dtypes: int64(7), object(6)\n",
      "memory usage: 25.0+ MB\n"
     ]
    }
   ],
   "source": [
    "df.info()"
   ]
  },
  {
   "cell_type": "markdown",
   "id": "87964bfe-c0bd-4be7-91f8-2736f04bcb50",
   "metadata": {},
   "source": [
    "### Uniqueness Categorical Variables\n",
    "#### Let's have a look at categorical variables. How many unique values of these variables"
   ]
  },
  {
   "cell_type": "code",
   "execution_count": 10,
   "id": "39763833-19a0-41f1-9b55-72bbcb10c8b2",
   "metadata": {},
   "outputs": [],
   "source": [
    "categorical = df.select_dtypes([\"category\", \"object\"]).columns"
   ]
  },
  {
   "cell_type": "code",
   "execution_count": 11,
   "id": "eab23bfc-6d36-4e6a-adfb-f26d63159415",
   "metadata": {},
   "outputs": [
    {
     "data": {
      "text/plain": [
       "Index(['Married/Single', 'House_Ownership', 'Car_Ownership', 'Profession', 'CITY', 'STATE'], dtype='object')"
      ]
     },
     "execution_count": 11,
     "metadata": {},
     "output_type": "execute_result"
    }
   ],
   "source": [
    "categorical"
   ]
  },
  {
   "cell_type": "code",
   "execution_count": 12,
   "id": "31e8fc7f-b7f5-4aea-9ca3-3a42d8281233",
   "metadata": {},
   "outputs": [
    {
     "name": "stdout",
     "output_type": "stream",
     "text": [
      "Married/Single: 2 uniqueness variable\n",
      "House_Ownership: 3 uniqueness variable\n",
      "Car_Ownership: 2 uniqueness variable\n",
      "Profession: 51 uniqueness variable\n",
      "CITY: 317 uniqueness variable\n",
      "STATE: 29 uniqueness variable\n"
     ]
    }
   ],
   "source": [
    "for cat_col in categorical:\n",
    "    print(f\"{cat_col}: {df[cat_col].nunique()} uniqueness variable\")"
   ]
  },
  {
   "cell_type": "markdown",
   "id": "d2b93cc8-f0ae-4813-874d-cd94472b66db",
   "metadata": {},
   "source": [
    "### Discrete and Continuous Variables\n",
    "##### Let's have a look at Discrete and Continuous variables."
   ]
  },
  {
   "cell_type": "code",
   "execution_count": 13,
   "id": "4ad427b9-8739-4ca9-a2e5-4a507634a771",
   "metadata": {},
   "outputs": [],
   "source": [
    "numeric = df.select_dtypes([\"int\", \"float\"]).columns"
   ]
  },
  {
   "cell_type": "code",
   "execution_count": 14,
   "id": "2b817ef8-878e-4122-8cd1-ffbee603d8ba",
   "metadata": {},
   "outputs": [
    {
     "name": "stdout",
     "output_type": "stream",
     "text": [
      "Id: 252000 uniqueness variable\n",
      "Income: 41920 uniqueness variable\n",
      "Age: 59 uniqueness variable\n",
      "Experience: 21 uniqueness variable\n",
      "CURRENT_JOB_YRS: 15 uniqueness variable\n",
      "CURRENT_HOUSE_YRS: 5 uniqueness variable\n",
      "Risk_Flag: 2 uniqueness variable\n"
     ]
    }
   ],
   "source": [
    "for num_col in numeric:\n",
    "    print(f\"{num_col}: {df[num_col].nunique()} uniqueness variable\")"
   ]
  },
  {
   "cell_type": "markdown",
   "id": "d884802c-1e0b-4571-aa26-1785b6c1f555",
   "metadata": {},
   "source": [
    "#### How many missing data points do we have?¶\n",
    "##### Let's see how many missing data we have in each column...."
   ]
  },
  {
   "cell_type": "code",
   "execution_count": 15,
   "id": "6c8bdefb-4ba7-422a-b042-6fd84df14032",
   "metadata": {},
   "outputs": [
    {
     "data": {
      "text/plain": [
       "Id                 0\n",
       "Income             0\n",
       "Age                0\n",
       "Experience         0\n",
       "Married/Single     0\n",
       "House_Ownership    0\n",
       "Car_Ownership      0\n",
       "Profession         0\n",
       "CITY               0\n",
       "STATE              0\n",
       "dtype: int64"
      ]
     },
     "execution_count": 15,
     "metadata": {},
     "output_type": "execute_result"
    }
   ],
   "source": [
    "# Get the number of missing data points per column\n",
    "missing_values_count = df.isnull().sum()\n",
    "# Look at the missing points in the first ten columns\n",
    "missing_values_count[:10]"
   ]
  },
  {
   "cell_type": "markdown",
   "id": "20475383-f214-4b27-9e93-fe5da2455dab",
   "metadata": {},
   "source": [
    "##### Great! there's no missing value! let's see the unique variables on the categorical data!"
   ]
  },
  {
   "cell_type": "code",
   "execution_count": 16,
   "id": "1e418d92-fa0d-4949-beb2-eb0f4f3b5083",
   "metadata": {},
   "outputs": [
    {
     "data": {
      "text/plain": [
       "array(['Mechanical_engineer', 'Software_Developer', 'Technical_writer',\n",
       "       'Civil_servant', 'Librarian', 'Economist', 'Flight_attendant',\n",
       "       'Architect', 'Designer', 'Physician', 'Financial_Analyst',\n",
       "       'Air_traffic_controller', 'Politician', 'Police_officer', 'Artist',\n",
       "       'Surveyor', 'Design_Engineer', 'Chemical_engineer',\n",
       "       'Hotel_Manager', 'Dentist', 'Comedian', 'Biomedical_Engineer',\n",
       "       'Graphic_Designer', 'Computer_hardware_engineer',\n",
       "       'Petroleum_Engineer', 'Secretary', 'Computer_operator',\n",
       "       'Chartered_Accountant', 'Technician', 'Microbiologist',\n",
       "       'Fashion_Designer', 'Aviator', 'Psychologist', 'Magistrate',\n",
       "       'Lawyer', 'Firefighter', 'Engineer', 'Official', 'Analyst',\n",
       "       'Geologist', 'Drafter', 'Statistician', 'Web_designer',\n",
       "       'Consultant', 'Chef', 'Army_officer', 'Surgeon', 'Scientist',\n",
       "       'Civil_engineer', 'Industrial_Engineer', 'Technology_specialist'],\n",
       "      dtype=object)"
      ]
     },
     "execution_count": 16,
     "metadata": {},
     "output_type": "execute_result"
    }
   ],
   "source": [
    "df.Profession.unique()"
   ]
  },
  {
   "cell_type": "code",
   "execution_count": 17,
   "id": "02aa7839-fc61-491a-b83a-13a1edae6747",
   "metadata": {},
   "outputs": [
    {
     "data": {
      "text/plain": [
       "array(['Rewa', 'Parbhani', 'Alappuzha', 'Bhubaneswar',\n",
       "       'Tiruchirappalli[10]', 'Jalgaon', 'Tiruppur', 'Jamnagar',\n",
       "       'Kota[6]', 'Karimnagar', 'Hajipur[31]', 'Adoni', 'Erode[17]',\n",
       "       'Kollam', 'Madurai', 'Anantapuram[24]', 'Kamarhati', 'Bhusawal',\n",
       "       'Sirsa', 'Amaravati', 'Secunderabad', 'Ahmedabad', 'Ajmer',\n",
       "       'Ongole', 'Miryalaguda', 'Ambattur', 'Indore', 'Pondicherry',\n",
       "       'Shimoga', 'Chennai', 'Gulbarga', 'Khammam', 'Saharanpur',\n",
       "       'Gopalpur', 'Amravati', 'Udupi', 'Howrah', 'Aurangabad[39]',\n",
       "       'Hospet', 'Shimla', 'Khandwa', 'Bidhannagar', 'Bellary', 'Danapur',\n",
       "       'Purnia[26]', 'Bijapur', 'Patiala', 'Malda', 'Sagar', 'Durgapur',\n",
       "       'Junagadh', 'Singrauli', 'Agartala', 'Thanjavur', 'Hindupur',\n",
       "       'Naihati', 'North_Dumdum', 'Panchkula', 'Anantapur', 'Serampore',\n",
       "       'Bathinda', 'Nadiad', 'Kanpur', 'Haridwar', 'Berhampur',\n",
       "       'Jamshedpur', 'Hyderabad', 'Bidar', 'Kottayam', 'Solapur',\n",
       "       'Suryapet', 'Aizawl', 'Asansol', 'Deoghar', 'Eluru[25]',\n",
       "       'Ulhasnagar', 'Aligarh', 'South_Dumdum', 'Berhampore',\n",
       "       'Gandhinagar', 'Sonipat', 'Muzaffarpur', 'Raichur',\n",
       "       'Rajpur_Sonarpur', 'Ambarnath', 'Katihar', 'Kozhikode', 'Vellore',\n",
       "       'Malegaon', 'Kochi', 'Nagaon', 'Nagpur', 'Srinagar', 'Davanagere',\n",
       "       'Bhagalpur', 'Siwan[32]', 'Meerut', 'Dindigul', 'Bhatpara',\n",
       "       'Ghaziabad', 'Kulti', 'Chapra', 'Dibrugarh', 'Panihati',\n",
       "       'Bhiwandi', 'Morbi', 'Kalyan-Dombivli', 'Gorakhpur', 'Panvel',\n",
       "       'Siliguri', 'Bongaigaon', 'Patna', 'Ramgarh', 'Ozhukarai',\n",
       "       'Mirzapur', 'Akola', 'Satna', 'Motihari[34]', 'Jalna', 'Jalandhar',\n",
       "       'Unnao', 'Karnal', 'Cuttack', 'Proddatur', 'Ichalkaranji',\n",
       "       'Warangal[11][12]', 'Jhansi', 'Bulandshahr', 'Narasaraopet',\n",
       "       'Chinsurah', 'Jehanabad[38]', 'Dhanbad', 'Gudivada', 'Gandhidham',\n",
       "       'Raiganj', 'Kishanganj[35]', 'Varanasi', 'Belgaum',\n",
       "       'Tirupati[21][22]', 'Tumkur', 'Coimbatore', 'Kurnool[18]',\n",
       "       'Gurgaon', 'Muzaffarnagar', 'Aurangabad', 'Bhavnagar', 'Arrah',\n",
       "       'Munger', 'Tirunelveli', 'Mumbai', 'Mango', 'Nashik', 'Kadapa[23]',\n",
       "       'Amritsar', 'Khora,_Ghaziabad', 'Ambala', 'Agra', 'Ratlam',\n",
       "       'Surendranagar_Dudhrej', 'Delhi_city', 'Bhopal', 'Hapur', 'Rohtak',\n",
       "       'Durg', 'Korba', 'Bangalore', 'Shivpuri', 'Thrissur',\n",
       "       'Vijayanagaram', 'Farrukhabad', 'Nangloi_Jat', 'Madanapalle',\n",
       "       'Thoothukudi', 'Nagercoil', 'Gaya', 'Chandigarh_city', 'Jammu[16]',\n",
       "       'Kakinada', 'Dewas', 'Bhalswa_Jahangir_Pur', 'Baranagar',\n",
       "       'Firozabad', 'Phusro', 'Allahabad', 'Guna', 'Thane', 'Etawah',\n",
       "       'Vasai-Virar', 'Pallavaram', 'Morena', 'Ballia', 'Surat',\n",
       "       'Burhanpur', 'Phagwara', 'Mau', 'Mangalore', 'Alwar',\n",
       "       'Mahbubnagar', 'Maheshtala', 'Hazaribagh', 'Bihar_Sharif',\n",
       "       'Faridabad', 'Lucknow', 'Tenali', 'Barasat', 'Amroha', 'Giridih',\n",
       "       'Begusarai', 'Medininagar', 'Rajahmundry[19][20]', 'Saharsa[29]',\n",
       "       'New_Delhi', 'Bhilai', 'Moradabad', 'Machilipatnam',\n",
       "       'Mira-Bhayandar', 'Pali', 'Navi_Mumbai', 'Mehsana', 'Imphal',\n",
       "       'Kolkata', 'Sambalpur', 'Ujjain', 'Madhyamgram', 'Jabalpur',\n",
       "       'Jamalpur[36]', 'Ludhiana', 'Bareilly', 'Gangtok', 'Anand',\n",
       "       'Dehradun', 'Pune', 'Satara', 'Srikakulam', 'Raipur', 'Jodhpur',\n",
       "       'Darbhanga', 'Nizamabad', 'Nandyal', 'Dehri[30]', 'Jorhat',\n",
       "       'Ranchi', 'Kumbakonam', 'Guntakal', 'Haldia', 'Loni',\n",
       "       'Pimpri-Chinchwad', 'Rajkot', 'Nanded', 'Noida',\n",
       "       'Kirari_Suleman_Nagar', 'Jaunpur', 'Bilaspur', 'Sambhal', 'Dhule',\n",
       "       'Rourkela', 'Thiruvananthapuram', 'Dharmavaram', 'Nellore[14][15]',\n",
       "       'Visakhapatnam[4]', 'Karawal_Nagar', 'Jaipur', 'Avadi',\n",
       "       'Bhimavaram', 'Bardhaman', 'Silchar', 'Buxar[37]', 'Kavali',\n",
       "       'Tezpur', 'Ramagundam[27]', 'Yamunanagar', 'Sri_Ganganagar',\n",
       "       'Sasaram[30]', 'Sikar', 'Bally', 'Bhiwani', 'Rampur', 'Uluberia',\n",
       "       'Sangli-Miraj_&_Kupwad', 'Hosur', 'Bikaner', 'Shahjahanpur',\n",
       "       'Sultan_Pur_Majra', 'Vijayawada', 'Bharatpur', 'Tadepalligudem',\n",
       "       'Tinsukia', 'Salem', 'Mathura', 'Guntur[13]', 'Hubliâ€“Dharwad',\n",
       "       'Guwahati', 'Chittoor[28]', 'Tiruvottiyur', 'Vadodara',\n",
       "       'Ahmednagar', 'Fatehpur', 'Bhilwara', 'Kharagpur', 'Bettiah[33]',\n",
       "       'Bhind', 'Bokaro', 'Karaikudi', 'Raebareli', 'Pudukkottai',\n",
       "       'Udaipur', 'Mysore[7][8][9]', 'Panipat', 'Latur', 'Tadipatri',\n",
       "       'Bahraich', 'Orai', 'Raurkela_Industrial_Township', 'Gwalior',\n",
       "       'Katni', 'Chandrapur', 'Kolhapur'], dtype=object)"
      ]
     },
     "execution_count": 17,
     "metadata": {},
     "output_type": "execute_result"
    }
   ],
   "source": [
    "df.CITY.unique()"
   ]
  },
  {
   "cell_type": "code",
   "execution_count": 18,
   "id": "33bb3075-c495-448a-b41a-233230d24829",
   "metadata": {},
   "outputs": [
    {
     "data": {
      "text/plain": [
       "array(['Madhya_Pradesh', 'Maharashtra', 'Kerala', 'Odisha', 'Tamil_Nadu',\n",
       "       'Gujarat', 'Rajasthan', 'Telangana', 'Bihar', 'Andhra_Pradesh',\n",
       "       'West_Bengal', 'Haryana', 'Puducherry', 'Karnataka',\n",
       "       'Uttar_Pradesh', 'Himachal_Pradesh', 'Punjab', 'Tripura',\n",
       "       'Uttarakhand', 'Jharkhand', 'Mizoram', 'Assam',\n",
       "       'Jammu_and_Kashmir', 'Delhi', 'Chhattisgarh', 'Chandigarh',\n",
       "       'Uttar_Pradesh[5]', 'Manipur', 'Sikkim'], dtype=object)"
      ]
     },
     "execution_count": 18,
     "metadata": {},
     "output_type": "execute_result"
    }
   ],
   "source": [
    "df.STATE.unique()"
   ]
  },
  {
   "cell_type": "markdown",
   "id": "a4d52c15-ee53-43a8-8b31-c97833e3350e",
   "metadata": {},
   "source": [
    "##### Note:\n",
    "###### We can see above that there are many City names and also State that have a parantheses \n",
    "###### bracket characters and numbers that are not clear what they mean, let's clean that up later.\n",
    "\n",
    "###### This dataset column is very inconsistent and neat, this can cause confusion or typing errors\n",
    "###### in the future, let's change it so we can more easily analyze and predict it later."
   ]
  },
  {
   "cell_type": "markdown",
   "id": "dcb095d5-a391-46c0-9e32-a6ff39b0ff22",
   "metadata": {},
   "source": [
    "## Data Cleaning\n",
    "### 4.1 Checking and cleaning"
   ]
  },
  {
   "cell_type": "code",
   "execution_count": 19,
   "id": "bc79f8dc-5962-4bdd-b708-41f719800245",
   "metadata": {},
   "outputs": [
    {
     "data": {
      "text/plain": [
       "Index(['Id', 'Income', 'Age', 'Experience', 'Married/Single', 'House_Ownership', 'Car_Ownership',\n",
       "       'Profession', 'CITY', 'STATE', 'CURRENT_JOB_YRS', 'CURRENT_HOUSE_YRS', 'Risk_Flag'],\n",
       "      dtype='object')"
      ]
     },
     "execution_count": 19,
     "metadata": {},
     "output_type": "execute_result"
    }
   ],
   "source": [
    "df.columns"
   ]
  },
  {
   "cell_type": "code",
   "execution_count": 20,
   "id": "d5e8f2e0-4e87-4dc7-9058-72e45b95cd24",
   "metadata": {},
   "outputs": [
    {
     "data": {
      "text/plain": [
       "Index(['id', 'income', 'age', 'experience', 'married/single', 'house_ownership', 'car_ownership',\n",
       "       'profession', 'city', 'state', 'current_job_yrs', 'current_house_yrs', 'risk_flag'],\n",
       "      dtype='object')"
      ]
     },
     "execution_count": 20,
     "metadata": {},
     "output_type": "execute_result"
    }
   ],
   "source": [
    "df.columns = df.columns.str.lower()\n",
    "df.columns"
   ]
  },
  {
   "cell_type": "code",
   "execution_count": 21,
   "id": "dd76eba4-c090-4db0-b3c2-1a589cb0e55a",
   "metadata": {},
   "outputs": [
    {
     "data": {
      "text/plain": [
       "Index(['id', 'income', 'age', 'experience', 'married_single', 'house_ownership', 'car_ownership',\n",
       "       'profession', 'city', 'state', 'current_job_yrs', 'current_house_yrs', 'risk_flag'],\n",
       "      dtype='object')"
      ]
     },
     "execution_count": 21,
     "metadata": {},
     "output_type": "execute_result"
    }
   ],
   "source": [
    "df.rename(columns={\"married/single\": \"married_single\"}, inplace=True)\n",
    "df.columns"
   ]
  },
  {
   "cell_type": "markdown",
   "id": "6367cd68-b777-4267-8ed9-98059ef8913c",
   "metadata": {},
   "source": [
    "##### Great! now into the city and state variables, let's clean the characters!"
   ]
  },
  {
   "cell_type": "code",
   "execution_count": 22,
   "id": "96431f90-7fbf-4db6-9792-704364e3ee59",
   "metadata": {},
   "outputs": [
    {
     "data": {
      "text/plain": [
       "array(['Rewa', 'Parbhani', 'Alappuzha', 'Bhubaneswar', 'Tiruchirappalli',\n",
       "       'Jalgaon', 'Tiruppur', 'Jamnagar', 'Kota', 'Karimnagar', 'Hajipur',\n",
       "       'Adoni', 'Erode', 'Kollam', 'Madurai', 'Anantapuram', 'Kamarhati',\n",
       "       'Bhusawal', 'Sirsa', 'Amaravati', 'Secunderabad', 'Ahmedabad',\n",
       "       'Ajmer', 'Ongole', 'Miryalaguda', 'Ambattur', 'Indore',\n",
       "       'Pondicherry', 'Shimoga', 'Chennai', 'Gulbarga', 'Khammam',\n",
       "       'Saharanpur', 'Gopalpur', 'Amravati', 'Udupi', 'Howrah',\n",
       "       'Aurangabad', 'Hospet', 'Shimla', 'Khandwa', 'Bidhannagar',\n",
       "       'Bellary', 'Danapur', 'Purnia', 'Bijapur', 'Patiala', 'Malda',\n",
       "       'Sagar', 'Durgapur', 'Junagadh', 'Singrauli', 'Agartala',\n",
       "       'Thanjavur', 'Hindupur', 'Naihati', 'North', 'Panchkula',\n",
       "       'Anantapur', 'Serampore', 'Bathinda', 'Nadiad', 'Kanpur',\n",
       "       'Haridwar', 'Berhampur', 'Jamshedpur', 'Hyderabad', 'Bidar',\n",
       "       'Kottayam', 'Solapur', 'Suryapet', 'Aizawl', 'Asansol', 'Deoghar',\n",
       "       'Eluru', 'Ulhasnagar', 'Aligarh', 'South', 'Berhampore',\n",
       "       'Gandhinagar', 'Sonipat', 'Muzaffarpur', 'Raichur', 'Rajpur',\n",
       "       'Ambarnath', 'Katihar', 'Kozhikode', 'Vellore', 'Malegaon',\n",
       "       'Kochi', 'Nagaon', 'Nagpur', 'Srinagar', 'Davanagere', 'Bhagalpur',\n",
       "       'Siwan', 'Meerut', 'Dindigul', 'Bhatpara', 'Ghaziabad', 'Kulti',\n",
       "       'Chapra', 'Dibrugarh', 'Panihati', 'Bhiwandi', 'Morbi', 'Kalyan',\n",
       "       'Gorakhpur', 'Panvel', 'Siliguri', 'Bongaigaon', 'Patna',\n",
       "       'Ramgarh', 'Ozhukarai', 'Mirzapur', 'Akola', 'Satna', 'Motihari',\n",
       "       'Jalna', 'Jalandhar', 'Unnao', 'Karnal', 'Cuttack', 'Proddatur',\n",
       "       'Ichalkaranji', 'Warangal', 'Jhansi', 'Bulandshahr',\n",
       "       'Narasaraopet', 'Chinsurah', 'Jehanabad', 'Dhanbad', 'Gudivada',\n",
       "       'Gandhidham', 'Raiganj', 'Kishanganj', 'Varanasi', 'Belgaum',\n",
       "       'Tirupati', 'Tumkur', 'Coimbatore', 'Kurnool', 'Gurgaon',\n",
       "       'Muzaffarnagar', 'Bhavnagar', 'Arrah', 'Munger', 'Tirunelveli',\n",
       "       'Mumbai', 'Mango', 'Nashik', 'Kadapa', 'Amritsar', 'Khora',\n",
       "       'Ambala', 'Agra', 'Ratlam', 'Surendranagar', 'Delhi', 'Bhopal',\n",
       "       'Hapur', 'Rohtak', 'Durg', 'Korba', 'Bangalore', 'Shivpuri',\n",
       "       'Thrissur', 'Vijayanagaram', 'Farrukhabad', 'Nangloi',\n",
       "       'Madanapalle', 'Thoothukudi', 'Nagercoil', 'Gaya', 'Chandigarh',\n",
       "       'Jammu', 'Kakinada', 'Dewas', 'Bhalswa', 'Baranagar', 'Firozabad',\n",
       "       'Phusro', 'Allahabad', 'Guna', 'Thane', 'Etawah', 'Vasai',\n",
       "       'Pallavaram', 'Morena', 'Ballia', 'Surat', 'Burhanpur', 'Phagwara',\n",
       "       'Mau', 'Mangalore', 'Alwar', 'Mahbubnagar', 'Maheshtala',\n",
       "       'Hazaribagh', 'Bihar', 'Faridabad', 'Lucknow', 'Tenali', 'Barasat',\n",
       "       'Amroha', 'Giridih', 'Begusarai', 'Medininagar', 'Rajahmundry',\n",
       "       'Saharsa', 'New', 'Bhilai', 'Moradabad', 'Machilipatnam', 'Mira',\n",
       "       'Pali', 'Navi', 'Mehsana', 'Imphal', 'Kolkata', 'Sambalpur',\n",
       "       'Ujjain', 'Madhyamgram', 'Jabalpur', 'Jamalpur', 'Ludhiana',\n",
       "       'Bareilly', 'Gangtok', 'Anand', 'Dehradun', 'Pune', 'Satara',\n",
       "       'Srikakulam', 'Raipur', 'Jodhpur', 'Darbhanga', 'Nizamabad',\n",
       "       'Nandyal', 'Dehri', 'Jorhat', 'Ranchi', 'Kumbakonam', 'Guntakal',\n",
       "       'Haldia', 'Loni', 'Pimpri', 'Rajkot', 'Nanded', 'Noida', 'Kirari',\n",
       "       'Jaunpur', 'Bilaspur', 'Sambhal', 'Dhule', 'Rourkela',\n",
       "       'Thiruvananthapuram', 'Dharmavaram', 'Nellore', 'Visakhapatnam',\n",
       "       'Karawal', 'Jaipur', 'Avadi', 'Bhimavaram', 'Bardhaman', 'Silchar',\n",
       "       'Buxar', 'Kavali', 'Tezpur', 'Ramagundam', 'Yamunanagar', 'Sri',\n",
       "       'Sasaram', 'Sikar', 'Bally', 'Bhiwani', 'Rampur', 'Uluberia',\n",
       "       'Sangli', 'Hosur', 'Bikaner', 'Shahjahanpur', 'Sultan',\n",
       "       'Vijayawada', 'Bharatpur', 'Tadepalligudem', 'Tinsukia', 'Salem',\n",
       "       'Mathura', 'Guntur', 'Hubli', 'Guwahati', 'Chittoor',\n",
       "       'Tiruvottiyur', 'Vadodara', 'Ahmednagar', 'Fatehpur', 'Bhilwara',\n",
       "       'Kharagpur', 'Bettiah', 'Bhind', 'Bokaro', 'Karaikudi',\n",
       "       'Raebareli', 'Pudukkottai', 'Udaipur', 'Mysore', 'Panipat',\n",
       "       'Latur', 'Tadipatri', 'Bahraich', 'Orai', 'Raurkela', 'Gwalior',\n",
       "       'Katni', 'Chandrapur', 'Kolhapur'], dtype=object)"
      ]
     },
     "execution_count": 22,
     "metadata": {},
     "output_type": "execute_result"
    }
   ],
   "source": [
    "df.city = df.city.str.extract(\"([A-Za-z]+)\")\n",
    "df.city.unique()"
   ]
  },
  {
   "cell_type": "markdown",
   "id": "272640e5-3c77-4af2-9957-ab35cacb220e",
   "metadata": {},
   "source": [
    "##### Great! now state variable"
   ]
  },
  {
   "cell_type": "code",
   "execution_count": 23,
   "id": "4c863e85-82c6-4fff-9f1e-f4704bc81b17",
   "metadata": {},
   "outputs": [
    {
     "data": {
      "text/plain": [
       "array(['Madhya', 'Maharashtra', 'Kerala', 'Odisha', 'Tamil', 'Gujarat',\n",
       "       'Rajasthan', 'Telangana', 'Bihar', 'Andhra', 'West', 'Haryana',\n",
       "       'Puducherry', 'Karnataka', 'Uttar', 'Himachal', 'Punjab',\n",
       "       'Tripura', 'Uttarakhand', 'Jharkhand', 'Mizoram', 'Assam', 'Jammu',\n",
       "       'Delhi', 'Chhattisgarh', 'Chandigarh', 'Manipur', 'Sikkim'],\n",
       "      dtype=object)"
      ]
     },
     "execution_count": 23,
     "metadata": {},
     "output_type": "execute_result"
    }
   ],
   "source": [
    "df.state = df.state.str.extract(\"([A-Za-z]+)\")\n",
    "df.state.unique()"
   ]
  },
  {
   "cell_type": "markdown",
   "id": "1a0c3c30-28c6-40ec-90ac-54a038071909",
   "metadata": {},
   "source": [
    "#### 4.2 Random Under-Sampling"
   ]
  },
  {
   "cell_type": "code",
   "execution_count": 24,
   "id": "f7847297-1267-4aed-892f-67198f8950d5",
   "metadata": {},
   "outputs": [],
   "source": [
    "# Since our classes are highly skewed we should make them equivalent in order to have a normal distribution of the classes.\n",
    "# Lets shuffle the data before creating the subsamples\n",
    "df = df.sample(frac=1)"
   ]
  },
  {
   "cell_type": "code",
   "execution_count": 25,
   "id": "7d16a8a5-0254-494c-9793-1d474635180d",
   "metadata": {},
   "outputs": [],
   "source": [
    "# amount of fraud classes 492 rows.\n",
    "risk_data = df.loc[df[\"risk_flag\"] == 1]\n",
    "not_risk_data = df.loc[df[\"risk_flag\"] == 0][:30996]\n",
    "\n",
    "normal_distributed_data = pd.concat([risk_data, not_risk_data])"
   ]
  },
  {
   "cell_type": "code",
   "execution_count": 26,
   "id": "396b6ad5-138e-4056-90bf-a5690602483f",
   "metadata": {},
   "outputs": [
    {
     "data": {
      "text/html": [
       "<div>\n",
       "<style scoped>\n",
       "    .dataframe tbody tr th:only-of-type {\n",
       "        vertical-align: middle;\n",
       "    }\n",
       "\n",
       "    .dataframe tbody tr th {\n",
       "        vertical-align: top;\n",
       "    }\n",
       "\n",
       "    .dataframe thead th {\n",
       "        text-align: right;\n",
       "    }\n",
       "</style>\n",
       "<table border=\"1\" class=\"dataframe\">\n",
       "  <thead>\n",
       "    <tr style=\"text-align: right;\">\n",
       "      <th></th>\n",
       "      <th>id</th>\n",
       "      <th>income</th>\n",
       "      <th>age</th>\n",
       "      <th>experience</th>\n",
       "      <th>married_single</th>\n",
       "      <th>house_ownership</th>\n",
       "      <th>car_ownership</th>\n",
       "      <th>profession</th>\n",
       "      <th>city</th>\n",
       "      <th>state</th>\n",
       "      <th>current_job_yrs</th>\n",
       "      <th>current_house_yrs</th>\n",
       "      <th>risk_flag</th>\n",
       "    </tr>\n",
       "  </thead>\n",
       "  <tbody>\n",
       "    <tr>\n",
       "      <th>234422</th>\n",
       "      <td>234423</td>\n",
       "      <td>8163964</td>\n",
       "      <td>26</td>\n",
       "      <td>16</td>\n",
       "      <td>single</td>\n",
       "      <td>rented</td>\n",
       "      <td>no</td>\n",
       "      <td>Chef</td>\n",
       "      <td>Thanjavur</td>\n",
       "      <td>Tamil</td>\n",
       "      <td>13</td>\n",
       "      <td>10</td>\n",
       "      <td>0</td>\n",
       "    </tr>\n",
       "    <tr>\n",
       "      <th>210748</th>\n",
       "      <td>210749</td>\n",
       "      <td>3367218</td>\n",
       "      <td>28</td>\n",
       "      <td>5</td>\n",
       "      <td>single</td>\n",
       "      <td>rented</td>\n",
       "      <td>no</td>\n",
       "      <td>Analyst</td>\n",
       "      <td>Raiganj</td>\n",
       "      <td>West</td>\n",
       "      <td>4</td>\n",
       "      <td>11</td>\n",
       "      <td>0</td>\n",
       "    </tr>\n",
       "    <tr>\n",
       "      <th>206557</th>\n",
       "      <td>206558</td>\n",
       "      <td>5570090</td>\n",
       "      <td>74</td>\n",
       "      <td>1</td>\n",
       "      <td>single</td>\n",
       "      <td>rented</td>\n",
       "      <td>no</td>\n",
       "      <td>Politician</td>\n",
       "      <td>Bardhaman</td>\n",
       "      <td>West</td>\n",
       "      <td>1</td>\n",
       "      <td>11</td>\n",
       "      <td>0</td>\n",
       "    </tr>\n",
       "    <tr>\n",
       "      <th>245081</th>\n",
       "      <td>245082</td>\n",
       "      <td>265595</td>\n",
       "      <td>69</td>\n",
       "      <td>7</td>\n",
       "      <td>single</td>\n",
       "      <td>rented</td>\n",
       "      <td>no</td>\n",
       "      <td>Technical_writer</td>\n",
       "      <td>Unnao</td>\n",
       "      <td>Uttar</td>\n",
       "      <td>4</td>\n",
       "      <td>11</td>\n",
       "      <td>1</td>\n",
       "    </tr>\n",
       "    <tr>\n",
       "      <th>243491</th>\n",
       "      <td>243492</td>\n",
       "      <td>9774235</td>\n",
       "      <td>75</td>\n",
       "      <td>11</td>\n",
       "      <td>single</td>\n",
       "      <td>rented</td>\n",
       "      <td>no</td>\n",
       "      <td>Statistician</td>\n",
       "      <td>Srikakulam</td>\n",
       "      <td>Andhra</td>\n",
       "      <td>7</td>\n",
       "      <td>12</td>\n",
       "      <td>1</td>\n",
       "    </tr>\n",
       "  </tbody>\n",
       "</table>\n",
       "</div>"
      ],
      "text/plain": [
       "            id   income  age  experience married_single house_ownership car_ownership  \\\n",
       "234422  234423  8163964   26          16         single          rented            no   \n",
       "210748  210749  3367218   28           5         single          rented            no   \n",
       "206557  206558  5570090   74           1         single          rented            no   \n",
       "245081  245082   265595   69           7         single          rented            no   \n",
       "243491  243492  9774235   75          11         single          rented            no   \n",
       "\n",
       "              profession        city   state  current_job_yrs  current_house_yrs  risk_flag  \n",
       "234422              Chef   Thanjavur   Tamil               13                 10          0  \n",
       "210748           Analyst     Raiganj    West                4                 11          0  \n",
       "206557        Politician   Bardhaman    West                1                 11          0  \n",
       "245081  Technical_writer       Unnao   Uttar                4                 11          1  \n",
       "243491      Statistician  Srikakulam  Andhra                7                 12          1  "
      ]
     },
     "execution_count": 26,
     "metadata": {},
     "output_type": "execute_result"
    }
   ],
   "source": [
    "# Shuffle dataframe rows\n",
    "loan = normal_distributed_data.sample(frac=1, random_state=42)\n",
    "\n",
    "loan.head()"
   ]
  },
  {
   "cell_type": "markdown",
   "id": "97af5452-5a1d-48dd-b285-c46dd33acf43",
   "metadata": {},
   "source": [
    "#### 4.3 | Equally Distributing and Correlating"
   ]
  },
  {
   "cell_type": "code",
   "execution_count": 27,
   "id": "139d26e4-b8aa-4e4a-b01f-f9c6d4509c48",
   "metadata": {},
   "outputs": [
    {
     "name": "stdout",
     "output_type": "stream",
     "text": [
      "Distribution of the risk_flag in the subsample dataset\n",
      "0   0.500\n",
      "1   0.500\n",
      "Name: risk_flag, dtype: float64\n"
     ]
    },
    {
     "data": {
      "text/plain": [
       "<AxesSubplot:xlabel='risk_flag', ylabel='count'>"
      ]
     },
     "execution_count": 27,
     "metadata": {},
     "output_type": "execute_result"
    },
    {
     "data": {
      "image/png": "[encoded data removed]",
      "text/plain": [
       "<Figure size 432x288 with 1 Axes>"
      ]
     },
     "metadata": {
      "needs_background": "light"
     },
     "output_type": "display_data"
    }
   ],
   "source": [
    "print(\"Distribution of the risk_flag in the subsample dataset\")\n",
    "print(loan[\"risk_flag\"].value_counts() / len(loan))\n",
    "\n",
    "# sns.countplot(\"risk_flag\", data=loan)\n",
    "# plt.title('Equally Distributed Risk Flag', fontsize=14);\n",
    "\n",
    "sns.countplot(x=loan[\"risk_flag\"])\n",
    "plt.show()"
   ]
  },
  {
   "cell_type": "markdown",
   "id": "4ebd3172-a473-4f30-bdf1-605b2cb332f5",
   "metadata": {},
   "source": [
    "##### Now that we have our dataframe correctly balanced, we can go further with our analysis and data preprocessing."
   ]
  },
  {
   "cell_type": "markdown",
   "id": "82579796-e006-4ca0-8823-e5a1ec3afaca",
   "metadata": {},
   "source": [
    "### 5. | Data Analysis"
   ]
  },
  {
   "cell_type": "markdown",
   "id": "806d0752-e955-4002-9a40-c8b616bd1916",
   "metadata": {},
   "source": [
    "##### 5.1 | Descriptive Statistics"
   ]
  },
  {
   "cell_type": "code",
   "execution_count": 28,
   "id": "f6c3bf4e-9cbe-4995-bb4c-24457ebea36a",
   "metadata": {},
   "outputs": [
    {
     "data": {
      "text/html": [
       "<div>\n",
       "<style scoped>\n",
       "    .dataframe tbody tr th:only-of-type {\n",
       "        vertical-align: middle;\n",
       "    }\n",
       "\n",
       "    .dataframe tbody tr th {\n",
       "        vertical-align: top;\n",
       "    }\n",
       "\n",
       "    .dataframe thead th {\n",
       "        text-align: right;\n",
       "    }\n",
       "</style>\n",
       "<table border=\"1\" class=\"dataframe\">\n",
       "  <thead>\n",
       "    <tr style=\"text-align: right;\">\n",
       "      <th></th>\n",
       "      <th>married_single</th>\n",
       "      <th>house_ownership</th>\n",
       "      <th>car_ownership</th>\n",
       "      <th>profession</th>\n",
       "      <th>city</th>\n",
       "      <th>state</th>\n",
       "    </tr>\n",
       "  </thead>\n",
       "  <tbody>\n",
       "    <tr>\n",
       "      <th>count</th>\n",
       "      <td>61992</td>\n",
       "      <td>61992</td>\n",
       "      <td>61992</td>\n",
       "      <td>61992</td>\n",
       "      <td>61992</td>\n",
       "      <td>61992</td>\n",
       "    </tr>\n",
       "    <tr>\n",
       "      <th>unique</th>\n",
       "      <td>2</td>\n",
       "      <td>3</td>\n",
       "      <td>2</td>\n",
       "      <td>51</td>\n",
       "      <td>316</td>\n",
       "      <td>28</td>\n",
       "    </tr>\n",
       "    <tr>\n",
       "      <th>top</th>\n",
       "      <td>single</td>\n",
       "      <td>rented</td>\n",
       "      <td>no</td>\n",
       "      <td>Physician</td>\n",
       "      <td>Srinagar</td>\n",
       "      <td>Uttar</td>\n",
       "    </tr>\n",
       "    <tr>\n",
       "      <th>freq</th>\n",
       "      <td>56111</td>\n",
       "      <td>57605</td>\n",
       "      <td>44033</td>\n",
       "      <td>1473</td>\n",
       "      <td>360</td>\n",
       "      <td>7138</td>\n",
       "    </tr>\n",
       "  </tbody>\n",
       "</table>\n",
       "</div>"
      ],
      "text/plain": [
       "       married_single house_ownership car_ownership profession      city  state\n",
       "count           61992           61992         61992      61992     61992  61992\n",
       "unique              2               3             2         51       316     28\n",
       "top            single          rented            no  Physician  Srinagar  Uttar\n",
       "freq            56111           57605         44033       1473       360   7138"
      ]
     },
     "execution_count": 28,
     "metadata": {},
     "output_type": "execute_result"
    }
   ],
   "source": [
    "loan.describe(exclude=[np.number])"
   ]
  },
  {
   "cell_type": "code",
   "execution_count": 29,
   "id": "df8ba9bb-a740-4d7b-afa9-f9dbe316fe71",
   "metadata": {},
   "outputs": [
    {
     "data": {
      "text/html": [
       "<div>\n",
       "<style scoped>\n",
       "    .dataframe tbody tr th:only-of-type {\n",
       "        vertical-align: middle;\n",
       "    }\n",
       "\n",
       "    .dataframe tbody tr th {\n",
       "        vertical-align: top;\n",
       "    }\n",
       "\n",
       "    .dataframe thead th {\n",
       "        text-align: right;\n",
       "    }\n",
       "</style>\n",
       "<table border=\"1\" class=\"dataframe\">\n",
       "  <thead>\n",
       "    <tr style=\"text-align: right;\">\n",
       "      <th></th>\n",
       "      <th>id</th>\n",
       "      <th>income</th>\n",
       "      <th>age</th>\n",
       "      <th>experience</th>\n",
       "      <th>current_job_yrs</th>\n",
       "      <th>current_house_yrs</th>\n",
       "      <th>risk_flag</th>\n",
       "    </tr>\n",
       "  </thead>\n",
       "  <tbody>\n",
       "    <tr>\n",
       "      <th>count</th>\n",
       "      <td>61992.000</td>\n",
       "      <td>61992.000</td>\n",
       "      <td>61992.000</td>\n",
       "      <td>61992.000</td>\n",
       "      <td>61992.000</td>\n",
       "      <td>61992.000</td>\n",
       "      <td>61992.000</td>\n",
       "    </tr>\n",
       "    <tr>\n",
       "      <th>mean</th>\n",
       "      <td>128517.614</td>\n",
       "      <td>4995481.107</td>\n",
       "      <td>49.524</td>\n",
       "      <td>9.875</td>\n",
       "      <td>6.277</td>\n",
       "      <td>11.990</td>\n",
       "      <td>0.500</td>\n",
       "    </tr>\n",
       "    <tr>\n",
       "      <th>std</th>\n",
       "      <td>76331.842</td>\n",
       "      <td>2893451.226</td>\n",
       "      <td>17.235</td>\n",
       "      <td>6.031</td>\n",
       "      <td>3.691</td>\n",
       "      <td>1.400</td>\n",
       "      <td>0.500</td>\n",
       "    </tr>\n",
       "    <tr>\n",
       "      <th>min</th>\n",
       "      <td>4.000</td>\n",
       "      <td>10310.000</td>\n",
       "      <td>21.000</td>\n",
       "      <td>0.000</td>\n",
       "      <td>0.000</td>\n",
       "      <td>10.000</td>\n",
       "      <td>0.000</td>\n",
       "    </tr>\n",
       "    <tr>\n",
       "      <th>25%</th>\n",
       "      <td>61593.500</td>\n",
       "      <td>2477727.000</td>\n",
       "      <td>34.000</td>\n",
       "      <td>5.000</td>\n",
       "      <td>3.000</td>\n",
       "      <td>11.000</td>\n",
       "      <td>0.000</td>\n",
       "    </tr>\n",
       "    <tr>\n",
       "      <th>50%</th>\n",
       "      <td>128261.500</td>\n",
       "      <td>5018632.500</td>\n",
       "      <td>49.000</td>\n",
       "      <td>10.000</td>\n",
       "      <td>6.000</td>\n",
       "      <td>12.000</td>\n",
       "      <td>0.500</td>\n",
       "    </tr>\n",
       "    <tr>\n",
       "      <th>75%</th>\n",
       "      <td>199062.500</td>\n",
       "      <td>7516713.500</td>\n",
       "      <td>65.000</td>\n",
       "      <td>15.000</td>\n",
       "      <td>9.000</td>\n",
       "      <td>13.000</td>\n",
       "      <td>1.000</td>\n",
       "    </tr>\n",
       "    <tr>\n",
       "      <th>max</th>\n",
       "      <td>251994.000</td>\n",
       "      <td>9999180.000</td>\n",
       "      <td>79.000</td>\n",
       "      <td>20.000</td>\n",
       "      <td>14.000</td>\n",
       "      <td>14.000</td>\n",
       "      <td>1.000</td>\n",
       "    </tr>\n",
       "  </tbody>\n",
       "</table>\n",
       "</div>"
      ],
      "text/plain": [
       "              id      income       age  experience  current_job_yrs  current_house_yrs  risk_flag\n",
       "count  61992.000   61992.000 61992.000   61992.000        61992.000          61992.000  61992.000\n",
       "mean  128517.614 4995481.107    49.524       9.875            6.277             11.990      0.500\n",
       "std    76331.842 2893451.226    17.235       6.031            3.691              1.400      0.500\n",
       "min        4.000   10310.000    21.000       0.000            0.000             10.000      0.000\n",
       "25%    61593.500 2477727.000    34.000       5.000            3.000             11.000      0.000\n",
       "50%   128261.500 5018632.500    49.000      10.000            6.000             12.000      0.500\n",
       "75%   199062.500 7516713.500    65.000      15.000            9.000             13.000      1.000\n",
       "max   251994.000 9999180.000    79.000      20.000           14.000             14.000      1.000"
      ]
     },
     "execution_count": 29,
     "metadata": {},
     "output_type": "execute_result"
    }
   ],
   "source": [
    "loan.describe(include=[np.number])"
   ]
  },
  {
   "cell_type": "code",
   "execution_count": 30,
   "id": "91db4579-9a70-4521-945a-dddda6a75a3f",
   "metadata": {},
   "outputs": [
    {
     "data": {
      "text/html": [
       "<div>\n",
       "<style scoped>\n",
       "    .dataframe tbody tr th:only-of-type {\n",
       "        vertical-align: middle;\n",
       "    }\n",
       "\n",
       "    .dataframe tbody tr th {\n",
       "        vertical-align: top;\n",
       "    }\n",
       "\n",
       "    .dataframe thead th {\n",
       "        text-align: right;\n",
       "    }\n",
       "</style>\n",
       "<table border=\"1\" class=\"dataframe\">\n",
       "  <thead>\n",
       "    <tr style=\"text-align: right;\">\n",
       "      <th>profession</th>\n",
       "      <th>Drafter</th>\n",
       "      <th>Secretary</th>\n",
       "      <th>Economist</th>\n",
       "      <th>Computer_hardware_engineer</th>\n",
       "      <th>Computer_operator</th>\n",
       "      <th>Civil_engineer</th>\n",
       "      <th>Analyst</th>\n",
       "      <th>Official</th>\n",
       "      <th>Police_officer</th>\n",
       "      <th>Biomedical_Engineer</th>\n",
       "      <th>Physician</th>\n",
       "      <th>Industrial_Engineer</th>\n",
       "      <th>Psychologist</th>\n",
       "      <th>Comedian</th>\n",
       "      <th>Chemical_engineer</th>\n",
       "      <th>Technology_specialist</th>\n",
       "      <th>Engineer</th>\n",
       "      <th>Surveyor</th>\n",
       "      <th>Hotel_Manager</th>\n",
       "      <th>Civil_servant</th>\n",
       "      <th>Technician</th>\n",
       "      <th>Magistrate</th>\n",
       "      <th>Dentist</th>\n",
       "      <th>Aviator</th>\n",
       "      <th>Web_designer</th>\n",
       "      <th>Statistician</th>\n",
       "      <th>Designer</th>\n",
       "      <th>Artist</th>\n",
       "      <th>Lawyer</th>\n",
       "      <th>Air_traffic_controller</th>\n",
       "      <th>Architect</th>\n",
       "      <th>Firefighter</th>\n",
       "      <th>Financial_Analyst</th>\n",
       "      <th>Mechanical_engineer</th>\n",
       "      <th>Scientist</th>\n",
       "      <th>Geologist</th>\n",
       "      <th>Consultant</th>\n",
       "      <th>Army_officer</th>\n",
       "      <th>Microbiologist</th>\n",
       "      <th>Software_Developer</th>\n",
       "      <th>Surgeon</th>\n",
       "      <th>Chartered_Accountant</th>\n",
       "      <th>Chef</th>\n",
       "      <th>Politician</th>\n",
       "      <th>Technical_writer</th>\n",
       "      <th>Flight_attendant</th>\n",
       "      <th>Fashion_Designer</th>\n",
       "      <th>Design_Engineer</th>\n",
       "      <th>Librarian</th>\n",
       "      <th>Petroleum_Engineer</th>\n",
       "      <th>Graphic_Designer</th>\n",
       "    </tr>\n",
       "  </thead>\n",
       "  <tbody>\n",
       "    <tr>\n",
       "      <th>min</th>\n",
       "      <td>64805.000</td>\n",
       "      <td>143036.000</td>\n",
       "      <td>16890.000</td>\n",
       "      <td>13357.000</td>\n",
       "      <td>41719.000</td>\n",
       "      <td>36017.000</td>\n",
       "      <td>91459.000</td>\n",
       "      <td>13629.000</td>\n",
       "      <td>13557.000</td>\n",
       "      <td>51974.000</td>\n",
       "      <td>12608.000</td>\n",
       "      <td>21995.000</td>\n",
       "      <td>53850.000</td>\n",
       "      <td>13429.000</td>\n",
       "      <td>26926.000</td>\n",
       "      <td>23240.000</td>\n",
       "      <td>10310.000</td>\n",
       "      <td>11114.000</td>\n",
       "      <td>17801.000</td>\n",
       "      <td>11430.000</td>\n",
       "      <td>16045.000</td>\n",
       "      <td>67459.000</td>\n",
       "      <td>69549.000</td>\n",
       "      <td>130180.000</td>\n",
       "      <td>57769.000</td>\n",
       "      <td>46244.000</td>\n",
       "      <td>92747.000</td>\n",
       "      <td>31297.000</td>\n",
       "      <td>36775.000</td>\n",
       "      <td>33649.000</td>\n",
       "      <td>25096.000</td>\n",
       "      <td>29380.000</td>\n",
       "      <td>25268.000</td>\n",
       "      <td>56449.000</td>\n",
       "      <td>28561.000</td>\n",
       "      <td>62100.000</td>\n",
       "      <td>28519.000</td>\n",
       "      <td>12902.000</td>\n",
       "      <td>43418.000</td>\n",
       "      <td>51528.000</td>\n",
       "      <td>18215.000</td>\n",
       "      <td>23621.000</td>\n",
       "      <td>15016.000</td>\n",
       "      <td>98356.000</td>\n",
       "      <td>44078.000</td>\n",
       "      <td>11695.000</td>\n",
       "      <td>12766.000</td>\n",
       "      <td>53886.000</td>\n",
       "      <td>59715.000</td>\n",
       "      <td>80603.000</td>\n",
       "      <td>10675.000</td>\n",
       "    </tr>\n",
       "    <tr>\n",
       "      <th>max</th>\n",
       "      <td>9999180.000</td>\n",
       "      <td>9998070.000</td>\n",
       "      <td>9994882.000</td>\n",
       "      <td>9994501.000</td>\n",
       "      <td>9993961.000</td>\n",
       "      <td>9992141.000</td>\n",
       "      <td>9992133.000</td>\n",
       "      <td>9991569.000</td>\n",
       "      <td>9987955.000</td>\n",
       "      <td>9987812.000</td>\n",
       "      <td>9987805.000</td>\n",
       "      <td>9986330.000</td>\n",
       "      <td>9985964.000</td>\n",
       "      <td>9984878.000</td>\n",
       "      <td>9984718.000</td>\n",
       "      <td>9984686.000</td>\n",
       "      <td>9983889.000</td>\n",
       "      <td>9983788.000</td>\n",
       "      <td>9983764.000</td>\n",
       "      <td>9983131.000</td>\n",
       "      <td>9982680.000</td>\n",
       "      <td>9982430.000</td>\n",
       "      <td>9981314.000</td>\n",
       "      <td>9980508.000</td>\n",
       "      <td>9980350.000</td>\n",
       "      <td>9978516.000</td>\n",
       "      <td>9978110.000</td>\n",
       "      <td>9976619.000</td>\n",
       "      <td>9976302.000</td>\n",
       "      <td>9975789.000</td>\n",
       "      <td>9974540.000</td>\n",
       "      <td>9974101.000</td>\n",
       "      <td>9972303.000</td>\n",
       "      <td>9971347.000</td>\n",
       "      <td>9970052.000</td>\n",
       "      <td>9969924.000</td>\n",
       "      <td>9967854.000</td>\n",
       "      <td>9967074.000</td>\n",
       "      <td>9962662.000</td>\n",
       "      <td>9962479.000</td>\n",
       "      <td>9962127.000</td>\n",
       "      <td>9960967.000</td>\n",
       "      <td>9952217.000</td>\n",
       "      <td>9945612.000</td>\n",
       "      <td>9945173.000</td>\n",
       "      <td>9939884.000</td>\n",
       "      <td>9915463.000</td>\n",
       "      <td>9913743.000</td>\n",
       "      <td>9908353.000</td>\n",
       "      <td>9904501.000</td>\n",
       "      <td>9856462.000</td>\n",
       "    </tr>\n",
       "    <tr>\n",
       "      <th>mean</th>\n",
       "      <td>4344757.482</td>\n",
       "      <td>5443830.758</td>\n",
       "      <td>4823541.805</td>\n",
       "      <td>5282945.330</td>\n",
       "      <td>5035761.595</td>\n",
       "      <td>5029754.449</td>\n",
       "      <td>4871672.420</td>\n",
       "      <td>4670518.722</td>\n",
       "      <td>4466572.133</td>\n",
       "      <td>5292927.262</td>\n",
       "      <td>4762333.024</td>\n",
       "      <td>4991899.451</td>\n",
       "      <td>5265301.206</td>\n",
       "      <td>5129192.090</td>\n",
       "      <td>5594175.861</td>\n",
       "      <td>4859572.305</td>\n",
       "      <td>4629449.878</td>\n",
       "      <td>5319543.721</td>\n",
       "      <td>4847886.408</td>\n",
       "      <td>4925930.467</td>\n",
       "      <td>5136913.106</td>\n",
       "      <td>4732258.875</td>\n",
       "      <td>4957795.211</td>\n",
       "      <td>5001975.064</td>\n",
       "      <td>5135221.926</td>\n",
       "      <td>4849879.859</td>\n",
       "      <td>5366743.140</td>\n",
       "      <td>5002041.826</td>\n",
       "      <td>5141886.029</td>\n",
       "      <td>4788650.777</td>\n",
       "      <td>5186980.922</td>\n",
       "      <td>5048642.486</td>\n",
       "      <td>4860249.341</td>\n",
       "      <td>4906648.941</td>\n",
       "      <td>5744072.543</td>\n",
       "      <td>4782770.081</td>\n",
       "      <td>4624966.073</td>\n",
       "      <td>5627673.174</td>\n",
       "      <td>4907235.812</td>\n",
       "      <td>4625131.239</td>\n",
       "      <td>5187485.368</td>\n",
       "      <td>5150045.203</td>\n",
       "      <td>5175350.180</td>\n",
       "      <td>4769210.240</td>\n",
       "      <td>5104544.359</td>\n",
       "      <td>4531073.534</td>\n",
       "      <td>5014957.262</td>\n",
       "      <td>4760474.636</td>\n",
       "      <td>4878771.424</td>\n",
       "      <td>5435300.564</td>\n",
       "      <td>4745209.366</td>\n",
       "    </tr>\n",
       "  </tbody>\n",
       "</table>\n",
       "</div>"
      ],
      "text/plain": [
       "profession     Drafter   Secretary   Economist  Computer_hardware_engineer  Computer_operator  \\\n",
       "min          64805.000  143036.000   16890.000                   13357.000          41719.000   \n",
       "max        9999180.000 9998070.000 9994882.000                 9994501.000        9993961.000   \n",
       "mean       4344757.482 5443830.758 4823541.805                 5282945.330        5035761.595   \n",
       "\n",
       "profession  Civil_engineer     Analyst    Official  Police_officer  Biomedical_Engineer  \\\n",
       "min              36017.000   91459.000   13629.000       13557.000            51974.000   \n",
       "max            9992141.000 9992133.000 9991569.000     9987955.000          9987812.000   \n",
       "mean           5029754.449 4871672.420 4670518.722     4466572.133          5292927.262   \n",
       "\n",
       "profession   Physician  Industrial_Engineer  Psychologist    Comedian  Chemical_engineer  \\\n",
       "min          12608.000            21995.000     53850.000   13429.000          26926.000   \n",
       "max        9987805.000          9986330.000   9985964.000 9984878.000        9984718.000   \n",
       "mean       4762333.024          4991899.451   5265301.206 5129192.090        5594175.861   \n",
       "\n",
       "profession  Technology_specialist    Engineer    Surveyor  Hotel_Manager  Civil_servant  \\\n",
       "min                     23240.000   10310.000   11114.000      17801.000      11430.000   \n",
       "max                   9984686.000 9983889.000 9983788.000    9983764.000    9983131.000   \n",
       "mean                  4859572.305 4629449.878 5319543.721    4847886.408    4925930.467   \n",
       "\n",
       "profession  Technician  Magistrate     Dentist     Aviator  Web_designer  Statistician  \\\n",
       "min          16045.000   67459.000   69549.000  130180.000     57769.000     46244.000   \n",
       "max        9982680.000 9982430.000 9981314.000 9980508.000   9980350.000   9978516.000   \n",
       "mean       5136913.106 4732258.875 4957795.211 5001975.064   5135221.926   4849879.859   \n",
       "\n",
       "profession    Designer      Artist      Lawyer  Air_traffic_controller   Architect  Firefighter  \\\n",
       "min          92747.000   31297.000   36775.000               33649.000   25096.000    29380.000   \n",
       "max        9978110.000 9976619.000 9976302.000             9975789.000 9974540.000  9974101.000   \n",
       "mean       5366743.140 5002041.826 5141886.029             4788650.777 5186980.922  5048642.486   \n",
       "\n",
       "profession  Financial_Analyst  Mechanical_engineer   Scientist   Geologist  Consultant  \\\n",
       "min                 25268.000            56449.000   28561.000   62100.000   28519.000   \n",
       "max               9972303.000          9971347.000 9970052.000 9969924.000 9967854.000   \n",
       "mean              4860249.341          4906648.941 5744072.543 4782770.081 4624966.073   \n",
       "\n",
       "profession  Army_officer  Microbiologist  Software_Developer     Surgeon  Chartered_Accountant  \\\n",
       "min            12902.000       43418.000           51528.000   18215.000             23621.000   \n",
       "max          9967074.000     9962662.000         9962479.000 9962127.000           9960967.000   \n",
       "mean         5627673.174     4907235.812         4625131.239 5187485.368           5150045.203   \n",
       "\n",
       "profession        Chef  Politician  Technical_writer  Flight_attendant  Fashion_Designer  \\\n",
       "min          15016.000   98356.000         44078.000         11695.000         12766.000   \n",
       "max        9952217.000 9945612.000       9945173.000       9939884.000       9915463.000   \n",
       "mean       5175350.180 4769210.240       5104544.359       4531073.534       5014957.262   \n",
       "\n",
       "profession  Design_Engineer   Librarian  Petroleum_Engineer  Graphic_Designer  \n",
       "min               53886.000   59715.000           80603.000         10675.000  \n",
       "max             9913743.000 9908353.000         9904501.000       9856462.000  \n",
       "mean            4760474.636 4878771.424         5435300.564       4745209.366  "
      ]
     },
     "execution_count": 30,
     "metadata": {},
     "output_type": "execute_result"
    }
   ],
   "source": [
    "# Grouping profession by its income in min, max, and mean\n",
    "loan.groupby(\"profession\")[\"income\"].agg([\"min\", \"max\", \"mean\"]).sort_values(by=\"max\", ascending=False).T"
   ]
  },
  {
   "cell_type": "code",
   "execution_count": 31,
   "id": "832f82d3-329e-4fcf-acee-facb622ff785",
   "metadata": {},
   "outputs": [
    {
     "data": {
      "text/html": [
       "<div>\n",
       "<style scoped>\n",
       "    .dataframe tbody tr th:only-of-type {\n",
       "        vertical-align: middle;\n",
       "    }\n",
       "\n",
       "    .dataframe tbody tr th {\n",
       "        vertical-align: top;\n",
       "    }\n",
       "\n",
       "    .dataframe thead th {\n",
       "        text-align: right;\n",
       "    }\n",
       "</style>\n",
       "<table border=\"1\" class=\"dataframe\">\n",
       "  <thead>\n",
       "    <tr style=\"text-align: right;\">\n",
       "      <th>city</th>\n",
       "      <th>Bhubaneswar</th>\n",
       "      <th>Bettiah</th>\n",
       "      <th>Kottayam</th>\n",
       "      <th>Purnia</th>\n",
       "      <th>Sikar</th>\n",
       "      <th>Barasat</th>\n",
       "      <th>Raiganj</th>\n",
       "      <th>Kochi</th>\n",
       "      <th>Satna</th>\n",
       "      <th>Ahmedabad</th>\n",
       "      <th>Buxar</th>\n",
       "      <th>Bardhaman</th>\n",
       "      <th>Gwalior</th>\n",
       "      <th>Ramagundam</th>\n",
       "      <th>Imphal</th>\n",
       "      <th>Guntur</th>\n",
       "      <th>Gandhidham</th>\n",
       "      <th>Muzaffarnagar</th>\n",
       "      <th>Haldia</th>\n",
       "      <th>Dehri</th>\n",
       "      <th>Kavali</th>\n",
       "      <th>Udaipur</th>\n",
       "      <th>Mathura</th>\n",
       "      <th>Mango</th>\n",
       "      <th>Ghaziabad</th>\n",
       "      <th>Mysore</th>\n",
       "      <th>Moradabad</th>\n",
       "      <th>Hazaribagh</th>\n",
       "      <th>North</th>\n",
       "      <th>Chandrapur</th>\n",
       "      <th>...</th>\n",
       "      <th>Ahmednagar</th>\n",
       "      <th>Vellore</th>\n",
       "      <th>Malegaon</th>\n",
       "      <th>Amroha</th>\n",
       "      <th>Gangtok</th>\n",
       "      <th>Karnal</th>\n",
       "      <th>Orai</th>\n",
       "      <th>Khora</th>\n",
       "      <th>Raichur</th>\n",
       "      <th>South</th>\n",
       "      <th>Bhagalpur</th>\n",
       "      <th>Katni</th>\n",
       "      <th>Warangal</th>\n",
       "      <th>Karaikudi</th>\n",
       "      <th>Tadipatri</th>\n",
       "      <th>Noida</th>\n",
       "      <th>Berhampur</th>\n",
       "      <th>Hosur</th>\n",
       "      <th>Belgaum</th>\n",
       "      <th>Panihati</th>\n",
       "      <th>Latur</th>\n",
       "      <th>Bareilly</th>\n",
       "      <th>Bangalore</th>\n",
       "      <th>Mehsana</th>\n",
       "      <th>Rajpur</th>\n",
       "      <th>Mira</th>\n",
       "      <th>Bijapur</th>\n",
       "      <th>Sultan</th>\n",
       "      <th>Gandhinagar</th>\n",
       "      <th>Dehradun</th>\n",
       "    </tr>\n",
       "  </thead>\n",
       "  <tbody>\n",
       "    <tr>\n",
       "      <th>risk_flag</th>\n",
       "      <td>77.647</td>\n",
       "      <td>73.054</td>\n",
       "      <td>72.908</td>\n",
       "      <td>72.840</td>\n",
       "      <td>71.004</td>\n",
       "      <td>70.790</td>\n",
       "      <td>70.782</td>\n",
       "      <td>70.435</td>\n",
       "      <td>70.091</td>\n",
       "      <td>69.271</td>\n",
       "      <td>69.091</td>\n",
       "      <td>68.636</td>\n",
       "      <td>68.571</td>\n",
       "      <td>68.304</td>\n",
       "      <td>68.030</td>\n",
       "      <td>67.660</td>\n",
       "      <td>67.355</td>\n",
       "      <td>66.827</td>\n",
       "      <td>65.537</td>\n",
       "      <td>65.534</td>\n",
       "      <td>65.141</td>\n",
       "      <td>65.000</td>\n",
       "      <td>64.889</td>\n",
       "      <td>64.725</td>\n",
       "      <td>64.686</td>\n",
       "      <td>64.683</td>\n",
       "      <td>64.362</td>\n",
       "      <td>63.971</td>\n",
       "      <td>63.514</td>\n",
       "      <td>63.433</td>\n",
       "      <td>...</td>\n",
       "      <td>31.933</td>\n",
       "      <td>31.905</td>\n",
       "      <td>31.609</td>\n",
       "      <td>31.606</td>\n",
       "      <td>30.435</td>\n",
       "      <td>30.201</td>\n",
       "      <td>29.282</td>\n",
       "      <td>29.167</td>\n",
       "      <td>29.167</td>\n",
       "      <td>28.495</td>\n",
       "      <td>28.481</td>\n",
       "      <td>28.000</td>\n",
       "      <td>27.473</td>\n",
       "      <td>27.273</td>\n",
       "      <td>26.804</td>\n",
       "      <td>26.531</td>\n",
       "      <td>26.263</td>\n",
       "      <td>25.806</td>\n",
       "      <td>25.581</td>\n",
       "      <td>23.977</td>\n",
       "      <td>23.469</td>\n",
       "      <td>23.280</td>\n",
       "      <td>23.077</td>\n",
       "      <td>22.517</td>\n",
       "      <td>22.388</td>\n",
       "      <td>21.600</td>\n",
       "      <td>21.505</td>\n",
       "      <td>19.780</td>\n",
       "      <td>17.347</td>\n",
       "      <td>14.935</td>\n",
       "    </tr>\n",
       "  </tbody>\n",
       "</table>\n",
       "<p>1 rows × 316 columns</p>\n",
       "</div>"
      ],
      "text/plain": [
       "city       Bhubaneswar  Bettiah  Kottayam  Purnia  Sikar  Barasat  Raiganj  Kochi  Satna  \\\n",
       "risk_flag       77.647   73.054    72.908  72.840 71.004   70.790   70.782 70.435 70.091   \n",
       "\n",
       "city       Ahmedabad  Buxar  Bardhaman  Gwalior  Ramagundam  Imphal  Guntur  Gandhidham  \\\n",
       "risk_flag     69.271 69.091     68.636   68.571      68.304  68.030  67.660      67.355   \n",
       "\n",
       "city       Muzaffarnagar  Haldia  Dehri  Kavali  Udaipur  Mathura  Mango  Ghaziabad  Mysore  \\\n",
       "risk_flag         66.827  65.537 65.534  65.141   65.000   64.889 64.725     64.686  64.683   \n",
       "\n",
       "city       Moradabad  Hazaribagh  North  Chandrapur  ...  Ahmednagar  Vellore  Malegaon  Amroha  \\\n",
       "risk_flag     64.362      63.971 63.514      63.433  ...      31.933   31.905    31.609  31.606   \n",
       "\n",
       "city       Gangtok  Karnal   Orai  Khora  Raichur  South  Bhagalpur  Katni  Warangal  Karaikudi  \\\n",
       "risk_flag   30.435  30.201 29.282 29.167   29.167 28.495     28.481 28.000    27.473     27.273   \n",
       "\n",
       "city       Tadipatri  Noida  Berhampur  Hosur  Belgaum  Panihati  Latur  Bareilly  Bangalore  \\\n",
       "risk_flag     26.804 26.531     26.263 25.806   25.581    23.977 23.469    23.280     23.077   \n",
       "\n",
       "city       Mehsana  Rajpur   Mira  Bijapur  Sultan  Gandhinagar  Dehradun  \n",
       "risk_flag   22.517  22.388 21.600   21.505  19.780       17.347    14.935  \n",
       "\n",
       "[1 rows x 316 columns]"
      ]
     },
     "execution_count": 31,
     "metadata": {},
     "output_type": "execute_result"
    }
   ],
   "source": [
    "# The average risk percentage of each city\n",
    "loan.groupby([\"city\"]).risk_flag.apply(lambda x: (x.sum() / x.size) * 100).sort_values(ascending=False).to_frame().T"
   ]
  },
  {
   "cell_type": "code",
   "execution_count": 32,
   "id": "b27a3a57-19f8-4530-9c62-3493b99de4bd",
   "metadata": {},
   "outputs": [
    {
     "data": {
      "text/html": [
       "<div>\n",
       "<style scoped>\n",
       "    .dataframe tbody tr th:only-of-type {\n",
       "        vertical-align: middle;\n",
       "    }\n",
       "\n",
       "    .dataframe tbody tr th {\n",
       "        vertical-align: top;\n",
       "    }\n",
       "\n",
       "    .dataframe thead th {\n",
       "        text-align: right;\n",
       "    }\n",
       "</style>\n",
       "<table border=\"1\" class=\"dataframe\">\n",
       "  <thead>\n",
       "    <tr style=\"text-align: right;\">\n",
       "      <th>state</th>\n",
       "      <th>Manipur</th>\n",
       "      <th>Kerala</th>\n",
       "      <th>Tripura</th>\n",
       "      <th>Madhya</th>\n",
       "      <th>Jammu</th>\n",
       "      <th>Himachal</th>\n",
       "      <th>Rajasthan</th>\n",
       "      <th>Odisha</th>\n",
       "      <th>Bihar</th>\n",
       "      <th>Telangana</th>\n",
       "      <th>Jharkhand</th>\n",
       "      <th>Assam</th>\n",
       "      <th>Chhattisgarh</th>\n",
       "      <th>West</th>\n",
       "      <th>Haryana</th>\n",
       "      <th>Gujarat</th>\n",
       "      <th>Andhra</th>\n",
       "      <th>Uttar</th>\n",
       "      <th>Puducherry</th>\n",
       "      <th>Maharashtra</th>\n",
       "      <th>Mizoram</th>\n",
       "      <th>Delhi</th>\n",
       "      <th>Tamil</th>\n",
       "      <th>Chandigarh</th>\n",
       "      <th>Karnataka</th>\n",
       "      <th>Punjab</th>\n",
       "      <th>Uttarakhand</th>\n",
       "      <th>Sikkim</th>\n",
       "    </tr>\n",
       "  </thead>\n",
       "  <tbody>\n",
       "    <tr>\n",
       "      <th>risk_flag</th>\n",
       "      <td>68.030</td>\n",
       "      <td>59.219</td>\n",
       "      <td>57.384</td>\n",
       "      <td>56.727</td>\n",
       "      <td>56.262</td>\n",
       "      <td>54.950</td>\n",
       "      <td>54.909</td>\n",
       "      <td>53.852</td>\n",
       "      <td>52.661</td>\n",
       "      <td>52.634</td>\n",
       "      <td>51.911</td>\n",
       "      <td>51.811</td>\n",
       "      <td>51.151</td>\n",
       "      <td>50.682</td>\n",
       "      <td>50.026</td>\n",
       "      <td>48.961</td>\n",
       "      <td>48.313</td>\n",
       "      <td>48.193</td>\n",
       "      <td>47.309</td>\n",
       "      <td>47.296</td>\n",
       "      <td>46.766</td>\n",
       "      <td>46.030</td>\n",
       "      <td>45.336</td>\n",
       "      <td>44.853</td>\n",
       "      <td>44.283</td>\n",
       "      <td>41.544</td>\n",
       "      <td>35.000</td>\n",
       "      <td>30.435</td>\n",
       "    </tr>\n",
       "  </tbody>\n",
       "</table>\n",
       "</div>"
      ],
      "text/plain": [
       "state      Manipur  Kerala  Tripura  Madhya  Jammu  Himachal  Rajasthan  Odisha  Bihar  Telangana  \\\n",
       "risk_flag   68.030  59.219   57.384  56.727 56.262    54.950     54.909  53.852 52.661     52.634   \n",
       "\n",
       "state      Jharkhand  Assam  Chhattisgarh   West  Haryana  Gujarat  Andhra  Uttar  Puducherry  \\\n",
       "risk_flag     51.911 51.811        51.151 50.682   50.026   48.961  48.313 48.193      47.309   \n",
       "\n",
       "state      Maharashtra  Mizoram  Delhi  Tamil  Chandigarh  Karnataka  Punjab  Uttarakhand  Sikkim  \n",
       "risk_flag       47.296   46.766 46.030 45.336      44.853     44.283  41.544       35.000  30.435  "
      ]
     },
     "execution_count": 32,
     "metadata": {},
     "output_type": "execute_result"
    }
   ],
   "source": [
    "# The average risk percentage of each state\n",
    "loan.groupby(\"state\").risk_flag.apply(lambda x: (x.sum() / x.size) * 100).sort_values(ascending=False).to_frame().T"
   ]
  },
  {
   "cell_type": "code",
   "execution_count": 33,
   "id": "35a37c80-ebfb-4d85-b923-b736a801c649",
   "metadata": {},
   "outputs": [
    {
     "data": {
      "text/html": [
       "<div>\n",
       "<style scoped>\n",
       "    .dataframe tbody tr th:only-of-type {\n",
       "        vertical-align: middle;\n",
       "    }\n",
       "\n",
       "    .dataframe tbody tr th {\n",
       "        vertical-align: top;\n",
       "    }\n",
       "\n",
       "    .dataframe thead th {\n",
       "        text-align: right;\n",
       "    }\n",
       "</style>\n",
       "<table border=\"1\" class=\"dataframe\">\n",
       "  <thead>\n",
       "    <tr style=\"text-align: right;\">\n",
       "      <th>profession</th>\n",
       "      <th>Police_officer</th>\n",
       "      <th>Surveyor</th>\n",
       "      <th>Chartered_Accountant</th>\n",
       "      <th>Army_officer</th>\n",
       "      <th>Software_Developer</th>\n",
       "      <th>Geologist</th>\n",
       "      <th>Scientist</th>\n",
       "      <th>Civil_engineer</th>\n",
       "      <th>Air_traffic_controller</th>\n",
       "      <th>Official</th>\n",
       "      <th>Firefighter</th>\n",
       "      <th>Biomedical_Engineer</th>\n",
       "      <th>Hotel_Manager</th>\n",
       "      <th>Computer_hardware_engineer</th>\n",
       "      <th>Secretary</th>\n",
       "      <th>Aviator</th>\n",
       "      <th>Engineer</th>\n",
       "      <th>Flight_attendant</th>\n",
       "      <th>Architect</th>\n",
       "      <th>Microbiologist</th>\n",
       "      <th>Technical_writer</th>\n",
       "      <th>Lawyer</th>\n",
       "      <th>Psychologist</th>\n",
       "      <th>Artist</th>\n",
       "      <th>Technician</th>\n",
       "      <th>Computer_operator</th>\n",
       "      <th>Consultant</th>\n",
       "      <th>Analyst</th>\n",
       "      <th>Chef</th>\n",
       "      <th>Statistician</th>\n",
       "      <th>Fashion_Designer</th>\n",
       "      <th>Mechanical_engineer</th>\n",
       "      <th>Magistrate</th>\n",
       "      <th>Surgeon</th>\n",
       "      <th>Physician</th>\n",
       "      <th>Comedian</th>\n",
       "      <th>Dentist</th>\n",
       "      <th>Drafter</th>\n",
       "      <th>Civil_servant</th>\n",
       "      <th>Politician</th>\n",
       "      <th>Chemical_engineer</th>\n",
       "      <th>Designer</th>\n",
       "      <th>Design_Engineer</th>\n",
       "      <th>Graphic_Designer</th>\n",
       "      <th>Librarian</th>\n",
       "      <th>Web_designer</th>\n",
       "      <th>Financial_Analyst</th>\n",
       "      <th>Economist</th>\n",
       "      <th>Industrial_Engineer</th>\n",
       "      <th>Technology_specialist</th>\n",
       "      <th>Petroleum_Engineer</th>\n",
       "    </tr>\n",
       "  </thead>\n",
       "  <tbody>\n",
       "    <tr>\n",
       "      <th>risk_flag</th>\n",
       "      <td>58.251</td>\n",
       "      <td>57.166</td>\n",
       "      <td>57.119</td>\n",
       "      <td>56.584</td>\n",
       "      <td>55.597</td>\n",
       "      <td>54.531</td>\n",
       "      <td>54.288</td>\n",
       "      <td>54.239</td>\n",
       "      <td>53.679</td>\n",
       "      <td>53.365</td>\n",
       "      <td>53.217</td>\n",
       "      <td>53.128</td>\n",
       "      <td>52.906</td>\n",
       "      <td>52.591</td>\n",
       "      <td>52.339</td>\n",
       "      <td>51.816</td>\n",
       "      <td>51.676</td>\n",
       "      <td>51.587</td>\n",
       "      <td>51.258</td>\n",
       "      <td>50.880</td>\n",
       "      <td>50.728</td>\n",
       "      <td>50.526</td>\n",
       "      <td>50.191</td>\n",
       "      <td>50.126</td>\n",
       "      <td>50.120</td>\n",
       "      <td>50.040</td>\n",
       "      <td>49.876</td>\n",
       "      <td>49.868</td>\n",
       "      <td>49.735</td>\n",
       "      <td>49.122</td>\n",
       "      <td>48.999</td>\n",
       "      <td>48.744</td>\n",
       "      <td>48.528</td>\n",
       "      <td>48.206</td>\n",
       "      <td>48.201</td>\n",
       "      <td>47.652</td>\n",
       "      <td>47.593</td>\n",
       "      <td>47.526</td>\n",
       "      <td>47.491</td>\n",
       "      <td>47.154</td>\n",
       "      <td>47.083</td>\n",
       "      <td>46.182</td>\n",
       "      <td>46.084</td>\n",
       "      <td>45.601</td>\n",
       "      <td>45.423</td>\n",
       "      <td>44.621</td>\n",
       "      <td>44.232</td>\n",
       "      <td>43.780</td>\n",
       "      <td>43.750</td>\n",
       "      <td>40.377</td>\n",
       "      <td>39.503</td>\n",
       "    </tr>\n",
       "  </tbody>\n",
       "</table>\n",
       "</div>"
      ],
      "text/plain": [
       "profession  Police_officer  Surveyor  Chartered_Accountant  Army_officer  Software_Developer  \\\n",
       "risk_flag           58.251    57.166                57.119        56.584              55.597   \n",
       "\n",
       "profession  Geologist  Scientist  Civil_engineer  Air_traffic_controller  Official  Firefighter  \\\n",
       "risk_flag      54.531     54.288          54.239                  53.679    53.365       53.217   \n",
       "\n",
       "profession  Biomedical_Engineer  Hotel_Manager  Computer_hardware_engineer  Secretary  Aviator  \\\n",
       "risk_flag                53.128         52.906                      52.591     52.339   51.816   \n",
       "\n",
       "profession  Engineer  Flight_attendant  Architect  Microbiologist  Technical_writer  Lawyer  \\\n",
       "risk_flag     51.676            51.587     51.258          50.880            50.728  50.526   \n",
       "\n",
       "profession  Psychologist  Artist  Technician  Computer_operator  Consultant  Analyst   Chef  \\\n",
       "risk_flag         50.191  50.126      50.120             50.040      49.876   49.868 49.735   \n",
       "\n",
       "profession  Statistician  Fashion_Designer  Mechanical_engineer  Magistrate  Surgeon  Physician  \\\n",
       "risk_flag         49.122            48.999               48.744      48.528   48.206     48.201   \n",
       "\n",
       "profession  Comedian  Dentist  Drafter  Civil_servant  Politician  Chemical_engineer  Designer  \\\n",
       "risk_flag     47.652   47.593   47.526         47.491      47.154             47.083    46.182   \n",
       "\n",
       "profession  Design_Engineer  Graphic_Designer  Librarian  Web_designer  Financial_Analyst  \\\n",
       "risk_flag            46.084            45.601     45.423        44.621             44.232   \n",
       "\n",
       "profession  Economist  Industrial_Engineer  Technology_specialist  Petroleum_Engineer  \n",
       "risk_flag      43.780               43.750                 40.377              39.503  "
      ]
     },
     "execution_count": 33,
     "metadata": {},
     "output_type": "execute_result"
    }
   ],
   "source": [
    "# The average risk percentage of each profession\n",
    "loan.groupby(\"profession\").risk_flag.apply(lambda x: (x.sum() / x.size) * 100).sort_values(ascending=False).to_frame().T"
   ]
  },
  {
   "cell_type": "code",
   "execution_count": 34,
   "id": "a56a498c-13d0-4cc3-8d0b-58e9eeca2f9f",
   "metadata": {},
   "outputs": [
    {
     "data": {
      "text/html": [
       "<div>\n",
       "<style scoped>\n",
       "    .dataframe tbody tr th:only-of-type {\n",
       "        vertical-align: middle;\n",
       "    }\n",
       "\n",
       "    .dataframe tbody tr th {\n",
       "        vertical-align: top;\n",
       "    }\n",
       "\n",
       "    .dataframe thead th {\n",
       "        text-align: right;\n",
       "    }\n",
       "</style>\n",
       "<table border=\"1\" class=\"dataframe\">\n",
       "  <thead>\n",
       "    <tr style=\"text-align: right;\">\n",
       "      <th>married_single</th>\n",
       "      <th>single</th>\n",
       "      <th>married</th>\n",
       "    </tr>\n",
       "  </thead>\n",
       "  <tbody>\n",
       "    <tr>\n",
       "      <th>risk_flag</th>\n",
       "      <td>50.543</td>\n",
       "      <td>44.822</td>\n",
       "    </tr>\n",
       "  </tbody>\n",
       "</table>\n",
       "</div>"
      ],
      "text/plain": [
       "married_single  single  married\n",
       "risk_flag       50.543   44.822"
      ]
     },
     "execution_count": 34,
     "metadata": {},
     "output_type": "execute_result"
    }
   ],
   "source": [
    "# The average risk percentage whether the customer married or single\n",
    "loan.groupby(\"married_single\").risk_flag.apply(lambda x: (x.sum() / x.size) * 100).sort_values(ascending=False).to_frame().T"
   ]
  },
  {
   "cell_type": "code",
   "execution_count": 35,
   "id": "ee8ea69a-3b2d-4277-bece-8554c1a2c204",
   "metadata": {},
   "outputs": [
    {
     "data": {
      "text/html": [
       "<div>\n",
       "<style scoped>\n",
       "    .dataframe tbody tr th:only-of-type {\n",
       "        vertical-align: middle;\n",
       "    }\n",
       "\n",
       "    .dataframe tbody tr th {\n",
       "        vertical-align: top;\n",
       "    }\n",
       "\n",
       "    .dataframe thead th {\n",
       "        text-align: right;\n",
       "    }\n",
       "</style>\n",
       "<table border=\"1\" class=\"dataframe\">\n",
       "  <thead>\n",
       "    <tr style=\"text-align: right;\">\n",
       "      <th>car_ownership</th>\n",
       "      <th>no</th>\n",
       "      <th>yes</th>\n",
       "    </tr>\n",
       "  </thead>\n",
       "  <tbody>\n",
       "    <tr>\n",
       "      <th>risk_flag</th>\n",
       "      <td>51.237</td>\n",
       "      <td>46.968</td>\n",
       "    </tr>\n",
       "  </tbody>\n",
       "</table>\n",
       "</div>"
      ],
      "text/plain": [
       "car_ownership     no    yes\n",
       "risk_flag     51.237 46.968"
      ]
     },
     "execution_count": 35,
     "metadata": {},
     "output_type": "execute_result"
    }
   ],
   "source": [
    "# The average risk percentage whether the customer owned car or not\n",
    "loan.groupby(\"car_ownership\").risk_flag.apply(lambda x: (x.sum() / x.size) * 100).sort_values(ascending=False).to_frame().T"
   ]
  },
  {
   "cell_type": "markdown",
   "id": "bb8aee0b-ce2f-44a0-ac1c-5ea5d88ff955",
   "metadata": {},
   "source": [
    "### 5.1.1 | Conclusion"
   ]
  },
  {
   "cell_type": "markdown",
   "id": "a6bff9e8-1761-4911-aca3-1a6058b471dc",
   "metadata": {},
   "source": [
    "##### Top 5 professions by its mean income"
   ]
  },
  {
   "cell_type": "code",
   "execution_count": 36,
   "id": "51951c24-95f5-418f-80c8-e33d3a0162f2",
   "metadata": {},
   "outputs": [
    {
     "data": {
      "text/html": [
       "<div>\n",
       "<style scoped>\n",
       "    .dataframe tbody tr th:only-of-type {\n",
       "        vertical-align: middle;\n",
       "    }\n",
       "\n",
       "    .dataframe tbody tr th {\n",
       "        vertical-align: top;\n",
       "    }\n",
       "\n",
       "    .dataframe thead th {\n",
       "        text-align: right;\n",
       "    }\n",
       "</style>\n",
       "<table border=\"1\" class=\"dataframe\">\n",
       "  <thead>\n",
       "    <tr style=\"text-align: right;\">\n",
       "      <th></th>\n",
       "      <th>min</th>\n",
       "      <th>max</th>\n",
       "      <th>mean</th>\n",
       "    </tr>\n",
       "    <tr>\n",
       "      <th>profession</th>\n",
       "      <th></th>\n",
       "      <th></th>\n",
       "      <th></th>\n",
       "    </tr>\n",
       "  </thead>\n",
       "  <tbody>\n",
       "    <tr>\n",
       "      <th>Scientist</th>\n",
       "      <td>28561</td>\n",
       "      <td>9970052</td>\n",
       "      <td>5744072.543</td>\n",
       "    </tr>\n",
       "    <tr>\n",
       "      <th>Army_officer</th>\n",
       "      <td>12902</td>\n",
       "      <td>9967074</td>\n",
       "      <td>5627673.174</td>\n",
       "    </tr>\n",
       "    <tr>\n",
       "      <th>Chemical_engineer</th>\n",
       "      <td>26926</td>\n",
       "      <td>9984718</td>\n",
       "      <td>5594175.861</td>\n",
       "    </tr>\n",
       "    <tr>\n",
       "      <th>Secretary</th>\n",
       "      <td>143036</td>\n",
       "      <td>9998070</td>\n",
       "      <td>5443830.758</td>\n",
       "    </tr>\n",
       "    <tr>\n",
       "      <th>Petroleum_Engineer</th>\n",
       "      <td>80603</td>\n",
       "      <td>9904501</td>\n",
       "      <td>5435300.564</td>\n",
       "    </tr>\n",
       "  </tbody>\n",
       "</table>\n",
       "</div>"
      ],
      "text/plain": [
       "                       min      max        mean\n",
       "profession                                     \n",
       "Scientist            28561  9970052 5744072.543\n",
       "Army_officer         12902  9967074 5627673.174\n",
       "Chemical_engineer    26926  9984718 5594175.861\n",
       "Secretary           143036  9998070 5443830.758\n",
       "Petroleum_Engineer   80603  9904501 5435300.564"
      ]
     },
     "execution_count": 36,
     "metadata": {},
     "output_type": "execute_result"
    }
   ],
   "source": [
    "loan.groupby(\"profession\")[\"income\"].agg([\"min\", \"max\", \"mean\"]).sort_values(by=\"mean\", ascending=False).head()"
   ]
  },
  {
   "cell_type": "markdown",
   "id": "ce9c6935-7c50-4420-bbc7-4ad098cbc47b",
   "metadata": {},
   "source": [
    "##### Top 5 risk flag average Percentage of City:"
   ]
  },
  {
   "cell_type": "code",
   "execution_count": 37,
   "id": "01340c75-0350-4cf3-aeb7-748563a8f1be",
   "metadata": {},
   "outputs": [
    {
     "data": {
      "text/html": [
       "<div>\n",
       "<style scoped>\n",
       "    .dataframe tbody tr th:only-of-type {\n",
       "        vertical-align: middle;\n",
       "    }\n",
       "\n",
       "    .dataframe tbody tr th {\n",
       "        vertical-align: top;\n",
       "    }\n",
       "\n",
       "    .dataframe thead th {\n",
       "        text-align: right;\n",
       "    }\n",
       "</style>\n",
       "<table border=\"1\" class=\"dataframe\">\n",
       "  <thead>\n",
       "    <tr style=\"text-align: right;\">\n",
       "      <th></th>\n",
       "      <th>risk_flag</th>\n",
       "    </tr>\n",
       "    <tr>\n",
       "      <th>city</th>\n",
       "      <th></th>\n",
       "    </tr>\n",
       "  </thead>\n",
       "  <tbody>\n",
       "    <tr>\n",
       "      <th>Bhubaneswar</th>\n",
       "      <td>77.647</td>\n",
       "    </tr>\n",
       "    <tr>\n",
       "      <th>Bettiah</th>\n",
       "      <td>73.054</td>\n",
       "    </tr>\n",
       "    <tr>\n",
       "      <th>Kottayam</th>\n",
       "      <td>72.908</td>\n",
       "    </tr>\n",
       "    <tr>\n",
       "      <th>Purnia</th>\n",
       "      <td>72.840</td>\n",
       "    </tr>\n",
       "    <tr>\n",
       "      <th>Sikar</th>\n",
       "      <td>71.004</td>\n",
       "    </tr>\n",
       "  </tbody>\n",
       "</table>\n",
       "</div>"
      ],
      "text/plain": [
       "             risk_flag\n",
       "city                  \n",
       "Bhubaneswar     77.647\n",
       "Bettiah         73.054\n",
       "Kottayam        72.908\n",
       "Purnia          72.840\n",
       "Sikar           71.004"
      ]
     },
     "execution_count": 37,
     "metadata": {},
     "output_type": "execute_result"
    }
   ],
   "source": [
    "loan.groupby([\"city\"]).risk_flag.apply(lambda x: (x.sum() / x.size) * 100).sort_values(ascending=False).to_frame().head()"
   ]
  },
  {
   "cell_type": "markdown",
   "id": "3941da5b-f9bf-4a78-ac97-6aba3f5dda89",
   "metadata": {},
   "source": [
    "##### Top 5 risk flag average Percentage of State:"
   ]
  },
  {
   "cell_type": "code",
   "execution_count": 38,
   "id": "8d0c5818-4b3e-4a0b-887b-09037b2fb1af",
   "metadata": {},
   "outputs": [
    {
     "data": {
      "text/html": [
       "<div>\n",
       "<style scoped>\n",
       "    .dataframe tbody tr th:only-of-type {\n",
       "        vertical-align: middle;\n",
       "    }\n",
       "\n",
       "    .dataframe tbody tr th {\n",
       "        vertical-align: top;\n",
       "    }\n",
       "\n",
       "    .dataframe thead th {\n",
       "        text-align: right;\n",
       "    }\n",
       "</style>\n",
       "<table border=\"1\" class=\"dataframe\">\n",
       "  <thead>\n",
       "    <tr style=\"text-align: right;\">\n",
       "      <th></th>\n",
       "      <th>risk_flag</th>\n",
       "    </tr>\n",
       "    <tr>\n",
       "      <th>state</th>\n",
       "      <th></th>\n",
       "    </tr>\n",
       "  </thead>\n",
       "  <tbody>\n",
       "    <tr>\n",
       "      <th>Manipur</th>\n",
       "      <td>68.030</td>\n",
       "    </tr>\n",
       "    <tr>\n",
       "      <th>Kerala</th>\n",
       "      <td>59.219</td>\n",
       "    </tr>\n",
       "    <tr>\n",
       "      <th>Tripura</th>\n",
       "      <td>57.384</td>\n",
       "    </tr>\n",
       "    <tr>\n",
       "      <th>Madhya</th>\n",
       "      <td>56.727</td>\n",
       "    </tr>\n",
       "    <tr>\n",
       "      <th>Jammu</th>\n",
       "      <td>56.262</td>\n",
       "    </tr>\n",
       "  </tbody>\n",
       "</table>\n",
       "</div>"
      ],
      "text/plain": [
       "         risk_flag\n",
       "state             \n",
       "Manipur     68.030\n",
       "Kerala      59.219\n",
       "Tripura     57.384\n",
       "Madhya      56.727\n",
       "Jammu       56.262"
      ]
     },
     "execution_count": 38,
     "metadata": {},
     "output_type": "execute_result"
    }
   ],
   "source": [
    "loan.groupby(\"state\").risk_flag.apply(lambda x: (x.sum() / x.size) * 100).sort_values(ascending=False).to_frame().head()"
   ]
  },
  {
   "cell_type": "markdown",
   "id": "aeb61dda-5027-4e62-8179-b5d68fd5e3e5",
   "metadata": {},
   "source": [
    "##### Top 5 risk flag average Percentage of Profession:"
   ]
  },
  {
   "cell_type": "code",
   "execution_count": 39,
   "id": "9532972c-2eac-4efa-a50b-17d099703efe",
   "metadata": {},
   "outputs": [
    {
     "data": {
      "text/html": [
       "<div>\n",
       "<style scoped>\n",
       "    .dataframe tbody tr th:only-of-type {\n",
       "        vertical-align: middle;\n",
       "    }\n",
       "\n",
       "    .dataframe tbody tr th {\n",
       "        vertical-align: top;\n",
       "    }\n",
       "\n",
       "    .dataframe thead th {\n",
       "        text-align: right;\n",
       "    }\n",
       "</style>\n",
       "<table border=\"1\" class=\"dataframe\">\n",
       "  <thead>\n",
       "    <tr style=\"text-align: right;\">\n",
       "      <th></th>\n",
       "      <th>risk_flag</th>\n",
       "    </tr>\n",
       "    <tr>\n",
       "      <th>profession</th>\n",
       "      <th></th>\n",
       "    </tr>\n",
       "  </thead>\n",
       "  <tbody>\n",
       "    <tr>\n",
       "      <th>Police_officer</th>\n",
       "      <td>58.251</td>\n",
       "    </tr>\n",
       "    <tr>\n",
       "      <th>Surveyor</th>\n",
       "      <td>57.166</td>\n",
       "    </tr>\n",
       "    <tr>\n",
       "      <th>Chartered_Accountant</th>\n",
       "      <td>57.119</td>\n",
       "    </tr>\n",
       "    <tr>\n",
       "      <th>Army_officer</th>\n",
       "      <td>56.584</td>\n",
       "    </tr>\n",
       "    <tr>\n",
       "      <th>Software_Developer</th>\n",
       "      <td>55.597</td>\n",
       "    </tr>\n",
       "  </tbody>\n",
       "</table>\n",
       "</div>"
      ],
      "text/plain": [
       "                      risk_flag\n",
       "profession                     \n",
       "Police_officer           58.251\n",
       "Surveyor                 57.166\n",
       "Chartered_Accountant     57.119\n",
       "Army_officer             56.584\n",
       "Software_Developer       55.597"
      ]
     },
     "execution_count": 39,
     "metadata": {},
     "output_type": "execute_result"
    }
   ],
   "source": [
    "loan.groupby(\"profession\").risk_flag.apply(lambda x: (x.sum() / x.size) * 100).sort_values(ascending=False).to_frame().head()"
   ]
  },
  {
   "cell_type": "markdown",
   "id": "1292947e-8851-413f-a455-65e63fc1d8c5",
   "metadata": {},
   "source": [
    "##### The average risk percentage whether the customer Married or Single:"
   ]
  },
  {
   "cell_type": "code",
   "execution_count": 40,
   "id": "94213c55-c265-4f5f-b29a-ea5d33116489",
   "metadata": {},
   "outputs": [
    {
     "data": {
      "text/html": [
       "<div>\n",
       "<style scoped>\n",
       "    .dataframe tbody tr th:only-of-type {\n",
       "        vertical-align: middle;\n",
       "    }\n",
       "\n",
       "    .dataframe tbody tr th {\n",
       "        vertical-align: top;\n",
       "    }\n",
       "\n",
       "    .dataframe thead th {\n",
       "        text-align: right;\n",
       "    }\n",
       "</style>\n",
       "<table border=\"1\" class=\"dataframe\">\n",
       "  <thead>\n",
       "    <tr style=\"text-align: right;\">\n",
       "      <th></th>\n",
       "      <th>risk_flag</th>\n",
       "    </tr>\n",
       "    <tr>\n",
       "      <th>married_single</th>\n",
       "      <th></th>\n",
       "    </tr>\n",
       "  </thead>\n",
       "  <tbody>\n",
       "    <tr>\n",
       "      <th>single</th>\n",
       "      <td>50.543</td>\n",
       "    </tr>\n",
       "    <tr>\n",
       "      <th>married</th>\n",
       "      <td>44.822</td>\n",
       "    </tr>\n",
       "  </tbody>\n",
       "</table>\n",
       "</div>"
      ],
      "text/plain": [
       "                risk_flag\n",
       "married_single           \n",
       "single             50.543\n",
       "married            44.822"
      ]
     },
     "execution_count": 40,
     "metadata": {},
     "output_type": "execute_result"
    }
   ],
   "source": [
    "loan.groupby(\"married_single\").risk_flag.apply(lambda x: (x.sum() / x.size) * 100).sort_values(ascending=False).to_frame()"
   ]
  },
  {
   "cell_type": "markdown",
   "id": "bf42e7f2-9c5f-4fba-bb78-297e43d47a3e",
   "metadata": {},
   "source": [
    "##### The average risk percentage whether the customer owned car or not:"
   ]
  },
  {
   "cell_type": "code",
   "execution_count": 41,
   "id": "4bdbce0d-88d1-4b46-9950-1802e9abd189",
   "metadata": {},
   "outputs": [
    {
     "data": {
      "text/html": [
       "<div>\n",
       "<style scoped>\n",
       "    .dataframe tbody tr th:only-of-type {\n",
       "        vertical-align: middle;\n",
       "    }\n",
       "\n",
       "    .dataframe tbody tr th {\n",
       "        vertical-align: top;\n",
       "    }\n",
       "\n",
       "    .dataframe thead th {\n",
       "        text-align: right;\n",
       "    }\n",
       "</style>\n",
       "<table border=\"1\" class=\"dataframe\">\n",
       "  <thead>\n",
       "    <tr style=\"text-align: right;\">\n",
       "      <th></th>\n",
       "      <th>risk_flag</th>\n",
       "    </tr>\n",
       "    <tr>\n",
       "      <th>car_ownership</th>\n",
       "      <th></th>\n",
       "    </tr>\n",
       "  </thead>\n",
       "  <tbody>\n",
       "    <tr>\n",
       "      <th>no</th>\n",
       "      <td>51.237</td>\n",
       "    </tr>\n",
       "    <tr>\n",
       "      <th>yes</th>\n",
       "      <td>46.968</td>\n",
       "    </tr>\n",
       "  </tbody>\n",
       "</table>\n",
       "</div>"
      ],
      "text/plain": [
       "               risk_flag\n",
       "car_ownership           \n",
       "no                51.237\n",
       "yes               46.968"
      ]
     },
     "execution_count": 41,
     "metadata": {},
     "output_type": "execute_result"
    }
   ],
   "source": [
    "loan.groupby(\"car_ownership\").risk_flag.apply(lambda x: (x.sum() / x.size) * 100).sort_values(ascending=False).to_frame()"
   ]
  },
  {
   "cell_type": "markdown",
   "id": "f132c128-af9b-440e-a37d-a57b654fb30d",
   "metadata": {},
   "source": [
    "### 5.2 | Univariate Analysis"
   ]
  },
  {
   "cell_type": "markdown",
   "id": "5d76e60a-870c-443d-a806-5342047246c9",
   "metadata": {},
   "source": [
    "##### Chebychev's Theorem"
   ]
  },
  {
   "cell_type": "markdown",
   "id": "bc2ccf85-7fb4-483a-985e-46796f6f9f7b",
   "metadata": {},
   "source": [
    "##### Chebyshev's Theorem estimates the minimum proportion of observations \n",
    "##### that fall within a specified number of standard deviations from the mean. \n",
    "##### This theorem applies to a broad range of probability distributions.\n",
    "##### Chebyshev's Theorem is also known as Chebyshev's Inequality\n"
   ]
  },
  {
   "cell_type": "markdown",
   "id": "86dbc5fb-c91d-4ea6-8539-552059085a4b",
   "metadata": {},
   "source": [
    "#### About skewness:\n",
    "\n",
    "##### As a general rule of thumb: If skewness is less than  −1  or greater than  1 , the distribution is highly skewed. \n",
    "##### If skewness is between  −1  and  −0.5  or between  0.5  and  1 , the distribution is moderately skewed.\n",
    "##### If skewness is between  −0.5  and  0.5 , the distribution is approximately symmetric."
   ]
  },
  {
   "cell_type": "markdown",
   "id": "bf627f34-3f06-413f-af8e-650385b8fa49",
   "metadata": {},
   "source": [
    "#### About kurtosis:\n",
    "\n",
    "##### For kurtosis, the general guideline is that if the number is greater than  +1 , the distribution is too peaked.\n",
    "##### Likewise, a kurtosis of less than  −1  indicates a distribution that is too flat.\n",
    "##### Distributions exhibiting skewness and/or kurtosis that exceed these guidelines are considered non-normal."
   ]
  },
  {
   "cell_type": "markdown",
   "id": "1a90c282-da5f-4fdb-80c1-3198c70634e0",
   "metadata": {},
   "source": [
    "#### 5.2.1 | Numerical Column"
   ]
  },
  {
   "cell_type": "code",
   "execution_count": 43,
   "id": "9fabd46a-37d8-443e-94c9-6d1d1588ff05",
   "metadata": {},
   "outputs": [
    {
     "data": {
      "image/png": "[encoded data removed]",
      "text/plain": [
       "<Figure size 1440x576 with 2 Axes>"
      ]
     },
     "metadata": {},
     "output_type": "display_data"
    }
   ],
   "source": [
    "numerical_plotting(data=loan, col=\"income\", \n",
    "                   title=\"Customer Income Distribution\", \n",
    "                   symb=\" \", ylabel=\"Density\", color=\"red\");"
   ]
  },
  {
   "cell_type": "markdown",
   "id": "295cbe35-9507-4969-8c2d-45a90416af0a",
   "metadata": {},
   "source": [
    "##### 5.2.1.1 | Notes:"
   ]
  },
  {
   "cell_type": "code",
   "execution_count": 44,
   "id": "cb0e1e60-90f7-4989-878b-a3c7e704f331",
   "metadata": {},
   "outputs": [
    {
     "name": "stdout",
     "output_type": "stream",
     "text": [
      "-------------------- Interpretation of Income --------------------\n",
      "first calc: -791421.3\n",
      "second calc: 10782383.5\n",
      "at least 75% customer income is lies between 0 and 10.785.254 Rupee\n",
      "----------------------------------------\n"
     ]
    }
   ],
   "source": [
    "chebychev(loan.income, title=\"Income\", \n",
    "          interpret=f\"at least 75% customer income is lies between 0 and 10.785.254 Rupee\")"
   ]
  },
  {
   "cell_type": "code",
   "execution_count": 45,
   "id": "a20357fb-2f25-46ce-9606-141a549c0f96",
   "metadata": {},
   "outputs": [
    {
     "name": "stdout",
     "output_type": "stream",
     "text": [
      "-------------------- Skew & Kurtosis Income --------------------\n",
      "Skewness: -0.006782736913056657\n",
      "Approximately symmetric\n",
      "-----------------------------------\n",
      "Kurtosis: -1.2067788689797094\n",
      "The distribution is too flat\n",
      "-----------------------------------\n"
     ]
    }
   ],
   "source": [
    "skew_kurtosis(loan.income, \"Skew & Kurtosis Income\")"
   ]
  },
  {
   "cell_type": "code",
   "execution_count": 46,
   "id": "c1d0ba3e-480a-483c-921c-d9788dfaaa18",
   "metadata": {},
   "outputs": [
    {
     "data": {
      "image/png": "[encoded data removed]",
      "text/plain": [
       "<Figure size 1440x576 with 2 Axes>"
      ]
     },
     "metadata": {},
     "output_type": "display_data"
    }
   ],
   "source": [
    "numerical_plotting(data=loan, col=\"age\", \n",
    "                   title=\"Customer Age Distribution\", \n",
    "                   symb=\" \", ylabel=\"Density\", color=\"salmon\");"
   ]
  },
  {
   "cell_type": "markdown",
   "id": "479bb480-393a-4369-959a-3337f85d4d9e",
   "metadata": {},
   "source": [
    "##### 5.2.1.2 | Notes"
   ]
  },
  {
   "cell_type": "code",
   "execution_count": 47,
   "id": "ba700840-89b8-4677-b244-1c170d4bf9fc",
   "metadata": {},
   "outputs": [
    {
     "name": "stdout",
     "output_type": "stream",
     "text": [
      "-------------------- Interpretation of Age --------------------\n",
      "first calc: 15.1\n",
      "second calc: 83.9\n",
      "at least 75% customer age is lies between 0 and 84\n",
      "----------------------------------------\n"
     ]
    }
   ],
   "source": [
    "chebychev(loan.age, title=\"Age\", \n",
    "          interpret=f\"at least 75% customer age is lies between 0 and 84\")"
   ]
  },
  {
   "cell_type": "code",
   "execution_count": 48,
   "id": "6935b382-3d9d-444d-9205-e77f9ca31728",
   "metadata": {},
   "outputs": [
    {
     "name": "stdout",
     "output_type": "stream",
     "text": [
      "-------------------- Skew & Kurtosis Age --------------------\n",
      "Skewness: 0.017741394641214533\n",
      "Approximately symmetric\n",
      "-----------------------------------\n",
      "Kurtosis: -1.2240100577515332\n",
      "The distribution is too flat\n",
      "-----------------------------------\n"
     ]
    }
   ],
   "source": [
    "skew_kurtosis(loan.age, \"Skew & Kurtosis Age\")"
   ]
  },
  {
   "cell_type": "code",
   "execution_count": 49,
   "id": "0136bb7f-2a6e-4d37-a7a9-b494f4775ce1",
   "metadata": {},
   "outputs": [
    {
     "data": {
      "image/png": "[encoded data removed]",
      "text/plain": [
       "<Figure size 1440x576 with 2 Axes>"
      ]
     },
     "metadata": {},
     "output_type": "display_data"
    }
   ],
   "source": [
    "numerical_plotting(data=loan, col=\"experience\", \n",
    "                   title=\"Customer Experience Distribution\", \n",
    "                   symb=\" \", ylabel=\"Density\", color=\"gray\");"
   ]
  },
  {
   "cell_type": "markdown",
   "id": "055b1069-cc99-4ef4-bfea-b255c529560d",
   "metadata": {},
   "source": [
    "##### 5.2.1.3 | Notes:"
   ]
  },
  {
   "cell_type": "code",
   "execution_count": 50,
   "id": "78fb087b-5eec-4b6d-8a58-c241fd85fb16",
   "metadata": {},
   "outputs": [
    {
     "name": "stdout",
     "output_type": "stream",
     "text": [
      "-------------------- Interpretation of Experience --------------------\n",
      "first calc: -2.1\n",
      "second calc: 21.9\n",
      "at least 75% customer have 0 to 22 years professional experience of working\n",
      "----------------------------------------\n"
     ]
    }
   ],
   "source": [
    "chebychev(loan.experience, title=\"Experience\", \n",
    "          interpret=f\"at least 75% customer have 0 to 22 years professional experience of working\")"
   ]
  },
  {
   "cell_type": "code",
   "execution_count": 51,
   "id": "007bd377-feaa-4a63-87f4-49b8a02e2ebf",
   "metadata": {},
   "outputs": [
    {
     "name": "stdout",
     "output_type": "stream",
     "text": [
      "-------------------- Skew & Kurtosis Experience --------------------\n",
      "Skewness: 0.0172412407843784\n",
      "Approximately symmetric\n",
      "-----------------------------------\n",
      "Kurtosis: -1.21323739733727\n",
      "The distribution is too flat\n",
      "-----------------------------------\n"
     ]
    }
   ],
   "source": [
    "skew_kurtosis(loan.experience, \"Skew & Kurtosis Experience\")"
   ]
  },
  {
   "cell_type": "code",
   "execution_count": null,
   "id": "8b28c0a7-2929-4f33-ada8-fc6e48b879ae",
   "metadata": {},
   "outputs": [],
   "source": []
  }
 ],
 "metadata": {
  "kernelspec": {
   "display_name": "Python 3 (ipykernel)",
   "language": "python",
   "name": "python3"
  },
  "language_info": {
   "codemirror_mode": {
    "name": "ipython",
    "version": 3
   },
   "file_extension": ".py",
   "mimetype": "text/x-python",
   "name": "python",
   "nbconvert_exporter": "python",
   "pygments_lexer": "ipython3",
   "version": "3.10.8"
  }
 },
 "nbformat": 4,
 "nbformat_minor": 5
}
