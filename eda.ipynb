{
 "cells": [
  {
   "cell_type": "code",
   "execution_count": 1,
   "id": "8e1f785b-0781-4e8e-b49d-d7e3c716cef0",
   "metadata": {},
   "outputs": [],
   "source": [
    "import os\n",
    "import numpy as np\n",
    "import pandas as pd\n",
    "import matplotlib.pyplot as plt\n",
    "import seaborn as sns\n",
    "import warnings\n",
    "from scipy import stats\n",
    "from IPython.core.interactiveshell import InteractiveShell"
   ]
  },
  {
   "cell_type": "code",
   "execution_count": 2,
   "id": "66ccf321-7f93-45ae-be83-d67db92a6253",
   "metadata": {
    "jupyter": {
     "source_hidden": true
    },
    "tags": []
   },
   "outputs": [],
   "source": [
    "# Libraries Settings\n",
    "warnings.simplefilter(action=\"ignore\", category=FutureWarning)\n",
    "warnings.simplefilter(action=\"ignore\", category=Warning)\n",
    "InteractiveShell.ast_node_interactivity = \"all\"\n",
    "%matplotlib inline\n",
    "np.set_printoptions(suppress=True)\n",
    "\n",
    "def set_seed(seed=42):\n",
    "    np.random.seed(seed)\n",
    "    os.environ[\"PYTHONHASHSEED\"] = str(seed)\n",
    "    \n",
    "pd.set_option(\"display.width\", 100)\n",
    "pd.set_option(\"display.max_columns\", 60)\n",
    "pd.set_option(\"display.max_rows\", 25)\n",
    "pd.set_option(\"display.float_format\", lambda x: \"%.3f\" % x)"
   ]
  },
  {
   "cell_type": "code",
   "execution_count": 3,
   "id": "3ed84e52-aabc-4892-a4e6-9d29c5bed800",
   "metadata": {
    "jupyter": {
     "source_hidden": true
    },
    "tags": []
   },
   "outputs": [],
   "source": [
    "# plot function\n",
    "def numerical_plotting(data, col, title, symb, ylabel, color):\n",
    "    fig, ax = plt.subplots(2, 1, \n",
    "                           sharex=True, \n",
    "                           figsize=(20, 8),\n",
    "                           facecolor=\"#FFFFFF\",\n",
    "                           gridspec_kw={\"height_ratios\": (.2, .8)})\n",
    "    \n",
    "    ax[0].set_facecolor(\"#FFFFFF\")\n",
    "    ax[1].set_facecolor(\"#FFFFFF\")\n",
    "    \n",
    "    ax[0].set_title(title, \n",
    "                    weight=\"bold\", \n",
    "                    fontsize=30, \n",
    "                    pad=30)\n",
    "    \n",
    "    sns.boxplot(x=col, \n",
    "                data=data,\n",
    "                color=color,\n",
    "                ax=ax[0])\n",
    "    \n",
    "    ax[0].set(yticks=[])\n",
    "    \n",
    "    sns.distplot(data[col], kde=True, color=color)\n",
    "    \n",
    "    plt.xticks(weight=\"bold\", fontsize=10)\n",
    "    plt.yticks(weight=\"bold\", fontsize=10)\n",
    "    \n",
    "    ax[0].set_xlabel(col, weight=\"bold\", fontsize=15, labelpad=15)\n",
    "    ax[1].set_xlabel(col, weight=\"bold\", fontsize=15)\n",
    "    ax[1].set_ylabel(ylabel, weight=\"bold\", fontsize=15)\n",
    "    \n",
    "    plt.axvline(data[col].mean(), \n",
    "                color='darkgreen', \n",
    "                linewidth=2.2, \n",
    "                label='mean=' + str(np.round(data[col].mean(),1)) + symb)\n",
    "    plt.axvline(data[col].median(), \n",
    "                color='red', \n",
    "                linewidth=2.2, \n",
    "                label='median='+ str(np.round(data[col].median(),1)) + symb)\n",
    "    plt.axvline(data[col].max(), \n",
    "                color='blue', \n",
    "                linewidth=2.2, \n",
    "                label='max='+ str(np.round(data[col].max(),1)) + symb)\n",
    "    plt.axvline(data[col].min(), \n",
    "                color='orange', \n",
    "                linewidth=2.2, \n",
    "                label='min='+ str(np.round(data[col].min(),1)) + symb)\n",
    "    plt.axvline(data[col].mode()[0], \n",
    "                color='purple', \n",
    "                linewidth=2.2, \n",
    "                label='mode='+ str(data[col].mode()[0]) + symb)\n",
    "    \n",
    "    \n",
    "    plt.legend(bbox_to_anchor=(1, 1), \n",
    "               ncol=1, \n",
    "               fontsize=17, \n",
    "               fancybox=True, \n",
    "               shadow=True, \n",
    "               frameon=False)\n",
    "    \n",
    "    plt.tight_layout()\n",
    "    plt.show()\n",
    "    \n",
    "def count_pie_plot(datapie, datacount, colpiey, colcount, text1, text2, piecomap,\n",
    "                   xlabel, ylabel, xticklabel, yticklabel, ystart, yend, pielabels, yplus, \n",
    "                   piefs=10, countcomap=None, pctdistance=0.65, fontsize=15, xtickrotation=None):\n",
    "\n",
    "    # Subplots\n",
    "    fig, (ax1, ax2) = plt.subplots(ncols=2, \n",
    "                                   nrows=1, \n",
    "                                   facecolor=(\"#FFFFFF\"),\n",
    "                                   figsize=(24, 8))\n",
    "\n",
    "    datapie.plot(kind=\"pie\", \n",
    "                 y=colpiey,\n",
    "                 autopct='%1.1f%%',\n",
    "                 labels=None,\n",
    "                 startangle=90,\n",
    "                 colors=piecomap,\n",
    "                 wedgeprops=dict(width=0.15),\n",
    "                 pctdistance=pctdistance,\n",
    "                 fontsize=piefs,\n",
    "                 ax=ax1,\n",
    "                 textprops=dict(color=\"black\", \n",
    "                                weight=\"bold\"))\n",
    "    \n",
    "    sns.countplot(x=colcount,\n",
    "                  data=datacount,\n",
    "                  palette=countcomap,\n",
    "                  ax=ax2)\n",
    "\n",
    "    #title\n",
    "    x0, x1 = ax1.get_xlim()\n",
    "    y0, y1 = ax1.get_ylim()\n",
    "    \n",
    "    ax1.text(x0, y1 * 1.40, \n",
    "             text1, \n",
    "             fontsize=30, \n",
    "             ha=\"left\", \n",
    "             va=\"center\", \n",
    "             weight=\"bold\")\n",
    "    ax1.text(x0, y1 * 1.25, \n",
    "             text2, \n",
    "             fontsize=18, \n",
    "             ha=\"left\", \n",
    "             va=\"center\")\n",
    "    \n",
    "    ax1.legend(pielabels, \n",
    "               loc=\"upper left\", \n",
    "               bbox_to_anchor=(x0*0.01, y1*0.85), \n",
    "               prop={'size': 10.5}, frameon=False, ncol=len(datapie))\n",
    "    \n",
    "    ax2.set_xlabel(xlabel,\n",
    "                   weight=\"bold\",\n",
    "                   labelpad=15,\n",
    "                   fontsize=15)\n",
    "\n",
    "    ax2.set_ylabel(ylabel,\n",
    "                   weight=\"bold\",\n",
    "                   labelpad=15,\n",
    "                   fontsize=15)\n",
    "\n",
    "    ax2.set_xticklabels(labels=xticklabel,\n",
    "                        weight=\"semibold\",\n",
    "                        fontsize=10,\n",
    "                        rotation=xtickrotation)\n",
    "    ax2.set_yticklabels(labels=yticklabel,\n",
    "                        weight=\"semibold\",\n",
    "                        fontsize=10)\n",
    "\n",
    "    # data label\n",
    "    i=0\n",
    "\n",
    "    for p in ax2.patches:\n",
    "        value = f\"{p.get_height()}\"\n",
    "        if (i < 2):\n",
    "            y1 = -2\n",
    "        else:\n",
    "            y1 = 2\n",
    "        i += 1\n",
    "        x = p.get_x() + p.get_width() / 2 \n",
    "        y = p.get_y() + p.get_height() + yplus\n",
    "        ax2.text(x, y, value, ha=\"center\", va=\"center\", fontsize=15, weight=\"semibold\") \n",
    "\n",
    "    ax2.set_ylim(ystart, yend)\n",
    "    ax2.set_facecolor(\"#FFFFFF\")\n",
    "    ax1.set_ylabel(None)\n",
    "    \n",
    "    plt.tight_layout()\n",
    "    return fig\n",
    "\n",
    "def countplot_y(data, xplus, coly, sizey, text1, text2, \n",
    "                xlabel, ylabel, xstart, xend, ytimes1, ytimes2):\n",
    "\n",
    "    fig, ax = plt.subplots(ncols=1,\n",
    "                           nrows=1,\n",
    "                           facecolor=(\"#FFFFFF\"),\n",
    "                           figsize=(24, sizey))\n",
    "\n",
    "    sns.countplot(y=coly,\n",
    "                  data=data,\n",
    "                  palette=['#E0144C', '#FF5858', '#3AB0FF', '#FFB562', '#6FEDD6', '#6D9885'],\n",
    "                  ax=ax)\n",
    "\n",
    "    x0, x1 = ax.get_xlim()\n",
    "    y0, y1 = ax.get_ylim()\n",
    "\n",
    "    ax.text(x0, y1 * ytimes1, \n",
    "            text1, fontsize=30, \n",
    "            ha=\"left\", va=\"center\", weight=\"bold\")\n",
    "    ax.text(x0, y1 * ytimes2, \n",
    "            text2, fontsize=18, \n",
    "            ha=\"left\", va=\"center\")\n",
    "\n",
    "    plt.xticks(weight=\"bold\",\n",
    "               fontsize=10)\n",
    "    plt.yticks(weight=\"bold\",\n",
    "               fontsize=10)\n",
    "    plt.xlabel(xlabel, weight=\"bold\", \n",
    "               fontsize=25, labelpad=20)\n",
    "    plt.ylabel(ylabel, weight=\"bold\", \n",
    "               fontsize=25, labelpad=20)\n",
    "\n",
    "    # data label\n",
    "    i=0\n",
    "\n",
    "    for p in ax.patches:\n",
    "        value = f'{p.get_width()}'\n",
    "        if i < 7:\n",
    "            x1 = -1.2\n",
    "        else:\n",
    "            x1 = 1.2\n",
    "\n",
    "        i+=1\n",
    "        x = p.get_x() + p.get_width() + xplus\n",
    "        y = p.get_y() + p.get_height() -.4\n",
    "        ax.text(x, y, value, ha='center', va='center', fontsize=15, weight='semibold') \n",
    "\n",
    "    plt.tight_layout()\n",
    "    ax.set_xlim(xstart, xend)\n",
    "    ax.set_facecolor(\"#FFFFFF\")\n",
    "    \n",
    "    return fig\n",
    "\n",
    "def bivariate_numerical_plot(data, x, hue, title, xlabel, ylabel):\n",
    "    fig, ax = plt.subplots(1, 1,\n",
    "                           figsize=(20, 6), \n",
    "                           facecolor=\"#FFFFFF\")\n",
    "    sns.kdeplot(data=data, \n",
    "                x=x, \n",
    "                hue=hue, \n",
    "                fill=True)\n",
    "    \n",
    "    ax.set_facecolor(\"#FFFFFF\")\n",
    "    \n",
    "    plt.title(title, weight=\"bold\", \n",
    "              fontsize=25, pad=30)\n",
    "    plt.xticks(weight=\"bold\", fontsize=10)\n",
    "    plt.yticks(weight=\"bold\", fontsize=10)\n",
    "    plt.xlabel(xlabel, weight=\"bold\", \n",
    "               fontsize=15, labelpad=15)\n",
    "    plt.ylabel(ylabel, weight=\"bold\", \n",
    "               fontsize=15, labelpad=15)\n",
    "    plt.tight_layout()\n",
    "    plt.show()\n",
    "    \n",
    "def mtvboxplot(data, x, y, hue, title, xlabel, ylabel):\n",
    "    fig, ax = plt.subplots(1, 1,\n",
    "                           figsize=(24, 8))\n",
    "    sns.boxplot(x=x, y=y, hue=hue, \n",
    "                data=data, ax=ax)\n",
    "    plt.title(title, weight=\"bold\", \n",
    "              fontsize=25, pad=25)\n",
    "    plt.xticks(weight=\"bold\", fontsize=10)\n",
    "    plt.yticks(weight=\"bold\", fontsize=10)\n",
    "    plt.xlabel(xlabel, weight=\"bold\", \n",
    "               fontsize=15, labelpad=10)\n",
    "    plt.ylabel(ylabel, weight=\"bold\", \n",
    "               fontsize=15, labelpad=10)\n",
    "    plt.tight_layout()\n",
    "    plt.show()"
   ]
  },
  {
   "cell_type": "code",
   "execution_count": 4,
   "id": "104b80f2-a483-4fa6-a81b-1d9925c35390",
   "metadata": {
    "jupyter": {
     "source_hidden": true
    },
    "tags": []
   },
   "outputs": [],
   "source": [
    "# stat function\n",
    "\n",
    "def spearman_correlation(data1, data2, title):\n",
    "    print(\"-\" * 15, title, \"-\" * 15)\n",
    "    print()\n",
    "    # calculate Spearman's Correlation\n",
    "    coef, p = stats.spearmanr(data1, data2)\n",
    "    print(f\"Spearmans correlation coefficient: {coef:.3f}\")\n",
    "    print()\n",
    "    # interpret the significance\n",
    "    alpha = 0.05\n",
    "    if (p > alpha):\n",
    "        print(f\"Samples are uncorrelated (fail to reject H0) p={p:.3f}\")\n",
    "    else:\n",
    "        print(f\"Samples are correlated (reject H0) p={p:.3f}\")\n",
    "    print()\n",
    "    \n",
    "def pearson_correlation(data1, data2, title):\n",
    "    print(\"-\" * 15, title, \"-\" * 15)\n",
    "    print()\n",
    "    # calculate Pearson's Correlation\n",
    "    coef, p = stats.pearsonr(data1, data2)\n",
    "    print(f\"Pearson correlation coefficient: {coef:.3f}\")\n",
    "    print()\n",
    "    # interpret the significance\n",
    "    alpha = 0.05\n",
    "    if (p > alpha):\n",
    "        print(f\"Samples are uncorrelated (fail to reject H0) p={p:.3f}\")\n",
    "    else:\n",
    "        print(f\"Samples are correlated (reject H0) p={p:.3f}\")\n",
    "    print()\n",
    "    \n",
    "def skew_kurtosis(data, title):\n",
    "    skw = stats.skew(data, bias=False)\n",
    "    kurt = stats.kurtosis(data, bias=False)\n",
    "    \n",
    "    print(\"-\" * 20, title, \"-\" * 20)\n",
    "    print(f\"Skewness: {skw}\")\n",
    "    if (skw < -1) and (skw > 1):\n",
    "        print(\"Highly skewed\")\n",
    "    elif (-1 < skw < -0.5) or (1 < skw < 0.5):\n",
    "        print(\"Moderately skewed\")\n",
    "    elif (-0.5 < skw < 0.5):\n",
    "        print(\"Approximately symmetric\")\n",
    "    print(\"-\" * 35)\n",
    "    print(f\"Kurtosis: {kurt}\")\n",
    "    if (kurt > 1):\n",
    "        print(\"The distribution is too peaked\")\n",
    "    elif (kurt < -1):\n",
    "        print(\"The distribution is too flat\")\n",
    "    else:\n",
    "        print(\"The distribution is non-normal\")\n",
    "    print(\"-\" * 35)\n",
    "    \n",
    "def chebychev(data, title, interpret):\n",
    "    mu = round(data.mean(), 1)\n",
    "    s = round(data.std(), 1)\n",
    "    \n",
    "    fc = round(mu - (2 * s), 1)\n",
    "    sc = round(mu + (2 * s), 1)\n",
    "    \n",
    "    print(\"-\" * 20, f\"Interpretation of {title}\", \"-\" * 20)\n",
    "    print(f\"first calc: {fc}\")\n",
    "    print(f\"second calc: {sc}\")\n",
    "    print(interpret)\n",
    "    print(\"-\" * 40)"
   ]
  },
  {
   "cell_type": "markdown",
   "id": "6e406f3a-0de1-4995-82fd-66a5a79e778a",
   "metadata": {},
   "source": [
    "### 1.4 | Dataset Problems"
   ]
  },
  {
   "cell_type": "markdown",
   "id": "5ed4c9eb-6758-478f-b7fd-77dcc44353a2",
   "metadata": {},
   "source": [
    "##### An organization wants to predict who possible defaulters are for the consumer loans product. \n",
    "##### They have data about historic customer behavior based on what they have observed. Hence when \n",
    "##### they acquire new customers they want to predict who is riskier and who is not.\n"
   ]
  },
  {
   "cell_type": "code",
   "execution_count": 5,
   "id": "04bf0692-6146-4901-9c7d-e84a7699d6fc",
   "metadata": {},
   "outputs": [],
   "source": [
    "df = pd.read_csv('data/Training Data.csv')"
   ]
  },
  {
   "cell_type": "code",
   "execution_count": 6,
   "id": "73ba65c5-83d2-40ea-9580-36d53dca1e67",
   "metadata": {},
   "outputs": [
    {
     "data": {
      "text/html": [
       "<div>\n",
       "<style scoped>\n",
       "    .dataframe tbody tr th:only-of-type {\n",
       "        vertical-align: middle;\n",
       "    }\n",
       "\n",
       "    .dataframe tbody tr th {\n",
       "        vertical-align: top;\n",
       "    }\n",
       "\n",
       "    .dataframe thead th {\n",
       "        text-align: right;\n",
       "    }\n",
       "</style>\n",
       "<table border=\"1\" class=\"dataframe\">\n",
       "  <thead>\n",
       "    <tr style=\"text-align: right;\">\n",
       "      <th></th>\n",
       "      <th>Id</th>\n",
       "      <th>Income</th>\n",
       "      <th>Age</th>\n",
       "      <th>Experience</th>\n",
       "      <th>Married/Single</th>\n",
       "      <th>House_Ownership</th>\n",
       "      <th>Car_Ownership</th>\n",
       "      <th>Profession</th>\n",
       "      <th>CITY</th>\n",
       "      <th>STATE</th>\n",
       "      <th>CURRENT_JOB_YRS</th>\n",
       "      <th>CURRENT_HOUSE_YRS</th>\n",
       "      <th>Risk_Flag</th>\n",
       "    </tr>\n",
       "  </thead>\n",
       "  <tbody>\n",
       "    <tr>\n",
       "      <th>0</th>\n",
       "      <td>1</td>\n",
       "      <td>1303834</td>\n",
       "      <td>23</td>\n",
       "      <td>3</td>\n",
       "      <td>single</td>\n",
       "      <td>rented</td>\n",
       "      <td>no</td>\n",
       "      <td>Mechanical_engineer</td>\n",
       "      <td>Rewa</td>\n",
       "      <td>Madhya_Pradesh</td>\n",
       "      <td>3</td>\n",
       "      <td>13</td>\n",
       "      <td>0</td>\n",
       "    </tr>\n",
       "    <tr>\n",
       "      <th>1</th>\n",
       "      <td>2</td>\n",
       "      <td>7574516</td>\n",
       "      <td>40</td>\n",
       "      <td>10</td>\n",
       "      <td>single</td>\n",
       "      <td>rented</td>\n",
       "      <td>no</td>\n",
       "      <td>Software_Developer</td>\n",
       "      <td>Parbhani</td>\n",
       "      <td>Maharashtra</td>\n",
       "      <td>9</td>\n",
       "      <td>13</td>\n",
       "      <td>0</td>\n",
       "    </tr>\n",
       "    <tr>\n",
       "      <th>2</th>\n",
       "      <td>3</td>\n",
       "      <td>3991815</td>\n",
       "      <td>66</td>\n",
       "      <td>4</td>\n",
       "      <td>married</td>\n",
       "      <td>rented</td>\n",
       "      <td>no</td>\n",
       "      <td>Technical_writer</td>\n",
       "      <td>Alappuzha</td>\n",
       "      <td>Kerala</td>\n",
       "      <td>4</td>\n",
       "      <td>10</td>\n",
       "      <td>0</td>\n",
       "    </tr>\n",
       "    <tr>\n",
       "      <th>3</th>\n",
       "      <td>4</td>\n",
       "      <td>6256451</td>\n",
       "      <td>41</td>\n",
       "      <td>2</td>\n",
       "      <td>single</td>\n",
       "      <td>rented</td>\n",
       "      <td>yes</td>\n",
       "      <td>Software_Developer</td>\n",
       "      <td>Bhubaneswar</td>\n",
       "      <td>Odisha</td>\n",
       "      <td>2</td>\n",
       "      <td>12</td>\n",
       "      <td>1</td>\n",
       "    </tr>\n",
       "    <tr>\n",
       "      <th>4</th>\n",
       "      <td>5</td>\n",
       "      <td>5768871</td>\n",
       "      <td>47</td>\n",
       "      <td>11</td>\n",
       "      <td>single</td>\n",
       "      <td>rented</td>\n",
       "      <td>no</td>\n",
       "      <td>Civil_servant</td>\n",
       "      <td>Tiruchirappalli[10]</td>\n",
       "      <td>Tamil_Nadu</td>\n",
       "      <td>3</td>\n",
       "      <td>14</td>\n",
       "      <td>1</td>\n",
       "    </tr>\n",
       "  </tbody>\n",
       "</table>\n",
       "</div>"
      ],
      "text/plain": [
       "   Id   Income  Age  Experience Married/Single House_Ownership Car_Ownership           Profession  \\\n",
       "0   1  1303834   23           3         single          rented            no  Mechanical_engineer   \n",
       "1   2  7574516   40          10         single          rented            no   Software_Developer   \n",
       "2   3  3991815   66           4        married          rented            no     Technical_writer   \n",
       "3   4  6256451   41           2         single          rented           yes   Software_Developer   \n",
       "4   5  5768871   47          11         single          rented            no        Civil_servant   \n",
       "\n",
       "                  CITY           STATE  CURRENT_JOB_YRS  CURRENT_HOUSE_YRS  Risk_Flag  \n",
       "0                 Rewa  Madhya_Pradesh                3                 13          0  \n",
       "1             Parbhani     Maharashtra                9                 13          0  \n",
       "2            Alappuzha          Kerala                4                 10          0  \n",
       "3          Bhubaneswar          Odisha                2                 12          1  \n",
       "4  Tiruchirappalli[10]      Tamil_Nadu                3                 14          1  "
      ]
     },
     "execution_count": 6,
     "metadata": {},
     "output_type": "execute_result"
    }
   ],
   "source": [
    "df.head()"
   ]
  },
  {
   "cell_type": "code",
   "execution_count": 7,
   "id": "e079853a-87ed-4de7-a94b-794b2f967d57",
   "metadata": {},
   "outputs": [
    {
     "data": {
      "text/plain": [
       "Id                   0\n",
       "Income               0\n",
       "Age                  0\n",
       "Experience           0\n",
       "Married/Single       0\n",
       "House_Ownership      0\n",
       "Car_Ownership        0\n",
       "Profession           0\n",
       "CITY                 0\n",
       "STATE                0\n",
       "CURRENT_JOB_YRS      0\n",
       "CURRENT_HOUSE_YRS    0\n",
       "Risk_Flag            0\n",
       "dtype: int64"
      ]
     },
     "execution_count": 7,
     "metadata": {},
     "output_type": "execute_result"
    }
   ],
   "source": [
    "df.isna().sum()"
   ]
  },
  {
   "cell_type": "code",
   "execution_count": 8,
   "id": "84b758ca-f903-40bb-afc9-89bbdae07e88",
   "metadata": {},
   "outputs": [
    {
     "data": {
      "text/plain": [
       "<Figure size 1440x360 with 0 Axes>"
      ]
     },
     "execution_count": 8,
     "metadata": {},
     "output_type": "execute_result"
    },
    {
     "data": {
      "text/plain": [
       "<AxesSubplot:>"
      ]
     },
     "execution_count": 8,
     "metadata": {},
     "output_type": "execute_result"
    },
    {
     "data": {
      "text/plain": [
       "<function matplotlib.pyplot.plot(*args, scalex=True, scaley=True, data=None, **kwargs)>"
      ]
     },
     "execution_count": 8,
     "metadata": {},
     "output_type": "execute_result"
    },
    {
     "data": {
      "image/png": "[encoded data removed]",
      "text/plain": [
       "<Figure size 1440x360 with 1 Axes>"
      ]
     },
     "metadata": {
      "needs_background": "light"
     },
     "output_type": "display_data"
    }
   ],
   "source": [
    "# plotting null values\n",
    "plt.figure(figsize=(20,5))\n",
    "sns.heatmap(df.isnull(),yticklabels=False,cbar=False,cmap='viridis')\n",
    "plt.plot"
   ]
  },
  {
   "cell_type": "code",
   "execution_count": 9,
   "id": "2bbc3dd3-caf2-4d0f-8e3e-a4a66212a6da",
   "metadata": {},
   "outputs": [
    {
     "name": "stdout",
     "output_type": "stream",
     "text": [
      "<class 'pandas.core.frame.DataFrame'>\n",
      "RangeIndex: 252000 entries, 0 to 251999\n",
      "Data columns (total 13 columns):\n",
      " #   Column             Non-Null Count   Dtype \n",
      "---  ------             --------------   ----- \n",
      " 0   Id                 252000 non-null  int64 \n",
      " 1   Income             252000 non-null  int64 \n",
      " 2   Age                252000 non-null  int64 \n",
      " 3   Experience         252000 non-null  int64 \n",
      " 4   Married/Single     252000 non-null  object\n",
      " 5   House_Ownership    252000 non-null  object\n",
      " 6   Car_Ownership      252000 non-null  object\n",
      " 7   Profession         252000 non-null  object\n",
      " 8   CITY               252000 non-null  object\n",
      " 9   STATE              252000 non-null  object\n",
      " 10  CURRENT_JOB_YRS    252000 non-null  int64 \n",
      " 11  CURRENT_HOUSE_YRS  252000 non-null  int64 \n",
      " 12  Risk_Flag          252000 non-null  int64 \n",
      "dtypes: int64(7), object(6)\n",
      "memory usage: 25.0+ MB\n"
     ]
    }
   ],
   "source": [
    "df.info()"
   ]
  },
  {
   "cell_type": "markdown",
   "id": "87964bfe-c0bd-4be7-91f8-2736f04bcb50",
   "metadata": {},
   "source": [
    "### Uniqueness Categorical Variables\n",
    "#### Let's have a look at categorical variables. How many unique values of these variables"
   ]
  },
  {
   "cell_type": "code",
   "execution_count": 10,
   "id": "39763833-19a0-41f1-9b55-72bbcb10c8b2",
   "metadata": {},
   "outputs": [],
   "source": [
    "categorical = df.select_dtypes([\"category\", \"object\"]).columns"
   ]
  },
  {
   "cell_type": "code",
   "execution_count": 11,
   "id": "eab23bfc-6d36-4e6a-adfb-f26d63159415",
   "metadata": {},
   "outputs": [
    {
     "data": {
      "text/plain": [
       "Index(['Married/Single', 'House_Ownership', 'Car_Ownership', 'Profession', 'CITY', 'STATE'], dtype='object')"
      ]
     },
     "execution_count": 11,
     "metadata": {},
     "output_type": "execute_result"
    }
   ],
   "source": [
    "categorical"
   ]
  },
  {
   "cell_type": "code",
   "execution_count": 12,
   "id": "31e8fc7f-b7f5-4aea-9ca3-3a42d8281233",
   "metadata": {},
   "outputs": [
    {
     "name": "stdout",
     "output_type": "stream",
     "text": [
      "Married/Single: 2 uniqueness variable\n",
      "House_Ownership: 3 uniqueness variable\n",
      "Car_Ownership: 2 uniqueness variable\n",
      "Profession: 51 uniqueness variable\n",
      "CITY: 317 uniqueness variable\n",
      "STATE: 29 uniqueness variable\n"
     ]
    }
   ],
   "source": [
    "for cat_col in categorical:\n",
    "    print(f\"{cat_col}: {df[cat_col].nunique()} uniqueness variable\")"
   ]
  },
  {
   "cell_type": "markdown",
   "id": "d2b93cc8-f0ae-4813-874d-cd94472b66db",
   "metadata": {},
   "source": [
    "### Discrete and Continuous Variables\n",
    "##### Let's have a look at Discrete and Continuous variables."
   ]
  },
  {
   "cell_type": "code",
   "execution_count": 13,
   "id": "4ad427b9-8739-4ca9-a2e5-4a507634a771",
   "metadata": {},
   "outputs": [],
   "source": [
    "numeric = df.select_dtypes([\"int\", \"float\"]).columns"
   ]
  },
  {
   "cell_type": "code",
   "execution_count": 14,
   "id": "2b817ef8-878e-4122-8cd1-ffbee603d8ba",
   "metadata": {},
   "outputs": [
    {
     "name": "stdout",
     "output_type": "stream",
     "text": [
      "Id: 252000 uniqueness variable\n",
      "Income: 41920 uniqueness variable\n",
      "Age: 59 uniqueness variable\n",
      "Experience: 21 uniqueness variable\n",
      "CURRENT_JOB_YRS: 15 uniqueness variable\n",
      "CURRENT_HOUSE_YRS: 5 uniqueness variable\n",
      "Risk_Flag: 2 uniqueness variable\n"
     ]
    }
   ],
   "source": [
    "for num_col in numeric:\n",
    "    print(f\"{num_col}: {df[num_col].nunique()} uniqueness variable\")"
   ]
  },
  {
   "cell_type": "markdown",
   "id": "d884802c-1e0b-4571-aa26-1785b6c1f555",
   "metadata": {},
   "source": [
    "#### How many missing data points do we have?¶\n",
    "##### Let's see how many missing data we have in each column...."
   ]
  },
  {
   "cell_type": "code",
   "execution_count": 15,
   "id": "6c8bdefb-4ba7-422a-b042-6fd84df14032",
   "metadata": {},
   "outputs": [
    {
     "data": {
      "text/plain": [
       "Id                 0\n",
       "Income             0\n",
       "Age                0\n",
       "Experience         0\n",
       "Married/Single     0\n",
       "House_Ownership    0\n",
       "Car_Ownership      0\n",
       "Profession         0\n",
       "CITY               0\n",
       "STATE              0\n",
       "dtype: int64"
      ]
     },
     "execution_count": 15,
     "metadata": {},
     "output_type": "execute_result"
    }
   ],
   "source": [
    "# Get the number of missing data points per column\n",
    "missing_values_count = df.isnull().sum()\n",
    "# Look at the missing points in the first ten columns\n",
    "missing_values_count[:10]"
   ]
  },
  {
   "cell_type": "markdown",
   "id": "20475383-f214-4b27-9e93-fe5da2455dab",
   "metadata": {},
   "source": [
    "##### Great! there's no missing value! let's see the unique variables on the categorical data!"
   ]
  },
  {
   "cell_type": "code",
   "execution_count": 16,
   "id": "1e418d92-fa0d-4949-beb2-eb0f4f3b5083",
   "metadata": {},
   "outputs": [
    {
     "data": {
      "text/plain": [
       "array(['Mechanical_engineer', 'Software_Developer', 'Technical_writer',\n",
       "       'Civil_servant', 'Librarian', 'Economist', 'Flight_attendant',\n",
       "       'Architect', 'Designer', 'Physician', 'Financial_Analyst',\n",
       "       'Air_traffic_controller', 'Politician', 'Police_officer', 'Artist',\n",
       "       'Surveyor', 'Design_Engineer', 'Chemical_engineer',\n",
       "       'Hotel_Manager', 'Dentist', 'Comedian', 'Biomedical_Engineer',\n",
       "       'Graphic_Designer', 'Computer_hardware_engineer',\n",
       "       'Petroleum_Engineer', 'Secretary', 'Computer_operator',\n",
       "       'Chartered_Accountant', 'Technician', 'Microbiologist',\n",
       "       'Fashion_Designer', 'Aviator', 'Psychologist', 'Magistrate',\n",
       "       'Lawyer', 'Firefighter', 'Engineer', 'Official', 'Analyst',\n",
       "       'Geologist', 'Drafter', 'Statistician', 'Web_designer',\n",
       "       'Consultant', 'Chef', 'Army_officer', 'Surgeon', 'Scientist',\n",
       "       'Civil_engineer', 'Industrial_Engineer', 'Technology_specialist'],\n",
       "      dtype=object)"
      ]
     },
     "execution_count": 16,
     "metadata": {},
     "output_type": "execute_result"
    }
   ],
   "source": [
    "df.Profession.unique()"
   ]
  },
  {
   "cell_type": "code",
   "execution_count": 17,
   "id": "02aa7839-fc61-491a-b83a-13a1edae6747",
   "metadata": {},
   "outputs": [
    {
     "data": {
      "text/plain": [
       "array(['Rewa', 'Parbhani', 'Alappuzha', 'Bhubaneswar',\n",
       "       'Tiruchirappalli[10]', 'Jalgaon', 'Tiruppur', 'Jamnagar',\n",
       "       'Kota[6]', 'Karimnagar', 'Hajipur[31]', 'Adoni', 'Erode[17]',\n",
       "       'Kollam', 'Madurai', 'Anantapuram[24]', 'Kamarhati', 'Bhusawal',\n",
       "       'Sirsa', 'Amaravati', 'Secunderabad', 'Ahmedabad', 'Ajmer',\n",
       "       'Ongole', 'Miryalaguda', 'Ambattur', 'Indore', 'Pondicherry',\n",
       "       'Shimoga', 'Chennai', 'Gulbarga', 'Khammam', 'Saharanpur',\n",
       "       'Gopalpur', 'Amravati', 'Udupi', 'Howrah', 'Aurangabad[39]',\n",
       "       'Hospet', 'Shimla', 'Khandwa', 'Bidhannagar', 'Bellary', 'Danapur',\n",
       "       'Purnia[26]', 'Bijapur', 'Patiala', 'Malda', 'Sagar', 'Durgapur',\n",
       "       'Junagadh', 'Singrauli', 'Agartala', 'Thanjavur', 'Hindupur',\n",
       "       'Naihati', 'North_Dumdum', 'Panchkula', 'Anantapur', 'Serampore',\n",
       "       'Bathinda', 'Nadiad', 'Kanpur', 'Haridwar', 'Berhampur',\n",
       "       'Jamshedpur', 'Hyderabad', 'Bidar', 'Kottayam', 'Solapur',\n",
       "       'Suryapet', 'Aizawl', 'Asansol', 'Deoghar', 'Eluru[25]',\n",
       "       'Ulhasnagar', 'Aligarh', 'South_Dumdum', 'Berhampore',\n",
       "       'Gandhinagar', 'Sonipat', 'Muzaffarpur', 'Raichur',\n",
       "       'Rajpur_Sonarpur', 'Ambarnath', 'Katihar', 'Kozhikode', 'Vellore',\n",
       "       'Malegaon', 'Kochi', 'Nagaon', 'Nagpur', 'Srinagar', 'Davanagere',\n",
       "       'Bhagalpur', 'Siwan[32]', 'Meerut', 'Dindigul', 'Bhatpara',\n",
       "       'Ghaziabad', 'Kulti', 'Chapra', 'Dibrugarh', 'Panihati',\n",
       "       'Bhiwandi', 'Morbi', 'Kalyan-Dombivli', 'Gorakhpur', 'Panvel',\n",
       "       'Siliguri', 'Bongaigaon', 'Patna', 'Ramgarh', 'Ozhukarai',\n",
       "       'Mirzapur', 'Akola', 'Satna', 'Motihari[34]', 'Jalna', 'Jalandhar',\n",
       "       'Unnao', 'Karnal', 'Cuttack', 'Proddatur', 'Ichalkaranji',\n",
       "       'Warangal[11][12]', 'Jhansi', 'Bulandshahr', 'Narasaraopet',\n",
       "       'Chinsurah', 'Jehanabad[38]', 'Dhanbad', 'Gudivada', 'Gandhidham',\n",
       "       'Raiganj', 'Kishanganj[35]', 'Varanasi', 'Belgaum',\n",
       "       'Tirupati[21][22]', 'Tumkur', 'Coimbatore', 'Kurnool[18]',\n",
       "       'Gurgaon', 'Muzaffarnagar', 'Aurangabad', 'Bhavnagar', 'Arrah',\n",
       "       'Munger', 'Tirunelveli', 'Mumbai', 'Mango', 'Nashik', 'Kadapa[23]',\n",
       "       'Amritsar', 'Khora,_Ghaziabad', 'Ambala', 'Agra', 'Ratlam',\n",
       "       'Surendranagar_Dudhrej', 'Delhi_city', 'Bhopal', 'Hapur', 'Rohtak',\n",
       "       'Durg', 'Korba', 'Bangalore', 'Shivpuri', 'Thrissur',\n",
       "       'Vijayanagaram', 'Farrukhabad', 'Nangloi_Jat', 'Madanapalle',\n",
       "       'Thoothukudi', 'Nagercoil', 'Gaya', 'Chandigarh_city', 'Jammu[16]',\n",
       "       'Kakinada', 'Dewas', 'Bhalswa_Jahangir_Pur', 'Baranagar',\n",
       "       'Firozabad', 'Phusro', 'Allahabad', 'Guna', 'Thane', 'Etawah',\n",
       "       'Vasai-Virar', 'Pallavaram', 'Morena', 'Ballia', 'Surat',\n",
       "       'Burhanpur', 'Phagwara', 'Mau', 'Mangalore', 'Alwar',\n",
       "       'Mahbubnagar', 'Maheshtala', 'Hazaribagh', 'Bihar_Sharif',\n",
       "       'Faridabad', 'Lucknow', 'Tenali', 'Barasat', 'Amroha', 'Giridih',\n",
       "       'Begusarai', 'Medininagar', 'Rajahmundry[19][20]', 'Saharsa[29]',\n",
       "       'New_Delhi', 'Bhilai', 'Moradabad', 'Machilipatnam',\n",
       "       'Mira-Bhayandar', 'Pali', 'Navi_Mumbai', 'Mehsana', 'Imphal',\n",
       "       'Kolkata', 'Sambalpur', 'Ujjain', 'Madhyamgram', 'Jabalpur',\n",
       "       'Jamalpur[36]', 'Ludhiana', 'Bareilly', 'Gangtok', 'Anand',\n",
       "       'Dehradun', 'Pune', 'Satara', 'Srikakulam', 'Raipur', 'Jodhpur',\n",
       "       'Darbhanga', 'Nizamabad', 'Nandyal', 'Dehri[30]', 'Jorhat',\n",
       "       'Ranchi', 'Kumbakonam', 'Guntakal', 'Haldia', 'Loni',\n",
       "       'Pimpri-Chinchwad', 'Rajkot', 'Nanded', 'Noida',\n",
       "       'Kirari_Suleman_Nagar', 'Jaunpur', 'Bilaspur', 'Sambhal', 'Dhule',\n",
       "       'Rourkela', 'Thiruvananthapuram', 'Dharmavaram', 'Nellore[14][15]',\n",
       "       'Visakhapatnam[4]', 'Karawal_Nagar', 'Jaipur', 'Avadi',\n",
       "       'Bhimavaram', 'Bardhaman', 'Silchar', 'Buxar[37]', 'Kavali',\n",
       "       'Tezpur', 'Ramagundam[27]', 'Yamunanagar', 'Sri_Ganganagar',\n",
       "       'Sasaram[30]', 'Sikar', 'Bally', 'Bhiwani', 'Rampur', 'Uluberia',\n",
       "       'Sangli-Miraj_&_Kupwad', 'Hosur', 'Bikaner', 'Shahjahanpur',\n",
       "       'Sultan_Pur_Majra', 'Vijayawada', 'Bharatpur', 'Tadepalligudem',\n",
       "       'Tinsukia', 'Salem', 'Mathura', 'Guntur[13]', 'Hubliâ€“Dharwad',\n",
       "       'Guwahati', 'Chittoor[28]', 'Tiruvottiyur', 'Vadodara',\n",
       "       'Ahmednagar', 'Fatehpur', 'Bhilwara', 'Kharagpur', 'Bettiah[33]',\n",
       "       'Bhind', 'Bokaro', 'Karaikudi', 'Raebareli', 'Pudukkottai',\n",
       "       'Udaipur', 'Mysore[7][8][9]', 'Panipat', 'Latur', 'Tadipatri',\n",
       "       'Bahraich', 'Orai', 'Raurkela_Industrial_Township', 'Gwalior',\n",
       "       'Katni', 'Chandrapur', 'Kolhapur'], dtype=object)"
      ]
     },
     "execution_count": 17,
     "metadata": {},
     "output_type": "execute_result"
    }
   ],
   "source": [
    "df.CITY.unique()"
   ]
  },
  {
   "cell_type": "code",
   "execution_count": 18,
   "id": "33bb3075-c495-448a-b41a-233230d24829",
   "metadata": {},
   "outputs": [
    {
     "data": {
      "text/plain": [
       "array(['Madhya_Pradesh', 'Maharashtra', 'Kerala', 'Odisha', 'Tamil_Nadu',\n",
       "       'Gujarat', 'Rajasthan', 'Telangana', 'Bihar', 'Andhra_Pradesh',\n",
       "       'West_Bengal', 'Haryana', 'Puducherry', 'Karnataka',\n",
       "       'Uttar_Pradesh', 'Himachal_Pradesh', 'Punjab', 'Tripura',\n",
       "       'Uttarakhand', 'Jharkhand', 'Mizoram', 'Assam',\n",
       "       'Jammu_and_Kashmir', 'Delhi', 'Chhattisgarh', 'Chandigarh',\n",
       "       'Uttar_Pradesh[5]', 'Manipur', 'Sikkim'], dtype=object)"
      ]
     },
     "execution_count": 18,
     "metadata": {},
     "output_type": "execute_result"
    }
   ],
   "source": [
    "df.STATE.unique()"
   ]
  },
  {
   "cell_type": "markdown",
   "id": "a4d52c15-ee53-43a8-8b31-c97833e3350e",
   "metadata": {},
   "source": [
    "##### Note:\n",
    "###### We can see above that there are many City names and also State that have a parantheses \n",
    "###### bracket characters and numbers that are not clear what they mean, let's clean that up later.\n",
    "\n",
    "###### This dataset column is very inconsistent and neat, this can cause confusion or typing errors\n",
    "###### in the future, let's change it so we can more easily analyze and predict it later."
   ]
  },
  {
   "cell_type": "markdown",
   "id": "dcb095d5-a391-46c0-9e32-a6ff39b0ff22",
   "metadata": {},
   "source": [
    "## Data Cleaning\n",
    "### 4.1 Checking and cleaning"
   ]
  },
  {
   "cell_type": "code",
   "execution_count": 19,
   "id": "bc79f8dc-5962-4bdd-b708-41f719800245",
   "metadata": {},
   "outputs": [
    {
     "data": {
      "text/plain": [
       "Index(['Id', 'Income', 'Age', 'Experience', 'Married/Single', 'House_Ownership', 'Car_Ownership',\n",
       "       'Profession', 'CITY', 'STATE', 'CURRENT_JOB_YRS', 'CURRENT_HOUSE_YRS', 'Risk_Flag'],\n",
       "      dtype='object')"
      ]
     },
     "execution_count": 19,
     "metadata": {},
     "output_type": "execute_result"
    }
   ],
   "source": [
    "df.columns"
   ]
  },
  {
   "cell_type": "code",
   "execution_count": 20,
   "id": "d5e8f2e0-4e87-4dc7-9058-72e45b95cd24",
   "metadata": {},
   "outputs": [
    {
     "data": {
      "text/plain": [
       "Index(['id', 'income', 'age', 'experience', 'married/single', 'house_ownership', 'car_ownership',\n",
       "       'profession', 'city', 'state', 'current_job_yrs', 'current_house_yrs', 'risk_flag'],\n",
       "      dtype='object')"
      ]
     },
     "execution_count": 20,
     "metadata": {},
     "output_type": "execute_result"
    }
   ],
   "source": [
    "df.columns = df.columns.str.lower()\n",
    "df.columns"
   ]
  },
  {
   "cell_type": "code",
   "execution_count": 21,
   "id": "dd76eba4-c090-4db0-b3c2-1a589cb0e55a",
   "metadata": {},
   "outputs": [
    {
     "data": {
      "text/plain": [
       "Index(['id', 'income', 'age', 'experience', 'married_single', 'house_ownership', 'car_ownership',\n",
       "       'profession', 'city', 'state', 'current_job_yrs', 'current_house_yrs', 'risk_flag'],\n",
       "      dtype='object')"
      ]
     },
     "execution_count": 21,
     "metadata": {},
     "output_type": "execute_result"
    }
   ],
   "source": [
    "df.rename(columns={\"married/single\": \"married_single\"}, inplace=True)\n",
    "df.columns"
   ]
  },
  {
   "cell_type": "markdown",
   "id": "6367cd68-b777-4267-8ed9-98059ef8913c",
   "metadata": {},
   "source": [
    "##### Great! now into the city and state variables, let's clean the characters!"
   ]
  },
  {
   "cell_type": "code",
   "execution_count": 22,
   "id": "96431f90-7fbf-4db6-9792-704364e3ee59",
   "metadata": {},
   "outputs": [
    {
     "data": {
      "text/plain": [
       "array(['Rewa', 'Parbhani', 'Alappuzha', 'Bhubaneswar', 'Tiruchirappalli',\n",
       "       'Jalgaon', 'Tiruppur', 'Jamnagar', 'Kota', 'Karimnagar', 'Hajipur',\n",
       "       'Adoni', 'Erode', 'Kollam', 'Madurai', 'Anantapuram', 'Kamarhati',\n",
       "       'Bhusawal', 'Sirsa', 'Amaravati', 'Secunderabad', 'Ahmedabad',\n",
       "       'Ajmer', 'Ongole', 'Miryalaguda', 'Ambattur', 'Indore',\n",
       "       'Pondicherry', 'Shimoga', 'Chennai', 'Gulbarga', 'Khammam',\n",
       "       'Saharanpur', 'Gopalpur', 'Amravati', 'Udupi', 'Howrah',\n",
       "       'Aurangabad', 'Hospet', 'Shimla', 'Khandwa', 'Bidhannagar',\n",
       "       'Bellary', 'Danapur', 'Purnia', 'Bijapur', 'Patiala', 'Malda',\n",
       "       'Sagar', 'Durgapur', 'Junagadh', 'Singrauli', 'Agartala',\n",
       "       'Thanjavur', 'Hindupur', 'Naihati', 'North', 'Panchkula',\n",
       "       'Anantapur', 'Serampore', 'Bathinda', 'Nadiad', 'Kanpur',\n",
       "       'Haridwar', 'Berhampur', 'Jamshedpur', 'Hyderabad', 'Bidar',\n",
       "       'Kottayam', 'Solapur', 'Suryapet', 'Aizawl', 'Asansol', 'Deoghar',\n",
       "       'Eluru', 'Ulhasnagar', 'Aligarh', 'South', 'Berhampore',\n",
       "       'Gandhinagar', 'Sonipat', 'Muzaffarpur', 'Raichur', 'Rajpur',\n",
       "       'Ambarnath', 'Katihar', 'Kozhikode', 'Vellore', 'Malegaon',\n",
       "       'Kochi', 'Nagaon', 'Nagpur', 'Srinagar', 'Davanagere', 'Bhagalpur',\n",
       "       'Siwan', 'Meerut', 'Dindigul', 'Bhatpara', 'Ghaziabad', 'Kulti',\n",
       "       'Chapra', 'Dibrugarh', 'Panihati', 'Bhiwandi', 'Morbi', 'Kalyan',\n",
       "       'Gorakhpur', 'Panvel', 'Siliguri', 'Bongaigaon', 'Patna',\n",
       "       'Ramgarh', 'Ozhukarai', 'Mirzapur', 'Akola', 'Satna', 'Motihari',\n",
       "       'Jalna', 'Jalandhar', 'Unnao', 'Karnal', 'Cuttack', 'Proddatur',\n",
       "       'Ichalkaranji', 'Warangal', 'Jhansi', 'Bulandshahr',\n",
       "       'Narasaraopet', 'Chinsurah', 'Jehanabad', 'Dhanbad', 'Gudivada',\n",
       "       'Gandhidham', 'Raiganj', 'Kishanganj', 'Varanasi', 'Belgaum',\n",
       "       'Tirupati', 'Tumkur', 'Coimbatore', 'Kurnool', 'Gurgaon',\n",
       "       'Muzaffarnagar', 'Bhavnagar', 'Arrah', 'Munger', 'Tirunelveli',\n",
       "       'Mumbai', 'Mango', 'Nashik', 'Kadapa', 'Amritsar', 'Khora',\n",
       "       'Ambala', 'Agra', 'Ratlam', 'Surendranagar', 'Delhi', 'Bhopal',\n",
       "       'Hapur', 'Rohtak', 'Durg', 'Korba', 'Bangalore', 'Shivpuri',\n",
       "       'Thrissur', 'Vijayanagaram', 'Farrukhabad', 'Nangloi',\n",
       "       'Madanapalle', 'Thoothukudi', 'Nagercoil', 'Gaya', 'Chandigarh',\n",
       "       'Jammu', 'Kakinada', 'Dewas', 'Bhalswa', 'Baranagar', 'Firozabad',\n",
       "       'Phusro', 'Allahabad', 'Guna', 'Thane', 'Etawah', 'Vasai',\n",
       "       'Pallavaram', 'Morena', 'Ballia', 'Surat', 'Burhanpur', 'Phagwara',\n",
       "       'Mau', 'Mangalore', 'Alwar', 'Mahbubnagar', 'Maheshtala',\n",
       "       'Hazaribagh', 'Bihar', 'Faridabad', 'Lucknow', 'Tenali', 'Barasat',\n",
       "       'Amroha', 'Giridih', 'Begusarai', 'Medininagar', 'Rajahmundry',\n",
       "       'Saharsa', 'New', 'Bhilai', 'Moradabad', 'Machilipatnam', 'Mira',\n",
       "       'Pali', 'Navi', 'Mehsana', 'Imphal', 'Kolkata', 'Sambalpur',\n",
       "       'Ujjain', 'Madhyamgram', 'Jabalpur', 'Jamalpur', 'Ludhiana',\n",
       "       'Bareilly', 'Gangtok', 'Anand', 'Dehradun', 'Pune', 'Satara',\n",
       "       'Srikakulam', 'Raipur', 'Jodhpur', 'Darbhanga', 'Nizamabad',\n",
       "       'Nandyal', 'Dehri', 'Jorhat', 'Ranchi', 'Kumbakonam', 'Guntakal',\n",
       "       'Haldia', 'Loni', 'Pimpri', 'Rajkot', 'Nanded', 'Noida', 'Kirari',\n",
       "       'Jaunpur', 'Bilaspur', 'Sambhal', 'Dhule', 'Rourkela',\n",
       "       'Thiruvananthapuram', 'Dharmavaram', 'Nellore', 'Visakhapatnam',\n",
       "       'Karawal', 'Jaipur', 'Avadi', 'Bhimavaram', 'Bardhaman', 'Silchar',\n",
       "       'Buxar', 'Kavali', 'Tezpur', 'Ramagundam', 'Yamunanagar', 'Sri',\n",
       "       'Sasaram', 'Sikar', 'Bally', 'Bhiwani', 'Rampur', 'Uluberia',\n",
       "       'Sangli', 'Hosur', 'Bikaner', 'Shahjahanpur', 'Sultan',\n",
       "       'Vijayawada', 'Bharatpur', 'Tadepalligudem', 'Tinsukia', 'Salem',\n",
       "       'Mathura', 'Guntur', 'Hubli', 'Guwahati', 'Chittoor',\n",
       "       'Tiruvottiyur', 'Vadodara', 'Ahmednagar', 'Fatehpur', 'Bhilwara',\n",
       "       'Kharagpur', 'Bettiah', 'Bhind', 'Bokaro', 'Karaikudi',\n",
       "       'Raebareli', 'Pudukkottai', 'Udaipur', 'Mysore', 'Panipat',\n",
       "       'Latur', 'Tadipatri', 'Bahraich', 'Orai', 'Raurkela', 'Gwalior',\n",
       "       'Katni', 'Chandrapur', 'Kolhapur'], dtype=object)"
      ]
     },
     "execution_count": 22,
     "metadata": {},
     "output_type": "execute_result"
    }
   ],
   "source": [
    "df.city = df.city.str.extract(\"([A-Za-z]+)\")\n",
    "df.city.unique()"
   ]
  },
  {
   "cell_type": "markdown",
   "id": "272640e5-3c77-4af2-9957-ab35cacb220e",
   "metadata": {},
   "source": [
    "##### Great! now state variable"
   ]
  },
  {
   "cell_type": "code",
   "execution_count": 23,
   "id": "4c863e85-82c6-4fff-9f1e-f4704bc81b17",
   "metadata": {},
   "outputs": [
    {
     "data": {
      "text/plain": [
       "array(['Madhya', 'Maharashtra', 'Kerala', 'Odisha', 'Tamil', 'Gujarat',\n",
       "       'Rajasthan', 'Telangana', 'Bihar', 'Andhra', 'West', 'Haryana',\n",
       "       'Puducherry', 'Karnataka', 'Uttar', 'Himachal', 'Punjab',\n",
       "       'Tripura', 'Uttarakhand', 'Jharkhand', 'Mizoram', 'Assam', 'Jammu',\n",
       "       'Delhi', 'Chhattisgarh', 'Chandigarh', 'Manipur', 'Sikkim'],\n",
       "      dtype=object)"
      ]
     },
     "execution_count": 23,
     "metadata": {},
     "output_type": "execute_result"
    }
   ],
   "source": [
    "df.state = df.state.str.extract(\"([A-Za-z]+)\")\n",
    "df.state.unique()"
   ]
  },
  {
   "cell_type": "markdown",
   "id": "1a0c3c30-28c6-40ec-90ac-54a038071909",
   "metadata": {},
   "source": [
    "#### 4.2 Random Under-Sampling"
   ]
  },
  {
   "cell_type": "code",
   "execution_count": 24,
   "id": "f7847297-1267-4aed-892f-67198f8950d5",
   "metadata": {},
   "outputs": [],
   "source": [
    "# Since our classes are highly skewed we should make them equivalent in order to have a normal distribution of the classes.\n",
    "# Lets shuffle the data before creating the subsamples\n",
    "df = df.sample(frac=1)"
   ]
  },
  {
   "cell_type": "code",
   "execution_count": 25,
   "id": "7d16a8a5-0254-494c-9793-1d474635180d",
   "metadata": {},
   "outputs": [],
   "source": [
    "# amount of fraud classes 492 rows.\n",
    "risk_data = df.loc[df[\"risk_flag\"] == 1]\n",
    "not_risk_data = df.loc[df[\"risk_flag\"] == 0][:30996]\n",
    "\n",
    "normal_distributed_data = pd.concat([risk_data, not_risk_data])"
   ]
  },
  {
   "cell_type": "code",
   "execution_count": 26,
   "id": "396b6ad5-138e-4056-90bf-a5690602483f",
   "metadata": {},
   "outputs": [
    {
     "data": {
      "text/html": [
       "<div>\n",
       "<style scoped>\n",
       "    .dataframe tbody tr th:only-of-type {\n",
       "        vertical-align: middle;\n",
       "    }\n",
       "\n",
       "    .dataframe tbody tr th {\n",
       "        vertical-align: top;\n",
       "    }\n",
       "\n",
       "    .dataframe thead th {\n",
       "        text-align: right;\n",
       "    }\n",
       "</style>\n",
       "<table border=\"1\" class=\"dataframe\">\n",
       "  <thead>\n",
       "    <tr style=\"text-align: right;\">\n",
       "      <th></th>\n",
       "      <th>id</th>\n",
       "      <th>income</th>\n",
       "      <th>age</th>\n",
       "      <th>experience</th>\n",
       "      <th>married_single</th>\n",
       "      <th>house_ownership</th>\n",
       "      <th>car_ownership</th>\n",
       "      <th>profession</th>\n",
       "      <th>city</th>\n",
       "      <th>state</th>\n",
       "      <th>current_job_yrs</th>\n",
       "      <th>current_house_yrs</th>\n",
       "      <th>risk_flag</th>\n",
       "    </tr>\n",
       "  </thead>\n",
       "  <tbody>\n",
       "    <tr>\n",
       "      <th>125015</th>\n",
       "      <td>125016</td>\n",
       "      <td>6991135</td>\n",
       "      <td>31</td>\n",
       "      <td>16</td>\n",
       "      <td>single</td>\n",
       "      <td>norent_noown</td>\n",
       "      <td>yes</td>\n",
       "      <td>Fashion_Designer</td>\n",
       "      <td>Mehsana</td>\n",
       "      <td>Gujarat</td>\n",
       "      <td>11</td>\n",
       "      <td>11</td>\n",
       "      <td>0</td>\n",
       "    </tr>\n",
       "    <tr>\n",
       "      <th>2645</th>\n",
       "      <td>2646</td>\n",
       "      <td>1273453</td>\n",
       "      <td>61</td>\n",
       "      <td>12</td>\n",
       "      <td>married</td>\n",
       "      <td>rented</td>\n",
       "      <td>no</td>\n",
       "      <td>Technical_writer</td>\n",
       "      <td>Khammam</td>\n",
       "      <td>Telangana</td>\n",
       "      <td>3</td>\n",
       "      <td>11</td>\n",
       "      <td>0</td>\n",
       "    </tr>\n",
       "    <tr>\n",
       "      <th>121325</th>\n",
       "      <td>121326</td>\n",
       "      <td>7643432</td>\n",
       "      <td>66</td>\n",
       "      <td>17</td>\n",
       "      <td>single</td>\n",
       "      <td>rented</td>\n",
       "      <td>no</td>\n",
       "      <td>Librarian</td>\n",
       "      <td>Belgaum</td>\n",
       "      <td>Karnataka</td>\n",
       "      <td>8</td>\n",
       "      <td>13</td>\n",
       "      <td>0</td>\n",
       "    </tr>\n",
       "    <tr>\n",
       "      <th>42876</th>\n",
       "      <td>42877</td>\n",
       "      <td>1871076</td>\n",
       "      <td>52</td>\n",
       "      <td>18</td>\n",
       "      <td>single</td>\n",
       "      <td>rented</td>\n",
       "      <td>no</td>\n",
       "      <td>Artist</td>\n",
       "      <td>Bettiah</td>\n",
       "      <td>Bihar</td>\n",
       "      <td>3</td>\n",
       "      <td>10</td>\n",
       "      <td>1</td>\n",
       "    </tr>\n",
       "    <tr>\n",
       "      <th>19935</th>\n",
       "      <td>19936</td>\n",
       "      <td>1025043</td>\n",
       "      <td>75</td>\n",
       "      <td>5</td>\n",
       "      <td>single</td>\n",
       "      <td>rented</td>\n",
       "      <td>no</td>\n",
       "      <td>Drafter</td>\n",
       "      <td>Tenali</td>\n",
       "      <td>Andhra</td>\n",
       "      <td>5</td>\n",
       "      <td>10</td>\n",
       "      <td>1</td>\n",
       "    </tr>\n",
       "  </tbody>\n",
       "</table>\n",
       "</div>"
      ],
      "text/plain": [
       "            id   income  age  experience married_single house_ownership car_ownership  \\\n",
       "125015  125016  6991135   31          16         single    norent_noown           yes   \n",
       "2645      2646  1273453   61          12        married          rented            no   \n",
       "121325  121326  7643432   66          17         single          rented            no   \n",
       "42876    42877  1871076   52          18         single          rented            no   \n",
       "19935    19936  1025043   75           5         single          rented            no   \n",
       "\n",
       "              profession     city      state  current_job_yrs  current_house_yrs  risk_flag  \n",
       "125015  Fashion_Designer  Mehsana    Gujarat               11                 11          0  \n",
       "2645    Technical_writer  Khammam  Telangana                3                 11          0  \n",
       "121325         Librarian  Belgaum  Karnataka                8                 13          0  \n",
       "42876             Artist  Bettiah      Bihar                3                 10          1  \n",
       "19935            Drafter   Tenali     Andhra                5                 10          1  "
      ]
     },
     "execution_count": 26,
     "metadata": {},
     "output_type": "execute_result"
    }
   ],
   "source": [
    "# Shuffle dataframe rows\n",
    "loan = normal_distributed_data.sample(frac=1, random_state=42)\n",
    "\n",
    "loan.head()"
   ]
  },
  {
   "cell_type": "markdown",
   "id": "97af5452-5a1d-48dd-b285-c46dd33acf43",
   "metadata": {},
   "source": [
    "#### 4.3 | Equally Distributing and Correlating"
   ]
  },
  {
   "cell_type": "code",
   "execution_count": 27,
   "id": "139d26e4-b8aa-4e4a-b01f-f9c6d4509c48",
   "metadata": {},
   "outputs": [
    {
     "name": "stdout",
     "output_type": "stream",
     "text": [
      "Distribution of the risk_flag in the subsample dataset\n",
      "0   0.500\n",
      "1   0.500\n",
      "Name: risk_flag, dtype: float64\n"
     ]
    },
    {
     "data": {
      "text/plain": [
       "<AxesSubplot:xlabel='risk_flag', ylabel='count'>"
      ]
     },
     "execution_count": 27,
     "metadata": {},
     "output_type": "execute_result"
    },
    {
     "data": {
      "image/png": "[encoded data removed]",
      "text/plain": [
       "<Figure size 432x288 with 1 Axes>"
      ]
     },
     "metadata": {
      "needs_background": "light"
     },
     "output_type": "display_data"
    }
   ],
   "source": [
    "print(\"Distribution of the risk_flag in the subsample dataset\")\n",
    "print(loan[\"risk_flag\"].value_counts() / len(loan))\n",
    "\n",
    "# sns.countplot(\"risk_flag\", data=loan)\n",
    "# plt.title('Equally Distributed Risk Flag', fontsize=14);\n",
    "\n",
    "sns.countplot(x=loan[\"risk_flag\"])\n",
    "plt.show()"
   ]
  },
  {
   "cell_type": "markdown",
   "id": "4ebd3172-a473-4f30-bdf1-605b2cb332f5",
   "metadata": {},
   "source": [
    "##### Now that we have our dataframe correctly balanced, we can go further with our analysis and data preprocessing."
   ]
  },
  {
   "cell_type": "markdown",
   "id": "82579796-e006-4ca0-8823-e5a1ec3afaca",
   "metadata": {},
   "source": [
    "### 5. | Data Analysis"
   ]
  },
  {
   "cell_type": "markdown",
   "id": "806d0752-e955-4002-9a40-c8b616bd1916",
   "metadata": {},
   "source": [
    "##### 5.1 | Descriptive Statistics"
   ]
  },
  {
   "cell_type": "code",
   "execution_count": 28,
   "id": "f6c3bf4e-9cbe-4995-bb4c-24457ebea36a",
   "metadata": {},
   "outputs": [
    {
     "data": {
      "text/html": [
       "<div>\n",
       "<style scoped>\n",
       "    .dataframe tbody tr th:only-of-type {\n",
       "        vertical-align: middle;\n",
       "    }\n",
       "\n",
       "    .dataframe tbody tr th {\n",
       "        vertical-align: top;\n",
       "    }\n",
       "\n",
       "    .dataframe thead th {\n",
       "        text-align: right;\n",
       "    }\n",
       "</style>\n",
       "<table border=\"1\" class=\"dataframe\">\n",
       "  <thead>\n",
       "    <tr style=\"text-align: right;\">\n",
       "      <th></th>\n",
       "      <th>married_single</th>\n",
       "      <th>house_ownership</th>\n",
       "      <th>car_ownership</th>\n",
       "      <th>profession</th>\n",
       "      <th>city</th>\n",
       "      <th>state</th>\n",
       "    </tr>\n",
       "  </thead>\n",
       "  <tbody>\n",
       "    <tr>\n",
       "      <th>count</th>\n",
       "      <td>61992</td>\n",
       "      <td>61992</td>\n",
       "      <td>61992</td>\n",
       "      <td>61992</td>\n",
       "      <td>61992</td>\n",
       "      <td>61992</td>\n",
       "    </tr>\n",
       "    <tr>\n",
       "      <th>unique</th>\n",
       "      <td>2</td>\n",
       "      <td>3</td>\n",
       "      <td>2</td>\n",
       "      <td>51</td>\n",
       "      <td>316</td>\n",
       "      <td>28</td>\n",
       "    </tr>\n",
       "    <tr>\n",
       "      <th>top</th>\n",
       "      <td>single</td>\n",
       "      <td>rented</td>\n",
       "      <td>no</td>\n",
       "      <td>Physician</td>\n",
       "      <td>Srinagar</td>\n",
       "      <td>Uttar</td>\n",
       "    </tr>\n",
       "    <tr>\n",
       "      <th>freq</th>\n",
       "      <td>56103</td>\n",
       "      <td>57544</td>\n",
       "      <td>44194</td>\n",
       "      <td>1459</td>\n",
       "      <td>346</td>\n",
       "      <td>7109</td>\n",
       "    </tr>\n",
       "  </tbody>\n",
       "</table>\n",
       "</div>"
      ],
      "text/plain": [
       "       married_single house_ownership car_ownership profession      city  state\n",
       "count           61992           61992         61992      61992     61992  61992\n",
       "unique              2               3             2         51       316     28\n",
       "top            single          rented            no  Physician  Srinagar  Uttar\n",
       "freq            56103           57544         44194       1459       346   7109"
      ]
     },
     "execution_count": 28,
     "metadata": {},
     "output_type": "execute_result"
    }
   ],
   "source": [
    "loan.describe(exclude=[np.number])"
   ]
  },
  {
   "cell_type": "code",
   "execution_count": 29,
   "id": "df8ba9bb-a740-4d7b-afa9-f9dbe316fe71",
   "metadata": {},
   "outputs": [
    {
     "data": {
      "text/html": [
       "<div>\n",
       "<style scoped>\n",
       "    .dataframe tbody tr th:only-of-type {\n",
       "        vertical-align: middle;\n",
       "    }\n",
       "\n",
       "    .dataframe tbody tr th {\n",
       "        vertical-align: top;\n",
       "    }\n",
       "\n",
       "    .dataframe thead th {\n",
       "        text-align: right;\n",
       "    }\n",
       "</style>\n",
       "<table border=\"1\" class=\"dataframe\">\n",
       "  <thead>\n",
       "    <tr style=\"text-align: right;\">\n",
       "      <th></th>\n",
       "      <th>id</th>\n",
       "      <th>income</th>\n",
       "      <th>age</th>\n",
       "      <th>experience</th>\n",
       "      <th>current_job_yrs</th>\n",
       "      <th>current_house_yrs</th>\n",
       "      <th>risk_flag</th>\n",
       "    </tr>\n",
       "  </thead>\n",
       "  <tbody>\n",
       "    <tr>\n",
       "      <th>count</th>\n",
       "      <td>61992.000</td>\n",
       "      <td>61992.000</td>\n",
       "      <td>61992.000</td>\n",
       "      <td>61992.000</td>\n",
       "      <td>61992.000</td>\n",
       "      <td>61992.000</td>\n",
       "      <td>61992.000</td>\n",
       "    </tr>\n",
       "    <tr>\n",
       "      <th>mean</th>\n",
       "      <td>128702.251</td>\n",
       "      <td>4986895.339</td>\n",
       "      <td>49.557</td>\n",
       "      <td>9.875</td>\n",
       "      <td>6.269</td>\n",
       "      <td>11.998</td>\n",
       "      <td>0.500</td>\n",
       "    </tr>\n",
       "    <tr>\n",
       "      <th>std</th>\n",
       "      <td>76245.859</td>\n",
       "      <td>2898380.644</td>\n",
       "      <td>17.206</td>\n",
       "      <td>6.043</td>\n",
       "      <td>3.683</td>\n",
       "      <td>1.398</td>\n",
       "      <td>0.500</td>\n",
       "    </tr>\n",
       "    <tr>\n",
       "      <th>min</th>\n",
       "      <td>3.000</td>\n",
       "      <td>10310.000</td>\n",
       "      <td>21.000</td>\n",
       "      <td>0.000</td>\n",
       "      <td>0.000</td>\n",
       "      <td>10.000</td>\n",
       "      <td>0.000</td>\n",
       "    </tr>\n",
       "    <tr>\n",
       "      <th>25%</th>\n",
       "      <td>61967.250</td>\n",
       "      <td>2462237.250</td>\n",
       "      <td>34.000</td>\n",
       "      <td>5.000</td>\n",
       "      <td>3.000</td>\n",
       "      <td>11.000</td>\n",
       "      <td>0.000</td>\n",
       "    </tr>\n",
       "    <tr>\n",
       "      <th>50%</th>\n",
       "      <td>128691.500</td>\n",
       "      <td>4990273.000</td>\n",
       "      <td>50.000</td>\n",
       "      <td>10.000</td>\n",
       "      <td>6.000</td>\n",
       "      <td>12.000</td>\n",
       "      <td>0.500</td>\n",
       "    </tr>\n",
       "    <tr>\n",
       "      <th>75%</th>\n",
       "      <td>198965.250</td>\n",
       "      <td>7511925.500</td>\n",
       "      <td>65.000</td>\n",
       "      <td>15.000</td>\n",
       "      <td>9.000</td>\n",
       "      <td>13.000</td>\n",
       "      <td>1.000</td>\n",
       "    </tr>\n",
       "    <tr>\n",
       "      <th>max</th>\n",
       "      <td>251999.000</td>\n",
       "      <td>9999180.000</td>\n",
       "      <td>79.000</td>\n",
       "      <td>20.000</td>\n",
       "      <td>14.000</td>\n",
       "      <td>14.000</td>\n",
       "      <td>1.000</td>\n",
       "    </tr>\n",
       "  </tbody>\n",
       "</table>\n",
       "</div>"
      ],
      "text/plain": [
       "              id      income       age  experience  current_job_yrs  current_house_yrs  risk_flag\n",
       "count  61992.000   61992.000 61992.000   61992.000        61992.000          61992.000  61992.000\n",
       "mean  128702.251 4986895.339    49.557       9.875            6.269             11.998      0.500\n",
       "std    76245.859 2898380.644    17.206       6.043            3.683              1.398      0.500\n",
       "min        3.000   10310.000    21.000       0.000            0.000             10.000      0.000\n",
       "25%    61967.250 2462237.250    34.000       5.000            3.000             11.000      0.000\n",
       "50%   128691.500 4990273.000    50.000      10.000            6.000             12.000      0.500\n",
       "75%   198965.250 7511925.500    65.000      15.000            9.000             13.000      1.000\n",
       "max   251999.000 9999180.000    79.000      20.000           14.000             14.000      1.000"
      ]
     },
     "execution_count": 29,
     "metadata": {},
     "output_type": "execute_result"
    }
   ],
   "source": [
    "loan.describe(include=[np.number])"
   ]
  },
  {
   "cell_type": "code",
   "execution_count": 30,
   "id": "91db4579-9a70-4521-945a-dddda6a75a3f",
   "metadata": {},
   "outputs": [
    {
     "data": {
      "text/html": [
       "<div>\n",
       "<style scoped>\n",
       "    .dataframe tbody tr th:only-of-type {\n",
       "        vertical-align: middle;\n",
       "    }\n",
       "\n",
       "    .dataframe tbody tr th {\n",
       "        vertical-align: top;\n",
       "    }\n",
       "\n",
       "    .dataframe thead th {\n",
       "        text-align: right;\n",
       "    }\n",
       "</style>\n",
       "<table border=\"1\" class=\"dataframe\">\n",
       "  <thead>\n",
       "    <tr style=\"text-align: right;\">\n",
       "      <th>profession</th>\n",
       "      <th>Drafter</th>\n",
       "      <th>Secretary</th>\n",
       "      <th>Computer_hardware_engineer</th>\n",
       "      <th>Computer_operator</th>\n",
       "      <th>Analyst</th>\n",
       "      <th>Official</th>\n",
       "      <th>Politician</th>\n",
       "      <th>Industrial_Engineer</th>\n",
       "      <th>Police_officer</th>\n",
       "      <th>Biomedical_Engineer</th>\n",
       "      <th>Physician</th>\n",
       "      <th>Geologist</th>\n",
       "      <th>Psychologist</th>\n",
       "      <th>Comedian</th>\n",
       "      <th>Technology_specialist</th>\n",
       "      <th>Engineer</th>\n",
       "      <th>Hotel_Manager</th>\n",
       "      <th>Chemical_engineer</th>\n",
       "      <th>Mechanical_engineer</th>\n",
       "      <th>Technician</th>\n",
       "      <th>Magistrate</th>\n",
       "      <th>Civil_engineer</th>\n",
       "      <th>Firefighter</th>\n",
       "      <th>Web_designer</th>\n",
       "      <th>Statistician</th>\n",
       "      <th>Designer</th>\n",
       "      <th>Chef</th>\n",
       "      <th>Artist</th>\n",
       "      <th>Lawyer</th>\n",
       "      <th>Air_traffic_controller</th>\n",
       "      <th>Aviator</th>\n",
       "      <th>Surveyor</th>\n",
       "      <th>Architect</th>\n",
       "      <th>Graphic_Designer</th>\n",
       "      <th>Financial_Analyst</th>\n",
       "      <th>Scientist</th>\n",
       "      <th>Consultant</th>\n",
       "      <th>Army_officer</th>\n",
       "      <th>Microbiologist</th>\n",
       "      <th>Software_Developer</th>\n",
       "      <th>Dentist</th>\n",
       "      <th>Petroleum_Engineer</th>\n",
       "      <th>Technical_writer</th>\n",
       "      <th>Flight_attendant</th>\n",
       "      <th>Civil_servant</th>\n",
       "      <th>Design_Engineer</th>\n",
       "      <th>Economist</th>\n",
       "      <th>Chartered_Accountant</th>\n",
       "      <th>Fashion_Designer</th>\n",
       "      <th>Librarian</th>\n",
       "      <th>Surgeon</th>\n",
       "    </tr>\n",
       "  </thead>\n",
       "  <tbody>\n",
       "    <tr>\n",
       "      <th>min</th>\n",
       "      <td>64805.000</td>\n",
       "      <td>84491.000</td>\n",
       "      <td>87298.000</td>\n",
       "      <td>41719.000</td>\n",
       "      <td>11550.000</td>\n",
       "      <td>212833.000</td>\n",
       "      <td>16909.000</td>\n",
       "      <td>21995.000</td>\n",
       "      <td>70077.000</td>\n",
       "      <td>51974.000</td>\n",
       "      <td>12608.000</td>\n",
       "      <td>62100.000</td>\n",
       "      <td>70387.000</td>\n",
       "      <td>13429.000</td>\n",
       "      <td>41041.000</td>\n",
       "      <td>10310.000</td>\n",
       "      <td>17801.000</td>\n",
       "      <td>26926.000</td>\n",
       "      <td>47866.000</td>\n",
       "      <td>16045.000</td>\n",
       "      <td>67459.000</td>\n",
       "      <td>36017.000</td>\n",
       "      <td>29380.000</td>\n",
       "      <td>57769.000</td>\n",
       "      <td>46244.000</td>\n",
       "      <td>12841.000</td>\n",
       "      <td>15016.000</td>\n",
       "      <td>31297.000</td>\n",
       "      <td>64122.000</td>\n",
       "      <td>33649.000</td>\n",
       "      <td>82797.000</td>\n",
       "      <td>11114.000</td>\n",
       "      <td>25096.000</td>\n",
       "      <td>10675.000</td>\n",
       "      <td>80183.000</td>\n",
       "      <td>28561.000</td>\n",
       "      <td>28519.000</td>\n",
       "      <td>12902.000</td>\n",
       "      <td>12825.000</td>\n",
       "      <td>51528.000</td>\n",
       "      <td>33496.000</td>\n",
       "      <td>80603.000</td>\n",
       "      <td>11799.000</td>\n",
       "      <td>11695.000</td>\n",
       "      <td>11430.000</td>\n",
       "      <td>53886.000</td>\n",
       "      <td>16890.000</td>\n",
       "      <td>15613.000</td>\n",
       "      <td>12766.000</td>\n",
       "      <td>59715.000</td>\n",
       "      <td>18215.000</td>\n",
       "    </tr>\n",
       "    <tr>\n",
       "      <th>max</th>\n",
       "      <td>9999180.000</td>\n",
       "      <td>9998070.000</td>\n",
       "      <td>9994501.000</td>\n",
       "      <td>9993961.000</td>\n",
       "      <td>9992133.000</td>\n",
       "      <td>9991569.000</td>\n",
       "      <td>9989842.000</td>\n",
       "      <td>9988210.000</td>\n",
       "      <td>9987955.000</td>\n",
       "      <td>9987812.000</td>\n",
       "      <td>9987805.000</td>\n",
       "      <td>9987388.000</td>\n",
       "      <td>9985964.000</td>\n",
       "      <td>9984878.000</td>\n",
       "      <td>9984686.000</td>\n",
       "      <td>9983889.000</td>\n",
       "      <td>9983764.000</td>\n",
       "      <td>9983323.000</td>\n",
       "      <td>9982889.000</td>\n",
       "      <td>9982680.000</td>\n",
       "      <td>9982430.000</td>\n",
       "      <td>9981494.000</td>\n",
       "      <td>9980725.000</td>\n",
       "      <td>9980350.000</td>\n",
       "      <td>9978516.000</td>\n",
       "      <td>9978110.000</td>\n",
       "      <td>9977117.000</td>\n",
       "      <td>9976619.000</td>\n",
       "      <td>9976302.000</td>\n",
       "      <td>9975789.000</td>\n",
       "      <td>9975199.000</td>\n",
       "      <td>9974780.000</td>\n",
       "      <td>9974540.000</td>\n",
       "      <td>9973420.000</td>\n",
       "      <td>9972303.000</td>\n",
       "      <td>9970052.000</td>\n",
       "      <td>9967854.000</td>\n",
       "      <td>9967074.000</td>\n",
       "      <td>9962662.000</td>\n",
       "      <td>9962479.000</td>\n",
       "      <td>9959440.000</td>\n",
       "      <td>9951610.000</td>\n",
       "      <td>9945173.000</td>\n",
       "      <td>9939884.000</td>\n",
       "      <td>9938741.000</td>\n",
       "      <td>9934179.000</td>\n",
       "      <td>9932245.000</td>\n",
       "      <td>9926354.000</td>\n",
       "      <td>9915463.000</td>\n",
       "      <td>9908353.000</td>\n",
       "      <td>9897868.000</td>\n",
       "    </tr>\n",
       "    <tr>\n",
       "      <th>mean</th>\n",
       "      <td>4346645.223</td>\n",
       "      <td>5415843.583</td>\n",
       "      <td>5277345.576</td>\n",
       "      <td>4990132.589</td>\n",
       "      <td>4941440.142</td>\n",
       "      <td>4662860.722</td>\n",
       "      <td>4720152.959</td>\n",
       "      <td>4983378.455</td>\n",
       "      <td>4385123.192</td>\n",
       "      <td>5200285.532</td>\n",
       "      <td>4688266.406</td>\n",
       "      <td>4833554.253</td>\n",
       "      <td>5342757.564</td>\n",
       "      <td>5143793.512</td>\n",
       "      <td>4902217.453</td>\n",
       "      <td>4681646.406</td>\n",
       "      <td>4779832.457</td>\n",
       "      <td>5595696.373</td>\n",
       "      <td>4970303.933</td>\n",
       "      <td>5249444.034</td>\n",
       "      <td>4655427.289</td>\n",
       "      <td>5121620.288</td>\n",
       "      <td>4996062.312</td>\n",
       "      <td>5046557.933</td>\n",
       "      <td>4838863.524</td>\n",
       "      <td>5402229.517</td>\n",
       "      <td>4982102.409</td>\n",
       "      <td>4961469.619</td>\n",
       "      <td>5256604.559</td>\n",
       "      <td>4834458.234</td>\n",
       "      <td>4991142.104</td>\n",
       "      <td>5360232.295</td>\n",
       "      <td>5145117.714</td>\n",
       "      <td>4711616.673</td>\n",
       "      <td>4842282.018</td>\n",
       "      <td>5760428.340</td>\n",
       "      <td>4666350.540</td>\n",
       "      <td>5501978.898</td>\n",
       "      <td>4979317.842</td>\n",
       "      <td>4594895.652</td>\n",
       "      <td>4905022.204</td>\n",
       "      <td>5355874.430</td>\n",
       "      <td>5156070.089</td>\n",
       "      <td>4623424.607</td>\n",
       "      <td>4818383.629</td>\n",
       "      <td>4683658.970</td>\n",
       "      <td>4805380.481</td>\n",
       "      <td>5212642.398</td>\n",
       "      <td>5050614.271</td>\n",
       "      <td>4875291.203</td>\n",
       "      <td>5184754.832</td>\n",
       "    </tr>\n",
       "  </tbody>\n",
       "</table>\n",
       "</div>"
      ],
      "text/plain": [
       "profession     Drafter   Secretary  Computer_hardware_engineer  Computer_operator     Analyst  \\\n",
       "min          64805.000   84491.000                   87298.000          41719.000   11550.000   \n",
       "max        9999180.000 9998070.000                 9994501.000        9993961.000 9992133.000   \n",
       "mean       4346645.223 5415843.583                 5277345.576        4990132.589 4941440.142   \n",
       "\n",
       "profession    Official  Politician  Industrial_Engineer  Police_officer  Biomedical_Engineer  \\\n",
       "min         212833.000   16909.000            21995.000       70077.000            51974.000   \n",
       "max        9991569.000 9989842.000          9988210.000     9987955.000          9987812.000   \n",
       "mean       4662860.722 4720152.959          4983378.455     4385123.192          5200285.532   \n",
       "\n",
       "profession   Physician   Geologist  Psychologist    Comedian  Technology_specialist    Engineer  \\\n",
       "min          12608.000   62100.000     70387.000   13429.000              41041.000   10310.000   \n",
       "max        9987805.000 9987388.000   9985964.000 9984878.000            9984686.000 9983889.000   \n",
       "mean       4688266.406 4833554.253   5342757.564 5143793.512            4902217.453 4681646.406   \n",
       "\n",
       "profession  Hotel_Manager  Chemical_engineer  Mechanical_engineer  Technician  Magistrate  \\\n",
       "min             17801.000          26926.000            47866.000   16045.000   67459.000   \n",
       "max           9983764.000        9983323.000          9982889.000 9982680.000 9982430.000   \n",
       "mean          4779832.457        5595696.373          4970303.933 5249444.034 4655427.289   \n",
       "\n",
       "profession  Civil_engineer  Firefighter  Web_designer  Statistician    Designer        Chef  \\\n",
       "min              36017.000    29380.000     57769.000     46244.000   12841.000   15016.000   \n",
       "max            9981494.000  9980725.000   9980350.000   9978516.000 9978110.000 9977117.000   \n",
       "mean           5121620.288  4996062.312   5046557.933   4838863.524 5402229.517 4982102.409   \n",
       "\n",
       "profession      Artist      Lawyer  Air_traffic_controller     Aviator    Surveyor   Architect  \\\n",
       "min          31297.000   64122.000               33649.000   82797.000   11114.000   25096.000   \n",
       "max        9976619.000 9976302.000             9975789.000 9975199.000 9974780.000 9974540.000   \n",
       "mean       4961469.619 5256604.559             4834458.234 4991142.104 5360232.295 5145117.714   \n",
       "\n",
       "profession  Graphic_Designer  Financial_Analyst   Scientist  Consultant  Army_officer  \\\n",
       "min                10675.000          80183.000   28561.000   28519.000     12902.000   \n",
       "max              9973420.000        9972303.000 9970052.000 9967854.000   9967074.000   \n",
       "mean             4711616.673        4842282.018 5760428.340 4666350.540   5501978.898   \n",
       "\n",
       "profession  Microbiologist  Software_Developer     Dentist  Petroleum_Engineer  Technical_writer  \\\n",
       "min              12825.000           51528.000   33496.000           80603.000         11799.000   \n",
       "max            9962662.000         9962479.000 9959440.000         9951610.000       9945173.000   \n",
       "mean           4979317.842         4594895.652 4905022.204         5355874.430       5156070.089   \n",
       "\n",
       "profession  Flight_attendant  Civil_servant  Design_Engineer   Economist  Chartered_Accountant  \\\n",
       "min                11695.000      11430.000        53886.000   16890.000             15613.000   \n",
       "max              9939884.000    9938741.000      9934179.000 9932245.000           9926354.000   \n",
       "mean             4623424.607    4818383.629      4683658.970 4805380.481           5212642.398   \n",
       "\n",
       "profession  Fashion_Designer   Librarian     Surgeon  \n",
       "min                12766.000   59715.000   18215.000  \n",
       "max              9915463.000 9908353.000 9897868.000  \n",
       "mean             5050614.271 4875291.203 5184754.832  "
      ]
     },
     "execution_count": 30,
     "metadata": {},
     "output_type": "execute_result"
    }
   ],
   "source": [
    "# Grouping profession by its income in min, max, and mean\n",
    "loan.groupby(\"profession\")[\"income\"].agg([\"min\", \"max\", \"mean\"]).sort_values(by=\"max\", ascending=False).T"
   ]
  },
  {
   "cell_type": "code",
   "execution_count": 31,
   "id": "832f82d3-329e-4fcf-acee-facb622ff785",
   "metadata": {},
   "outputs": [
    {
     "data": {
      "text/html": [
       "<div>\n",
       "<style scoped>\n",
       "    .dataframe tbody tr th:only-of-type {\n",
       "        vertical-align: middle;\n",
       "    }\n",
       "\n",
       "    .dataframe tbody tr th {\n",
       "        vertical-align: top;\n",
       "    }\n",
       "\n",
       "    .dataframe thead th {\n",
       "        text-align: right;\n",
       "    }\n",
       "</style>\n",
       "<table border=\"1\" class=\"dataframe\">\n",
       "  <thead>\n",
       "    <tr style=\"text-align: right;\">\n",
       "      <th>city</th>\n",
       "      <th>Bhubaneswar</th>\n",
       "      <th>Gwalior</th>\n",
       "      <th>Kochi</th>\n",
       "      <th>Sikar</th>\n",
       "      <th>Ahmedabad</th>\n",
       "      <th>Purnia</th>\n",
       "      <th>Bettiah</th>\n",
       "      <th>Kavali</th>\n",
       "      <th>Mathura</th>\n",
       "      <th>Bardhaman</th>\n",
       "      <th>Hazaribagh</th>\n",
       "      <th>Barasat</th>\n",
       "      <th>Mysore</th>\n",
       "      <th>Muzaffarnagar</th>\n",
       "      <th>Kottayam</th>\n",
       "      <th>Raiganj</th>\n",
       "      <th>Indore</th>\n",
       "      <th>Satna</th>\n",
       "      <th>Gandhidham</th>\n",
       "      <th>Varanasi</th>\n",
       "      <th>Imphal</th>\n",
       "      <th>Buxar</th>\n",
       "      <th>Ghaziabad</th>\n",
       "      <th>Dewas</th>\n",
       "      <th>Guntur</th>\n",
       "      <th>Ratlam</th>\n",
       "      <th>Ramagundam</th>\n",
       "      <th>Thiruvananthapuram</th>\n",
       "      <th>Udaipur</th>\n",
       "      <th>Ujjain</th>\n",
       "      <th>...</th>\n",
       "      <th>South</th>\n",
       "      <th>Pimpri</th>\n",
       "      <th>Kozhikode</th>\n",
       "      <th>Bhalswa</th>\n",
       "      <th>Khora</th>\n",
       "      <th>Noida</th>\n",
       "      <th>Bhagalpur</th>\n",
       "      <th>Orai</th>\n",
       "      <th>Ahmednagar</th>\n",
       "      <th>Farrukhabad</th>\n",
       "      <th>Hosur</th>\n",
       "      <th>Lucknow</th>\n",
       "      <th>Warangal</th>\n",
       "      <th>Raichur</th>\n",
       "      <th>Tadipatri</th>\n",
       "      <th>Belgaum</th>\n",
       "      <th>Bareilly</th>\n",
       "      <th>Panihati</th>\n",
       "      <th>Gangtok</th>\n",
       "      <th>Berhampur</th>\n",
       "      <th>Latur</th>\n",
       "      <th>Rajpur</th>\n",
       "      <th>Mehsana</th>\n",
       "      <th>Sultan</th>\n",
       "      <th>Katni</th>\n",
       "      <th>Mira</th>\n",
       "      <th>Bangalore</th>\n",
       "      <th>Bijapur</th>\n",
       "      <th>Gandhinagar</th>\n",
       "      <th>Dehradun</th>\n",
       "    </tr>\n",
       "  </thead>\n",
       "  <tbody>\n",
       "    <tr>\n",
       "      <th>risk_flag</th>\n",
       "      <td>82.158</td>\n",
       "      <td>74.009</td>\n",
       "      <td>71.261</td>\n",
       "      <td>71.004</td>\n",
       "      <td>70.745</td>\n",
       "      <td>70.659</td>\n",
       "      <td>69.318</td>\n",
       "      <td>69.288</td>\n",
       "      <td>68.868</td>\n",
       "      <td>68.326</td>\n",
       "      <td>68.235</td>\n",
       "      <td>68.212</td>\n",
       "      <td>68.201</td>\n",
       "      <td>67.805</td>\n",
       "      <td>67.778</td>\n",
       "      <td>67.717</td>\n",
       "      <td>67.516</td>\n",
       "      <td>67.442</td>\n",
       "      <td>67.078</td>\n",
       "      <td>66.667</td>\n",
       "      <td>66.304</td>\n",
       "      <td>65.896</td>\n",
       "      <td>65.552</td>\n",
       "      <td>64.881</td>\n",
       "      <td>64.372</td>\n",
       "      <td>64.179</td>\n",
       "      <td>64.017</td>\n",
       "      <td>63.322</td>\n",
       "      <td>63.243</td>\n",
       "      <td>63.158</td>\n",
       "      <td>...</td>\n",
       "      <td>31.548</td>\n",
       "      <td>31.443</td>\n",
       "      <td>31.293</td>\n",
       "      <td>30.806</td>\n",
       "      <td>30.769</td>\n",
       "      <td>30.233</td>\n",
       "      <td>30.201</td>\n",
       "      <td>29.944</td>\n",
       "      <td>29.457</td>\n",
       "      <td>28.972</td>\n",
       "      <td>28.829</td>\n",
       "      <td>28.777</td>\n",
       "      <td>28.409</td>\n",
       "      <td>26.923</td>\n",
       "      <td>26.804</td>\n",
       "      <td>25.000</td>\n",
       "      <td>24.719</td>\n",
       "      <td>24.260</td>\n",
       "      <td>23.932</td>\n",
       "      <td>23.853</td>\n",
       "      <td>23.711</td>\n",
       "      <td>23.256</td>\n",
       "      <td>23.129</td>\n",
       "      <td>21.951</td>\n",
       "      <td>21.429</td>\n",
       "      <td>21.260</td>\n",
       "      <td>21.094</td>\n",
       "      <td>21.053</td>\n",
       "      <td>18.280</td>\n",
       "      <td>16.429</td>\n",
       "    </tr>\n",
       "  </tbody>\n",
       "</table>\n",
       "<p>1 rows × 316 columns</p>\n",
       "</div>"
      ],
      "text/plain": [
       "city       Bhubaneswar  Gwalior  Kochi  Sikar  Ahmedabad  Purnia  Bettiah  Kavali  Mathura  \\\n",
       "risk_flag       82.158   74.009 71.261 71.004     70.745  70.659   69.318  69.288   68.868   \n",
       "\n",
       "city       Bardhaman  Hazaribagh  Barasat  Mysore  Muzaffarnagar  Kottayam  Raiganj  Indore  \\\n",
       "risk_flag     68.326      68.235   68.212  68.201         67.805    67.778   67.717  67.516   \n",
       "\n",
       "city       Satna  Gandhidham  Varanasi  Imphal  Buxar  Ghaziabad  Dewas  Guntur  Ratlam  \\\n",
       "risk_flag 67.442      67.078    66.667  66.304 65.896     65.552 64.881  64.372  64.179   \n",
       "\n",
       "city       Ramagundam  Thiruvananthapuram  Udaipur  Ujjain  ...  South  Pimpri  Kozhikode  \\\n",
       "risk_flag      64.017              63.322   63.243  63.158  ... 31.548  31.443     31.293   \n",
       "\n",
       "city       Bhalswa  Khora  Noida  Bhagalpur   Orai  Ahmednagar  Farrukhabad  Hosur  Lucknow  \\\n",
       "risk_flag   30.806 30.769 30.233     30.201 29.944      29.457       28.972 28.829   28.777   \n",
       "\n",
       "city       Warangal  Raichur  Tadipatri  Belgaum  Bareilly  Panihati  Gangtok  Berhampur  Latur  \\\n",
       "risk_flag    28.409   26.923     26.804   25.000    24.719    24.260   23.932     23.853 23.711   \n",
       "\n",
       "city       Rajpur  Mehsana  Sultan  Katni   Mira  Bangalore  Bijapur  Gandhinagar  Dehradun  \n",
       "risk_flag  23.256   23.129  21.951 21.429 21.260     21.094   21.053       18.280    16.429  \n",
       "\n",
       "[1 rows x 316 columns]"
      ]
     },
     "execution_count": 31,
     "metadata": {},
     "output_type": "execute_result"
    }
   ],
   "source": [
    "# The average risk percentage of each city\n",
    "loan.groupby([\"city\"]).risk_flag.apply(lambda x: (x.sum() / x.size) * 100).sort_values(ascending=False).to_frame().T"
   ]
  },
  {
   "cell_type": "code",
   "execution_count": 32,
   "id": "b27a3a57-19f8-4530-9c62-3493b99de4bd",
   "metadata": {},
   "outputs": [
    {
     "data": {
      "text/html": [
       "<div>\n",
       "<style scoped>\n",
       "    .dataframe tbody tr th:only-of-type {\n",
       "        vertical-align: middle;\n",
       "    }\n",
       "\n",
       "    .dataframe tbody tr th {\n",
       "        vertical-align: top;\n",
       "    }\n",
       "\n",
       "    .dataframe thead th {\n",
       "        text-align: right;\n",
       "    }\n",
       "</style>\n",
       "<table border=\"1\" class=\"dataframe\">\n",
       "  <thead>\n",
       "    <tr style=\"text-align: right;\">\n",
       "      <th>state</th>\n",
       "      <th>Manipur</th>\n",
       "      <th>Tripura</th>\n",
       "      <th>Jammu</th>\n",
       "      <th>Kerala</th>\n",
       "      <th>Madhya</th>\n",
       "      <th>Odisha</th>\n",
       "      <th>Chhattisgarh</th>\n",
       "      <th>Rajasthan</th>\n",
       "      <th>Assam</th>\n",
       "      <th>Telangana</th>\n",
       "      <th>Jharkhand</th>\n",
       "      <th>Bihar</th>\n",
       "      <th>West</th>\n",
       "      <th>Himachal</th>\n",
       "      <th>Puducherry</th>\n",
       "      <th>Mizoram</th>\n",
       "      <th>Haryana</th>\n",
       "      <th>Gujarat</th>\n",
       "      <th>Andhra</th>\n",
       "      <th>Uttar</th>\n",
       "      <th>Maharashtra</th>\n",
       "      <th>Delhi</th>\n",
       "      <th>Tamil</th>\n",
       "      <th>Karnataka</th>\n",
       "      <th>Chandigarh</th>\n",
       "      <th>Punjab</th>\n",
       "      <th>Uttarakhand</th>\n",
       "      <th>Sikkim</th>\n",
       "    </tr>\n",
       "  </thead>\n",
       "  <tbody>\n",
       "    <tr>\n",
       "      <th>risk_flag</th>\n",
       "      <td>66.304</td>\n",
       "      <td>61.261</td>\n",
       "      <td>58.471</td>\n",
       "      <td>58.049</td>\n",
       "      <td>56.964</td>\n",
       "      <td>55.058</td>\n",
       "      <td>54.536</td>\n",
       "      <td>54.240</td>\n",
       "      <td>51.926</td>\n",
       "      <td>51.826</td>\n",
       "      <td>51.420</td>\n",
       "      <td>51.403</td>\n",
       "      <td>51.156</td>\n",
       "      <td>50.917</td>\n",
       "      <td>50.453</td>\n",
       "      <td>50.267</td>\n",
       "      <td>50.077</td>\n",
       "      <td>49.907</td>\n",
       "      <td>48.787</td>\n",
       "      <td>48.389</td>\n",
       "      <td>47.043</td>\n",
       "      <td>45.411</td>\n",
       "      <td>45.409</td>\n",
       "      <td>44.234</td>\n",
       "      <td>42.361</td>\n",
       "      <td>40.208</td>\n",
       "      <td>34.456</td>\n",
       "      <td>23.932</td>\n",
       "    </tr>\n",
       "  </tbody>\n",
       "</table>\n",
       "</div>"
      ],
      "text/plain": [
       "state      Manipur  Tripura  Jammu  Kerala  Madhya  Odisha  Chhattisgarh  Rajasthan  Assam  \\\n",
       "risk_flag   66.304   61.261 58.471  58.049  56.964  55.058        54.536     54.240 51.926   \n",
       "\n",
       "state      Telangana  Jharkhand  Bihar   West  Himachal  Puducherry  Mizoram  Haryana  Gujarat  \\\n",
       "risk_flag     51.826     51.420 51.403 51.156    50.917      50.453   50.267   50.077   49.907   \n",
       "\n",
       "state      Andhra  Uttar  Maharashtra  Delhi  Tamil  Karnataka  Chandigarh  Punjab  Uttarakhand  \\\n",
       "risk_flag  48.787 48.389       47.043 45.411 45.409     44.234      42.361  40.208       34.456   \n",
       "\n",
       "state      Sikkim  \n",
       "risk_flag  23.932  "
      ]
     },
     "execution_count": 32,
     "metadata": {},
     "output_type": "execute_result"
    }
   ],
   "source": [
    "# The average risk percentage of each state\n",
    "loan.groupby(\"state\").risk_flag.apply(lambda x: (x.sum() / x.size) * 100).sort_values(ascending=False).to_frame().T"
   ]
  },
  {
   "cell_type": "code",
   "execution_count": 33,
   "id": "35a37c80-ebfb-4d85-b923-b736a801c649",
   "metadata": {},
   "outputs": [
    {
     "data": {
      "text/html": [
       "<div>\n",
       "<style scoped>\n",
       "    .dataframe tbody tr th:only-of-type {\n",
       "        vertical-align: middle;\n",
       "    }\n",
       "\n",
       "    .dataframe tbody tr th {\n",
       "        vertical-align: top;\n",
       "    }\n",
       "\n",
       "    .dataframe thead th {\n",
       "        text-align: right;\n",
       "    }\n",
       "</style>\n",
       "<table border=\"1\" class=\"dataframe\">\n",
       "  <thead>\n",
       "    <tr style=\"text-align: right;\">\n",
       "      <th>profession</th>\n",
       "      <th>Police_officer</th>\n",
       "      <th>Army_officer</th>\n",
       "      <th>Surveyor</th>\n",
       "      <th>Chartered_Accountant</th>\n",
       "      <th>Geologist</th>\n",
       "      <th>Software_Developer</th>\n",
       "      <th>Scientist</th>\n",
       "      <th>Air_traffic_controller</th>\n",
       "      <th>Civil_engineer</th>\n",
       "      <th>Technical_writer</th>\n",
       "      <th>Secretary</th>\n",
       "      <th>Official</th>\n",
       "      <th>Aviator</th>\n",
       "      <th>Firefighter</th>\n",
       "      <th>Biomedical_Engineer</th>\n",
       "      <th>Technician</th>\n",
       "      <th>Architect</th>\n",
       "      <th>Microbiologist</th>\n",
       "      <th>Hotel_Manager</th>\n",
       "      <th>Computer_hardware_engineer</th>\n",
       "      <th>Analyst</th>\n",
       "      <th>Computer_operator</th>\n",
       "      <th>Chef</th>\n",
       "      <th>Consultant</th>\n",
       "      <th>Psychologist</th>\n",
       "      <th>Flight_attendant</th>\n",
       "      <th>Lawyer</th>\n",
       "      <th>Comedian</th>\n",
       "      <th>Fashion_Designer</th>\n",
       "      <th>Statistician</th>\n",
       "      <th>Physician</th>\n",
       "      <th>Magistrate</th>\n",
       "      <th>Surgeon</th>\n",
       "      <th>Civil_servant</th>\n",
       "      <th>Chemical_engineer</th>\n",
       "      <th>Artist</th>\n",
       "      <th>Librarian</th>\n",
       "      <th>Graphic_Designer</th>\n",
       "      <th>Engineer</th>\n",
       "      <th>Politician</th>\n",
       "      <th>Mechanical_engineer</th>\n",
       "      <th>Dentist</th>\n",
       "      <th>Financial_Analyst</th>\n",
       "      <th>Design_Engineer</th>\n",
       "      <th>Web_designer</th>\n",
       "      <th>Drafter</th>\n",
       "      <th>Designer</th>\n",
       "      <th>Economist</th>\n",
       "      <th>Industrial_Engineer</th>\n",
       "      <th>Petroleum_Engineer</th>\n",
       "      <th>Technology_specialist</th>\n",
       "    </tr>\n",
       "  </thead>\n",
       "  <tbody>\n",
       "    <tr>\n",
       "      <th>risk_flag</th>\n",
       "      <td>57.401</td>\n",
       "      <td>57.039</td>\n",
       "      <td>56.667</td>\n",
       "      <td>56.557</td>\n",
       "      <td>56.544</td>\n",
       "      <td>56.518</td>\n",
       "      <td>55.870</td>\n",
       "      <td>53.840</td>\n",
       "      <td>53.181</td>\n",
       "      <td>53.044</td>\n",
       "      <td>52.758</td>\n",
       "      <td>52.457</td>\n",
       "      <td>52.365</td>\n",
       "      <td>52.218</td>\n",
       "      <td>52.195</td>\n",
       "      <td>51.957</td>\n",
       "      <td>51.431</td>\n",
       "      <td>50.880</td>\n",
       "      <td>50.871</td>\n",
       "      <td>50.735</td>\n",
       "      <td>50.580</td>\n",
       "      <td>50.572</td>\n",
       "      <td>50.493</td>\n",
       "      <td>50.377</td>\n",
       "      <td>50.306</td>\n",
       "      <td>50.198</td>\n",
       "      <td>50.080</td>\n",
       "      <td>49.489</td>\n",
       "      <td>49.117</td>\n",
       "      <td>48.871</td>\n",
       "      <td>48.663</td>\n",
       "      <td>48.602</td>\n",
       "      <td>48.418</td>\n",
       "      <td>48.162</td>\n",
       "      <td>47.780</td>\n",
       "      <td>47.756</td>\n",
       "      <td>47.754</td>\n",
       "      <td>47.604</td>\n",
       "      <td>47.515</td>\n",
       "      <td>47.436</td>\n",
       "      <td>46.898</td>\n",
       "      <td>46.578</td>\n",
       "      <td>46.469</td>\n",
       "      <td>46.000</td>\n",
       "      <td>45.588</td>\n",
       "      <td>44.915</td>\n",
       "      <td>44.543</td>\n",
       "      <td>44.336</td>\n",
       "      <td>43.973</td>\n",
       "      <td>40.093</td>\n",
       "      <td>38.600</td>\n",
       "    </tr>\n",
       "  </tbody>\n",
       "</table>\n",
       "</div>"
      ],
      "text/plain": [
       "profession  Police_officer  Army_officer  Surveyor  Chartered_Accountant  Geologist  \\\n",
       "risk_flag           57.401        57.039    56.667                56.557     56.544   \n",
       "\n",
       "profession  Software_Developer  Scientist  Air_traffic_controller  Civil_engineer  \\\n",
       "risk_flag               56.518     55.870                  53.840          53.181   \n",
       "\n",
       "profession  Technical_writer  Secretary  Official  Aviator  Firefighter  Biomedical_Engineer  \\\n",
       "risk_flag             53.044     52.758    52.457   52.365       52.218               52.195   \n",
       "\n",
       "profession  Technician  Architect  Microbiologist  Hotel_Manager  Computer_hardware_engineer  \\\n",
       "risk_flag       51.957     51.431          50.880         50.871                      50.735   \n",
       "\n",
       "profession  Analyst  Computer_operator   Chef  Consultant  Psychologist  Flight_attendant  Lawyer  \\\n",
       "risk_flag    50.580             50.572 50.493      50.377        50.306            50.198  50.080   \n",
       "\n",
       "profession  Comedian  Fashion_Designer  Statistician  Physician  Magistrate  Surgeon  \\\n",
       "risk_flag     49.489            49.117        48.871     48.663      48.602   48.418   \n",
       "\n",
       "profession  Civil_servant  Chemical_engineer  Artist  Librarian  Graphic_Designer  Engineer  \\\n",
       "risk_flag          48.162             47.780  47.756     47.754            47.604    47.515   \n",
       "\n",
       "profession  Politician  Mechanical_engineer  Dentist  Financial_Analyst  Design_Engineer  \\\n",
       "risk_flag       47.436               46.898   46.578             46.469           46.000   \n",
       "\n",
       "profession  Web_designer  Drafter  Designer  Economist  Industrial_Engineer  Petroleum_Engineer  \\\n",
       "risk_flag         45.588   44.915    44.543     44.336               43.973              40.093   \n",
       "\n",
       "profession  Technology_specialist  \n",
       "risk_flag                  38.600  "
      ]
     },
     "execution_count": 33,
     "metadata": {},
     "output_type": "execute_result"
    }
   ],
   "source": [
    "# The average risk percentage of each profession\n",
    "loan.groupby(\"profession\").risk_flag.apply(lambda x: (x.sum() / x.size) * 100).sort_values(ascending=False).to_frame().T"
   ]
  },
  {
   "cell_type": "code",
   "execution_count": 34,
   "id": "a56a498c-13d0-4cc3-8d0b-58e9eeca2f9f",
   "metadata": {},
   "outputs": [
    {
     "data": {
      "text/html": [
       "<div>\n",
       "<style scoped>\n",
       "    .dataframe tbody tr th:only-of-type {\n",
       "        vertical-align: middle;\n",
       "    }\n",
       "\n",
       "    .dataframe tbody tr th {\n",
       "        vertical-align: top;\n",
       "    }\n",
       "\n",
       "    .dataframe thead th {\n",
       "        text-align: right;\n",
       "    }\n",
       "</style>\n",
       "<table border=\"1\" class=\"dataframe\">\n",
       "  <thead>\n",
       "    <tr style=\"text-align: right;\">\n",
       "      <th>married_single</th>\n",
       "      <th>single</th>\n",
       "      <th>married</th>\n",
       "    </tr>\n",
       "  </thead>\n",
       "  <tbody>\n",
       "    <tr>\n",
       "      <th>risk_flag</th>\n",
       "      <td>50.550</td>\n",
       "      <td>44.761</td>\n",
       "    </tr>\n",
       "  </tbody>\n",
       "</table>\n",
       "</div>"
      ],
      "text/plain": [
       "married_single  single  married\n",
       "risk_flag       50.550   44.761"
      ]
     },
     "execution_count": 34,
     "metadata": {},
     "output_type": "execute_result"
    }
   ],
   "source": [
    "# The average risk percentage whether the customer married or single\n",
    "loan.groupby(\"married_single\").risk_flag.apply(lambda x: (x.sum() / x.size) * 100).sort_values(ascending=False).to_frame().T"
   ]
  },
  {
   "cell_type": "code",
   "execution_count": 35,
   "id": "ee8ea69a-3b2d-4277-bece-8554c1a2c204",
   "metadata": {},
   "outputs": [
    {
     "data": {
      "text/html": [
       "<div>\n",
       "<style scoped>\n",
       "    .dataframe tbody tr th:only-of-type {\n",
       "        vertical-align: middle;\n",
       "    }\n",
       "\n",
       "    .dataframe tbody tr th {\n",
       "        vertical-align: top;\n",
       "    }\n",
       "\n",
       "    .dataframe thead th {\n",
       "        text-align: right;\n",
       "    }\n",
       "</style>\n",
       "<table border=\"1\" class=\"dataframe\">\n",
       "  <thead>\n",
       "    <tr style=\"text-align: right;\">\n",
       "      <th>car_ownership</th>\n",
       "      <th>no</th>\n",
       "      <th>yes</th>\n",
       "    </tr>\n",
       "  </thead>\n",
       "  <tbody>\n",
       "    <tr>\n",
       "      <th>risk_flag</th>\n",
       "      <td>51.050</td>\n",
       "      <td>47.393</td>\n",
       "    </tr>\n",
       "  </tbody>\n",
       "</table>\n",
       "</div>"
      ],
      "text/plain": [
       "car_ownership     no    yes\n",
       "risk_flag     51.050 47.393"
      ]
     },
     "execution_count": 35,
     "metadata": {},
     "output_type": "execute_result"
    }
   ],
   "source": [
    "# The average risk percentage whether the customer owned car or not\n",
    "loan.groupby(\"car_ownership\").risk_flag.apply(lambda x: (x.sum() / x.size) * 100).sort_values(ascending=False).to_frame().T"
   ]
  },
  {
   "cell_type": "markdown",
   "id": "bb8aee0b-ce2f-44a0-ac1c-5ea5d88ff955",
   "metadata": {},
   "source": [
    "### 5.1.1 | Conclusion"
   ]
  },
  {
   "cell_type": "markdown",
   "id": "a6bff9e8-1761-4911-aca3-1a6058b471dc",
   "metadata": {},
   "source": [
    "##### Top 5 professions by its mean income"
   ]
  },
  {
   "cell_type": "code",
   "execution_count": 36,
   "id": "51951c24-95f5-418f-80c8-e33d3a0162f2",
   "metadata": {},
   "outputs": [
    {
     "data": {
      "text/html": [
       "<div>\n",
       "<style scoped>\n",
       "    .dataframe tbody tr th:only-of-type {\n",
       "        vertical-align: middle;\n",
       "    }\n",
       "\n",
       "    .dataframe tbody tr th {\n",
       "        vertical-align: top;\n",
       "    }\n",
       "\n",
       "    .dataframe thead th {\n",
       "        text-align: right;\n",
       "    }\n",
       "</style>\n",
       "<table border=\"1\" class=\"dataframe\">\n",
       "  <thead>\n",
       "    <tr style=\"text-align: right;\">\n",
       "      <th></th>\n",
       "      <th>min</th>\n",
       "      <th>max</th>\n",
       "      <th>mean</th>\n",
       "    </tr>\n",
       "    <tr>\n",
       "      <th>profession</th>\n",
       "      <th></th>\n",
       "      <th></th>\n",
       "      <th></th>\n",
       "    </tr>\n",
       "  </thead>\n",
       "  <tbody>\n",
       "    <tr>\n",
       "      <th>Scientist</th>\n",
       "      <td>28561</td>\n",
       "      <td>9970052</td>\n",
       "      <td>5760428.340</td>\n",
       "    </tr>\n",
       "    <tr>\n",
       "      <th>Chemical_engineer</th>\n",
       "      <td>26926</td>\n",
       "      <td>9983323</td>\n",
       "      <td>5595696.373</td>\n",
       "    </tr>\n",
       "    <tr>\n",
       "      <th>Army_officer</th>\n",
       "      <td>12902</td>\n",
       "      <td>9967074</td>\n",
       "      <td>5501978.898</td>\n",
       "    </tr>\n",
       "    <tr>\n",
       "      <th>Secretary</th>\n",
       "      <td>84491</td>\n",
       "      <td>9998070</td>\n",
       "      <td>5415843.583</td>\n",
       "    </tr>\n",
       "    <tr>\n",
       "      <th>Designer</th>\n",
       "      <td>12841</td>\n",
       "      <td>9978110</td>\n",
       "      <td>5402229.517</td>\n",
       "    </tr>\n",
       "  </tbody>\n",
       "</table>\n",
       "</div>"
      ],
      "text/plain": [
       "                     min      max        mean\n",
       "profession                                   \n",
       "Scientist          28561  9970052 5760428.340\n",
       "Chemical_engineer  26926  9983323 5595696.373\n",
       "Army_officer       12902  9967074 5501978.898\n",
       "Secretary          84491  9998070 5415843.583\n",
       "Designer           12841  9978110 5402229.517"
      ]
     },
     "execution_count": 36,
     "metadata": {},
     "output_type": "execute_result"
    }
   ],
   "source": [
    "loan.groupby(\"profession\")[\"income\"].agg([\"min\", \"max\", \"mean\"]).sort_values(by=\"mean\", ascending=False).head()"
   ]
  },
  {
   "cell_type": "markdown",
   "id": "ce9c6935-7c50-4420-bbc7-4ad098cbc47b",
   "metadata": {},
   "source": [
    "##### Top 5 risk flag average Percentage of City:"
   ]
  },
  {
   "cell_type": "code",
   "execution_count": 37,
   "id": "01340c75-0350-4cf3-aeb7-748563a8f1be",
   "metadata": {},
   "outputs": [
    {
     "data": {
      "text/html": [
       "<div>\n",
       "<style scoped>\n",
       "    .dataframe tbody tr th:only-of-type {\n",
       "        vertical-align: middle;\n",
       "    }\n",
       "\n",
       "    .dataframe tbody tr th {\n",
       "        vertical-align: top;\n",
       "    }\n",
       "\n",
       "    .dataframe thead th {\n",
       "        text-align: right;\n",
       "    }\n",
       "</style>\n",
       "<table border=\"1\" class=\"dataframe\">\n",
       "  <thead>\n",
       "    <tr style=\"text-align: right;\">\n",
       "      <th></th>\n",
       "      <th>risk_flag</th>\n",
       "    </tr>\n",
       "    <tr>\n",
       "      <th>city</th>\n",
       "      <th></th>\n",
       "    </tr>\n",
       "  </thead>\n",
       "  <tbody>\n",
       "    <tr>\n",
       "      <th>Bhubaneswar</th>\n",
       "      <td>82.158</td>\n",
       "    </tr>\n",
       "    <tr>\n",
       "      <th>Gwalior</th>\n",
       "      <td>74.009</td>\n",
       "    </tr>\n",
       "    <tr>\n",
       "      <th>Kochi</th>\n",
       "      <td>71.261</td>\n",
       "    </tr>\n",
       "    <tr>\n",
       "      <th>Sikar</th>\n",
       "      <td>71.004</td>\n",
       "    </tr>\n",
       "    <tr>\n",
       "      <th>Ahmedabad</th>\n",
       "      <td>70.745</td>\n",
       "    </tr>\n",
       "  </tbody>\n",
       "</table>\n",
       "</div>"
      ],
      "text/plain": [
       "             risk_flag\n",
       "city                  \n",
       "Bhubaneswar     82.158\n",
       "Gwalior         74.009\n",
       "Kochi           71.261\n",
       "Sikar           71.004\n",
       "Ahmedabad       70.745"
      ]
     },
     "execution_count": 37,
     "metadata": {},
     "output_type": "execute_result"
    }
   ],
   "source": [
    "loan.groupby([\"city\"]).risk_flag.apply(lambda x: (x.sum() / x.size) * 100).sort_values(ascending=False).to_frame().head()"
   ]
  },
  {
   "cell_type": "markdown",
   "id": "3941da5b-f9bf-4a78-ac97-6aba3f5dda89",
   "metadata": {},
   "source": [
    "##### Top 5 risk flag average Percentage of State:"
   ]
  },
  {
   "cell_type": "code",
   "execution_count": 38,
   "id": "8d0c5818-4b3e-4a0b-887b-09037b2fb1af",
   "metadata": {},
   "outputs": [
    {
     "data": {
      "text/html": [
       "<div>\n",
       "<style scoped>\n",
       "    .dataframe tbody tr th:only-of-type {\n",
       "        vertical-align: middle;\n",
       "    }\n",
       "\n",
       "    .dataframe tbody tr th {\n",
       "        vertical-align: top;\n",
       "    }\n",
       "\n",
       "    .dataframe thead th {\n",
       "        text-align: right;\n",
       "    }\n",
       "</style>\n",
       "<table border=\"1\" class=\"dataframe\">\n",
       "  <thead>\n",
       "    <tr style=\"text-align: right;\">\n",
       "      <th></th>\n",
       "      <th>risk_flag</th>\n",
       "    </tr>\n",
       "    <tr>\n",
       "      <th>state</th>\n",
       "      <th></th>\n",
       "    </tr>\n",
       "  </thead>\n",
       "  <tbody>\n",
       "    <tr>\n",
       "      <th>Manipur</th>\n",
       "      <td>66.304</td>\n",
       "    </tr>\n",
       "    <tr>\n",
       "      <th>Tripura</th>\n",
       "      <td>61.261</td>\n",
       "    </tr>\n",
       "    <tr>\n",
       "      <th>Jammu</th>\n",
       "      <td>58.471</td>\n",
       "    </tr>\n",
       "    <tr>\n",
       "      <th>Kerala</th>\n",
       "      <td>58.049</td>\n",
       "    </tr>\n",
       "    <tr>\n",
       "      <th>Madhya</th>\n",
       "      <td>56.964</td>\n",
       "    </tr>\n",
       "  </tbody>\n",
       "</table>\n",
       "</div>"
      ],
      "text/plain": [
       "         risk_flag\n",
       "state             \n",
       "Manipur     66.304\n",
       "Tripura     61.261\n",
       "Jammu       58.471\n",
       "Kerala      58.049\n",
       "Madhya      56.964"
      ]
     },
     "execution_count": 38,
     "metadata": {},
     "output_type": "execute_result"
    }
   ],
   "source": [
    "loan.groupby(\"state\").risk_flag.apply(lambda x: (x.sum() / x.size) * 100).sort_values(ascending=False).to_frame().head()"
   ]
  },
  {
   "cell_type": "markdown",
   "id": "aeb61dda-5027-4e62-8179-b5d68fd5e3e5",
   "metadata": {},
   "source": [
    "##### Top 5 risk flag average Percentage of Profession:"
   ]
  },
  {
   "cell_type": "code",
   "execution_count": 39,
   "id": "9532972c-2eac-4efa-a50b-17d099703efe",
   "metadata": {},
   "outputs": [
    {
     "data": {
      "text/html": [
       "<div>\n",
       "<style scoped>\n",
       "    .dataframe tbody tr th:only-of-type {\n",
       "        vertical-align: middle;\n",
       "    }\n",
       "\n",
       "    .dataframe tbody tr th {\n",
       "        vertical-align: top;\n",
       "    }\n",
       "\n",
       "    .dataframe thead th {\n",
       "        text-align: right;\n",
       "    }\n",
       "</style>\n",
       "<table border=\"1\" class=\"dataframe\">\n",
       "  <thead>\n",
       "    <tr style=\"text-align: right;\">\n",
       "      <th></th>\n",
       "      <th>risk_flag</th>\n",
       "    </tr>\n",
       "    <tr>\n",
       "      <th>profession</th>\n",
       "      <th></th>\n",
       "    </tr>\n",
       "  </thead>\n",
       "  <tbody>\n",
       "    <tr>\n",
       "      <th>Police_officer</th>\n",
       "      <td>57.401</td>\n",
       "    </tr>\n",
       "    <tr>\n",
       "      <th>Army_officer</th>\n",
       "      <td>57.039</td>\n",
       "    </tr>\n",
       "    <tr>\n",
       "      <th>Surveyor</th>\n",
       "      <td>56.667</td>\n",
       "    </tr>\n",
       "    <tr>\n",
       "      <th>Chartered_Accountant</th>\n",
       "      <td>56.557</td>\n",
       "    </tr>\n",
       "    <tr>\n",
       "      <th>Geologist</th>\n",
       "      <td>56.544</td>\n",
       "    </tr>\n",
       "  </tbody>\n",
       "</table>\n",
       "</div>"
      ],
      "text/plain": [
       "                      risk_flag\n",
       "profession                     \n",
       "Police_officer           57.401\n",
       "Army_officer             57.039\n",
       "Surveyor                 56.667\n",
       "Chartered_Accountant     56.557\n",
       "Geologist                56.544"
      ]
     },
     "execution_count": 39,
     "metadata": {},
     "output_type": "execute_result"
    }
   ],
   "source": [
    "loan.groupby(\"profession\").risk_flag.apply(lambda x: (x.sum() / x.size) * 100).sort_values(ascending=False).to_frame().head()"
   ]
  },
  {
   "cell_type": "markdown",
   "id": "1292947e-8851-413f-a455-65e63fc1d8c5",
   "metadata": {},
   "source": [
    "##### The average risk percentage whether the customer Married or Single:"
   ]
  },
  {
   "cell_type": "code",
   "execution_count": 40,
   "id": "94213c55-c265-4f5f-b29a-ea5d33116489",
   "metadata": {},
   "outputs": [
    {
     "data": {
      "text/html": [
       "<div>\n",
       "<style scoped>\n",
       "    .dataframe tbody tr th:only-of-type {\n",
       "        vertical-align: middle;\n",
       "    }\n",
       "\n",
       "    .dataframe tbody tr th {\n",
       "        vertical-align: top;\n",
       "    }\n",
       "\n",
       "    .dataframe thead th {\n",
       "        text-align: right;\n",
       "    }\n",
       "</style>\n",
       "<table border=\"1\" class=\"dataframe\">\n",
       "  <thead>\n",
       "    <tr style=\"text-align: right;\">\n",
       "      <th></th>\n",
       "      <th>risk_flag</th>\n",
       "    </tr>\n",
       "    <tr>\n",
       "      <th>married_single</th>\n",
       "      <th></th>\n",
       "    </tr>\n",
       "  </thead>\n",
       "  <tbody>\n",
       "    <tr>\n",
       "      <th>single</th>\n",
       "      <td>50.550</td>\n",
       "    </tr>\n",
       "    <tr>\n",
       "      <th>married</th>\n",
       "      <td>44.761</td>\n",
       "    </tr>\n",
       "  </tbody>\n",
       "</table>\n",
       "</div>"
      ],
      "text/plain": [
       "                risk_flag\n",
       "married_single           \n",
       "single             50.550\n",
       "married            44.761"
      ]
     },
     "execution_count": 40,
     "metadata": {},
     "output_type": "execute_result"
    }
   ],
   "source": [
    "loan.groupby(\"married_single\").risk_flag.apply(lambda x: (x.sum() / x.size) * 100).sort_values(ascending=False).to_frame()"
   ]
  },
  {
   "cell_type": "markdown",
   "id": "bf42e7f2-9c5f-4fba-bb78-297e43d47a3e",
   "metadata": {},
   "source": [
    "##### The average risk percentage whether the customer owned car or not:"
   ]
  },
  {
   "cell_type": "code",
   "execution_count": 41,
   "id": "4bdbce0d-88d1-4b46-9950-1802e9abd189",
   "metadata": {},
   "outputs": [
    {
     "data": {
      "text/html": [
       "<div>\n",
       "<style scoped>\n",
       "    .dataframe tbody tr th:only-of-type {\n",
       "        vertical-align: middle;\n",
       "    }\n",
       "\n",
       "    .dataframe tbody tr th {\n",
       "        vertical-align: top;\n",
       "    }\n",
       "\n",
       "    .dataframe thead th {\n",
       "        text-align: right;\n",
       "    }\n",
       "</style>\n",
       "<table border=\"1\" class=\"dataframe\">\n",
       "  <thead>\n",
       "    <tr style=\"text-align: right;\">\n",
       "      <th></th>\n",
       "      <th>risk_flag</th>\n",
       "    </tr>\n",
       "    <tr>\n",
       "      <th>car_ownership</th>\n",
       "      <th></th>\n",
       "    </tr>\n",
       "  </thead>\n",
       "  <tbody>\n",
       "    <tr>\n",
       "      <th>no</th>\n",
       "      <td>51.050</td>\n",
       "    </tr>\n",
       "    <tr>\n",
       "      <th>yes</th>\n",
       "      <td>47.393</td>\n",
       "    </tr>\n",
       "  </tbody>\n",
       "</table>\n",
       "</div>"
      ],
      "text/plain": [
       "               risk_flag\n",
       "car_ownership           \n",
       "no                51.050\n",
       "yes               47.393"
      ]
     },
     "execution_count": 41,
     "metadata": {},
     "output_type": "execute_result"
    }
   ],
   "source": [
    "loan.groupby(\"car_ownership\").risk_flag.apply(lambda x: (x.sum() / x.size) * 100).sort_values(ascending=False).to_frame()"
   ]
  },
  {
   "cell_type": "markdown",
   "id": "f132c128-af9b-440e-a37d-a57b654fb30d",
   "metadata": {},
   "source": [
    "### 5.2 | Univariate Analysis"
   ]
  },
  {
   "cell_type": "markdown",
   "id": "5d76e60a-870c-443d-a806-5342047246c9",
   "metadata": {},
   "source": [
    "##### Chebychev's Theorem"
   ]
  },
  {
   "cell_type": "markdown",
   "id": "bc2ccf85-7fb4-483a-985e-46796f6f9f7b",
   "metadata": {},
   "source": [
    "##### Chebyshev's Theorem estimates the minimum proportion of observations \n",
    "##### that fall within a specified number of standard deviations from the mean. \n",
    "##### This theorem applies to a broad range of probability distributions.\n",
    "##### Chebyshev's Theorem is also known as Chebyshev's Inequality\n"
   ]
  },
  {
   "cell_type": "markdown",
   "id": "86dbc5fb-c91d-4ea6-8539-552059085a4b",
   "metadata": {},
   "source": [
    "#### About skewness:\n",
    "\n",
    "##### As a general rule of thumb: If skewness is less than  −1  or greater than  1 , the distribution is highly skewed. \n",
    "##### If skewness is between  −1  and  −0.5  or between  0.5  and  1 , the distribution is moderately skewed.\n",
    "##### If skewness is between  −0.5  and  0.5 , the distribution is approximately symmetric."
   ]
  },
  {
   "cell_type": "markdown",
   "id": "bf627f34-3f06-413f-af8e-650385b8fa49",
   "metadata": {},
   "source": [
    "#### About kurtosis:\n",
    "\n",
    "##### For kurtosis, the general guideline is that if the number is greater than  +1 , the distribution is too peaked.\n",
    "##### Likewise, a kurtosis of less than  −1  indicates a distribution that is too flat.\n",
    "##### Distributions exhibiting skewness and/or kurtosis that exceed these guidelines are considered non-normal."
   ]
  },
  {
   "cell_type": "markdown",
   "id": "1a90c282-da5f-4fdb-80c1-3198c70634e0",
   "metadata": {},
   "source": [
    "#### 5.2.1 | Numerical Column"
   ]
  },
  {
   "cell_type": "code",
   "execution_count": 42,
   "id": "9fabd46a-37d8-443e-94c9-6d1d1588ff05",
   "metadata": {},
   "outputs": [
    {
     "data": {
      "image/png": "[encoded data removed]",
      "text/plain": [
       "<Figure size 1440x576 with 2 Axes>"
      ]
     },
     "metadata": {},
     "output_type": "display_data"
    }
   ],
   "source": [
    "numerical_plotting(data=loan, col=\"income\", \n",
    "                   title=\"Customer Income Distribution\", \n",
    "                   symb=\" \", ylabel=\"Density\", color=\"red\");"
   ]
  },
  {
   "cell_type": "markdown",
   "id": "295cbe35-9507-4969-8c2d-45a90416af0a",
   "metadata": {},
   "source": [
    "##### 5.2.1.1 | Notes:"
   ]
  },
  {
   "cell_type": "code",
   "execution_count": 43,
   "id": "cb0e1e60-90f7-4989-878b-a3c7e704f331",
   "metadata": {},
   "outputs": [
    {
     "name": "stdout",
     "output_type": "stream",
     "text": [
      "-------------------- Interpretation of Income --------------------\n",
      "first calc: -809865.9\n",
      "second calc: 10783656.5\n",
      "at least 75% customer income is lies between 0 and 10.785.254 Rupee\n",
      "----------------------------------------\n"
     ]
    }
   ],
   "source": [
    "chebychev(loan.income, title=\"Income\", \n",
    "          interpret=f\"at least 75% customer income is lies between 0 and 10.785.254 Rupee\")"
   ]
  },
  {
   "cell_type": "code",
   "execution_count": 44,
   "id": "a20357fb-2f25-46ce-9606-141a549c0f96",
   "metadata": {},
   "outputs": [
    {
     "name": "stdout",
     "output_type": "stream",
     "text": [
      "-------------------- Skew & Kurtosis Income --------------------\n",
      "Skewness: 0.0005018870561822507\n",
      "Approximately symmetric\n",
      "-----------------------------------\n",
      "Kurtosis: -1.2117528217436715\n",
      "The distribution is too flat\n",
      "-----------------------------------\n"
     ]
    }
   ],
   "source": [
    "skew_kurtosis(loan.income, \"Skew & Kurtosis Income\")"
   ]
  },
  {
   "cell_type": "code",
   "execution_count": 45,
   "id": "c1d0ba3e-480a-483c-921c-d9788dfaaa18",
   "metadata": {},
   "outputs": [
    {
     "data": {
      "image/png": "[encoded data removed]",
      "text/plain": [
       "<Figure size 1440x576 with 2 Axes>"
      ]
     },
     "metadata": {},
     "output_type": "display_data"
    }
   ],
   "source": [
    "numerical_plotting(data=loan, col=\"age\", \n",
    "                   title=\"Customer Age Distribution\", \n",
    "                   symb=\" \", ylabel=\"Density\", color=\"salmon\");"
   ]
  },
  {
   "cell_type": "markdown",
   "id": "479bb480-393a-4369-959a-3337f85d4d9e",
   "metadata": {},
   "source": [
    "##### 5.2.1.2 | Notes"
   ]
  },
  {
   "cell_type": "code",
   "execution_count": 46,
   "id": "ba700840-89b8-4677-b244-1c170d4bf9fc",
   "metadata": {},
   "outputs": [
    {
     "name": "stdout",
     "output_type": "stream",
     "text": [
      "-------------------- Interpretation of Age --------------------\n",
      "first calc: 15.2\n",
      "second calc: 84.0\n",
      "at least 75% customer age is lies between 0 and 84\n",
      "----------------------------------------\n"
     ]
    }
   ],
   "source": [
    "chebychev(loan.age, title=\"Age\", \n",
    "          interpret=f\"at least 75% customer age is lies between 0 and 84\")"
   ]
  },
  {
   "cell_type": "code",
   "execution_count": 47,
   "id": "6935b382-3d9d-444d-9205-e77f9ca31728",
   "metadata": {},
   "outputs": [
    {
     "name": "stdout",
     "output_type": "stream",
     "text": [
      "-------------------- Skew & Kurtosis Age --------------------\n",
      "Skewness: 0.01379250549593762\n",
      "Approximately symmetric\n",
      "-----------------------------------\n",
      "Kurtosis: -1.2168853924972685\n",
      "The distribution is too flat\n",
      "-----------------------------------\n"
     ]
    }
   ],
   "source": [
    "skew_kurtosis(loan.age, \"Skew & Kurtosis Age\")"
   ]
  },
  {
   "cell_type": "code",
   "execution_count": 48,
   "id": "0136bb7f-2a6e-4d37-a7a9-b494f4775ce1",
   "metadata": {},
   "outputs": [
    {
     "data": {
      "image/png": "[encoded data removed]",
      "text/plain": [
       "<Figure size 1440x576 with 2 Axes>"
      ]
     },
     "metadata": {},
     "output_type": "display_data"
    }
   ],
   "source": [
    "numerical_plotting(data=loan, col=\"experience\", \n",
    "                   title=\"Customer Experience Distribution\", \n",
    "                   symb=\" \", ylabel=\"Density\", color=\"gray\");"
   ]
  },
  {
   "cell_type": "markdown",
   "id": "055b1069-cc99-4ef4-bfea-b255c529560d",
   "metadata": {},
   "source": [
    "##### 5.2.1.3 | Notes:"
   ]
  },
  {
   "cell_type": "code",
   "execution_count": 49,
   "id": "78fb087b-5eec-4b6d-8a58-c241fd85fb16",
   "metadata": {},
   "outputs": [
    {
     "name": "stdout",
     "output_type": "stream",
     "text": [
      "-------------------- Interpretation of Experience --------------------\n",
      "first calc: -2.1\n",
      "second calc: 21.9\n",
      "at least 75% customer have 0 to 22 years professional experience of working\n",
      "----------------------------------------\n"
     ]
    }
   ],
   "source": [
    "chebychev(loan.experience, title=\"Experience\", \n",
    "          interpret=f\"at least 75% customer have 0 to 22 years professional experience of working\")"
   ]
  },
  {
   "cell_type": "code",
   "execution_count": 50,
   "id": "007bd377-feaa-4a63-87f4-49b8a02e2ebf",
   "metadata": {},
   "outputs": [
    {
     "name": "stdout",
     "output_type": "stream",
     "text": [
      "-------------------- Skew & Kurtosis Experience --------------------\n",
      "Skewness: 0.01616538528240019\n",
      "Approximately symmetric\n",
      "-----------------------------------\n",
      "Kurtosis: -1.214115856130313\n",
      "The distribution is too flat\n",
      "-----------------------------------\n"
     ]
    }
   ],
   "source": [
    "skew_kurtosis(loan.experience, \"Skew & Kurtosis Experience\")"
   ]
  },
  {
   "cell_type": "code",
   "execution_count": 51,
   "id": "8b28c0a7-2929-4f33-ada8-fc6e48b879ae",
   "metadata": {},
   "outputs": [
    {
     "data": {
      "image/png": "[encoded data removed]",
      "text/plain": [
       "<Figure size 1440x576 with 2 Axes>"
      ]
     },
     "metadata": {},
     "output_type": "display_data"
    }
   ],
   "source": [
    "numerical_plotting(data=loan, col=\"current_job_yrs\", \n",
    "                   title=\"Customer Current Job Years Distribution\", \n",
    "                   symb=\" \", ylabel=\"Density\", color=\"gold\");"
   ]
  },
  {
   "cell_type": "markdown",
   "id": "d5532bc1-71f7-477a-9981-602276fbd998",
   "metadata": {},
   "source": [
    "#### 5.2.1.4 | Notes:"
   ]
  },
  {
   "cell_type": "code",
   "execution_count": 52,
   "id": "9026feaa-8ccb-408d-ae67-f4e88b1cd391",
   "metadata": {},
   "outputs": [
    {
     "name": "stdout",
     "output_type": "stream",
     "text": [
      "-------------------- Interpretation of Current Job Years --------------------\n",
      "first calc: -1.1\n",
      "second calc: 13.7\n",
      "at least 75% customer have 0 to 13 years of work experience in current job\n",
      "----------------------------------------\n"
     ]
    }
   ],
   "source": [
    "chebychev(loan.current_job_yrs, title=\"Current Job Years\", \n",
    "          interpret=f\"at least 75% customer have 0 to 13 years of work experience in current job\")"
   ]
  },
  {
   "cell_type": "code",
   "execution_count": 53,
   "id": "3ad5868e-ddd7-4431-a5ba-e62002990509",
   "metadata": {},
   "outputs": [
    {
     "name": "stdout",
     "output_type": "stream",
     "text": [
      "-------------------- Skew & Kurtosis Current Job Years --------------------\n",
      "Skewness: 0.2743675867434884\n",
      "Approximately symmetric\n",
      "-----------------------------------\n",
      "Kurtosis: -0.808484512184426\n",
      "The distribution is non-normal\n",
      "-----------------------------------\n"
     ]
    }
   ],
   "source": [
    "skew_kurtosis(loan.current_job_yrs, \"Skew & Kurtosis Current Job Years\")"
   ]
  },
  {
   "cell_type": "code",
   "execution_count": 54,
   "id": "0852a487-a6b6-462b-9cde-ebb6f728f582",
   "metadata": {},
   "outputs": [
    {
     "data": {
      "image/png": "[encoded data removed]",
      "text/plain": [
       "<Figure size 1440x576 with 2 Axes>"
      ]
     },
     "metadata": {},
     "output_type": "display_data"
    }
   ],
   "source": [
    "numerical_plotting(data=loan, col=\"current_house_yrs\", \n",
    "                   title=\"Customer Current House Years Distribution\", \n",
    "                   symb=\" \", ylabel=\"Density\", color=\"blue\");"
   ]
  },
  {
   "cell_type": "markdown",
   "id": "a750f0ee-8e0f-46bc-8a80-31908e515c20",
   "metadata": {},
   "source": [
    "#### 5.2.1.5 | Notes:"
   ]
  },
  {
   "cell_type": "code",
   "execution_count": 55,
   "id": "4fcfd217-434a-425a-8835-67da41ca811a",
   "metadata": {},
   "outputs": [
    {
     "name": "stdout",
     "output_type": "stream",
     "text": [
      "-------------------- Interpretation of Current House Years --------------------\n",
      "first calc: 9.2\n",
      "second calc: 14.8\n",
      "at least 75% customer have lived 9 to 15 years in the current residence\n",
      "----------------------------------------\n"
     ]
    }
   ],
   "source": [
    "chebychev(loan.current_house_yrs, title=\"Current House Years\", \n",
    "          interpret=f\"at least 75% customer have lived 9 to 15 years in the current residence\")"
   ]
  },
  {
   "cell_type": "code",
   "execution_count": null,
   "id": "2dd123e0-317a-4d8f-99a8-a9b03155505d",
   "metadata": {},
   "outputs": [],
   "source": []
  }
 ],
 "metadata": {
  "kernelspec": {
   "display_name": "Python 3 (ipykernel)",
   "language": "python",
   "name": "python3"
  },
  "language_info": {
   "codemirror_mode": {
    "name": "ipython",
    "version": 3
   },
   "file_extension": ".py",
   "mimetype": "text/x-python",
   "name": "python",
   "nbconvert_exporter": "python",
   "pygments_lexer": "ipython3",
   "version": "3.10.8"
  }
 },
 "nbformat": 4,
 "nbformat_minor": 5
}
